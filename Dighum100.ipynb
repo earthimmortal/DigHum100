{
  "nbformat": 4,
  "nbformat_minor": 0,
  "metadata": {
    "colab": {
      "name": "Dighum100.ipynb",
      "provenance": [],
      "mount_file_id": "12d078fTSJF3AExwN5-tSGKZMdoCoStEs",
      "authorship_tag": "ABX9TyN32CgeQR03kVvWMSecvoh7",
      "include_colab_link": true
    },
    "kernelspec": {
      "name": "python3",
      "display_name": "Python 3"
    },
    "language_info": {
      "name": "python"
    }
  },
  "cells": [
    {
      "cell_type": "markdown",
      "metadata": {
        "id": "view-in-github",
        "colab_type": "text"
      },
      "source": [
        "<a href=\"https://colab.research.google.com/github/earthimmortal/DigHum100/blob/main/Dighum100.ipynb\" target=\"_parent\"><img src=\"https://colab.research.google.com/assets/colab-badge.svg\" alt=\"Open In Colab\"/></a>"
      ]
    },
    {
      "cell_type": "code",
      "metadata": {
        "id": "_uIOAp9XqmB-"
      },
      "source": [
        "import numpy as np"
      ],
      "execution_count": null,
      "outputs": []
    },
    {
      "cell_type": "code",
      "metadata": {
        "id": "pOaEC-Bdqv0r"
      },
      "source": [
        "import pandas as pd\n",
        "import matplotlib.pyplot as plt\n",
        "import seaborn as sns\n",
        "import plotly.express as px\n",
        "from sklearn.linear_model import LinearRegression\n",
        "from sklearn.metrics import mean_absolute_error, r2_score\n",
        "from sklearn.model_selection import  train_test_split\n",
        "import matplotlib.pyplot as plt\n",
        "from sklearn.linear_model import Ridge\n",
        "from sklearn.linear_model import Lasso\n",
        "from sklearn.linear_model import RidgeCV\n",
        "from sklearn.linear_model import LassoCV\n"
      ],
      "execution_count": null,
      "outputs": []
    },
    {
      "cell_type": "code",
      "metadata": {
        "colab": {
          "base_uri": "https://localhost:8080/"
        },
        "id": "rv84R-iQDDzA",
        "outputId": "dd180d06-0a18-4e81-bc2c-296ee30ace2c"
      },
      "source": [
        "from google.colab import drive\n",
        "drive.mount('/content/drive')"
      ],
      "execution_count": null,
      "outputs": [
        {
          "output_type": "stream",
          "text": [
            "Drive already mounted at /content/drive; to attempt to forcibly remount, call drive.mount(\"/content/drive\", force_remount=True).\n"
          ],
          "name": "stdout"
        }
      ]
    },
    {
      "cell_type": "markdown",
      "metadata": {
        "id": "Glsp8stNGyyl"
      },
      "source": [
        "Import Dataset"
      ]
    },
    {
      "cell_type": "code",
      "metadata": {
        "id": "C_0gUOuTrX2-"
      },
      "source": [
        "dataset= pd.read_csv('/content/drive/My Drive/Channing Lee/StudentsPerformance.csv')"
      ],
      "execution_count": null,
      "outputs": []
    },
    {
      "cell_type": "code",
      "metadata": {
        "id": "EXMaxh4kr9vV"
      },
      "source": [
        "#Displaying the Dataset"
      ],
      "execution_count": null,
      "outputs": []
    },
    {
      "cell_type": "code",
      "metadata": {
        "colab": {
          "base_uri": "https://localhost:8080/",
          "height": 408
        },
        "id": "DBvZOZyQ1lvt",
        "outputId": "37e2ca54-d4fa-4ed6-de6c-a01ae9b3ab34"
      },
      "source": [
        "dataset"
      ],
      "execution_count": null,
      "outputs": [
        {
          "output_type": "execute_result",
          "data": {
            "text/html": [
              "<div>\n",
              "<style scoped>\n",
              "    .dataframe tbody tr th:only-of-type {\n",
              "        vertical-align: middle;\n",
              "    }\n",
              "\n",
              "    .dataframe tbody tr th {\n",
              "        vertical-align: top;\n",
              "    }\n",
              "\n",
              "    .dataframe thead th {\n",
              "        text-align: right;\n",
              "    }\n",
              "</style>\n",
              "<table border=\"1\" class=\"dataframe\">\n",
              "  <thead>\n",
              "    <tr style=\"text-align: right;\">\n",
              "      <th></th>\n",
              "      <th>gender</th>\n",
              "      <th>race/ethnicity</th>\n",
              "      <th>parental level of education</th>\n",
              "      <th>lunch</th>\n",
              "      <th>test preparation course</th>\n",
              "      <th>math score</th>\n",
              "      <th>reading score</th>\n",
              "      <th>writing score</th>\n",
              "    </tr>\n",
              "  </thead>\n",
              "  <tbody>\n",
              "    <tr>\n",
              "      <th>0</th>\n",
              "      <td>female</td>\n",
              "      <td>group B</td>\n",
              "      <td>bachelor's degree</td>\n",
              "      <td>standard</td>\n",
              "      <td>none</td>\n",
              "      <td>72</td>\n",
              "      <td>72</td>\n",
              "      <td>74</td>\n",
              "    </tr>\n",
              "    <tr>\n",
              "      <th>1</th>\n",
              "      <td>female</td>\n",
              "      <td>group C</td>\n",
              "      <td>some college</td>\n",
              "      <td>standard</td>\n",
              "      <td>completed</td>\n",
              "      <td>69</td>\n",
              "      <td>90</td>\n",
              "      <td>88</td>\n",
              "    </tr>\n",
              "    <tr>\n",
              "      <th>2</th>\n",
              "      <td>female</td>\n",
              "      <td>group B</td>\n",
              "      <td>master's degree</td>\n",
              "      <td>standard</td>\n",
              "      <td>none</td>\n",
              "      <td>90</td>\n",
              "      <td>95</td>\n",
              "      <td>93</td>\n",
              "    </tr>\n",
              "    <tr>\n",
              "      <th>3</th>\n",
              "      <td>male</td>\n",
              "      <td>group A</td>\n",
              "      <td>associate's degree</td>\n",
              "      <td>free/reduced</td>\n",
              "      <td>none</td>\n",
              "      <td>47</td>\n",
              "      <td>57</td>\n",
              "      <td>44</td>\n",
              "    </tr>\n",
              "    <tr>\n",
              "      <th>4</th>\n",
              "      <td>male</td>\n",
              "      <td>group C</td>\n",
              "      <td>some college</td>\n",
              "      <td>standard</td>\n",
              "      <td>none</td>\n",
              "      <td>76</td>\n",
              "      <td>78</td>\n",
              "      <td>75</td>\n",
              "    </tr>\n",
              "    <tr>\n",
              "      <th>...</th>\n",
              "      <td>...</td>\n",
              "      <td>...</td>\n",
              "      <td>...</td>\n",
              "      <td>...</td>\n",
              "      <td>...</td>\n",
              "      <td>...</td>\n",
              "      <td>...</td>\n",
              "      <td>...</td>\n",
              "    </tr>\n",
              "    <tr>\n",
              "      <th>995</th>\n",
              "      <td>female</td>\n",
              "      <td>group E</td>\n",
              "      <td>master's degree</td>\n",
              "      <td>standard</td>\n",
              "      <td>completed</td>\n",
              "      <td>88</td>\n",
              "      <td>99</td>\n",
              "      <td>95</td>\n",
              "    </tr>\n",
              "    <tr>\n",
              "      <th>996</th>\n",
              "      <td>male</td>\n",
              "      <td>group C</td>\n",
              "      <td>high school</td>\n",
              "      <td>free/reduced</td>\n",
              "      <td>none</td>\n",
              "      <td>62</td>\n",
              "      <td>55</td>\n",
              "      <td>55</td>\n",
              "    </tr>\n",
              "    <tr>\n",
              "      <th>997</th>\n",
              "      <td>female</td>\n",
              "      <td>group C</td>\n",
              "      <td>high school</td>\n",
              "      <td>free/reduced</td>\n",
              "      <td>completed</td>\n",
              "      <td>59</td>\n",
              "      <td>71</td>\n",
              "      <td>65</td>\n",
              "    </tr>\n",
              "    <tr>\n",
              "      <th>998</th>\n",
              "      <td>female</td>\n",
              "      <td>group D</td>\n",
              "      <td>some college</td>\n",
              "      <td>standard</td>\n",
              "      <td>completed</td>\n",
              "      <td>68</td>\n",
              "      <td>78</td>\n",
              "      <td>77</td>\n",
              "    </tr>\n",
              "    <tr>\n",
              "      <th>999</th>\n",
              "      <td>female</td>\n",
              "      <td>group D</td>\n",
              "      <td>some college</td>\n",
              "      <td>free/reduced</td>\n",
              "      <td>none</td>\n",
              "      <td>77</td>\n",
              "      <td>86</td>\n",
              "      <td>86</td>\n",
              "    </tr>\n",
              "  </tbody>\n",
              "</table>\n",
              "<p>1000 rows × 8 columns</p>\n",
              "</div>"
            ],
            "text/plain": [
              "     gender race/ethnicity  ... reading score writing score\n",
              "0    female        group B  ...            72            74\n",
              "1    female        group C  ...            90            88\n",
              "2    female        group B  ...            95            93\n",
              "3      male        group A  ...            57            44\n",
              "4      male        group C  ...            78            75\n",
              "..      ...            ...  ...           ...           ...\n",
              "995  female        group E  ...            99            95\n",
              "996    male        group C  ...            55            55\n",
              "997  female        group C  ...            71            65\n",
              "998  female        group D  ...            78            77\n",
              "999  female        group D  ...            86            86\n",
              "\n",
              "[1000 rows x 8 columns]"
            ]
          },
          "metadata": {
            "tags": []
          },
          "execution_count": 102
        }
      ]
    },
    {
      "cell_type": "markdown",
      "metadata": {
        "id": "iy9Uch3B5Lvt"
      },
      "source": [
        "Main question: How can we increase the scores of high school students?\n",
        "\n",
        "Sub questions: Which factors have the most impact on Each individual Score?\n",
        "               Which factors have the least impact on Each individual Score?\n",
        "                Does the impact change if the scores are totalled together?"
      ]
    },
    {
      "cell_type": "markdown",
      "metadata": {
        "id": "QCfkXXHwG1vJ"
      },
      "source": [
        "Create a total score column for further analysis"
      ]
    },
    {
      "cell_type": "code",
      "metadata": {
        "id": "4dQX-MKq2Oai"
      },
      "source": [
        "dataset[\"total score\"] = dataset[\"math score\"] + dataset[\"reading score\"] + dataset[\"writing score\"]"
      ],
      "execution_count": null,
      "outputs": []
    },
    {
      "cell_type": "markdown",
      "metadata": {
        "id": "kf-RmZdhG5J-"
      },
      "source": [
        "Create a percent correct column "
      ]
    },
    {
      "cell_type": "code",
      "metadata": {
        "id": "w3J7WyFn3vnH"
      },
      "source": [
        "dataset[\"percent correct\"] = dataset[\"total score\"]/300"
      ],
      "execution_count": null,
      "outputs": []
    },
    {
      "cell_type": "markdown",
      "metadata": {
        "id": "5ZMoPLAFPbGR"
      },
      "source": [
        "OUTPUT Dataset"
      ]
    },
    {
      "cell_type": "code",
      "metadata": {
        "colab": {
          "base_uri": "https://localhost:8080/",
          "height": 408
        },
        "id": "hO546d3Q32O4",
        "outputId": "e3d0758f-affe-45da-afb8-f6730165c0ae"
      },
      "source": [
        "dataset"
      ],
      "execution_count": null,
      "outputs": [
        {
          "output_type": "execute_result",
          "data": {
            "text/html": [
              "<div>\n",
              "<style scoped>\n",
              "    .dataframe tbody tr th:only-of-type {\n",
              "        vertical-align: middle;\n",
              "    }\n",
              "\n",
              "    .dataframe tbody tr th {\n",
              "        vertical-align: top;\n",
              "    }\n",
              "\n",
              "    .dataframe thead th {\n",
              "        text-align: right;\n",
              "    }\n",
              "</style>\n",
              "<table border=\"1\" class=\"dataframe\">\n",
              "  <thead>\n",
              "    <tr style=\"text-align: right;\">\n",
              "      <th></th>\n",
              "      <th>gender</th>\n",
              "      <th>race/ethnicity</th>\n",
              "      <th>parental level of education</th>\n",
              "      <th>lunch</th>\n",
              "      <th>test preparation course</th>\n",
              "      <th>math score</th>\n",
              "      <th>reading score</th>\n",
              "      <th>writing score</th>\n",
              "      <th>total score</th>\n",
              "      <th>percent correct</th>\n",
              "    </tr>\n",
              "  </thead>\n",
              "  <tbody>\n",
              "    <tr>\n",
              "      <th>0</th>\n",
              "      <td>female</td>\n",
              "      <td>group B</td>\n",
              "      <td>bachelor's degree</td>\n",
              "      <td>standard</td>\n",
              "      <td>none</td>\n",
              "      <td>72</td>\n",
              "      <td>72</td>\n",
              "      <td>74</td>\n",
              "      <td>218</td>\n",
              "      <td>0.726667</td>\n",
              "    </tr>\n",
              "    <tr>\n",
              "      <th>1</th>\n",
              "      <td>female</td>\n",
              "      <td>group C</td>\n",
              "      <td>some college</td>\n",
              "      <td>standard</td>\n",
              "      <td>completed</td>\n",
              "      <td>69</td>\n",
              "      <td>90</td>\n",
              "      <td>88</td>\n",
              "      <td>247</td>\n",
              "      <td>0.823333</td>\n",
              "    </tr>\n",
              "    <tr>\n",
              "      <th>2</th>\n",
              "      <td>female</td>\n",
              "      <td>group B</td>\n",
              "      <td>master's degree</td>\n",
              "      <td>standard</td>\n",
              "      <td>none</td>\n",
              "      <td>90</td>\n",
              "      <td>95</td>\n",
              "      <td>93</td>\n",
              "      <td>278</td>\n",
              "      <td>0.926667</td>\n",
              "    </tr>\n",
              "    <tr>\n",
              "      <th>3</th>\n",
              "      <td>male</td>\n",
              "      <td>group A</td>\n",
              "      <td>associate's degree</td>\n",
              "      <td>free/reduced</td>\n",
              "      <td>none</td>\n",
              "      <td>47</td>\n",
              "      <td>57</td>\n",
              "      <td>44</td>\n",
              "      <td>148</td>\n",
              "      <td>0.493333</td>\n",
              "    </tr>\n",
              "    <tr>\n",
              "      <th>4</th>\n",
              "      <td>male</td>\n",
              "      <td>group C</td>\n",
              "      <td>some college</td>\n",
              "      <td>standard</td>\n",
              "      <td>none</td>\n",
              "      <td>76</td>\n",
              "      <td>78</td>\n",
              "      <td>75</td>\n",
              "      <td>229</td>\n",
              "      <td>0.763333</td>\n",
              "    </tr>\n",
              "    <tr>\n",
              "      <th>...</th>\n",
              "      <td>...</td>\n",
              "      <td>...</td>\n",
              "      <td>...</td>\n",
              "      <td>...</td>\n",
              "      <td>...</td>\n",
              "      <td>...</td>\n",
              "      <td>...</td>\n",
              "      <td>...</td>\n",
              "      <td>...</td>\n",
              "      <td>...</td>\n",
              "    </tr>\n",
              "    <tr>\n",
              "      <th>995</th>\n",
              "      <td>female</td>\n",
              "      <td>group E</td>\n",
              "      <td>master's degree</td>\n",
              "      <td>standard</td>\n",
              "      <td>completed</td>\n",
              "      <td>88</td>\n",
              "      <td>99</td>\n",
              "      <td>95</td>\n",
              "      <td>282</td>\n",
              "      <td>0.940000</td>\n",
              "    </tr>\n",
              "    <tr>\n",
              "      <th>996</th>\n",
              "      <td>male</td>\n",
              "      <td>group C</td>\n",
              "      <td>high school</td>\n",
              "      <td>free/reduced</td>\n",
              "      <td>none</td>\n",
              "      <td>62</td>\n",
              "      <td>55</td>\n",
              "      <td>55</td>\n",
              "      <td>172</td>\n",
              "      <td>0.573333</td>\n",
              "    </tr>\n",
              "    <tr>\n",
              "      <th>997</th>\n",
              "      <td>female</td>\n",
              "      <td>group C</td>\n",
              "      <td>high school</td>\n",
              "      <td>free/reduced</td>\n",
              "      <td>completed</td>\n",
              "      <td>59</td>\n",
              "      <td>71</td>\n",
              "      <td>65</td>\n",
              "      <td>195</td>\n",
              "      <td>0.650000</td>\n",
              "    </tr>\n",
              "    <tr>\n",
              "      <th>998</th>\n",
              "      <td>female</td>\n",
              "      <td>group D</td>\n",
              "      <td>some college</td>\n",
              "      <td>standard</td>\n",
              "      <td>completed</td>\n",
              "      <td>68</td>\n",
              "      <td>78</td>\n",
              "      <td>77</td>\n",
              "      <td>223</td>\n",
              "      <td>0.743333</td>\n",
              "    </tr>\n",
              "    <tr>\n",
              "      <th>999</th>\n",
              "      <td>female</td>\n",
              "      <td>group D</td>\n",
              "      <td>some college</td>\n",
              "      <td>free/reduced</td>\n",
              "      <td>none</td>\n",
              "      <td>77</td>\n",
              "      <td>86</td>\n",
              "      <td>86</td>\n",
              "      <td>249</td>\n",
              "      <td>0.830000</td>\n",
              "    </tr>\n",
              "  </tbody>\n",
              "</table>\n",
              "<p>1000 rows × 10 columns</p>\n",
              "</div>"
            ],
            "text/plain": [
              "     gender race/ethnicity  ... total score percent correct\n",
              "0    female        group B  ...         218        0.726667\n",
              "1    female        group C  ...         247        0.823333\n",
              "2    female        group B  ...         278        0.926667\n",
              "3      male        group A  ...         148        0.493333\n",
              "4      male        group C  ...         229        0.763333\n",
              "..      ...            ...  ...         ...             ...\n",
              "995  female        group E  ...         282        0.940000\n",
              "996    male        group C  ...         172        0.573333\n",
              "997  female        group C  ...         195        0.650000\n",
              "998  female        group D  ...         223        0.743333\n",
              "999  female        group D  ...         249        0.830000\n",
              "\n",
              "[1000 rows x 10 columns]"
            ]
          },
          "metadata": {
            "tags": []
          },
          "execution_count": 105
        }
      ]
    },
    {
      "cell_type": "markdown",
      "metadata": {
        "id": "EYzlfZSTHC5o"
      },
      "source": [
        "Getting some overall stats about the data"
      ]
    },
    {
      "cell_type": "code",
      "metadata": {
        "colab": {
          "base_uri": "https://localhost:8080/",
          "height": 290
        },
        "id": "bVswO21E4M7b",
        "outputId": "546115b8-1104-4eaf-b059-201dfc355fc0"
      },
      "source": [
        "dataset.describe()"
      ],
      "execution_count": null,
      "outputs": [
        {
          "output_type": "execute_result",
          "data": {
            "text/html": [
              "<div>\n",
              "<style scoped>\n",
              "    .dataframe tbody tr th:only-of-type {\n",
              "        vertical-align: middle;\n",
              "    }\n",
              "\n",
              "    .dataframe tbody tr th {\n",
              "        vertical-align: top;\n",
              "    }\n",
              "\n",
              "    .dataframe thead th {\n",
              "        text-align: right;\n",
              "    }\n",
              "</style>\n",
              "<table border=\"1\" class=\"dataframe\">\n",
              "  <thead>\n",
              "    <tr style=\"text-align: right;\">\n",
              "      <th></th>\n",
              "      <th>math score</th>\n",
              "      <th>reading score</th>\n",
              "      <th>writing score</th>\n",
              "      <th>total score</th>\n",
              "      <th>percent correct</th>\n",
              "    </tr>\n",
              "  </thead>\n",
              "  <tbody>\n",
              "    <tr>\n",
              "      <th>count</th>\n",
              "      <td>1000.00000</td>\n",
              "      <td>1000.000000</td>\n",
              "      <td>1000.000000</td>\n",
              "      <td>1000.000000</td>\n",
              "      <td>1000.000000</td>\n",
              "    </tr>\n",
              "    <tr>\n",
              "      <th>mean</th>\n",
              "      <td>66.08900</td>\n",
              "      <td>69.169000</td>\n",
              "      <td>68.054000</td>\n",
              "      <td>203.312000</td>\n",
              "      <td>0.677707</td>\n",
              "    </tr>\n",
              "    <tr>\n",
              "      <th>std</th>\n",
              "      <td>15.16308</td>\n",
              "      <td>14.600192</td>\n",
              "      <td>15.195657</td>\n",
              "      <td>42.771978</td>\n",
              "      <td>0.142573</td>\n",
              "    </tr>\n",
              "    <tr>\n",
              "      <th>min</th>\n",
              "      <td>0.00000</td>\n",
              "      <td>17.000000</td>\n",
              "      <td>10.000000</td>\n",
              "      <td>27.000000</td>\n",
              "      <td>0.090000</td>\n",
              "    </tr>\n",
              "    <tr>\n",
              "      <th>25%</th>\n",
              "      <td>57.00000</td>\n",
              "      <td>59.000000</td>\n",
              "      <td>57.750000</td>\n",
              "      <td>175.000000</td>\n",
              "      <td>0.583333</td>\n",
              "    </tr>\n",
              "    <tr>\n",
              "      <th>50%</th>\n",
              "      <td>66.00000</td>\n",
              "      <td>70.000000</td>\n",
              "      <td>69.000000</td>\n",
              "      <td>205.000000</td>\n",
              "      <td>0.683333</td>\n",
              "    </tr>\n",
              "    <tr>\n",
              "      <th>75%</th>\n",
              "      <td>77.00000</td>\n",
              "      <td>79.000000</td>\n",
              "      <td>79.000000</td>\n",
              "      <td>233.000000</td>\n",
              "      <td>0.776667</td>\n",
              "    </tr>\n",
              "    <tr>\n",
              "      <th>max</th>\n",
              "      <td>100.00000</td>\n",
              "      <td>100.000000</td>\n",
              "      <td>100.000000</td>\n",
              "      <td>300.000000</td>\n",
              "      <td>1.000000</td>\n",
              "    </tr>\n",
              "  </tbody>\n",
              "</table>\n",
              "</div>"
            ],
            "text/plain": [
              "       math score  reading score  writing score  total score  percent correct\n",
              "count  1000.00000    1000.000000    1000.000000  1000.000000      1000.000000\n",
              "mean     66.08900      69.169000      68.054000   203.312000         0.677707\n",
              "std      15.16308      14.600192      15.195657    42.771978         0.142573\n",
              "min       0.00000      17.000000      10.000000    27.000000         0.090000\n",
              "25%      57.00000      59.000000      57.750000   175.000000         0.583333\n",
              "50%      66.00000      70.000000      69.000000   205.000000         0.683333\n",
              "75%      77.00000      79.000000      79.000000   233.000000         0.776667\n",
              "max     100.00000     100.000000     100.000000   300.000000         1.000000"
            ]
          },
          "metadata": {
            "tags": []
          },
          "execution_count": 106
        }
      ]
    },
    {
      "cell_type": "code",
      "metadata": {
        "id": "iOydG7jaAZeP"
      },
      "source": [
        ""
      ],
      "execution_count": null,
      "outputs": []
    },
    {
      "cell_type": "markdown",
      "metadata": {
        "id": "oM6TDYS4HG29"
      },
      "source": [
        "Box plot of gender and percent correct\n"
      ]
    },
    {
      "cell_type": "code",
      "metadata": {
        "colab": {
          "base_uri": "https://localhost:8080/",
          "height": 542
        },
        "id": "qTW2pGQt6zid",
        "outputId": "65ff80ca-8905-4619-d722-c371b97b84b5"
      },
      "source": [
        "px.box(dataset,x = \"gender\", y = \"percent correct\")"
      ],
      "execution_count": null,
      "outputs": [
        {
          "output_type": "display_data",
          "data": {
            "text/html": [
              "<html>\n",
              "<head><meta charset=\"utf-8\" /></head>\n",
              "<body>\n",
              "    <div>\n",
              "            <script src=\"https://cdnjs.cloudflare.com/ajax/libs/mathjax/2.7.5/MathJax.js?config=TeX-AMS-MML_SVG\"></script><script type=\"text/javascript\">if (window.MathJax) {MathJax.Hub.Config({SVG: {font: \"STIX-Web\"}});}</script>\n",
              "                <script type=\"text/javascript\">window.PlotlyConfig = {MathJaxConfig: 'local'};</script>\n",
              "        <script src=\"https://cdn.plot.ly/plotly-latest.min.js\"></script>    \n",
              "            <div id=\"946aa718-4c68-4726-b2da-29c8f69584fa\" class=\"plotly-graph-div\" style=\"height:525px; width:100%;\"></div>\n",
              "            <script type=\"text/javascript\">\n",
              "                \n",
              "                    window.PLOTLYENV=window.PLOTLYENV || {};\n",
              "                    \n",
              "                if (document.getElementById(\"946aa718-4c68-4726-b2da-29c8f69584fa\")) {\n",
              "                    Plotly.newPlot(\n",
              "                        '946aa718-4c68-4726-b2da-29c8f69584fa',\n",
              "                        [{\"alignmentgroup\": \"True\", \"hoverlabel\": {\"namelength\": 0}, \"hovertemplate\": \"gender=%{x}<br>percent correct=%{y}\", \"legendgroup\": \"\", \"marker\": {\"color\": \"#636efa\"}, \"name\": \"\", \"notched\": false, \"offsetgroup\": \"\", \"orientation\": \"v\", \"showlegend\": false, \"type\": \"box\", \"x\": [\"female\", \"female\", \"female\", \"male\", \"male\", \"female\", \"female\", \"male\", \"male\", \"female\", \"male\", \"male\", \"female\", \"male\", \"female\", \"female\", \"male\", \"female\", \"male\", \"female\", \"male\", \"female\", \"male\", \"female\", \"male\", \"male\", \"male\", \"female\", \"male\", \"female\", \"female\", \"female\", \"female\", \"male\", \"male\", \"male\", \"female\", \"female\", \"female\", \"male\", \"male\", \"female\", \"female\", \"male\", \"female\", \"male\", \"female\", \"female\", \"female\", \"male\", \"male\", \"male\", \"male\", \"male\", \"female\", \"female\", \"female\", \"male\", \"male\", \"female\", \"male\", \"male\", \"male\", \"female\", \"female\", \"male\", \"male\", \"female\", \"male\", \"female\", \"female\", \"male\", \"female\", \"male\", \"male\", \"male\", \"male\", \"male\", \"female\", \"female\", \"female\", \"male\", \"male\", \"male\", \"male\", \"female\", \"female\", \"female\", \"female\", \"female\", \"female\", \"male\", \"male\", \"male\", \"female\", \"male\", \"male\", \"female\", \"female\", \"female\", \"male\", \"male\", \"female\", \"male\", \"male\", \"female\", \"female\", \"male\", \"female\", \"female\", \"female\", \"male\", \"male\", \"female\", \"female\", \"male\", \"female\", \"female\", \"female\", \"female\", \"female\", \"male\", \"female\", \"male\", \"male\", \"female\", \"male\", \"male\", \"male\", \"female\", \"male\", \"male\", \"male\", \"female\", \"male\", \"male\", \"male\", \"male\", \"female\", \"male\", \"female\", \"female\", \"female\", \"male\", \"male\", \"female\", \"male\", \"male\", \"female\", \"male\", \"male\", \"male\", \"female\", \"male\", \"male\", \"female\", \"female\", \"male\", \"female\", \"male\", \"male\", \"female\", \"male\", \"male\", \"female\", \"female\", \"male\", \"female\", \"female\", \"female\", \"male\", \"male\", \"female\", \"female\", \"female\", \"female\", \"female\", \"female\", \"female\", \"female\", \"male\", \"female\", \"female\", \"female\", \"male\", \"male\", \"male\", \"male\", \"male\", \"female\", \"female\", \"male\", \"female\", \"male\", \"female\", \"male\", \"male\", \"male\", \"female\", \"female\", \"female\", \"female\", \"male\", \"female\", \"male\", \"male\", \"male\", \"male\", \"female\", \"female\", \"male\", \"male\", \"female\", \"male\", \"male\", \"male\", \"female\", \"female\", \"male\", \"male\", \"female\", \"male\", \"female\", \"male\", \"female\", \"female\", \"female\", \"male\", \"male\", \"female\", \"male\", \"male\", \"female\", \"male\", \"male\", \"male\", \"male\", \"female\", \"male\", \"male\", \"male\", \"female\", \"female\", \"male\", \"male\", \"male\", \"male\", \"female\", \"female\", \"male\", \"male\", \"female\", \"female\", \"male\", \"male\", \"female\", \"female\", \"male\", \"female\", \"female\", \"female\", \"male\", \"female\", \"female\", \"male\", \"male\", \"female\", \"female\", \"female\", \"female\", \"male\", \"male\", \"female\", \"female\", \"male\", \"male\", \"female\", \"female\", \"female\", \"male\", \"male\", \"male\", \"female\", \"female\", \"female\", \"male\", \"male\", \"female\", \"male\", \"male\", \"male\", \"male\", \"male\", \"female\", \"male\", \"male\", \"male\", \"male\", \"male\", \"male\", \"male\", \"male\", \"female\", \"male\", \"female\", \"male\", \"male\", \"male\", \"female\", \"female\", \"female\", \"male\", \"male\", \"female\", \"female\", \"male\", \"female\", \"male\", \"male\", \"female\", \"female\", \"female\", \"female\", \"female\", \"female\", \"female\", \"male\", \"male\", \"male\", \"female\", \"male\", \"male\", \"male\", \"male\", \"female\", \"female\", \"male\", \"male\", \"female\", \"female\", \"male\", \"female\", \"female\", \"male\", \"male\", \"female\", \"male\", \"female\", \"male\", \"male\", \"female\", \"male\", \"female\", \"female\", \"female\", \"female\", \"male\", \"female\", \"male\", \"female\", \"female\", \"male\", \"female\", \"female\", \"male\", \"male\", \"male\", \"male\", \"female\", \"female\", \"male\", \"female\", \"male\", \"female\", \"female\", \"male\", \"female\", \"female\", \"female\", \"male\", \"female\", \"male\", \"male\", \"female\", \"female\", \"female\", \"female\", \"female\", \"female\", \"male\", \"male\", \"female\", \"male\", \"male\", \"female\", \"male\", \"female\", \"female\", \"male\", \"male\", \"female\", \"male\", \"female\", \"female\", \"female\", \"female\", \"male\", \"female\", \"female\", \"male\", \"female\", \"male\", \"male\", \"male\", \"female\", \"male\", \"male\", \"male\", \"male\", \"male\", \"female\", \"female\", \"female\", \"female\", \"male\", \"female\", \"male\", \"male\", \"male\", \"male\", \"male\", \"female\", \"male\", \"female\", \"male\", \"male\", \"male\", \"male\", \"male\", \"male\", \"female\", \"female\", \"female\", \"female\", \"male\", \"female\", \"male\", \"male\", \"male\", \"male\", \"female\", \"female\", \"female\", \"male\", \"female\", \"male\", \"female\", \"male\", \"female\", \"male\", \"male\", \"male\", \"female\", \"female\", \"male\", \"female\", \"female\", \"male\", \"female\", \"male\", \"female\", \"female\", \"female\", \"female\", \"female\", \"female\", \"male\", \"male\", \"female\", \"male\", \"male\", \"female\", \"male\", \"male\", \"female\", \"male\", \"male\", \"female\", \"male\", \"male\", \"female\", \"female\", \"female\", \"female\", \"female\", \"male\", \"female\", \"female\", \"female\", \"male\", \"female\", \"female\", \"male\", \"female\", \"female\", \"female\", \"male\", \"male\", \"male\", \"female\", \"male\", \"male\", \"male\", \"female\", \"female\", \"female\", \"female\", \"female\", \"female\", \"female\", \"male\", \"female\", \"male\", \"male\", \"male\", \"male\", \"male\", \"female\", \"female\", \"female\", \"female\", \"female\", \"male\", \"female\", \"male\", \"female\", \"male\", \"female\", \"male\", \"male\", \"male\", \"male\", \"female\", \"female\", \"female\", \"male\", \"female\", \"male\", \"female\", \"male\", \"male\", \"male\", \"female\", \"male\", \"male\", \"female\", \"female\", \"male\", \"female\", \"male\", \"female\", \"female\", \"male\", \"female\", \"male\", \"male\", \"female\", \"female\", \"male\", \"male\", \"male\", \"male\", \"female\", \"female\", \"female\", \"male\", \"male\", \"female\", \"female\", \"female\", \"female\", \"female\", \"female\", \"female\", \"female\", \"female\", \"female\", \"female\", \"female\", \"female\", \"male\", \"male\", \"male\", \"female\", \"female\", \"female\", \"male\", \"male\", \"female\", \"female\", \"female\", \"female\", \"female\", \"male\", \"male\", \"male\", \"female\", \"female\", \"female\", \"female\", \"male\", \"female\", \"male\", \"female\", \"female\", \"female\", \"female\", \"male\", \"male\", \"male\", \"female\", \"male\", \"male\", \"male\", \"female\", \"male\", \"male\", \"male\", \"male\", \"female\", \"male\", \"male\", \"female\", \"female\", \"male\", \"male\", \"female\", \"female\", \"male\", \"female\", \"male\", \"female\", \"female\", \"female\", \"male\", \"female\", \"female\", \"female\", \"female\", \"female\", \"male\", \"female\", \"female\", \"female\", \"female\", \"female\", \"male\", \"male\", \"female\", \"male\", \"male\", \"male\", \"female\", \"female\", \"male\", \"female\", \"female\", \"female\", \"male\", \"male\", \"female\", \"male\", \"female\", \"female\", \"female\", \"female\", \"female\", \"female\", \"male\", \"male\", \"female\", \"male\", \"male\", \"female\", \"male\", \"female\", \"male\", \"male\", \"male\", \"male\", \"female\", \"female\", \"female\", \"female\", \"female\", \"female\", \"female\", \"female\", \"female\", \"male\", \"female\", \"female\", \"male\", \"female\", \"female\", \"male\", \"male\", \"male\", \"male\", \"female\", \"male\", \"female\", \"female\", \"male\", \"female\", \"female\", \"male\", \"female\", \"female\", \"male\", \"female\", \"male\", \"female\", \"male\", \"male\", \"male\", \"female\", \"male\", \"female\", \"male\", \"female\", \"male\", \"female\", \"male\", \"female\", \"male\", \"male\", \"female\", \"male\", \"male\", \"male\", \"female\", \"female\", \"female\", \"male\", \"male\", \"male\", \"male\", \"female\", \"male\", \"male\", \"male\", \"male\", \"female\", \"male\", \"female\", \"male\", \"male\", \"female\", \"male\", \"female\", \"female\", \"male\", \"female\", \"male\", \"female\", \"female\", \"male\", \"female\", \"male\", \"male\", \"male\", \"female\", \"female\", \"male\", \"female\", \"female\", \"female\", \"female\", \"male\", \"female\", \"female\", \"female\", \"female\", \"male\", \"female\", \"female\", \"female\", \"male\", \"female\", \"female\", \"female\", \"male\", \"male\", \"female\", \"female\", \"male\", \"female\", \"male\", \"female\", \"male\", \"male\", \"female\", \"female\", \"female\", \"male\", \"female\", \"female\", \"male\", \"male\", \"male\", \"male\", \"female\", \"male\", \"female\", \"male\", \"female\", \"male\", \"female\", \"female\", \"female\", \"female\", \"male\", \"female\", \"female\", \"male\", \"female\", \"female\", \"female\", \"male\", \"female\", \"female\", \"male\", \"female\", \"male\", \"female\", \"male\", \"female\", \"male\", \"female\", \"female\", \"male\", \"female\", \"male\", \"female\", \"male\", \"male\", \"male\", \"female\", \"male\", \"male\", \"female\", \"female\", \"male\", \"male\", \"female\", \"male\", \"female\", \"male\", \"male\", \"female\", \"female\", \"male\", \"female\", \"male\", \"male\", \"male\", \"male\", \"male\", \"male\", \"male\", \"female\", \"male\", \"male\", \"female\", \"male\", \"male\", \"male\", \"female\", \"female\", \"male\", \"female\", \"female\", \"male\", \"female\", \"female\", \"female\", \"male\", \"female\", \"male\", \"female\", \"female\", \"female\", \"male\", \"female\", \"female\", \"male\", \"female\", \"male\", \"female\", \"male\", \"female\", \"female\", \"female\", \"female\", \"male\", \"male\", \"female\", \"female\", \"male\", \"male\", \"female\", \"female\", \"female\", \"female\", \"female\", \"male\", \"female\", \"female\", \"male\", \"male\", \"female\", \"male\", \"female\", \"male\", \"male\", \"male\", \"female\", \"male\", \"female\", \"male\", \"male\", \"male\", \"male\", \"male\", \"male\", \"male\", \"female\", \"male\", \"male\", \"male\", \"female\", \"male\", \"male\", \"female\", \"female\", \"male\", \"female\", \"male\", \"female\", \"male\", \"female\", \"female\", \"male\", \"female\", \"male\", \"male\", \"female\", \"female\", \"male\", \"female\", \"female\", \"female\", \"female\", \"male\", \"female\", \"male\", \"male\", \"female\", \"female\", \"female\", \"male\", \"female\", \"female\", \"female\", \"female\", \"male\", \"male\", \"male\", \"female\", \"female\", \"male\", \"male\", \"female\", \"female\", \"male\", \"female\", \"male\", \"female\", \"female\", \"male\", \"female\", \"female\", \"female\", \"male\", \"female\", \"male\", \"female\", \"female\", \"female\"], \"x0\": \" \", \"xaxis\": \"x\", \"y\": [0.7266666666666667, 0.8233333333333334, 0.9266666666666666, 0.49333333333333335, 0.7633333333333333, 0.7733333333333333, 0.9166666666666666, 0.4066666666666667, 0.65, 0.49333333333333335, 0.5466666666666666, 0.45, 0.73, 0.7333333333333333, 0.5366666666666666, 0.74, 0.8766666666666667, 0.26, 0.44666666666666666, 0.5766666666666667, 0.66, 0.7, 0.5033333333333333, 0.7166666666666667, 0.75, 0.73, 0.5933333333333334, 0.7033333333333334, 0.6833333333333333, 0.69, 0.7233333333333334, 0.63, 0.6433333333333333, 0.4, 0.8866666666666667, 0.8033333333333333, 0.7933333333333333, 0.5766666666666667, 0.8433333333333334, 0.5666666666666667, 0.5666666666666667, 0.6633333333333333, 0.5866666666666667, 0.6333333333333333, 0.5333333333333333, 0.5866666666666667, 0.6066666666666667, 0.71, 0.69, 0.8266666666666667, 0.52, 0.7133333333333334, 0.4633333333333333, 0.8033333333333333, 0.8066666666666666, 0.39, 0.8433333333333334, 0.52, 0.5833333333333334, 0.09, 0.75, 0.37333333333333335, 0.5933333333333334, 0.7333333333333333, 0.5866666666666667, 0.64, 0.39666666666666667, 0.6866666666666666, 0.5833333333333334, 0.5333333333333333, 0.6466666666666666, 0.6033333333333334, 0.4666666666666667, 0.58, 0.4633333333333333, 0.41, 0.26, 0.7966666666666666, 0.69, 0.66, 0.4866666666666667, 0.4633333333333333, 0.5033333333333333, 0.6633333333333333, 0.38333333333333336, 0.7833333333333333, 0.8233333333333334, 0.72, 0.65, 0.8033333333333333, 0.7033333333333334, 0.3233333333333333, 0.7366666666666667, 0.46, 0.8566666666666667, 0.8033333333333333, 0.6433333333333333, 0.6833333333333333, 0.6233333333333333, 0.6466666666666666, 0.71, 0.72, 0.8833333333333333, 0.5033333333333333, 0.9133333333333333, 0.6566666666666666, 0.9566666666666667, 0.6433333333333333, 0.66, 0.6866666666666666, 0.88, 0.5533333333333333, 0.5133333333333333, 0.5433333333333333, 0.9966666666666667, 0.7833333333333333, 0.8066666666666666, 0.7966666666666666, 0.5833333333333334, 0.63, 0.8666666666666667, 0.9066666666666666, 0.9133333333333333, 0.5866666666666667, 0.7866666666666666, 0.8933333333333333, 0.69, 0.72, 0.7933333333333333, 0.5033333333333333, 0.85, 0.43333333333333335, 0.77, 0.8, 0.76, 0.5366666666666666, 0.4866666666666667, 0.6033333333333334, 0.64, 0.67, 0.73, 0.6166666666666667, 0.5033333333333333, 0.49, 0.7966666666666666, 0.31333333333333335, 0.8233333333333334, 0.69, 0.7466666666666667, 0.9766666666666667, 0.66, 0.7066666666666667, 0.65, 0.5, 0.6333333333333333, 0.8233333333333334, 0.7266666666666667, 0.6, 0.78, 0.64, 0.78, 0.8266666666666667, 0.5133333333333333, 0.5133333333333333, 0.88, 0.9866666666666667, 0.5166666666666667, 0.7066666666666667, 0.7633333333333333, 0.7066666666666667, 0.73, 0.8666666666666667, 0.82, 0.6666666666666666, 0.49333333333333335, 0.8633333333333333, 0.5266666666666666, 0.75, 0.6133333333333333, 0.99, 0.6833333333333333, 0.5866666666666667, 0.49, 0.68, 0.4866666666666667, 0.6566666666666666, 0.7366666666666667, 0.6533333333333333, 0.48333333333333334, 0.84, 0.6666666666666666, 0.7933333333333333, 0.64, 0.67, 0.7933333333333333, 0.56, 0.6433333333333333, 0.54, 0.51, 0.7766666666666666, 0.79, 0.7433333333333333, 0.7166666666666667, 0.6466666666666666, 0.47333333333333333, 0.7433333333333333, 0.6866666666666666, 0.79, 0.77, 0.6166666666666667, 0.7933333333333333, 0.3, 0.5466666666666666, 0.5566666666666666, 0.8633333333333333, 0.8066666666666666, 0.8566666666666667, 0.38333333333333336, 0.71, 0.5766666666666667, 0.66, 0.8166666666666667, 0.6066666666666667, 0.8033333333333333, 0.6366666666666667, 0.5166666666666667, 0.7166666666666667, 0.5366666666666666, 0.68, 0.9233333333333333, 0.6866666666666666, 0.43666666666666665, 0.7866666666666666, 0.8566666666666667, 0.83, 0.7733333333333333, 0.6533333333333333, 0.66, 0.5233333333333333, 0.8133333333333334, 0.69, 0.82, 0.5433333333333333, 0.51, 0.7266666666666667, 0.7733333333333333, 0.7966666666666666, 0.6533333333333333, 0.6366666666666667, 0.6033333333333334, 0.48333333333333334, 0.79, 0.6666666666666666, 0.7733333333333333, 0.5266666666666666, 0.6833333333333333, 0.6833333333333333, 0.7733333333333333, 0.7433333333333333, 0.7566666666666667, 0.7333333333333333, 0.7866666666666666, 0.48333333333333334, 0.94, 0.7233333333333334, 0.47333333333333333, 0.73, 0.7266666666666667, 0.9166666666666666, 0.7233333333333334, 0.6433333333333333, 0.49666666666666665, 0.5266666666666666, 0.6866666666666666, 0.83, 0.78, 0.9, 0.6566666666666666, 0.77, 0.62, 0.49, 0.4633333333333333, 0.7866666666666666, 0.7533333333333333, 0.43, 0.8166666666666667, 0.89, 0.7933333333333333, 0.7966666666666666, 0.7666666666666667, 0.7133333333333334, 0.7633333333333333, 0.6, 0.71, 0.7833333333333333, 0.63, 0.43333333333333335, 0.71, 0.4533333333333333, 0.84, 0.8, 0.54, 0.7733333333333333, 0.7333333333333333, 0.7733333333333333, 0.6833333333333333, 0.89, 0.49, 0.6366666666666667, 0.5266666666666666, 0.7633333333333333, 0.61, 0.6533333333333333, 0.68, 0.66, 0.6733333333333333, 0.8333333333333334, 0.7766666666666666, 0.6766666666666666, 0.6133333333333333, 0.7666666666666667, 0.8, 0.7733333333333333, 0.49666666666666665, 0.43333333333333335, 0.8866666666666667, 0.6133333333333333, 0.23333333333333334, 0.78, 0.49, 0.64, 0.39666666666666667, 0.57, 0.83, 0.9033333333333333, 0.65, 0.7166666666666667, 0.4766666666666667, 0.2966666666666667, 0.5, 0.57, 0.6566666666666666, 0.73, 0.6866666666666666, 0.73, 0.7566666666666667, 0.6, 0.8866666666666667, 0.7166666666666667, 0.79, 0.62, 0.5833333333333334, 0.7366666666666667, 0.5366666666666666, 0.6666666666666666, 0.6766666666666666, 0.6166666666666667, 0.59, 0.6066666666666667, 0.8633333333333333, 0.5966666666666667, 0.8233333333333334, 0.56, 0.31, 0.59, 0.5566666666666666, 0.6, 0.6266666666666667, 0.5533333333333333, 0.8066666666666666, 0.7733333333333333, 0.6266666666666667, 0.7333333333333333, 0.9166666666666666, 0.6733333333333333, 0.43333333333333335, 0.84, 0.9333333333333333, 0.77, 0.64, 0.83, 0.94, 0.77, 0.44, 0.41333333333333333, 0.7266666666666667, 0.69, 0.6733333333333333, 0.6333333333333333, 0.7266666666666667, 0.6633333333333333, 0.74, 0.7, 0.5566666666666666, 0.72, 0.44666666666666666, 0.6, 0.8966666666666666, 0.6466666666666666, 0.5766666666666667, 0.6, 0.4633333333333333, 0.5633333333333334, 0.9566666666666667, 0.5833333333333334, 0.68, 0.6433333333333333, 0.7966666666666666, 0.55, 0.8533333333333334, 0.7166666666666667, 0.8166666666666667, 0.6566666666666666, 0.6566666666666666, 0.6733333333333333, 0.7533333333333333, 0.71, 0.7133333333333334, 0.63, 0.5566666666666666, 0.8933333333333333, 0.5966666666666667, 0.5733333333333334, 0.7466666666666667, 0.38, 0.6366666666666667, 0.85, 0.6833333333333333, 0.59, 0.6166666666666667, 0.63, 0.6766666666666666, 0.5733333333333334, 0.52, 0.6833333333333333, 0.5033333333333333, 0.69, 0.7133333333333334, 0.59, 0.8633333333333333, 0.7566666666666667, 0.7966666666666666, 0.67, 0.7733333333333333, 0.78, 0.7266666666666667, 0.65, 0.8233333333333334, 0.45, 0.7533333333333333, 0.78, 0.9633333333333334, 0.72, 0.5733333333333334, 0.5866666666666667, 0.4666666666666667, 0.8566666666666667, 0.5166666666666667, 1.0, 0.6833333333333333, 0.5533333333333333, 0.51, 0.7233333333333334, 0.86, 0.65, 0.8733333333333333, 0.31666666666666665, 0.68, 0.8333333333333334, 0.8033333333333333, 0.86, 0.6866666666666666, 0.7933333333333333, 0.6233333333333333, 0.9033333333333333, 0.7666666666666667, 0.68, 0.7333333333333333, 0.63, 0.7133333333333334, 0.7066666666666667, 0.5566666666666666, 0.6566666666666666, 0.5233333333333333, 0.5166666666666667, 0.7166666666666667, 0.5466666666666666, 0.6966666666666667, 0.58, 0.81, 0.7533333333333333, 0.66, 0.8533333333333334, 0.8633333333333333, 0.62, 0.66, 0.5133333333333333, 0.71, 0.6766666666666666, 0.73, 0.7833333333333333, 0.91, 0.5933333333333334, 0.92, 0.51, 0.8133333333333334, 0.68, 0.56, 0.78, 0.8833333333333333, 0.7333333333333333, 0.5233333333333333, 0.5433333333333333, 0.59, 0.8933333333333333, 0.8266666666666667, 0.8233333333333334, 0.71, 0.74, 0.7466666666666667, 0.5733333333333334, 0.87, 0.6133333333333333, 0.5433333333333333, 0.5133333333333333, 0.6233333333333333, 0.59, 0.44, 0.39, 0.6866666666666666, 0.6933333333333334, 0.5133333333333333, 0.6033333333333334, 0.87, 0.7, 0.7733333333333333, 0.5633333333333334, 0.5966666666666667, 0.74, 0.9166666666666666, 0.7066666666666667, 0.8033333333333333, 0.79, 0.8866666666666667, 0.6433333333333333, 0.8033333333333333, 0.9633333333333334, 0.6766666666666666, 0.6433333333333333, 0.7333333333333333, 0.7333333333333333, 0.8833333333333333, 0.46, 0.6766666666666666, 0.46, 0.3466666666666667, 0.6866666666666666, 0.6466666666666666, 0.6433333333333333, 0.67, 0.76, 0.7033333333333334, 0.9266666666666666, 0.7433333333333333, 0.48333333333333334, 0.4533333333333333, 0.9733333333333334, 0.7, 0.5266666666666666, 0.6766666666666666, 0.72, 0.93, 0.57, 0.6, 0.7533333333333333, 0.49333333333333335, 0.5466666666666666, 0.87, 0.54, 0.6066666666666667, 0.9133333333333333, 0.7866666666666666, 0.7133333333333334, 0.76, 0.7433333333333333, 0.7233333333333334, 0.67, 0.5633333333333334, 0.61, 0.5966666666666667, 0.5633333333333334, 0.61, 0.6666666666666666, 0.7433333333333333, 0.97, 0.69, 0.23, 0.5166666666666667, 0.73, 0.76, 0.59, 0.29333333333333333, 0.78, 0.56, 0.8766666666666667, 0.6966666666666667, 0.8366666666666667, 0.5066666666666667, 0.6233333333333333, 0.62, 0.64, 0.61, 0.9166666666666666, 0.72, 0.8933333333333333, 0.6666666666666666, 0.4, 0.83, 0.8666666666666667, 0.6866666666666666, 0.5, 0.6033333333333334, 0.5366666666666666, 0.94, 0.6033333333333334, 0.9866666666666667, 0.6733333333333333, 0.5166666666666667, 0.5066666666666667, 0.5, 0.67, 0.68, 0.7366666666666667, 0.8266666666666667, 0.8266666666666667, 0.6966666666666667, 0.76, 0.8666666666666667, 0.7866666666666666, 0.7433333333333333, 0.48, 0.84, 0.7733333333333333, 0.7766666666666666, 0.65, 0.7566666666666667, 0.6466666666666666, 0.6466666666666666, 0.5266666666666666, 0.7633333333333333, 0.5333333333333333, 0.7466666666666667, 0.8966666666666666, 0.6966666666666667, 0.77, 0.6533333333333333, 0.6933333333333334, 0.6533333333333333, 0.5366666666666666, 0.8733333333333333, 0.7466666666666667, 0.6733333333333333, 0.65, 0.67, 0.6866666666666666, 0.5666666666666667, 0.69, 0.83, 0.6933333333333334, 0.7666666666666667, 0.7, 0.53, 0.7433333333333333, 0.7766666666666666, 0.7466666666666667, 0.6, 0.7566666666666667, 0.76, 0.78, 0.6133333333333333, 0.71, 0.6266666666666667, 0.57, 0.37666666666666665, 0.6533333333333333, 0.9766666666666667, 0.76, 0.76, 0.5166666666666667, 0.8866666666666667, 0.5166666666666667, 0.7566666666666667, 0.7366666666666667, 0.7566666666666667, 0.56, 0.8466666666666667, 0.8233333333333334, 0.67, 0.7133333333333334, 0.6366666666666667, 0.8066666666666666, 0.6533333333333333, 0.86, 0.6466666666666666, 0.62, 0.6633333333333333, 0.38666666666666666, 0.59, 0.85, 0.5366666666666666, 0.89, 0.8333333333333334, 0.99, 0.82, 0.68, 0.8566666666666667, 0.7433333333333333, 0.97, 0.7533333333333333, 0.8133333333333334, 0.68, 0.5766666666666667, 0.84, 0.4666666666666667, 0.43666666666666665, 0.7533333333333333, 0.7233333333333334, 0.5866666666666667, 0.83, 0.43, 0.75, 0.48, 0.9, 0.4866666666666667, 0.56, 0.61, 0.85, 0.64, 0.75, 0.5866666666666667, 0.75, 0.5, 0.8233333333333334, 0.68, 0.5233333333333333, 0.75, 0.7166666666666667, 0.67, 0.5633333333333334, 0.8566666666666667, 0.6933333333333334, 0.6833333333333333, 0.77, 0.84, 0.5533333333333333, 0.9033333333333333, 0.55, 0.7, 0.5866666666666667, 0.7433333333333333, 0.63, 0.5333333333333333, 0.8166666666666667, 0.6233333333333333, 0.6066666666666667, 0.7266666666666667, 0.7, 0.66, 0.7133333333333334, 0.5833333333333334, 0.49666666666666665, 0.74, 0.6366666666666667, 0.73, 0.6366666666666667, 0.54, 0.6933333333333334, 0.4066666666666667, 0.7766666666666666, 0.87, 0.53, 0.8366666666666667, 0.81, 0.5766666666666667, 0.8366666666666667, 0.42333333333333334, 0.76, 0.2966666666666667, 0.6466666666666666, 0.5933333333333334, 0.5666666666666667, 0.6533333333333333, 0.6966666666666667, 0.8333333333333334, 0.48333333333333334, 0.66, 0.7, 0.7833333333333333, 0.61, 0.5466666666666666, 0.6933333333333334, 0.7633333333333333, 0.92, 0.8466666666666667, 0.7566666666666667, 0.7666666666666667, 0.71, 0.42, 0.78, 0.5466666666666666, 0.3933333333333333, 0.47, 0.6166666666666667, 0.8233333333333334, 0.7833333333333333, 0.89, 0.56, 0.69, 0.6666666666666666, 0.8533333333333334, 0.89, 0.87, 0.5066666666666667, 0.8, 0.5266666666666666, 0.6233333333333333, 0.6466666666666666, 0.7, 0.7866666666666666, 0.5833333333333334, 0.5933333333333334, 0.83, 0.6066666666666667, 0.8266666666666667, 0.51, 0.66, 0.6466666666666666, 0.7866666666666666, 0.56, 0.72, 0.45666666666666667, 0.5766666666666667, 0.3433333333333333, 0.7566666666666667, 0.5633333333333334, 0.8633333333333333, 0.87, 0.56, 0.6633333333333333, 0.7466666666666667, 0.6833333333333333, 0.64, 0.8833333333333333, 0.7, 0.6033333333333334, 0.9666666666666667, 0.6933333333333334, 0.75, 0.49, 0.7733333333333333, 0.56, 0.8466666666666667, 0.39666666666666667, 0.74, 0.9366666666666666, 0.84, 0.5466666666666666, 0.48, 0.7466666666666667, 0.5033333333333333, 0.5466666666666666, 0.7266666666666667, 0.8133333333333334, 0.8733333333333333, 0.5533333333333333, 0.7, 0.8233333333333334, 0.5733333333333334, 0.7033333333333334, 0.7133333333333334, 0.6433333333333333, 0.7033333333333334, 0.6933333333333334, 0.48333333333333334, 0.52, 0.7266666666666667, 0.96, 0.6166666666666667, 0.6933333333333334, 0.4766666666666667, 0.8733333333333333, 0.8733333333333333, 0.6333333333333333, 0.79, 0.6333333333333333, 0.3466666666666667, 0.30666666666666664, 0.7333333333333333, 0.6133333333333333, 0.75, 0.86, 0.75, 0.41, 0.9766666666666667, 0.7833333333333333, 0.8066666666666666, 0.52, 0.8466666666666667, 0.7133333333333334, 0.68, 0.4666666666666667, 0.7833333333333333, 0.5966666666666667, 0.5833333333333334, 0.54, 0.68, 1.0, 0.5233333333333333, 0.7133333333333334, 0.9266666666666666, 0.6866666666666666, 0.44666666666666666, 0.68, 0.6133333333333333, 0.71, 0.66, 0.5733333333333334, 0.6566666666666666, 0.44333333333333336, 0.5166666666666667, 0.7033333333333334, 0.6033333333333334, 0.6833333333333333, 0.73, 0.9166666666666666, 0.6366666666666667, 0.59, 0.5733333333333334, 0.8366666666666667, 0.7133333333333334, 0.7, 0.8833333333333333, 0.7033333333333334, 0.6133333333333333, 0.6233333333333333, 0.5766666666666667, 0.8133333333333334, 0.5566666666666666, 0.5033333333333333, 0.6833333333333333, 0.7933333333333333, 0.7833333333333333, 0.7333333333333333, 0.5466666666666666, 0.6666666666666666, 0.6366666666666667, 0.84, 0.9733333333333334, 0.5566666666666666, 0.7566666666666667, 0.5933333333333334, 0.5166666666666667, 1.0, 0.72, 0.6233333333333333, 0.68, 0.66, 0.62, 0.7033333333333334, 0.7966666666666666, 0.9633333333333334, 0.73, 0.5433333333333333, 0.5833333333333334, 0.6133333333333333, 0.7433333333333333, 0.6066666666666667, 0.6166666666666667, 0.48, 0.9333333333333333, 0.18333333333333332, 0.79, 0.8333333333333334, 0.8533333333333334, 0.77, 0.54, 0.5, 0.7733333333333333, 0.44666666666666666, 0.7866666666666666, 0.8066666666666666, 0.75, 0.69, 0.6933333333333334, 0.6266666666666667, 0.94, 0.5733333333333334, 0.65, 0.7433333333333333, 0.83], \"y0\": \" \", \"yaxis\": \"y\"}],\n",
              "                        {\"boxmode\": \"group\", \"legend\": {\"tracegroupgap\": 0}, \"margin\": {\"t\": 60}, \"template\": {\"data\": {\"bar\": [{\"error_x\": {\"color\": \"#2a3f5f\"}, \"error_y\": {\"color\": \"#2a3f5f\"}, \"marker\": {\"line\": {\"color\": \"#E5ECF6\", \"width\": 0.5}}, \"type\": \"bar\"}], \"barpolar\": [{\"marker\": {\"line\": {\"color\": \"#E5ECF6\", \"width\": 0.5}}, \"type\": \"barpolar\"}], \"carpet\": [{\"aaxis\": {\"endlinecolor\": \"#2a3f5f\", \"gridcolor\": \"white\", \"linecolor\": \"white\", \"minorgridcolor\": \"white\", \"startlinecolor\": \"#2a3f5f\"}, \"baxis\": {\"endlinecolor\": \"#2a3f5f\", \"gridcolor\": \"white\", \"linecolor\": \"white\", \"minorgridcolor\": \"white\", \"startlinecolor\": \"#2a3f5f\"}, \"type\": \"carpet\"}], \"choropleth\": [{\"colorbar\": {\"outlinewidth\": 0, \"ticks\": \"\"}, \"type\": \"choropleth\"}], \"contour\": [{\"colorbar\": {\"outlinewidth\": 0, \"ticks\": \"\"}, \"colorscale\": [[0.0, \"#0d0887\"], [0.1111111111111111, \"#46039f\"], [0.2222222222222222, \"#7201a8\"], [0.3333333333333333, \"#9c179e\"], [0.4444444444444444, \"#bd3786\"], [0.5555555555555556, \"#d8576b\"], [0.6666666666666666, \"#ed7953\"], [0.7777777777777778, \"#fb9f3a\"], [0.8888888888888888, \"#fdca26\"], [1.0, \"#f0f921\"]], \"type\": \"contour\"}], \"contourcarpet\": [{\"colorbar\": {\"outlinewidth\": 0, \"ticks\": \"\"}, \"type\": \"contourcarpet\"}], \"heatmap\": [{\"colorbar\": {\"outlinewidth\": 0, \"ticks\": \"\"}, \"colorscale\": [[0.0, \"#0d0887\"], [0.1111111111111111, \"#46039f\"], [0.2222222222222222, \"#7201a8\"], [0.3333333333333333, \"#9c179e\"], [0.4444444444444444, \"#bd3786\"], [0.5555555555555556, \"#d8576b\"], [0.6666666666666666, \"#ed7953\"], [0.7777777777777778, \"#fb9f3a\"], [0.8888888888888888, \"#fdca26\"], [1.0, \"#f0f921\"]], \"type\": \"heatmap\"}], \"heatmapgl\": [{\"colorbar\": {\"outlinewidth\": 0, \"ticks\": \"\"}, \"colorscale\": [[0.0, \"#0d0887\"], [0.1111111111111111, \"#46039f\"], [0.2222222222222222, \"#7201a8\"], [0.3333333333333333, \"#9c179e\"], [0.4444444444444444, \"#bd3786\"], [0.5555555555555556, \"#d8576b\"], [0.6666666666666666, \"#ed7953\"], [0.7777777777777778, \"#fb9f3a\"], [0.8888888888888888, \"#fdca26\"], [1.0, \"#f0f921\"]], \"type\": \"heatmapgl\"}], \"histogram\": [{\"marker\": {\"colorbar\": {\"outlinewidth\": 0, \"ticks\": \"\"}}, \"type\": \"histogram\"}], \"histogram2d\": [{\"colorbar\": {\"outlinewidth\": 0, \"ticks\": \"\"}, \"colorscale\": [[0.0, \"#0d0887\"], [0.1111111111111111, \"#46039f\"], [0.2222222222222222, \"#7201a8\"], [0.3333333333333333, \"#9c179e\"], [0.4444444444444444, \"#bd3786\"], [0.5555555555555556, \"#d8576b\"], [0.6666666666666666, \"#ed7953\"], [0.7777777777777778, \"#fb9f3a\"], [0.8888888888888888, \"#fdca26\"], [1.0, \"#f0f921\"]], \"type\": \"histogram2d\"}], \"histogram2dcontour\": [{\"colorbar\": {\"outlinewidth\": 0, \"ticks\": \"\"}, \"colorscale\": [[0.0, \"#0d0887\"], [0.1111111111111111, \"#46039f\"], [0.2222222222222222, \"#7201a8\"], [0.3333333333333333, \"#9c179e\"], [0.4444444444444444, \"#bd3786\"], [0.5555555555555556, \"#d8576b\"], [0.6666666666666666, \"#ed7953\"], [0.7777777777777778, \"#fb9f3a\"], [0.8888888888888888, \"#fdca26\"], [1.0, \"#f0f921\"]], \"type\": \"histogram2dcontour\"}], \"mesh3d\": [{\"colorbar\": {\"outlinewidth\": 0, \"ticks\": \"\"}, \"type\": \"mesh3d\"}], \"parcoords\": [{\"line\": {\"colorbar\": {\"outlinewidth\": 0, \"ticks\": \"\"}}, \"type\": \"parcoords\"}], \"pie\": [{\"automargin\": true, \"type\": \"pie\"}], \"scatter\": [{\"marker\": {\"colorbar\": {\"outlinewidth\": 0, \"ticks\": \"\"}}, \"type\": \"scatter\"}], \"scatter3d\": [{\"line\": {\"colorbar\": {\"outlinewidth\": 0, \"ticks\": \"\"}}, \"marker\": {\"colorbar\": {\"outlinewidth\": 0, \"ticks\": \"\"}}, \"type\": \"scatter3d\"}], \"scattercarpet\": [{\"marker\": {\"colorbar\": {\"outlinewidth\": 0, \"ticks\": \"\"}}, \"type\": \"scattercarpet\"}], \"scattergeo\": [{\"marker\": {\"colorbar\": {\"outlinewidth\": 0, \"ticks\": \"\"}}, \"type\": \"scattergeo\"}], \"scattergl\": [{\"marker\": {\"colorbar\": {\"outlinewidth\": 0, \"ticks\": \"\"}}, \"type\": \"scattergl\"}], \"scattermapbox\": [{\"marker\": {\"colorbar\": {\"outlinewidth\": 0, \"ticks\": \"\"}}, \"type\": \"scattermapbox\"}], \"scatterpolar\": [{\"marker\": {\"colorbar\": {\"outlinewidth\": 0, \"ticks\": \"\"}}, \"type\": \"scatterpolar\"}], \"scatterpolargl\": [{\"marker\": {\"colorbar\": {\"outlinewidth\": 0, \"ticks\": \"\"}}, \"type\": \"scatterpolargl\"}], \"scatterternary\": [{\"marker\": {\"colorbar\": {\"outlinewidth\": 0, \"ticks\": \"\"}}, \"type\": \"scatterternary\"}], \"surface\": [{\"colorbar\": {\"outlinewidth\": 0, \"ticks\": \"\"}, \"colorscale\": [[0.0, \"#0d0887\"], [0.1111111111111111, \"#46039f\"], [0.2222222222222222, \"#7201a8\"], [0.3333333333333333, \"#9c179e\"], [0.4444444444444444, \"#bd3786\"], [0.5555555555555556, \"#d8576b\"], [0.6666666666666666, \"#ed7953\"], [0.7777777777777778, \"#fb9f3a\"], [0.8888888888888888, \"#fdca26\"], [1.0, \"#f0f921\"]], \"type\": \"surface\"}], \"table\": [{\"cells\": {\"fill\": {\"color\": \"#EBF0F8\"}, \"line\": {\"color\": \"white\"}}, \"header\": {\"fill\": {\"color\": \"#C8D4E3\"}, \"line\": {\"color\": \"white\"}}, \"type\": \"table\"}]}, \"layout\": {\"annotationdefaults\": {\"arrowcolor\": \"#2a3f5f\", \"arrowhead\": 0, \"arrowwidth\": 1}, \"coloraxis\": {\"colorbar\": {\"outlinewidth\": 0, \"ticks\": \"\"}}, \"colorscale\": {\"diverging\": [[0, \"#8e0152\"], [0.1, \"#c51b7d\"], [0.2, \"#de77ae\"], [0.3, \"#f1b6da\"], [0.4, \"#fde0ef\"], [0.5, \"#f7f7f7\"], [0.6, \"#e6f5d0\"], [0.7, \"#b8e186\"], [0.8, \"#7fbc41\"], [0.9, \"#4d9221\"], [1, \"#276419\"]], \"sequential\": [[0.0, \"#0d0887\"], [0.1111111111111111, \"#46039f\"], [0.2222222222222222, \"#7201a8\"], [0.3333333333333333, \"#9c179e\"], [0.4444444444444444, \"#bd3786\"], [0.5555555555555556, \"#d8576b\"], [0.6666666666666666, \"#ed7953\"], [0.7777777777777778, \"#fb9f3a\"], [0.8888888888888888, \"#fdca26\"], [1.0, \"#f0f921\"]], \"sequentialminus\": [[0.0, \"#0d0887\"], [0.1111111111111111, \"#46039f\"], [0.2222222222222222, \"#7201a8\"], [0.3333333333333333, \"#9c179e\"], [0.4444444444444444, \"#bd3786\"], [0.5555555555555556, \"#d8576b\"], [0.6666666666666666, \"#ed7953\"], [0.7777777777777778, \"#fb9f3a\"], [0.8888888888888888, \"#fdca26\"], [1.0, \"#f0f921\"]]}, \"colorway\": [\"#636efa\", \"#EF553B\", \"#00cc96\", \"#ab63fa\", \"#FFA15A\", \"#19d3f3\", \"#FF6692\", \"#B6E880\", \"#FF97FF\", \"#FECB52\"], \"font\": {\"color\": \"#2a3f5f\"}, \"geo\": {\"bgcolor\": \"white\", \"lakecolor\": \"white\", \"landcolor\": \"#E5ECF6\", \"showlakes\": true, \"showland\": true, \"subunitcolor\": \"white\"}, \"hoverlabel\": {\"align\": \"left\"}, \"hovermode\": \"closest\", \"mapbox\": {\"style\": \"light\"}, \"paper_bgcolor\": \"white\", \"plot_bgcolor\": \"#E5ECF6\", \"polar\": {\"angularaxis\": {\"gridcolor\": \"white\", \"linecolor\": \"white\", \"ticks\": \"\"}, \"bgcolor\": \"#E5ECF6\", \"radialaxis\": {\"gridcolor\": \"white\", \"linecolor\": \"white\", \"ticks\": \"\"}}, \"scene\": {\"xaxis\": {\"backgroundcolor\": \"#E5ECF6\", \"gridcolor\": \"white\", \"gridwidth\": 2, \"linecolor\": \"white\", \"showbackground\": true, \"ticks\": \"\", \"zerolinecolor\": \"white\"}, \"yaxis\": {\"backgroundcolor\": \"#E5ECF6\", \"gridcolor\": \"white\", \"gridwidth\": 2, \"linecolor\": \"white\", \"showbackground\": true, \"ticks\": \"\", \"zerolinecolor\": \"white\"}, \"zaxis\": {\"backgroundcolor\": \"#E5ECF6\", \"gridcolor\": \"white\", \"gridwidth\": 2, \"linecolor\": \"white\", \"showbackground\": true, \"ticks\": \"\", \"zerolinecolor\": \"white\"}}, \"shapedefaults\": {\"line\": {\"color\": \"#2a3f5f\"}}, \"ternary\": {\"aaxis\": {\"gridcolor\": \"white\", \"linecolor\": \"white\", \"ticks\": \"\"}, \"baxis\": {\"gridcolor\": \"white\", \"linecolor\": \"white\", \"ticks\": \"\"}, \"bgcolor\": \"#E5ECF6\", \"caxis\": {\"gridcolor\": \"white\", \"linecolor\": \"white\", \"ticks\": \"\"}}, \"title\": {\"x\": 0.05}, \"xaxis\": {\"automargin\": true, \"gridcolor\": \"white\", \"linecolor\": \"white\", \"ticks\": \"\", \"title\": {\"standoff\": 15}, \"zerolinecolor\": \"white\", \"zerolinewidth\": 2}, \"yaxis\": {\"automargin\": true, \"gridcolor\": \"white\", \"linecolor\": \"white\", \"ticks\": \"\", \"title\": {\"standoff\": 15}, \"zerolinecolor\": \"white\", \"zerolinewidth\": 2}}}, \"xaxis\": {\"anchor\": \"y\", \"domain\": [0.0, 1.0], \"title\": {\"text\": \"gender\"}}, \"yaxis\": {\"anchor\": \"x\", \"domain\": [0.0, 1.0], \"title\": {\"text\": \"percent correct\"}}},\n",
              "                        {\"responsive\": true}\n",
              "                    ).then(function(){\n",
              "                            \n",
              "var gd = document.getElementById('946aa718-4c68-4726-b2da-29c8f69584fa');\n",
              "var x = new MutationObserver(function (mutations, observer) {{\n",
              "        var display = window.getComputedStyle(gd).display;\n",
              "        if (!display || display === 'none') {{\n",
              "            console.log([gd, 'removed!']);\n",
              "            Plotly.purge(gd);\n",
              "            observer.disconnect();\n",
              "        }}\n",
              "}});\n",
              "\n",
              "// Listen for the removal of the full notebook cells\n",
              "var notebookContainer = gd.closest('#notebook-container');\n",
              "if (notebookContainer) {{\n",
              "    x.observe(notebookContainer, {childList: true});\n",
              "}}\n",
              "\n",
              "// Listen for the clearing of the current output cell\n",
              "var outputEl = gd.closest('.output');\n",
              "if (outputEl) {{\n",
              "    x.observe(outputEl, {childList: true});\n",
              "}}\n",
              "\n",
              "                        })\n",
              "                };\n",
              "                \n",
              "            </script>\n",
              "        </div>\n",
              "</body>\n",
              "</html>"
            ]
          },
          "metadata": {
            "tags": []
          }
        }
      ]
    },
    {
      "cell_type": "markdown",
      "metadata": {
        "id": "BwkXRoMlPqgV"
      },
      "source": [
        "Box plot of race ethincity and percent correct"
      ]
    },
    {
      "cell_type": "code",
      "metadata": {
        "colab": {
          "base_uri": "https://localhost:8080/",
          "height": 542
        },
        "id": "JDsVb5GABfYo",
        "outputId": "5f51968c-e663-4706-f06c-609973e06229"
      },
      "source": [
        "px.box(dataset, x= \"race/ethnicity\", y = \"percent correct\")"
      ],
      "execution_count": null,
      "outputs": [
        {
          "output_type": "display_data",
          "data": {
            "text/html": [
              "<html>\n",
              "<head><meta charset=\"utf-8\" /></head>\n",
              "<body>\n",
              "    <div>\n",
              "            <script src=\"https://cdnjs.cloudflare.com/ajax/libs/mathjax/2.7.5/MathJax.js?config=TeX-AMS-MML_SVG\"></script><script type=\"text/javascript\">if (window.MathJax) {MathJax.Hub.Config({SVG: {font: \"STIX-Web\"}});}</script>\n",
              "                <script type=\"text/javascript\">window.PlotlyConfig = {MathJaxConfig: 'local'};</script>\n",
              "        <script src=\"https://cdn.plot.ly/plotly-latest.min.js\"></script>    \n",
              "            <div id=\"0c4d8ff9-0f11-4104-bb7a-66080d07a512\" class=\"plotly-graph-div\" style=\"height:525px; width:100%;\"></div>\n",
              "            <script type=\"text/javascript\">\n",
              "                \n",
              "                    window.PLOTLYENV=window.PLOTLYENV || {};\n",
              "                    \n",
              "                if (document.getElementById(\"0c4d8ff9-0f11-4104-bb7a-66080d07a512\")) {\n",
              "                    Plotly.newPlot(\n",
              "                        '0c4d8ff9-0f11-4104-bb7a-66080d07a512',\n",
              "                        [{\"alignmentgroup\": \"True\", \"hoverlabel\": {\"namelength\": 0}, \"hovertemplate\": \"race/ethnicity=%{x}<br>percent correct=%{y}\", \"legendgroup\": \"\", \"marker\": {\"color\": \"#636efa\"}, \"name\": \"\", \"notched\": false, \"offsetgroup\": \"\", \"orientation\": \"v\", \"showlegend\": false, \"type\": \"box\", \"x\": [\"group B\", \"group C\", \"group B\", \"group A\", \"group C\", \"group B\", \"group B\", \"group B\", \"group D\", \"group B\", \"group C\", \"group D\", \"group B\", \"group A\", \"group A\", \"group C\", \"group C\", \"group B\", \"group C\", \"group C\", \"group D\", \"group B\", \"group D\", \"group C\", \"group D\", \"group A\", \"group B\", \"group C\", \"group C\", \"group D\", \"group D\", \"group B\", \"group E\", \"group D\", \"group E\", \"group E\", \"group D\", \"group D\", \"group D\", \"group B\", \"group C\", \"group C\", \"group B\", \"group B\", \"group E\", \"group B\", \"group A\", \"group C\", \"group D\", \"group C\", \"group E\", \"group E\", \"group C\", \"group D\", \"group C\", \"group C\", \"group E\", \"group D\", \"group D\", \"group C\", \"group E\", \"group A\", \"group A\", \"group C\", \"group D\", \"group B\", \"group D\", \"group C\", \"group B\", \"group C\", \"group D\", \"group D\", \"group A\", \"group C\", \"group C\", \"group B\", \"group E\", \"group A\", \"group D\", \"group E\", \"group B\", \"group B\", \"group A\", \"group E\", \"group D\", \"group C\", \"group C\", \"group D\", \"group A\", \"group D\", \"group C\", \"group C\", \"group C\", \"group C\", \"group B\", \"group C\", \"group B\", \"group E\", \"group D\", \"group D\", \"group B\", \"group D\", \"group D\", \"group B\", \"group C\", \"group C\", \"group D\", \"group E\", \"group B\", \"group B\", \"group D\", \"group C\", \"group A\", \"group D\", \"group E\", \"group C\", \"group B\", \"group D\", \"group D\", \"group C\", \"group C\", \"group B\", \"group C\", \"group D\", \"group E\", \"group B\", \"group B\", \"group D\", \"group D\", \"group A\", \"group D\", \"group C\", \"group E\", \"group C\", \"group D\", \"group C\", \"group B\", \"group E\", \"group C\", \"group D\", \"group D\", \"group C\", \"group E\", \"group A\", \"group D\", \"group C\", \"group B\", \"group C\", \"group D\", \"group E\", \"group A\", \"group A\", \"group B\", \"group D\", \"group D\", \"group C\", \"group E\", \"group B\", \"group B\", \"group D\", \"group B\", \"group E\", \"group B\", \"group C\", \"group E\", \"group C\", \"group C\", \"group B\", \"group B\", \"group C\", \"group A\", \"group E\", \"group D\", \"group C\", \"group C\", \"group C\", \"group B\", \"group C\", \"group B\", \"group D\", \"group C\", \"group C\", \"group E\", \"group D\", \"group C\", \"group C\", \"group E\", \"group D\", \"group B\", \"group C\", \"group E\", \"group D\", \"group B\", \"group D\", \"group C\", \"group D\", \"group C\", \"group E\", \"group B\", \"group B\", \"group C\", \"group D\", \"group C\", \"group B\", \"group C\", \"group D\", \"group E\", \"group E\", \"group B\", \"group B\", \"group D\", \"group C\", \"group C\", \"group C\", \"group E\", \"group B\", \"group E\", \"group C\", \"group B\", \"group B\", \"group D\", \"group B\", \"group C\", \"group D\", \"group B\", \"group E\", \"group C\", \"group D\", \"group A\", \"group C\", \"group D\", \"group C\", \"group B\", \"group E\", \"group C\", \"group D\", \"group D\", \"group D\", \"group B\", \"group C\", \"group D\", \"group E\", \"group D\", \"group E\", \"group D\", \"group C\", \"group E\", \"group B\", \"group B\", \"group C\", \"group A\", \"group D\", \"group B\", \"group D\", \"group D\", \"group E\", \"group C\", \"group C\", \"group B\", \"group C\", \"group C\", \"group C\", \"group C\", \"group E\", \"group D\", \"group D\", \"group C\", \"group D\", \"group D\", \"group E\", \"group C\", \"group C\", \"group D\", \"group D\", \"group B\", \"group C\", \"group C\", \"group E\", \"group C\", \"group B\", \"group D\", \"group D\", \"group D\", \"group D\", \"group B\", \"group B\", \"group E\", \"group B\", \"group B\", \"group E\", \"group C\", \"group D\", \"group C\", \"group E\", \"group D\", \"group B\", \"group A\", \"group E\", \"group C\", \"group D\", \"group A\", \"group D\", \"group C\", \"group B\", \"group C\", \"group A\", \"group E\", \"group C\", \"group B\", \"group D\", \"group B\", \"group B\", \"group D\", \"group C\", \"group C\", \"group C\", \"group D\", \"group C\", \"group B\", \"group D\", \"group C\", \"group E\", \"group C\", \"group C\", \"group C\", \"group C\", \"group C\", \"group A\", \"group C\", \"group B\", \"group C\", \"group C\", \"group E\", \"group B\", \"group C\", \"group B\", \"group D\", \"group C\", \"group B\", \"group D\", \"group C\", \"group C\", \"group B\", \"group D\", \"group D\", \"group C\", \"group B\", \"group C\", \"group D\", \"group E\", \"group B\", \"group E\", \"group C\", \"group C\", \"group C\", \"group B\", \"group A\", \"group C\", \"group D\", \"group D\", \"group B\", \"group B\", \"group C\", \"group D\", \"group C\", \"group A\", \"group C\", \"group C\", \"group A\", \"group D\", \"group E\", \"group C\", \"group D\", \"group D\", \"group D\", \"group E\", \"group D\", \"group D\", \"group A\", \"group A\", \"group B\", \"group C\", \"group C\", \"group E\", \"group A\", \"group E\", \"group E\", \"group C\", \"group D\", \"group D\", \"group E\", \"group D\", \"group E\", \"group C\", \"group C\", \"group A\", \"group B\", \"group C\", \"group B\", \"group D\", \"group C\", \"group A\", \"group A\", \"group D\", \"group C\", \"group C\", \"group B\", \"group B\", \"group D\", \"group D\", \"group D\", \"group E\", \"group D\", \"group B\", \"group C\", \"group E\", \"group C\", \"group C\", \"group D\", \"group E\", \"group C\", \"group D\", \"group D\", \"group A\", \"group B\", \"group C\", \"group C\", \"group C\", \"group A\", \"group C\", \"group C\", \"group C\", \"group C\", \"group A\", \"group C\", \"group C\", \"group D\", \"group D\", \"group C\", \"group D\", \"group C\", \"group D\", \"group A\", \"group B\", \"group A\", \"group C\", \"group D\", \"group C\", \"group B\", \"group B\", \"group C\", \"group E\", \"group C\", \"group C\", \"group C\", \"group C\", \"group D\", \"group D\", \"group E\", \"group B\", \"group C\", \"group B\", \"group E\", \"group C\", \"group A\", \"group C\", \"group D\", \"group A\", \"group A\", \"group C\", \"group C\", \"group C\", \"group C\", \"group D\", \"group B\", \"group D\", \"group E\", \"group D\", \"group D\", \"group E\", \"group B\", \"group D\", \"group C\", \"group A\", \"group B\", \"group C\", \"group D\", \"group C\", \"group B\", \"group A\", \"group A\", \"group C\", \"group C\", \"group C\", \"group B\", \"group D\", \"group C\", \"group D\", \"group B\", \"group E\", \"group D\", \"group B\", \"group C\", \"group E\", \"group D\", \"group B\", \"group A\", \"group B\", \"group C\", \"group C\", \"group D\", \"group A\", \"group D\", \"group B\", \"group B\", \"group C\", \"group D\", \"group E\", \"group D\", \"group B\", \"group D\", \"group C\", \"group D\", \"group C\", \"group C\", \"group E\", \"group C\", \"group C\", \"group D\", \"group C\", \"group C\", \"group C\", \"group E\", \"group E\", \"group B\", \"group C\", \"group C\", \"group D\", \"group E\", \"group A\", \"group C\", \"group D\", \"group C\", \"group D\", \"group D\", \"group E\", \"group A\", \"group C\", \"group C\", \"group C\", \"group C\", \"group B\", \"group B\", \"group D\", \"group E\", \"group C\", \"group C\", \"group C\", \"group B\", \"group D\", \"group D\", \"group C\", \"group C\", \"group D\", \"group B\", \"group B\", \"group E\", \"group D\", \"group B\", \"group D\", \"group B\", \"group A\", \"group C\", \"group C\", \"group E\", \"group A\", \"group A\", \"group B\", \"group B\", \"group D\", \"group D\", \"group E\", \"group D\", \"group D\", \"group D\", \"group C\", \"group A\", \"group C\", \"group C\", \"group A\", \"group C\", \"group A\", \"group E\", \"group E\", \"group C\", \"group C\", \"group B\", \"group A\", \"group D\", \"group D\", \"group D\", \"group C\", \"group E\", \"group D\", \"group D\", \"group C\", \"group C\", \"group C\", \"group E\", \"group B\", \"group D\", \"group C\", \"group C\", \"group C\", \"group A\", \"group C\", \"group E\", \"group D\", \"group D\", \"group C\", \"group C\", \"group B\", \"group C\", \"group A\", \"group E\", \"group D\", \"group B\", \"group D\", \"group D\", \"group C\", \"group D\", \"group B\", \"group B\", \"group C\", \"group D\", \"group A\", \"group B\", \"group D\", \"group E\", \"group D\", \"group D\", \"group D\", \"group B\", \"group E\", \"group B\", \"group B\", \"group D\", \"group E\", \"group B\", \"group D\", \"group C\", \"group A\", \"group D\", \"group A\", \"group B\", \"group B\", \"group C\", \"group D\", \"group D\", \"group D\", \"group C\", \"group C\", \"group D\", \"group C\", \"group D\", \"group C\", \"group C\", \"group B\", \"group C\", \"group D\", \"group C\", \"group D\", \"group C\", \"group C\", \"group D\", \"group B\", \"group E\", \"group C\", \"group D\", \"group D\", \"group D\", \"group B\", \"group B\", \"group C\", \"group B\", \"group E\", \"group E\", \"group D\", \"group A\", \"group E\", \"group C\", \"group E\", \"group C\", \"group D\", \"group C\", \"group D\", \"group C\", \"group A\", \"group D\", \"group C\", \"group E\", \"group B\", \"group A\", \"group D\", \"group B\", \"group A\", \"group D\", \"group C\", \"group D\", \"group D\", \"group C\", \"group E\", \"group D\", \"group D\", \"group B\", \"group B\", \"group C\", \"group C\", \"group C\", \"group E\", \"group C\", \"group D\", \"group B\", \"group C\", \"group B\", \"group E\", \"group E\", \"group E\", \"group D\", \"group C\", \"group B\", \"group A\", \"group C\", \"group D\", \"group E\", \"group C\", \"group C\", \"group B\", \"group D\", \"group C\", \"group D\", \"group A\", \"group C\", \"group C\", \"group B\", \"group D\", \"group D\", \"group C\", \"group C\", \"group B\", \"group D\", \"group E\", \"group C\", \"group C\", \"group C\", \"group E\", \"group D\", \"group E\", \"group D\", \"group B\", \"group C\", \"group D\", \"group D\", \"group B\", \"group D\", \"group B\", \"group C\", \"group B\", \"group D\", \"group A\", \"group B\", \"group D\", \"group B\", \"group C\", \"group B\", \"group B\", \"group B\", \"group C\", \"group A\", \"group E\", \"group D\", \"group B\", \"group B\", \"group C\", \"group C\", \"group B\", \"group E\", \"group B\", \"group C\", \"group C\", \"group B\", \"group D\", \"group D\", \"group E\", \"group B\", \"group E\", \"group D\", \"group E\", \"group E\", \"group C\", \"group C\", \"group C\", \"group E\", \"group B\", \"group C\", \"group A\", \"group D\", \"group E\", \"group C\", \"group B\", \"group A\", \"group A\", \"group C\", \"group E\", \"group C\", \"group B\", \"group A\", \"group D\", \"group B\", \"group C\", \"group A\", \"group D\", \"group E\", \"group B\", \"group C\", \"group C\", \"group C\", \"group C\", \"group D\", \"group B\", \"group A\", \"group C\", \"group A\", \"group B\", \"group B\", \"group C\", \"group E\", \"group A\", \"group B\", \"group C\", \"group D\", \"group C\", \"group B\", \"group B\", \"group D\", \"group E\", \"group C\", \"group D\", \"group C\", \"group D\", \"group C\", \"group A\", \"group E\", \"group E\", \"group C\", \"group B\", \"group B\", \"group C\", \"group B\", \"group C\", \"group C\", \"group E\", \"group D\", \"group C\", \"group C\", \"group D\", \"group C\", \"group B\", \"group E\", \"group C\", \"group B\", \"group C\", \"group B\", \"group E\", \"group C\", \"group C\", \"group D\", \"group C\", \"group D\", \"group D\", \"group C\", \"group E\", \"group B\", \"group D\", \"group E\", \"group C\", \"group E\", \"group C\", \"group D\", \"group D\", \"group E\", \"group E\", \"group A\", \"group D\", \"group E\", \"group E\", \"group B\", \"group B\", \"group D\", \"group D\", \"group D\", \"group C\", \"group A\", \"group D\", \"group D\", \"group D\", \"group B\", \"group D\", \"group C\", \"group E\", \"group D\", \"group A\", \"group C\", \"group C\", \"group B\", \"group E\", \"group E\", \"group C\", \"group C\", \"group B\", \"group D\", \"group C\", \"group D\", \"group B\", \"group D\", \"group E\", \"group E\", \"group D\", \"group E\", \"group C\", \"group C\", \"group D\", \"group D\", \"group C\", \"group C\", \"group D\", \"group A\", \"group E\", \"group D\", \"group D\", \"group C\", \"group D\", \"group C\", \"group A\", \"group B\", \"group C\", \"group B\", \"group D\", \"group B\", \"group E\", \"group E\", \"group D\", \"group E\", \"group C\", \"group C\", \"group E\", \"group C\", \"group D\", \"group D\", \"group C\", \"group A\", \"group D\", \"group E\", \"group C\", \"group D\", \"group D\", \"group A\", \"group C\", \"group E\", \"group B\", \"group D\", \"group C\", \"group A\", \"group D\", \"group A\", \"group C\", \"group B\", \"group C\", \"group D\", \"group C\", \"group B\", \"group D\", \"group B\", \"group A\", \"group C\", \"group A\", \"group C\", \"group E\", \"group A\", \"group D\", \"group E\", \"group B\", \"group D\", \"group D\", \"group A\", \"group E\", \"group C\", \"group C\", \"group D\", \"group D\"], \"x0\": \" \", \"xaxis\": \"x\", \"y\": [0.7266666666666667, 0.8233333333333334, 0.9266666666666666, 0.49333333333333335, 0.7633333333333333, 0.7733333333333333, 0.9166666666666666, 0.4066666666666667, 0.65, 0.49333333333333335, 0.5466666666666666, 0.45, 0.73, 0.7333333333333333, 0.5366666666666666, 0.74, 0.8766666666666667, 0.26, 0.44666666666666666, 0.5766666666666667, 0.66, 0.7, 0.5033333333333333, 0.7166666666666667, 0.75, 0.73, 0.5933333333333334, 0.7033333333333334, 0.6833333333333333, 0.69, 0.7233333333333334, 0.63, 0.6433333333333333, 0.4, 0.8866666666666667, 0.8033333333333333, 0.7933333333333333, 0.5766666666666667, 0.8433333333333334, 0.5666666666666667, 0.5666666666666667, 0.6633333333333333, 0.5866666666666667, 0.6333333333333333, 0.5333333333333333, 0.5866666666666667, 0.6066666666666667, 0.71, 0.69, 0.8266666666666667, 0.52, 0.7133333333333334, 0.4633333333333333, 0.8033333333333333, 0.8066666666666666, 0.39, 0.8433333333333334, 0.52, 0.5833333333333334, 0.09, 0.75, 0.37333333333333335, 0.5933333333333334, 0.7333333333333333, 0.5866666666666667, 0.64, 0.39666666666666667, 0.6866666666666666, 0.5833333333333334, 0.5333333333333333, 0.6466666666666666, 0.6033333333333334, 0.4666666666666667, 0.58, 0.4633333333333333, 0.41, 0.26, 0.7966666666666666, 0.69, 0.66, 0.4866666666666667, 0.4633333333333333, 0.5033333333333333, 0.6633333333333333, 0.38333333333333336, 0.7833333333333333, 0.8233333333333334, 0.72, 0.65, 0.8033333333333333, 0.7033333333333334, 0.3233333333333333, 0.7366666666666667, 0.46, 0.8566666666666667, 0.8033333333333333, 0.6433333333333333, 0.6833333333333333, 0.6233333333333333, 0.6466666666666666, 0.71, 0.72, 0.8833333333333333, 0.5033333333333333, 0.9133333333333333, 0.6566666666666666, 0.9566666666666667, 0.6433333333333333, 0.66, 0.6866666666666666, 0.88, 0.5533333333333333, 0.5133333333333333, 0.5433333333333333, 0.9966666666666667, 0.7833333333333333, 0.8066666666666666, 0.7966666666666666, 0.5833333333333334, 0.63, 0.8666666666666667, 0.9066666666666666, 0.9133333333333333, 0.5866666666666667, 0.7866666666666666, 0.8933333333333333, 0.69, 0.72, 0.7933333333333333, 0.5033333333333333, 0.85, 0.43333333333333335, 0.77, 0.8, 0.76, 0.5366666666666666, 0.4866666666666667, 0.6033333333333334, 0.64, 0.67, 0.73, 0.6166666666666667, 0.5033333333333333, 0.49, 0.7966666666666666, 0.31333333333333335, 0.8233333333333334, 0.69, 0.7466666666666667, 0.9766666666666667, 0.66, 0.7066666666666667, 0.65, 0.5, 0.6333333333333333, 0.8233333333333334, 0.7266666666666667, 0.6, 0.78, 0.64, 0.78, 0.8266666666666667, 0.5133333333333333, 0.5133333333333333, 0.88, 0.9866666666666667, 0.5166666666666667, 0.7066666666666667, 0.7633333333333333, 0.7066666666666667, 0.73, 0.8666666666666667, 0.82, 0.6666666666666666, 0.49333333333333335, 0.8633333333333333, 0.5266666666666666, 0.75, 0.6133333333333333, 0.99, 0.6833333333333333, 0.5866666666666667, 0.49, 0.68, 0.4866666666666667, 0.6566666666666666, 0.7366666666666667, 0.6533333333333333, 0.48333333333333334, 0.84, 0.6666666666666666, 0.7933333333333333, 0.64, 0.67, 0.7933333333333333, 0.56, 0.6433333333333333, 0.54, 0.51, 0.7766666666666666, 0.79, 0.7433333333333333, 0.7166666666666667, 0.6466666666666666, 0.47333333333333333, 0.7433333333333333, 0.6866666666666666, 0.79, 0.77, 0.6166666666666667, 0.7933333333333333, 0.3, 0.5466666666666666, 0.5566666666666666, 0.8633333333333333, 0.8066666666666666, 0.8566666666666667, 0.38333333333333336, 0.71, 0.5766666666666667, 0.66, 0.8166666666666667, 0.6066666666666667, 0.8033333333333333, 0.6366666666666667, 0.5166666666666667, 0.7166666666666667, 0.5366666666666666, 0.68, 0.9233333333333333, 0.6866666666666666, 0.43666666666666665, 0.7866666666666666, 0.8566666666666667, 0.83, 0.7733333333333333, 0.6533333333333333, 0.66, 0.5233333333333333, 0.8133333333333334, 0.69, 0.82, 0.5433333333333333, 0.51, 0.7266666666666667, 0.7733333333333333, 0.7966666666666666, 0.6533333333333333, 0.6366666666666667, 0.6033333333333334, 0.48333333333333334, 0.79, 0.6666666666666666, 0.7733333333333333, 0.5266666666666666, 0.6833333333333333, 0.6833333333333333, 0.7733333333333333, 0.7433333333333333, 0.7566666666666667, 0.7333333333333333, 0.7866666666666666, 0.48333333333333334, 0.94, 0.7233333333333334, 0.47333333333333333, 0.73, 0.7266666666666667, 0.9166666666666666, 0.7233333333333334, 0.6433333333333333, 0.49666666666666665, 0.5266666666666666, 0.6866666666666666, 0.83, 0.78, 0.9, 0.6566666666666666, 0.77, 0.62, 0.49, 0.4633333333333333, 0.7866666666666666, 0.7533333333333333, 0.43, 0.8166666666666667, 0.89, 0.7933333333333333, 0.7966666666666666, 0.7666666666666667, 0.7133333333333334, 0.7633333333333333, 0.6, 0.71, 0.7833333333333333, 0.63, 0.43333333333333335, 0.71, 0.4533333333333333, 0.84, 0.8, 0.54, 0.7733333333333333, 0.7333333333333333, 0.7733333333333333, 0.6833333333333333, 0.89, 0.49, 0.6366666666666667, 0.5266666666666666, 0.7633333333333333, 0.61, 0.6533333333333333, 0.68, 0.66, 0.6733333333333333, 0.8333333333333334, 0.7766666666666666, 0.6766666666666666, 0.6133333333333333, 0.7666666666666667, 0.8, 0.7733333333333333, 0.49666666666666665, 0.43333333333333335, 0.8866666666666667, 0.6133333333333333, 0.23333333333333334, 0.78, 0.49, 0.64, 0.39666666666666667, 0.57, 0.83, 0.9033333333333333, 0.65, 0.7166666666666667, 0.4766666666666667, 0.2966666666666667, 0.5, 0.57, 0.6566666666666666, 0.73, 0.6866666666666666, 0.73, 0.7566666666666667, 0.6, 0.8866666666666667, 0.7166666666666667, 0.79, 0.62, 0.5833333333333334, 0.7366666666666667, 0.5366666666666666, 0.6666666666666666, 0.6766666666666666, 0.6166666666666667, 0.59, 0.6066666666666667, 0.8633333333333333, 0.5966666666666667, 0.8233333333333334, 0.56, 0.31, 0.59, 0.5566666666666666, 0.6, 0.6266666666666667, 0.5533333333333333, 0.8066666666666666, 0.7733333333333333, 0.6266666666666667, 0.7333333333333333, 0.9166666666666666, 0.6733333333333333, 0.43333333333333335, 0.84, 0.9333333333333333, 0.77, 0.64, 0.83, 0.94, 0.77, 0.44, 0.41333333333333333, 0.7266666666666667, 0.69, 0.6733333333333333, 0.6333333333333333, 0.7266666666666667, 0.6633333333333333, 0.74, 0.7, 0.5566666666666666, 0.72, 0.44666666666666666, 0.6, 0.8966666666666666, 0.6466666666666666, 0.5766666666666667, 0.6, 0.4633333333333333, 0.5633333333333334, 0.9566666666666667, 0.5833333333333334, 0.68, 0.6433333333333333, 0.7966666666666666, 0.55, 0.8533333333333334, 0.7166666666666667, 0.8166666666666667, 0.6566666666666666, 0.6566666666666666, 0.6733333333333333, 0.7533333333333333, 0.71, 0.7133333333333334, 0.63, 0.5566666666666666, 0.8933333333333333, 0.5966666666666667, 0.5733333333333334, 0.7466666666666667, 0.38, 0.6366666666666667, 0.85, 0.6833333333333333, 0.59, 0.6166666666666667, 0.63, 0.6766666666666666, 0.5733333333333334, 0.52, 0.6833333333333333, 0.5033333333333333, 0.69, 0.7133333333333334, 0.59, 0.8633333333333333, 0.7566666666666667, 0.7966666666666666, 0.67, 0.7733333333333333, 0.78, 0.7266666666666667, 0.65, 0.8233333333333334, 0.45, 0.7533333333333333, 0.78, 0.9633333333333334, 0.72, 0.5733333333333334, 0.5866666666666667, 0.4666666666666667, 0.8566666666666667, 0.5166666666666667, 1.0, 0.6833333333333333, 0.5533333333333333, 0.51, 0.7233333333333334, 0.86, 0.65, 0.8733333333333333, 0.31666666666666665, 0.68, 0.8333333333333334, 0.8033333333333333, 0.86, 0.6866666666666666, 0.7933333333333333, 0.6233333333333333, 0.9033333333333333, 0.7666666666666667, 0.68, 0.7333333333333333, 0.63, 0.7133333333333334, 0.7066666666666667, 0.5566666666666666, 0.6566666666666666, 0.5233333333333333, 0.5166666666666667, 0.7166666666666667, 0.5466666666666666, 0.6966666666666667, 0.58, 0.81, 0.7533333333333333, 0.66, 0.8533333333333334, 0.8633333333333333, 0.62, 0.66, 0.5133333333333333, 0.71, 0.6766666666666666, 0.73, 0.7833333333333333, 0.91, 0.5933333333333334, 0.92, 0.51, 0.8133333333333334, 0.68, 0.56, 0.78, 0.8833333333333333, 0.7333333333333333, 0.5233333333333333, 0.5433333333333333, 0.59, 0.8933333333333333, 0.8266666666666667, 0.8233333333333334, 0.71, 0.74, 0.7466666666666667, 0.5733333333333334, 0.87, 0.6133333333333333, 0.5433333333333333, 0.5133333333333333, 0.6233333333333333, 0.59, 0.44, 0.39, 0.6866666666666666, 0.6933333333333334, 0.5133333333333333, 0.6033333333333334, 0.87, 0.7, 0.7733333333333333, 0.5633333333333334, 0.5966666666666667, 0.74, 0.9166666666666666, 0.7066666666666667, 0.8033333333333333, 0.79, 0.8866666666666667, 0.6433333333333333, 0.8033333333333333, 0.9633333333333334, 0.6766666666666666, 0.6433333333333333, 0.7333333333333333, 0.7333333333333333, 0.8833333333333333, 0.46, 0.6766666666666666, 0.46, 0.3466666666666667, 0.6866666666666666, 0.6466666666666666, 0.6433333333333333, 0.67, 0.76, 0.7033333333333334, 0.9266666666666666, 0.7433333333333333, 0.48333333333333334, 0.4533333333333333, 0.9733333333333334, 0.7, 0.5266666666666666, 0.6766666666666666, 0.72, 0.93, 0.57, 0.6, 0.7533333333333333, 0.49333333333333335, 0.5466666666666666, 0.87, 0.54, 0.6066666666666667, 0.9133333333333333, 0.7866666666666666, 0.7133333333333334, 0.76, 0.7433333333333333, 0.7233333333333334, 0.67, 0.5633333333333334, 0.61, 0.5966666666666667, 0.5633333333333334, 0.61, 0.6666666666666666, 0.7433333333333333, 0.97, 0.69, 0.23, 0.5166666666666667, 0.73, 0.76, 0.59, 0.29333333333333333, 0.78, 0.56, 0.8766666666666667, 0.6966666666666667, 0.8366666666666667, 0.5066666666666667, 0.6233333333333333, 0.62, 0.64, 0.61, 0.9166666666666666, 0.72, 0.8933333333333333, 0.6666666666666666, 0.4, 0.83, 0.8666666666666667, 0.6866666666666666, 0.5, 0.6033333333333334, 0.5366666666666666, 0.94, 0.6033333333333334, 0.9866666666666667, 0.6733333333333333, 0.5166666666666667, 0.5066666666666667, 0.5, 0.67, 0.68, 0.7366666666666667, 0.8266666666666667, 0.8266666666666667, 0.6966666666666667, 0.76, 0.8666666666666667, 0.7866666666666666, 0.7433333333333333, 0.48, 0.84, 0.7733333333333333, 0.7766666666666666, 0.65, 0.7566666666666667, 0.6466666666666666, 0.6466666666666666, 0.5266666666666666, 0.7633333333333333, 0.5333333333333333, 0.7466666666666667, 0.8966666666666666, 0.6966666666666667, 0.77, 0.6533333333333333, 0.6933333333333334, 0.6533333333333333, 0.5366666666666666, 0.8733333333333333, 0.7466666666666667, 0.6733333333333333, 0.65, 0.67, 0.6866666666666666, 0.5666666666666667, 0.69, 0.83, 0.6933333333333334, 0.7666666666666667, 0.7, 0.53, 0.7433333333333333, 0.7766666666666666, 0.7466666666666667, 0.6, 0.7566666666666667, 0.76, 0.78, 0.6133333333333333, 0.71, 0.6266666666666667, 0.57, 0.37666666666666665, 0.6533333333333333, 0.9766666666666667, 0.76, 0.76, 0.5166666666666667, 0.8866666666666667, 0.5166666666666667, 0.7566666666666667, 0.7366666666666667, 0.7566666666666667, 0.56, 0.8466666666666667, 0.8233333333333334, 0.67, 0.7133333333333334, 0.6366666666666667, 0.8066666666666666, 0.6533333333333333, 0.86, 0.6466666666666666, 0.62, 0.6633333333333333, 0.38666666666666666, 0.59, 0.85, 0.5366666666666666, 0.89, 0.8333333333333334, 0.99, 0.82, 0.68, 0.8566666666666667, 0.7433333333333333, 0.97, 0.7533333333333333, 0.8133333333333334, 0.68, 0.5766666666666667, 0.84, 0.4666666666666667, 0.43666666666666665, 0.7533333333333333, 0.7233333333333334, 0.5866666666666667, 0.83, 0.43, 0.75, 0.48, 0.9, 0.4866666666666667, 0.56, 0.61, 0.85, 0.64, 0.75, 0.5866666666666667, 0.75, 0.5, 0.8233333333333334, 0.68, 0.5233333333333333, 0.75, 0.7166666666666667, 0.67, 0.5633333333333334, 0.8566666666666667, 0.6933333333333334, 0.6833333333333333, 0.77, 0.84, 0.5533333333333333, 0.9033333333333333, 0.55, 0.7, 0.5866666666666667, 0.7433333333333333, 0.63, 0.5333333333333333, 0.8166666666666667, 0.6233333333333333, 0.6066666666666667, 0.7266666666666667, 0.7, 0.66, 0.7133333333333334, 0.5833333333333334, 0.49666666666666665, 0.74, 0.6366666666666667, 0.73, 0.6366666666666667, 0.54, 0.6933333333333334, 0.4066666666666667, 0.7766666666666666, 0.87, 0.53, 0.8366666666666667, 0.81, 0.5766666666666667, 0.8366666666666667, 0.42333333333333334, 0.76, 0.2966666666666667, 0.6466666666666666, 0.5933333333333334, 0.5666666666666667, 0.6533333333333333, 0.6966666666666667, 0.8333333333333334, 0.48333333333333334, 0.66, 0.7, 0.7833333333333333, 0.61, 0.5466666666666666, 0.6933333333333334, 0.7633333333333333, 0.92, 0.8466666666666667, 0.7566666666666667, 0.7666666666666667, 0.71, 0.42, 0.78, 0.5466666666666666, 0.3933333333333333, 0.47, 0.6166666666666667, 0.8233333333333334, 0.7833333333333333, 0.89, 0.56, 0.69, 0.6666666666666666, 0.8533333333333334, 0.89, 0.87, 0.5066666666666667, 0.8, 0.5266666666666666, 0.6233333333333333, 0.6466666666666666, 0.7, 0.7866666666666666, 0.5833333333333334, 0.5933333333333334, 0.83, 0.6066666666666667, 0.8266666666666667, 0.51, 0.66, 0.6466666666666666, 0.7866666666666666, 0.56, 0.72, 0.45666666666666667, 0.5766666666666667, 0.3433333333333333, 0.7566666666666667, 0.5633333333333334, 0.8633333333333333, 0.87, 0.56, 0.6633333333333333, 0.7466666666666667, 0.6833333333333333, 0.64, 0.8833333333333333, 0.7, 0.6033333333333334, 0.9666666666666667, 0.6933333333333334, 0.75, 0.49, 0.7733333333333333, 0.56, 0.8466666666666667, 0.39666666666666667, 0.74, 0.9366666666666666, 0.84, 0.5466666666666666, 0.48, 0.7466666666666667, 0.5033333333333333, 0.5466666666666666, 0.7266666666666667, 0.8133333333333334, 0.8733333333333333, 0.5533333333333333, 0.7, 0.8233333333333334, 0.5733333333333334, 0.7033333333333334, 0.7133333333333334, 0.6433333333333333, 0.7033333333333334, 0.6933333333333334, 0.48333333333333334, 0.52, 0.7266666666666667, 0.96, 0.6166666666666667, 0.6933333333333334, 0.4766666666666667, 0.8733333333333333, 0.8733333333333333, 0.6333333333333333, 0.79, 0.6333333333333333, 0.3466666666666667, 0.30666666666666664, 0.7333333333333333, 0.6133333333333333, 0.75, 0.86, 0.75, 0.41, 0.9766666666666667, 0.7833333333333333, 0.8066666666666666, 0.52, 0.8466666666666667, 0.7133333333333334, 0.68, 0.4666666666666667, 0.7833333333333333, 0.5966666666666667, 0.5833333333333334, 0.54, 0.68, 1.0, 0.5233333333333333, 0.7133333333333334, 0.9266666666666666, 0.6866666666666666, 0.44666666666666666, 0.68, 0.6133333333333333, 0.71, 0.66, 0.5733333333333334, 0.6566666666666666, 0.44333333333333336, 0.5166666666666667, 0.7033333333333334, 0.6033333333333334, 0.6833333333333333, 0.73, 0.9166666666666666, 0.6366666666666667, 0.59, 0.5733333333333334, 0.8366666666666667, 0.7133333333333334, 0.7, 0.8833333333333333, 0.7033333333333334, 0.6133333333333333, 0.6233333333333333, 0.5766666666666667, 0.8133333333333334, 0.5566666666666666, 0.5033333333333333, 0.6833333333333333, 0.7933333333333333, 0.7833333333333333, 0.7333333333333333, 0.5466666666666666, 0.6666666666666666, 0.6366666666666667, 0.84, 0.9733333333333334, 0.5566666666666666, 0.7566666666666667, 0.5933333333333334, 0.5166666666666667, 1.0, 0.72, 0.6233333333333333, 0.68, 0.66, 0.62, 0.7033333333333334, 0.7966666666666666, 0.9633333333333334, 0.73, 0.5433333333333333, 0.5833333333333334, 0.6133333333333333, 0.7433333333333333, 0.6066666666666667, 0.6166666666666667, 0.48, 0.9333333333333333, 0.18333333333333332, 0.79, 0.8333333333333334, 0.8533333333333334, 0.77, 0.54, 0.5, 0.7733333333333333, 0.44666666666666666, 0.7866666666666666, 0.8066666666666666, 0.75, 0.69, 0.6933333333333334, 0.6266666666666667, 0.94, 0.5733333333333334, 0.65, 0.7433333333333333, 0.83], \"y0\": \" \", \"yaxis\": \"y\"}],\n",
              "                        {\"boxmode\": \"group\", \"legend\": {\"tracegroupgap\": 0}, \"margin\": {\"t\": 60}, \"template\": {\"data\": {\"bar\": [{\"error_x\": {\"color\": \"#2a3f5f\"}, \"error_y\": {\"color\": \"#2a3f5f\"}, \"marker\": {\"line\": {\"color\": \"#E5ECF6\", \"width\": 0.5}}, \"type\": \"bar\"}], \"barpolar\": [{\"marker\": {\"line\": {\"color\": \"#E5ECF6\", \"width\": 0.5}}, \"type\": \"barpolar\"}], \"carpet\": [{\"aaxis\": {\"endlinecolor\": \"#2a3f5f\", \"gridcolor\": \"white\", \"linecolor\": \"white\", \"minorgridcolor\": \"white\", \"startlinecolor\": \"#2a3f5f\"}, \"baxis\": {\"endlinecolor\": \"#2a3f5f\", \"gridcolor\": \"white\", \"linecolor\": \"white\", \"minorgridcolor\": \"white\", \"startlinecolor\": \"#2a3f5f\"}, \"type\": \"carpet\"}], \"choropleth\": [{\"colorbar\": {\"outlinewidth\": 0, \"ticks\": \"\"}, \"type\": \"choropleth\"}], \"contour\": [{\"colorbar\": {\"outlinewidth\": 0, \"ticks\": \"\"}, \"colorscale\": [[0.0, \"#0d0887\"], [0.1111111111111111, \"#46039f\"], [0.2222222222222222, \"#7201a8\"], [0.3333333333333333, \"#9c179e\"], [0.4444444444444444, \"#bd3786\"], [0.5555555555555556, \"#d8576b\"], [0.6666666666666666, \"#ed7953\"], [0.7777777777777778, \"#fb9f3a\"], [0.8888888888888888, \"#fdca26\"], [1.0, \"#f0f921\"]], \"type\": \"contour\"}], \"contourcarpet\": [{\"colorbar\": {\"outlinewidth\": 0, \"ticks\": \"\"}, \"type\": \"contourcarpet\"}], \"heatmap\": [{\"colorbar\": {\"outlinewidth\": 0, \"ticks\": \"\"}, \"colorscale\": [[0.0, \"#0d0887\"], [0.1111111111111111, \"#46039f\"], [0.2222222222222222, \"#7201a8\"], [0.3333333333333333, \"#9c179e\"], [0.4444444444444444, \"#bd3786\"], [0.5555555555555556, \"#d8576b\"], [0.6666666666666666, \"#ed7953\"], [0.7777777777777778, \"#fb9f3a\"], [0.8888888888888888, \"#fdca26\"], [1.0, \"#f0f921\"]], \"type\": \"heatmap\"}], \"heatmapgl\": [{\"colorbar\": {\"outlinewidth\": 0, \"ticks\": \"\"}, \"colorscale\": [[0.0, \"#0d0887\"], [0.1111111111111111, \"#46039f\"], [0.2222222222222222, \"#7201a8\"], [0.3333333333333333, \"#9c179e\"], [0.4444444444444444, \"#bd3786\"], [0.5555555555555556, \"#d8576b\"], [0.6666666666666666, \"#ed7953\"], [0.7777777777777778, \"#fb9f3a\"], [0.8888888888888888, \"#fdca26\"], [1.0, \"#f0f921\"]], \"type\": \"heatmapgl\"}], \"histogram\": [{\"marker\": {\"colorbar\": {\"outlinewidth\": 0, \"ticks\": \"\"}}, \"type\": \"histogram\"}], \"histogram2d\": [{\"colorbar\": {\"outlinewidth\": 0, \"ticks\": \"\"}, \"colorscale\": [[0.0, \"#0d0887\"], [0.1111111111111111, \"#46039f\"], [0.2222222222222222, \"#7201a8\"], [0.3333333333333333, \"#9c179e\"], [0.4444444444444444, \"#bd3786\"], [0.5555555555555556, \"#d8576b\"], [0.6666666666666666, \"#ed7953\"], [0.7777777777777778, \"#fb9f3a\"], [0.8888888888888888, \"#fdca26\"], [1.0, \"#f0f921\"]], \"type\": \"histogram2d\"}], \"histogram2dcontour\": [{\"colorbar\": {\"outlinewidth\": 0, \"ticks\": \"\"}, \"colorscale\": [[0.0, \"#0d0887\"], [0.1111111111111111, \"#46039f\"], [0.2222222222222222, \"#7201a8\"], [0.3333333333333333, \"#9c179e\"], [0.4444444444444444, \"#bd3786\"], [0.5555555555555556, \"#d8576b\"], [0.6666666666666666, \"#ed7953\"], [0.7777777777777778, \"#fb9f3a\"], [0.8888888888888888, \"#fdca26\"], [1.0, \"#f0f921\"]], \"type\": \"histogram2dcontour\"}], \"mesh3d\": [{\"colorbar\": {\"outlinewidth\": 0, \"ticks\": \"\"}, \"type\": \"mesh3d\"}], \"parcoords\": [{\"line\": {\"colorbar\": {\"outlinewidth\": 0, \"ticks\": \"\"}}, \"type\": \"parcoords\"}], \"pie\": [{\"automargin\": true, \"type\": \"pie\"}], \"scatter\": [{\"marker\": {\"colorbar\": {\"outlinewidth\": 0, \"ticks\": \"\"}}, \"type\": \"scatter\"}], \"scatter3d\": [{\"line\": {\"colorbar\": {\"outlinewidth\": 0, \"ticks\": \"\"}}, \"marker\": {\"colorbar\": {\"outlinewidth\": 0, \"ticks\": \"\"}}, \"type\": \"scatter3d\"}], \"scattercarpet\": [{\"marker\": {\"colorbar\": {\"outlinewidth\": 0, \"ticks\": \"\"}}, \"type\": \"scattercarpet\"}], \"scattergeo\": [{\"marker\": {\"colorbar\": {\"outlinewidth\": 0, \"ticks\": \"\"}}, \"type\": \"scattergeo\"}], \"scattergl\": [{\"marker\": {\"colorbar\": {\"outlinewidth\": 0, \"ticks\": \"\"}}, \"type\": \"scattergl\"}], \"scattermapbox\": [{\"marker\": {\"colorbar\": {\"outlinewidth\": 0, \"ticks\": \"\"}}, \"type\": \"scattermapbox\"}], \"scatterpolar\": [{\"marker\": {\"colorbar\": {\"outlinewidth\": 0, \"ticks\": \"\"}}, \"type\": \"scatterpolar\"}], \"scatterpolargl\": [{\"marker\": {\"colorbar\": {\"outlinewidth\": 0, \"ticks\": \"\"}}, \"type\": \"scatterpolargl\"}], \"scatterternary\": [{\"marker\": {\"colorbar\": {\"outlinewidth\": 0, \"ticks\": \"\"}}, \"type\": \"scatterternary\"}], \"surface\": [{\"colorbar\": {\"outlinewidth\": 0, \"ticks\": \"\"}, \"colorscale\": [[0.0, \"#0d0887\"], [0.1111111111111111, \"#46039f\"], [0.2222222222222222, \"#7201a8\"], [0.3333333333333333, \"#9c179e\"], [0.4444444444444444, \"#bd3786\"], [0.5555555555555556, \"#d8576b\"], [0.6666666666666666, \"#ed7953\"], [0.7777777777777778, \"#fb9f3a\"], [0.8888888888888888, \"#fdca26\"], [1.0, \"#f0f921\"]], \"type\": \"surface\"}], \"table\": [{\"cells\": {\"fill\": {\"color\": \"#EBF0F8\"}, \"line\": {\"color\": \"white\"}}, \"header\": {\"fill\": {\"color\": \"#C8D4E3\"}, \"line\": {\"color\": \"white\"}}, \"type\": \"table\"}]}, \"layout\": {\"annotationdefaults\": {\"arrowcolor\": \"#2a3f5f\", \"arrowhead\": 0, \"arrowwidth\": 1}, \"coloraxis\": {\"colorbar\": {\"outlinewidth\": 0, \"ticks\": \"\"}}, \"colorscale\": {\"diverging\": [[0, \"#8e0152\"], [0.1, \"#c51b7d\"], [0.2, \"#de77ae\"], [0.3, \"#f1b6da\"], [0.4, \"#fde0ef\"], [0.5, \"#f7f7f7\"], [0.6, \"#e6f5d0\"], [0.7, \"#b8e186\"], [0.8, \"#7fbc41\"], [0.9, \"#4d9221\"], [1, \"#276419\"]], \"sequential\": [[0.0, \"#0d0887\"], [0.1111111111111111, \"#46039f\"], [0.2222222222222222, \"#7201a8\"], [0.3333333333333333, \"#9c179e\"], [0.4444444444444444, \"#bd3786\"], [0.5555555555555556, \"#d8576b\"], [0.6666666666666666, \"#ed7953\"], [0.7777777777777778, \"#fb9f3a\"], [0.8888888888888888, \"#fdca26\"], [1.0, \"#f0f921\"]], \"sequentialminus\": [[0.0, \"#0d0887\"], [0.1111111111111111, \"#46039f\"], [0.2222222222222222, \"#7201a8\"], [0.3333333333333333, \"#9c179e\"], [0.4444444444444444, \"#bd3786\"], [0.5555555555555556, \"#d8576b\"], [0.6666666666666666, \"#ed7953\"], [0.7777777777777778, \"#fb9f3a\"], [0.8888888888888888, \"#fdca26\"], [1.0, \"#f0f921\"]]}, \"colorway\": [\"#636efa\", \"#EF553B\", \"#00cc96\", \"#ab63fa\", \"#FFA15A\", \"#19d3f3\", \"#FF6692\", \"#B6E880\", \"#FF97FF\", \"#FECB52\"], \"font\": {\"color\": \"#2a3f5f\"}, \"geo\": {\"bgcolor\": \"white\", \"lakecolor\": \"white\", \"landcolor\": \"#E5ECF6\", \"showlakes\": true, \"showland\": true, \"subunitcolor\": \"white\"}, \"hoverlabel\": {\"align\": \"left\"}, \"hovermode\": \"closest\", \"mapbox\": {\"style\": \"light\"}, \"paper_bgcolor\": \"white\", \"plot_bgcolor\": \"#E5ECF6\", \"polar\": {\"angularaxis\": {\"gridcolor\": \"white\", \"linecolor\": \"white\", \"ticks\": \"\"}, \"bgcolor\": \"#E5ECF6\", \"radialaxis\": {\"gridcolor\": \"white\", \"linecolor\": \"white\", \"ticks\": \"\"}}, \"scene\": {\"xaxis\": {\"backgroundcolor\": \"#E5ECF6\", \"gridcolor\": \"white\", \"gridwidth\": 2, \"linecolor\": \"white\", \"showbackground\": true, \"ticks\": \"\", \"zerolinecolor\": \"white\"}, \"yaxis\": {\"backgroundcolor\": \"#E5ECF6\", \"gridcolor\": \"white\", \"gridwidth\": 2, \"linecolor\": \"white\", \"showbackground\": true, \"ticks\": \"\", \"zerolinecolor\": \"white\"}, \"zaxis\": {\"backgroundcolor\": \"#E5ECF6\", \"gridcolor\": \"white\", \"gridwidth\": 2, \"linecolor\": \"white\", \"showbackground\": true, \"ticks\": \"\", \"zerolinecolor\": \"white\"}}, \"shapedefaults\": {\"line\": {\"color\": \"#2a3f5f\"}}, \"ternary\": {\"aaxis\": {\"gridcolor\": \"white\", \"linecolor\": \"white\", \"ticks\": \"\"}, \"baxis\": {\"gridcolor\": \"white\", \"linecolor\": \"white\", \"ticks\": \"\"}, \"bgcolor\": \"#E5ECF6\", \"caxis\": {\"gridcolor\": \"white\", \"linecolor\": \"white\", \"ticks\": \"\"}}, \"title\": {\"x\": 0.05}, \"xaxis\": {\"automargin\": true, \"gridcolor\": \"white\", \"linecolor\": \"white\", \"ticks\": \"\", \"title\": {\"standoff\": 15}, \"zerolinecolor\": \"white\", \"zerolinewidth\": 2}, \"yaxis\": {\"automargin\": true, \"gridcolor\": \"white\", \"linecolor\": \"white\", \"ticks\": \"\", \"title\": {\"standoff\": 15}, \"zerolinecolor\": \"white\", \"zerolinewidth\": 2}}}, \"xaxis\": {\"anchor\": \"y\", \"domain\": [0.0, 1.0], \"title\": {\"text\": \"race/ethnicity\"}}, \"yaxis\": {\"anchor\": \"x\", \"domain\": [0.0, 1.0], \"title\": {\"text\": \"percent correct\"}}},\n",
              "                        {\"responsive\": true}\n",
              "                    ).then(function(){\n",
              "                            \n",
              "var gd = document.getElementById('0c4d8ff9-0f11-4104-bb7a-66080d07a512');\n",
              "var x = new MutationObserver(function (mutations, observer) {{\n",
              "        var display = window.getComputedStyle(gd).display;\n",
              "        if (!display || display === 'none') {{\n",
              "            console.log([gd, 'removed!']);\n",
              "            Plotly.purge(gd);\n",
              "            observer.disconnect();\n",
              "        }}\n",
              "}});\n",
              "\n",
              "// Listen for the removal of the full notebook cells\n",
              "var notebookContainer = gd.closest('#notebook-container');\n",
              "if (notebookContainer) {{\n",
              "    x.observe(notebookContainer, {childList: true});\n",
              "}}\n",
              "\n",
              "// Listen for the clearing of the current output cell\n",
              "var outputEl = gd.closest('.output');\n",
              "if (outputEl) {{\n",
              "    x.observe(outputEl, {childList: true});\n",
              "}}\n",
              "\n",
              "                        })\n",
              "                };\n",
              "                \n",
              "            </script>\n",
              "        </div>\n",
              "</body>\n",
              "</html>"
            ]
          },
          "metadata": {
            "tags": []
          }
        }
      ]
    },
    {
      "cell_type": "code",
      "metadata": {
        "id": "lpVNr3lPPva0"
      },
      "source": [
        "#Historgram of edcation percent correct and gender"
      ],
      "execution_count": null,
      "outputs": []
    },
    {
      "cell_type": "code",
      "metadata": {
        "colab": {
          "base_uri": "https://localhost:8080/",
          "height": 542
        },
        "id": "6vNQHEE1CWct",
        "outputId": "c5abbd63-ed9c-4763-db4d-ffa7e0c91350"
      },
      "source": [
        "px.histogram(dataset, x= \"parental level of education\", y = \"percent correct\" ,color = \"gender\")"
      ],
      "execution_count": null,
      "outputs": [
        {
          "output_type": "display_data",
          "data": {
            "text/html": [
              "<html>\n",
              "<head><meta charset=\"utf-8\" /></head>\n",
              "<body>\n",
              "    <div>\n",
              "            <script src=\"https://cdnjs.cloudflare.com/ajax/libs/mathjax/2.7.5/MathJax.js?config=TeX-AMS-MML_SVG\"></script><script type=\"text/javascript\">if (window.MathJax) {MathJax.Hub.Config({SVG: {font: \"STIX-Web\"}});}</script>\n",
              "                <script type=\"text/javascript\">window.PlotlyConfig = {MathJaxConfig: 'local'};</script>\n",
              "        <script src=\"https://cdn.plot.ly/plotly-latest.min.js\"></script>    \n",
              "            <div id=\"66f7a7dc-6e56-45a0-9730-5d6426230f9e\" class=\"plotly-graph-div\" style=\"height:525px; width:100%;\"></div>\n",
              "            <script type=\"text/javascript\">\n",
              "                \n",
              "                    window.PLOTLYENV=window.PLOTLYENV || {};\n",
              "                    \n",
              "                if (document.getElementById(\"66f7a7dc-6e56-45a0-9730-5d6426230f9e\")) {\n",
              "                    Plotly.newPlot(\n",
              "                        '66f7a7dc-6e56-45a0-9730-5d6426230f9e',\n",
              "                        [{\"alignmentgroup\": \"True\", \"bingroup\": \"x\", \"hoverlabel\": {\"namelength\": 0}, \"hovertemplate\": \"gender=female<br>parental level of education=%{x}<br>count of percent correct=%{y}\", \"legendgroup\": \"gender=female\", \"marker\": {\"color\": \"#636efa\"}, \"name\": \"gender=female\", \"offsetgroup\": \"gender=female\", \"orientation\": \"v\", \"showlegend\": true, \"type\": \"histogram\", \"x\": [\"bachelor's degree\", \"some college\", \"master's degree\", \"associate's degree\", \"some college\", \"high school\", \"high school\", \"master's degree\", \"some high school\", \"some high school\", \"associate's degree\", \"some college\", \"some high school\", \"bachelor's degree\", \"master's degree\", \"some college\", \"some college\", \"master's degree\", \"associate's degree\", \"some high school\", \"associate's degree\", \"associate's degree\", \"associate's degree\", \"associate's degree\", \"associate's degree\", \"high school\", \"associate's degree\", \"some high school\", \"high school\", \"associate's degree\", \"some high school\", \"associate's degree\", \"some high school\", \"some college\", \"associate's degree\", \"some college\", \"associate's degree\", \"some high school\", \"master's degree\", \"associate's degree\", \"some college\", \"some college\", \"associate's degree\", \"some college\", \"some high school\", \"bachelor's degree\", \"some college\", \"some college\", \"some college\", \"bachelor's degree\", \"associate's degree\", \"some college\", \"master's degree\", \"associate's degree\", \"some high school\", \"associate's degree\", \"some college\", \"bachelor's degree\", \"bachelor's degree\", \"bachelor's degree\", \"some high school\", \"some college\", \"bachelor's degree\", \"some college\", \"high school\", \"bachelor's degree\", \"some college\", \"associate's degree\", \"some high school\", \"some college\", \"some college\", \"some college\", \"bachelor's degree\", \"associate's degree\", \"some college\", \"high school\", \"associate's degree\", \"some college\", \"master's degree\", \"bachelor's degree\", \"master's degree\", \"high school\", \"some college\", \"some college\", \"associate's degree\", \"bachelor's degree\", \"master's degree\", \"high school\", \"associate's degree\", \"master's degree\", \"some high school\", \"some college\", \"high school\", \"associate's degree\", \"bachelor's degree\", \"associate's degree\", \"some high school\", \"master's degree\", \"some college\", \"bachelor's degree\", \"associate's degree\", \"some college\", \"associate's degree\", \"some college\", \"some college\", \"high school\", \"associate's degree\", \"high school\", \"high school\", \"some high school\", \"associate's degree\", \"master's degree\", \"some college\", \"some college\", \"bachelor's degree\", \"some high school\", \"bachelor's degree\", \"high school\", \"high school\", \"high school\", \"some college\", \"some high school\", \"some college\", \"associate's degree\", \"some college\", \"master's degree\", \"some high school\", \"some high school\", \"high school\", \"bachelor's degree\", \"high school\", \"associate's degree\", \"some college\", \"associate's degree\", \"some college\", \"some high school\", \"high school\", \"some high school\", \"bachelor's degree\", \"some college\", \"some high school\", \"some high school\", \"bachelor's degree\", \"associate's degree\", \"associate's degree\", \"associate's degree\", \"high school\", \"associate's degree\", \"associate's degree\", \"bachelor's degree\", \"master's degree\", \"associate's degree\", \"high school\", \"high school\", \"some college\", \"some high school\", \"high school\", \"some college\", \"some high school\", \"bachelor's degree\", \"some college\", \"some high school\", \"some high school\", \"high school\", \"high school\", \"high school\", \"bachelor's degree\", \"bachelor's degree\", \"some college\", \"associate's degree\", \"some college\", \"bachelor's degree\", \"some college\", \"some college\", \"high school\", \"some college\", \"some high school\", \"some high school\", \"some high school\", \"some college\", \"some college\", \"bachelor's degree\", \"some high school\", \"master's degree\", \"some high school\", \"associate's degree\", \"some high school\", \"some high school\", \"some college\", \"bachelor's degree\", \"associate's degree\", \"high school\", \"some college\", \"some high school\", \"high school\", \"associate's degree\", \"some high school\", \"some college\", \"high school\", \"high school\", \"some high school\", \"associate's degree\", \"high school\", \"master's degree\", \"bachelor's degree\", \"associate's degree\", \"high school\", \"master's degree\", \"some high school\", \"some college\", \"high school\", \"some high school\", \"some college\", \"high school\", \"some high school\", \"associate's degree\", \"some high school\", \"some college\", \"some college\", \"associate's degree\", \"associate's degree\", \"bachelor's degree\", \"bachelor's degree\", \"some college\", \"some college\", \"some college\", \"associate's degree\", \"high school\", \"associate's degree\", \"high school\", \"associate's degree\", \"some high school\", \"associate's degree\", \"bachelor's degree\", \"master's degree\", \"associate's degree\", \"associate's degree\", \"associate's degree\", \"associate's degree\", \"associate's degree\", \"some college\", \"bachelor's degree\", \"high school\", \"some college\", \"some college\", \"some high school\", \"master's degree\", \"associate's degree\", \"associate's degree\", \"master's degree\", \"some high school\", \"bachelor's degree\", \"some high school\", \"master's degree\", \"some high school\", \"some college\", \"some college\", \"some high school\", \"high school\", \"associate's degree\", \"high school\", \"bachelor's degree\", \"associate's degree\", \"associate's degree\", \"some high school\", \"associate's degree\", \"bachelor's degree\", \"high school\", \"associate's degree\", \"associate's degree\", \"master's degree\", \"some high school\", \"high school\", \"associate's degree\", \"some college\", \"associate's degree\", \"associate's degree\", \"some college\", \"some college\", \"some college\", \"bachelor's degree\", \"master's degree\", \"some college\", \"high school\", \"high school\", \"high school\", \"some college\", \"master's degree\", \"some high school\", \"some high school\", \"bachelor's degree\", \"associate's degree\", \"some college\", \"associate's degree\", \"high school\", \"bachelor's degree\", \"some college\", \"some high school\", \"high school\", \"bachelor's degree\", \"bachelor's degree\", \"high school\", \"some high school\", \"master's degree\", \"high school\", \"some college\", \"associate's degree\", \"master's degree\", \"some college\", \"associate's degree\", \"some college\", \"associate's degree\", \"associate's degree\", \"high school\", \"bachelor's degree\", \"high school\", \"bachelor's degree\", \"some high school\", \"bachelor's degree\", \"high school\", \"high school\", \"some high school\", \"associate's degree\", \"associate's degree\", \"some high school\", \"high school\", \"bachelor's degree\", \"associate's degree\", \"high school\", \"high school\", \"some college\", \"high school\", \"some college\", \"associate's degree\", \"some high school\", \"some college\", \"associate's degree\", \"some college\", \"high school\", \"some high school\", \"some college\", \"bachelor's degree\", \"high school\", \"some college\", \"associate's degree\", \"high school\", \"some college\", \"some college\", \"some high school\", \"high school\", \"some high school\", \"master's degree\", \"associate's degree\", \"associate's degree\", \"bachelor's degree\", \"associate's degree\", \"some high school\", \"some college\", \"associate's degree\", \"bachelor's degree\", \"associate's degree\", \"bachelor's degree\", \"some high school\", \"some college\", \"some high school\", \"associate's degree\", \"some high school\", \"some college\", \"some high school\", \"associate's degree\", \"associate's degree\", \"high school\", \"some college\", \"some high school\", \"associate's degree\", \"high school\", \"associate's degree\", \"some college\", \"some college\", \"some college\", \"associate's degree\", \"high school\", \"associate's degree\", \"bachelor's degree\", \"some high school\", \"associate's degree\", \"some college\", \"high school\", \"some high school\", \"high school\", \"high school\", \"high school\", \"some high school\", \"some high school\", \"bachelor's degree\", \"some high school\", \"high school\", \"some college\", \"some college\", \"associate's degree\", \"master's degree\", \"high school\", \"associate's degree\", \"some high school\", \"some high school\", \"some college\", \"master's degree\", \"high school\", \"some college\", \"high school\", \"associate's degree\", \"associate's degree\", \"associate's degree\", \"associate's degree\", \"some college\", \"some college\", \"some college\", \"high school\", \"master's degree\", \"high school\", \"bachelor's degree\", \"high school\", \"some high school\", \"some high school\", \"bachelor's degree\", \"high school\", \"some high school\", \"associate's degree\", \"some high school\", \"some high school\", \"some college\", \"bachelor's degree\", \"high school\", \"high school\", \"high school\", \"associate's degree\", \"high school\", \"high school\", \"some high school\", \"high school\", \"high school\", \"some college\", \"bachelor's degree\", \"bachelor's degree\", \"associate's degree\", \"master's degree\", \"some college\", \"some college\", \"bachelor's degree\", \"some high school\", \"associate's degree\", \"bachelor's degree\", \"high school\", \"associate's degree\", \"associate's degree\", \"associate's degree\", \"some college\", \"some college\", \"associate's degree\", \"master's degree\", \"associate's degree\", \"some high school\", \"some high school\", \"some high school\", \"master's degree\", \"high school\", \"bachelor's degree\", \"some high school\", \"some college\", \"bachelor's degree\", \"some college\", \"bachelor's degree\", \"bachelor's degree\", \"associate's degree\", \"some college\", \"high school\", \"associate's degree\", \"high school\", \"associate's degree\", \"high school\", \"some high school\", \"high school\", \"master's degree\", \"high school\", \"associate's degree\", \"some college\", \"high school\", \"some college\", \"some high school\", \"some college\", \"master's degree\", \"high school\", \"some college\", \"some high school\", \"associate's degree\", \"some high school\", \"some college\", \"associate's degree\", \"bachelor's degree\", \"bachelor's degree\", \"high school\", \"some college\", \"some college\", \"some college\", \"associate's degree\", \"high school\", \"some college\", \"some high school\", \"associate's degree\", \"some high school\", \"some college\", \"some high school\", \"associate's degree\", \"bachelor's degree\", \"master's degree\", \"high school\", \"some college\", \"some college\"], \"xaxis\": \"x\", \"y\": [0.7266666666666667, 0.8233333333333334, 0.9266666666666666, 0.7733333333333333, 0.9166666666666666, 0.49333333333333335, 0.73, 0.5366666666666666, 0.74, 0.26, 0.5766666666666667, 0.7, 0.7166666666666667, 0.7033333333333334, 0.69, 0.7233333333333334, 0.63, 0.6433333333333333, 0.7933333333333333, 0.5766666666666667, 0.8433333333333334, 0.6633333333333333, 0.5866666666666667, 0.5333333333333333, 0.6066666666666667, 0.71, 0.69, 0.8066666666666666, 0.39, 0.8433333333333334, 0.09, 0.7333333333333333, 0.5866666666666667, 0.6866666666666666, 0.5333333333333333, 0.6466666666666666, 0.4666666666666667, 0.69, 0.66, 0.4866666666666667, 0.7833333333333333, 0.8233333333333334, 0.72, 0.65, 0.8033333333333333, 0.7033333333333334, 0.8566666666666667, 0.6833333333333333, 0.6233333333333333, 0.6466666666666666, 0.8833333333333333, 0.6566666666666666, 0.9566666666666667, 0.66, 0.6866666666666666, 0.88, 0.5433333333333333, 0.9966666666666667, 0.8066666666666666, 0.7966666666666666, 0.5833333333333334, 0.63, 0.8666666666666667, 0.9133333333333333, 0.8933333333333333, 0.5033333333333333, 0.8, 0.64, 0.73, 0.6166666666666667, 0.5033333333333333, 0.31333333333333335, 0.7466666666666667, 0.65, 0.8233333333333334, 0.7266666666666667, 0.78, 0.8266666666666667, 0.88, 0.9866666666666667, 0.7066666666666667, 0.7633333333333333, 0.7066666666666667, 0.82, 0.6666666666666666, 0.49333333333333335, 0.8633333333333333, 0.5266666666666666, 0.75, 0.6133333333333333, 0.99, 0.5866666666666667, 0.49, 0.68, 0.84, 0.6666666666666666, 0.64, 0.7933333333333333, 0.51, 0.7766666666666666, 0.79, 0.7433333333333333, 0.6466666666666666, 0.77, 0.6166666666666667, 0.5466666666666666, 0.8566666666666667, 0.38333333333333336, 0.66, 0.6066666666666667, 0.6366666666666667, 0.5166666666666667, 0.7166666666666667, 0.9233333333333333, 0.7866666666666666, 0.66, 0.82, 0.5433333333333333, 0.6533333333333333, 0.6366666666666667, 0.79, 0.6666666666666666, 0.6833333333333333, 0.6833333333333333, 0.7433333333333333, 0.7566666666666667, 0.7333333333333333, 0.48333333333333334, 0.94, 0.73, 0.7266666666666667, 0.9166666666666666, 0.7233333333333334, 0.5266666666666666, 0.6866666666666666, 0.9, 0.6566666666666666, 0.77, 0.7866666666666666, 0.7533333333333333, 0.43, 0.7933333333333333, 0.71, 0.7733333333333333, 0.7733333333333333, 0.6366666666666667, 0.5266666666666666, 0.7633333333333333, 0.68, 0.66, 0.8333333333333334, 0.6133333333333333, 0.7666666666666667, 0.8, 0.7733333333333333, 0.49666666666666665, 0.43333333333333335, 0.8866666666666667, 0.49, 0.9033333333333333, 0.65, 0.2966666666666667, 0.5, 0.6566666666666666, 0.73, 0.7566666666666667, 0.8866666666666667, 0.62, 0.7366666666666667, 0.5366666666666666, 0.6666666666666666, 0.6766666666666666, 0.59, 0.8633333333333333, 0.5966666666666667, 0.56, 0.31, 0.5533333333333333, 0.8066666666666666, 0.6266666666666667, 0.9166666666666666, 0.6733333333333333, 0.84, 0.9333333333333333, 0.77, 0.83, 0.44, 0.41333333333333333, 0.7266666666666667, 0.69, 0.6733333333333333, 0.6333333333333333, 0.74, 0.72, 0.6, 0.8966666666666666, 0.6, 0.5633333333333334, 0.9566666666666667, 0.5833333333333334, 0.68, 0.7966666666666666, 0.55, 0.7166666666666667, 0.6733333333333333, 0.8933333333333333, 0.5966666666666667, 0.5733333333333334, 0.7466666666666667, 0.6366666666666667, 0.6766666666666666, 0.52, 0.7566666666666667, 0.7966666666666666, 0.67, 0.7733333333333333, 0.7266666666666667, 0.78, 0.9633333333333334, 0.72, 0.5866666666666667, 0.8566666666666667, 1.0, 0.7233333333333334, 0.86, 0.8733333333333333, 0.31666666666666665, 0.8333333333333334, 0.86, 0.6866666666666666, 0.7933333333333333, 0.6233333333333333, 0.9033333333333333, 0.7666666666666667, 0.63, 0.5566666666666666, 0.5166666666666667, 0.6966666666666667, 0.7533333333333333, 0.66, 0.8533333333333334, 0.8633333333333333, 0.62, 0.5133333333333333, 0.71, 0.6766666666666666, 0.7833333333333333, 0.91, 0.92, 0.51, 0.8133333333333334, 0.8833333333333333, 0.59, 0.8933333333333333, 0.8266666666666667, 0.8233333333333334, 0.71, 0.74, 0.7466666666666667, 0.87, 0.44, 0.39, 0.6866666666666666, 0.6933333333333334, 0.5133333333333333, 0.87, 0.7733333333333333, 0.5966666666666667, 0.79, 0.8866666666666667, 0.6433333333333333, 0.9633333333333334, 0.6433333333333333, 0.46, 0.3466666666666667, 0.6866666666666666, 0.6433333333333333, 0.76, 0.7033333333333334, 0.7433333333333333, 0.9733333333333334, 0.7, 0.57, 0.6, 0.7533333333333333, 0.87, 0.54, 0.6066666666666667, 0.9133333333333333, 0.7866666666666666, 0.7133333333333334, 0.76, 0.7433333333333333, 0.7233333333333334, 0.67, 0.5633333333333334, 0.61, 0.5966666666666667, 0.7433333333333333, 0.97, 0.69, 0.73, 0.76, 0.59, 0.29333333333333333, 0.78, 0.8366666666666667, 0.5066666666666667, 0.6233333333333333, 0.62, 0.61, 0.72, 0.8933333333333333, 0.6666666666666666, 0.4, 0.5, 0.6033333333333334, 0.5, 0.7366666666666667, 0.8266666666666667, 0.76, 0.8666666666666667, 0.7433333333333333, 0.84, 0.7733333333333333, 0.7766666666666666, 0.7566666666666667, 0.6466666666666666, 0.6466666666666666, 0.5266666666666666, 0.7633333333333333, 0.7466666666666667, 0.8966666666666666, 0.6966666666666667, 0.77, 0.6533333333333333, 0.5366666666666666, 0.65, 0.67, 0.5666666666666667, 0.69, 0.83, 0.7, 0.7433333333333333, 0.7766666666666666, 0.7466666666666667, 0.6, 0.7566666666666667, 0.76, 0.71, 0.37666666666666665, 0.9766666666666667, 0.5166666666666667, 0.7566666666666667, 0.7366666666666667, 0.7566666666666667, 0.56, 0.8466666666666667, 0.8233333333333334, 0.67, 0.7133333333333334, 0.8066666666666666, 0.6533333333333333, 0.6466666666666666, 0.62, 0.5366666666666666, 0.8333333333333334, 0.99, 0.68, 0.8566666666666667, 0.97, 0.7533333333333333, 0.68, 0.84, 0.7233333333333334, 0.83, 0.75, 0.9, 0.56, 0.64, 0.5, 0.8233333333333334, 0.68, 0.5633333333333334, 0.84, 0.9033333333333333, 0.5866666666666667, 0.63, 0.5333333333333333, 0.6233333333333333, 0.7266666666666667, 0.7, 0.7133333333333334, 0.6366666666666667, 0.73, 0.54, 0.6933333333333334, 0.4066666666666667, 0.7766666666666666, 0.53, 0.8366666666666667, 0.81, 0.5766666666666667, 0.42333333333333334, 0.76, 0.2966666666666667, 0.5933333333333334, 0.5666666666666667, 0.6533333333333333, 0.48333333333333334, 0.66, 0.7833333333333333, 0.5466666666666666, 0.92, 0.8466666666666667, 0.7566666666666667, 0.71, 0.42, 0.6166666666666667, 0.7833333333333333, 0.56, 0.6666666666666666, 0.8533333333333334, 0.89, 0.87, 0.8, 0.5266666666666666, 0.6466666666666666, 0.7, 0.7866666666666666, 0.5933333333333334, 0.83, 0.8266666666666667, 0.66, 0.7866666666666666, 0.72, 0.45666666666666667, 0.3433333333333333, 0.5633333333333334, 0.6633333333333333, 0.64, 0.8833333333333333, 0.9666666666666667, 0.75, 0.56, 0.8466666666666667, 0.74, 0.7266666666666667, 0.5533333333333333, 0.7033333333333334, 0.7133333333333334, 0.7033333333333334, 0.6933333333333334, 0.52, 0.7266666666666667, 0.96, 0.6933333333333334, 0.8733333333333333, 0.8733333333333333, 0.6333333333333333, 0.6333333333333333, 0.3466666666666667, 0.7333333333333333, 0.75, 0.75, 0.41, 0.9766666666666667, 0.7833333333333333, 0.8466666666666667, 0.7133333333333334, 0.7833333333333333, 0.5966666666666667, 0.5833333333333334, 0.54, 0.68, 0.5233333333333333, 0.7133333333333334, 0.44666666666666666, 0.6133333333333333, 0.6566666666666666, 0.5166666666666667, 0.5733333333333334, 0.8833333333333333, 0.6233333333333333, 0.5766666666666667, 0.5566666666666666, 0.6833333333333333, 0.7833333333333333, 0.7333333333333333, 0.6666666666666666, 0.9733333333333334, 0.5566666666666666, 0.5933333333333334, 0.5166666666666667, 1.0, 0.72, 0.68, 0.7033333333333334, 0.7966666666666666, 0.9633333333333334, 0.5433333333333333, 0.5833333333333334, 0.6133333333333333, 0.7433333333333333, 0.9333333333333333, 0.18333333333333332, 0.8533333333333334, 0.77, 0.5, 0.44666666666666666, 0.7866666666666666, 0.75, 0.69, 0.6933333333333334, 0.94, 0.65, 0.7433333333333333, 0.83], \"yaxis\": \"y\"}, {\"alignmentgroup\": \"True\", \"bingroup\": \"x\", \"hoverlabel\": {\"namelength\": 0}, \"hovertemplate\": \"gender=male<br>parental level of education=%{x}<br>count of percent correct=%{y}\", \"legendgroup\": \"gender=male\", \"marker\": {\"color\": \"#EF553B\"}, \"name\": \"gender=male\", \"offsetgroup\": \"gender=male\", \"orientation\": \"v\", \"showlegend\": true, \"type\": \"histogram\", \"x\": [\"associate's degree\", \"some college\", \"some college\", \"high school\", \"associate's degree\", \"associate's degree\", \"some college\", \"high school\", \"master's degree\", \"high school\", \"some college\", \"bachelor's degree\", \"master's degree\", \"some college\", \"high school\", \"some college\", \"some college\", \"associate's degree\", \"associate's degree\", \"associate's degree\", \"some college\", \"associate's degree\", \"high school\", \"some college\", \"associate's degree\", \"some college\", \"high school\", \"associate's degree\", \"some college\", \"bachelor's degree\", \"some high school\", \"associate's degree\", \"some high school\", \"some high school\", \"associate's degree\", \"some college\", \"some high school\", \"some high school\", \"associate's degree\", \"some high school\", \"bachelor's degree\", \"high school\", \"some college\", \"associate's degree\", \"high school\", \"high school\", \"high school\", \"associate's degree\", \"associate's degree\", \"some high school\", \"some college\", \"bachelor's degree\", \"high school\", \"some college\", \"associate's degree\", \"high school\", \"associate's degree\", \"high school\", \"associate's degree\", \"high school\", \"some college\", \"some high school\", \"some college\", \"master's degree\", \"master's degree\", \"some high school\", \"some college\", \"bachelor's degree\", \"bachelor's degree\", \"some high school\", \"high school\", \"some college\", \"high school\", \"some college\", \"some high school\", \"associate's degree\", \"associate's degree\", \"some high school\", \"bachelor's degree\", \"bachelor's degree\", \"some high school\", \"some college\", \"associate's degree\", \"associate's degree\", \"master's degree\", \"high school\", \"high school\", \"high school\", \"some high school\", \"master's degree\", \"some high school\", \"associate's degree\", \"high school\", \"some high school\", \"some high school\", \"some college\", \"some college\", \"associate's degree\", \"some high school\", \"high school\", \"associate's degree\", \"some college\", \"some high school\", \"bachelor's degree\", \"high school\", \"some high school\", \"some college\", \"associate's degree\", \"high school\", \"some high school\", \"high school\", \"some high school\", \"associate's degree\", \"some high school\", \"high school\", \"some high school\", \"some college\", \"associate's degree\", \"some high school\", \"bachelor's degree\", \"associate's degree\", \"bachelor's degree\", \"some college\", \"associate's degree\", \"high school\", \"some college\", \"some high school\", \"associate's degree\", \"associate's degree\", \"high school\", \"some high school\", \"master's degree\", \"high school\", \"associate's degree\", \"some college\", \"high school\", \"some high school\", \"bachelor's degree\", \"some college\", \"some college\", \"bachelor's degree\", \"bachelor's degree\", \"high school\", \"high school\", \"associate's degree\", \"associate's degree\", \"bachelor's degree\", \"some high school\", \"associate's degree\", \"some high school\", \"some high school\", \"high school\", \"associate's degree\", \"some high school\", \"associate's degree\", \"high school\", \"associate's degree\", \"some college\", \"some high school\", \"associate's degree\", \"some college\", \"some college\", \"some high school\", \"bachelor's degree\", \"bachelor's degree\", \"high school\", \"associate's degree\", \"bachelor's degree\", \"some college\", \"some college\", \"associate's degree\", \"high school\", \"associate's degree\", \"associate's degree\", \"associate's degree\", \"some high school\", \"associate's degree\", \"high school\", \"associate's degree\", \"some college\", \"some college\", \"high school\", \"associate's degree\", \"some college\", \"associate's degree\", \"some college\", \"some high school\", \"some college\", \"bachelor's degree\", \"high school\", \"bachelor's degree\", \"some college\", \"some high school\", \"associate's degree\", \"bachelor's degree\", \"associate's degree\", \"master's degree\", \"master's degree\", \"some high school\", \"some college\", \"associate's degree\", \"high school\", \"some high school\", \"some high school\", \"some college\", \"associate's degree\", \"associate's degree\", \"some college\", \"associate's degree\", \"some high school\", \"high school\", \"bachelor's degree\", \"associate's degree\", \"some college\", \"high school\", \"some college\", \"bachelor's degree\", \"some high school\", \"some high school\", \"some high school\", \"associate's degree\", \"high school\", \"some high school\", \"some college\", \"associate's degree\", \"associate's degree\", \"high school\", \"some high school\", \"some high school\", \"some college\", \"high school\", \"high school\", \"associate's degree\", \"some college\", \"bachelor's degree\", \"associate's degree\", \"high school\", \"bachelor's degree\", \"some college\", \"bachelor's degree\", \"high school\", \"some college\", \"bachelor's degree\", \"associate's degree\", \"associate's degree\", \"high school\", \"some college\", \"high school\", \"high school\", \"some college\", \"some high school\", \"associate's degree\", \"high school\", \"some college\", \"some college\", \"high school\", \"bachelor's degree\", \"master's degree\", \"some college\", \"some high school\", \"some high school\", \"some college\", \"bachelor's degree\", \"master's degree\", \"high school\", \"some college\", \"some high school\", \"associate's degree\", \"high school\", \"associate's degree\", \"bachelor's degree\", \"associate's degree\", \"high school\", \"associate's degree\", \"some high school\", \"high school\", \"master's degree\", \"some high school\", \"bachelor's degree\", \"some college\", \"associate's degree\", \"master's degree\", \"some high school\", \"bachelor's degree\", \"bachelor's degree\", \"associate's degree\", \"high school\", \"bachelor's degree\", \"some college\", \"bachelor's degree\", \"associate's degree\", \"some college\", \"some college\", \"some high school\", \"bachelor's degree\", \"high school\", \"some high school\", \"high school\", \"master's degree\", \"some high school\", \"some college\", \"bachelor's degree\", \"bachelor's degree\", \"master's degree\", \"associate's degree\", \"bachelor's degree\", \"high school\", \"some college\", \"some college\", \"associate's degree\", \"associate's degree\", \"some college\", \"some college\", \"high school\", \"some high school\", \"high school\", \"some college\", \"high school\", \"high school\", \"some high school\", \"associate's degree\", \"some high school\", \"associate's degree\", \"some college\", \"some high school\", \"associate's degree\", \"some college\", \"associate's degree\", \"associate's degree\", \"associate's degree\", \"some college\", \"high school\", \"high school\", \"some college\", \"some college\", \"associate's degree\", \"high school\", \"some college\", \"high school\", \"bachelor's degree\", \"bachelor's degree\", \"high school\", \"some college\", \"high school\", \"some college\", \"master's degree\", \"associate's degree\", \"associate's degree\", \"some high school\", \"high school\", \"some college\", \"some college\", \"some high school\", \"some college\", \"some high school\", \"some high school\", \"master's degree\", \"associate's degree\", \"associate's degree\", \"high school\", \"bachelor's degree\", \"some college\", \"associate's degree\", \"high school\", \"some college\", \"some college\", \"some high school\", \"some college\", \"master's degree\", \"associate's degree\", \"some college\", \"bachelor's degree\", \"some college\", \"some high school\", \"some college\", \"high school\", \"some college\", \"high school\", \"bachelor's degree\", \"some college\", \"associate's degree\", \"bachelor's degree\", \"associate's degree\", \"high school\", \"some high school\", \"high school\", \"some college\", \"some high school\", \"some high school\", \"some college\", \"high school\", \"bachelor's degree\", \"some high school\", \"high school\", \"some high school\", \"some high school\", \"bachelor's degree\", \"some college\", \"high school\", \"some high school\", \"bachelor's degree\", \"some college\", \"high school\", \"associate's degree\", \"some high school\", \"some college\", \"master's degree\", \"master's degree\", \"high school\", \"associate's degree\", \"master's degree\", \"some high school\", \"some high school\", \"some college\", \"high school\", \"associate's degree\", \"bachelor's degree\", \"associate's degree\", \"some college\", \"high school\", \"associate's degree\", \"associate's degree\", \"associate's degree\", \"high school\", \"associate's degree\", \"associate's degree\", \"some college\", \"some college\", \"some high school\", \"bachelor's degree\", \"bachelor's degree\", \"high school\", \"high school\", \"some high school\", \"high school\", \"associate's degree\", \"master's degree\", \"some college\", \"high school\", \"bachelor's degree\", \"bachelor's degree\", \"bachelor's degree\", \"some college\", \"high school\", \"high school\", \"high school\", \"some high school\", \"associate's degree\", \"associate's degree\", \"some college\", \"some college\", \"associate's degree\", \"bachelor's degree\", \"associate's degree\", \"some college\", \"associate's degree\", \"some college\", \"some high school\", \"master's degree\", \"high school\", \"some high school\", \"high school\", \"some high school\", \"high school\", \"high school\", \"associate's degree\", \"some college\", \"high school\", \"some college\", \"some high school\", \"some college\", \"some high school\", \"some college\", \"associate's degree\", \"high school\", \"some high school\", \"some high school\", \"high school\", \"some high school\", \"high school\", \"high school\", \"high school\"], \"xaxis\": \"x\", \"y\": [0.49333333333333335, 0.7633333333333333, 0.4066666666666667, 0.65, 0.5466666666666666, 0.45, 0.7333333333333333, 0.8766666666666667, 0.44666666666666666, 0.66, 0.5033333333333333, 0.75, 0.73, 0.5933333333333334, 0.6833333333333333, 0.4, 0.8866666666666667, 0.8033333333333333, 0.5666666666666667, 0.5666666666666667, 0.6333333333333333, 0.5866666666666667, 0.8266666666666667, 0.52, 0.7133333333333334, 0.4633333333333333, 0.8033333333333333, 0.52, 0.5833333333333334, 0.75, 0.37333333333333335, 0.5933333333333334, 0.64, 0.39666666666666667, 0.5833333333333334, 0.6033333333333334, 0.58, 0.4633333333333333, 0.41, 0.26, 0.7966666666666666, 0.4633333333333333, 0.5033333333333333, 0.6633333333333333, 0.38333333333333336, 0.3233333333333333, 0.7366666666666667, 0.46, 0.8033333333333333, 0.6433333333333333, 0.71, 0.72, 0.5033333333333333, 0.9133333333333333, 0.6433333333333333, 0.5533333333333333, 0.5133333333333333, 0.7833333333333333, 0.9066666666666666, 0.5866666666666667, 0.7866666666666666, 0.69, 0.72, 0.7933333333333333, 0.85, 0.43333333333333335, 0.77, 0.76, 0.5366666666666666, 0.4866666666666667, 0.6033333333333334, 0.67, 0.49, 0.7966666666666666, 0.8233333333333334, 0.69, 0.9766666666666667, 0.66, 0.7066666666666667, 0.5, 0.6333333333333333, 0.6, 0.64, 0.78, 0.5133333333333333, 0.5133333333333333, 0.5166666666666667, 0.73, 0.8666666666666667, 0.6833333333333333, 0.4866666666666667, 0.6566666666666666, 0.7366666666666667, 0.6533333333333333, 0.48333333333333334, 0.7933333333333333, 0.67, 0.56, 0.6433333333333333, 0.54, 0.7166666666666667, 0.47333333333333333, 0.7433333333333333, 0.6866666666666666, 0.79, 0.7933333333333333, 0.3, 0.5566666666666666, 0.8633333333333333, 0.8066666666666666, 0.71, 0.5766666666666667, 0.8166666666666667, 0.8033333333333333, 0.5366666666666666, 0.68, 0.6866666666666666, 0.43666666666666665, 0.8566666666666667, 0.83, 0.7733333333333333, 0.6533333333333333, 0.5233333333333333, 0.8133333333333334, 0.69, 0.51, 0.7266666666666667, 0.7733333333333333, 0.7966666666666666, 0.6033333333333334, 0.48333333333333334, 0.7733333333333333, 0.5266666666666666, 0.7733333333333333, 0.7866666666666666, 0.7233333333333334, 0.47333333333333333, 0.6433333333333333, 0.49666666666666665, 0.83, 0.78, 0.62, 0.49, 0.4633333333333333, 0.8166666666666667, 0.89, 0.7966666666666666, 0.7666666666666667, 0.7133333333333334, 0.7633333333333333, 0.6, 0.7833333333333333, 0.63, 0.43333333333333335, 0.71, 0.4533333333333333, 0.84, 0.8, 0.54, 0.7333333333333333, 0.6833333333333333, 0.89, 0.49, 0.61, 0.6533333333333333, 0.6733333333333333, 0.7766666666666666, 0.6766666666666666, 0.6133333333333333, 0.23333333333333334, 0.78, 0.64, 0.39666666666666667, 0.57, 0.83, 0.7166666666666667, 0.4766666666666667, 0.57, 0.6866666666666666, 0.73, 0.6, 0.7166666666666667, 0.79, 0.5833333333333334, 0.6166666666666667, 0.6066666666666667, 0.8233333333333334, 0.59, 0.5566666666666666, 0.6, 0.6266666666666667, 0.7733333333333333, 0.7333333333333333, 0.43333333333333335, 0.64, 0.94, 0.77, 0.7266666666666667, 0.6633333333333333, 0.7, 0.5566666666666666, 0.44666666666666666, 0.6466666666666666, 0.5766666666666667, 0.4633333333333333, 0.6433333333333333, 0.8533333333333334, 0.8166666666666667, 0.6566666666666666, 0.6566666666666666, 0.7533333333333333, 0.71, 0.7133333333333334, 0.63, 0.5566666666666666, 0.38, 0.85, 0.6833333333333333, 0.59, 0.6166666666666667, 0.63, 0.5733333333333334, 0.6833333333333333, 0.5033333333333333, 0.69, 0.7133333333333334, 0.59, 0.8633333333333333, 0.78, 0.65, 0.8233333333333334, 0.45, 0.7533333333333333, 0.5733333333333334, 0.4666666666666667, 0.5166666666666667, 0.6833333333333333, 0.5533333333333333, 0.51, 0.65, 0.68, 0.8033333333333333, 0.68, 0.7333333333333333, 0.7133333333333334, 0.7066666666666667, 0.6566666666666666, 0.5233333333333333, 0.7166666666666667, 0.5466666666666666, 0.58, 0.81, 0.66, 0.73, 0.5933333333333334, 0.68, 0.56, 0.78, 0.7333333333333333, 0.5233333333333333, 0.5433333333333333, 0.5733333333333334, 0.6133333333333333, 0.5433333333333333, 0.5133333333333333, 0.6233333333333333, 0.59, 0.6033333333333334, 0.7, 0.5633333333333334, 0.74, 0.9166666666666666, 0.7066666666666667, 0.8033333333333333, 0.8033333333333333, 0.6766666666666666, 0.7333333333333333, 0.7333333333333333, 0.8833333333333333, 0.6766666666666666, 0.46, 0.6466666666666666, 0.67, 0.9266666666666666, 0.48333333333333334, 0.4533333333333333, 0.5266666666666666, 0.6766666666666666, 0.72, 0.93, 0.49333333333333335, 0.5466666666666666, 0.5633333333333334, 0.61, 0.6666666666666666, 0.23, 0.5166666666666667, 0.56, 0.8766666666666667, 0.6966666666666667, 0.64, 0.9166666666666666, 0.83, 0.8666666666666667, 0.6866666666666666, 0.6033333333333334, 0.5366666666666666, 0.94, 0.9866666666666667, 0.6733333333333333, 0.5166666666666667, 0.5066666666666667, 0.67, 0.68, 0.8266666666666667, 0.6966666666666667, 0.7866666666666666, 0.48, 0.65, 0.5333333333333333, 0.6933333333333334, 0.6533333333333333, 0.8733333333333333, 0.7466666666666667, 0.6733333333333333, 0.6866666666666666, 0.6933333333333334, 0.7666666666666667, 0.53, 0.78, 0.6133333333333333, 0.6266666666666667, 0.57, 0.6533333333333333, 0.76, 0.76, 0.5166666666666667, 0.8866666666666667, 0.6366666666666667, 0.86, 0.6633333333333333, 0.38666666666666666, 0.59, 0.85, 0.89, 0.82, 0.7433333333333333, 0.8133333333333334, 0.5766666666666667, 0.4666666666666667, 0.43666666666666665, 0.7533333333333333, 0.5866666666666667, 0.43, 0.48, 0.4866666666666667, 0.61, 0.85, 0.75, 0.5866666666666667, 0.75, 0.5233333333333333, 0.75, 0.7166666666666667, 0.67, 0.8566666666666667, 0.6933333333333334, 0.6833333333333333, 0.77, 0.5533333333333333, 0.55, 0.7, 0.7433333333333333, 0.8166666666666667, 0.6066666666666667, 0.66, 0.5833333333333334, 0.49666666666666665, 0.74, 0.6366666666666667, 0.87, 0.8366666666666667, 0.6466666666666666, 0.6966666666666667, 0.8333333333333334, 0.7, 0.61, 0.6933333333333334, 0.7633333333333333, 0.7666666666666667, 0.78, 0.5466666666666666, 0.3933333333333333, 0.47, 0.8233333333333334, 0.89, 0.69, 0.5066666666666667, 0.6233333333333333, 0.5833333333333334, 0.6066666666666667, 0.51, 0.6466666666666666, 0.56, 0.5766666666666667, 0.7566666666666667, 0.8633333333333333, 0.87, 0.56, 0.7466666666666667, 0.6833333333333333, 0.7, 0.6033333333333334, 0.6933333333333334, 0.49, 0.7733333333333333, 0.39666666666666667, 0.9366666666666666, 0.84, 0.5466666666666666, 0.48, 0.7466666666666667, 0.5033333333333333, 0.5466666666666666, 0.8133333333333334, 0.8733333333333333, 0.7, 0.8233333333333334, 0.5733333333333334, 0.6433333333333333, 0.48333333333333334, 0.6166666666666667, 0.4766666666666667, 0.79, 0.30666666666666664, 0.6133333333333333, 0.86, 0.8066666666666666, 0.52, 0.68, 0.4666666666666667, 1.0, 0.9266666666666666, 0.6866666666666666, 0.68, 0.71, 0.66, 0.5733333333333334, 0.44333333333333336, 0.7033333333333334, 0.6033333333333334, 0.6833333333333333, 0.73, 0.9166666666666666, 0.6366666666666667, 0.59, 0.8366666666666667, 0.7133333333333334, 0.7, 0.7033333333333334, 0.6133333333333333, 0.8133333333333334, 0.5033333333333333, 0.7933333333333333, 0.5466666666666666, 0.6366666666666667, 0.84, 0.7566666666666667, 0.6233333333333333, 0.66, 0.62, 0.73, 0.6066666666666667, 0.6166666666666667, 0.48, 0.79, 0.8333333333333334, 0.54, 0.7733333333333333, 0.8066666666666666, 0.6266666666666667, 0.5733333333333334], \"yaxis\": \"y\"}],\n",
              "                        {\"barmode\": \"relative\", \"legend\": {\"tracegroupgap\": 0}, \"margin\": {\"t\": 60}, \"template\": {\"data\": {\"bar\": [{\"error_x\": {\"color\": \"#2a3f5f\"}, \"error_y\": {\"color\": \"#2a3f5f\"}, \"marker\": {\"line\": {\"color\": \"#E5ECF6\", \"width\": 0.5}}, \"type\": \"bar\"}], \"barpolar\": [{\"marker\": {\"line\": {\"color\": \"#E5ECF6\", \"width\": 0.5}}, \"type\": \"barpolar\"}], \"carpet\": [{\"aaxis\": {\"endlinecolor\": \"#2a3f5f\", \"gridcolor\": \"white\", \"linecolor\": \"white\", \"minorgridcolor\": \"white\", \"startlinecolor\": \"#2a3f5f\"}, \"baxis\": {\"endlinecolor\": \"#2a3f5f\", \"gridcolor\": \"white\", \"linecolor\": \"white\", \"minorgridcolor\": \"white\", \"startlinecolor\": \"#2a3f5f\"}, \"type\": \"carpet\"}], \"choropleth\": [{\"colorbar\": {\"outlinewidth\": 0, \"ticks\": \"\"}, \"type\": \"choropleth\"}], \"contour\": [{\"colorbar\": {\"outlinewidth\": 0, \"ticks\": \"\"}, \"colorscale\": [[0.0, \"#0d0887\"], [0.1111111111111111, \"#46039f\"], [0.2222222222222222, \"#7201a8\"], [0.3333333333333333, \"#9c179e\"], [0.4444444444444444, \"#bd3786\"], [0.5555555555555556, \"#d8576b\"], [0.6666666666666666, \"#ed7953\"], [0.7777777777777778, \"#fb9f3a\"], [0.8888888888888888, \"#fdca26\"], [1.0, \"#f0f921\"]], \"type\": \"contour\"}], \"contourcarpet\": [{\"colorbar\": {\"outlinewidth\": 0, \"ticks\": \"\"}, \"type\": \"contourcarpet\"}], \"heatmap\": [{\"colorbar\": {\"outlinewidth\": 0, \"ticks\": \"\"}, \"colorscale\": [[0.0, \"#0d0887\"], [0.1111111111111111, \"#46039f\"], [0.2222222222222222, \"#7201a8\"], [0.3333333333333333, \"#9c179e\"], [0.4444444444444444, \"#bd3786\"], [0.5555555555555556, \"#d8576b\"], [0.6666666666666666, \"#ed7953\"], [0.7777777777777778, \"#fb9f3a\"], [0.8888888888888888, \"#fdca26\"], [1.0, \"#f0f921\"]], \"type\": \"heatmap\"}], \"heatmapgl\": [{\"colorbar\": {\"outlinewidth\": 0, \"ticks\": \"\"}, \"colorscale\": [[0.0, \"#0d0887\"], [0.1111111111111111, \"#46039f\"], [0.2222222222222222, \"#7201a8\"], [0.3333333333333333, \"#9c179e\"], [0.4444444444444444, \"#bd3786\"], [0.5555555555555556, \"#d8576b\"], [0.6666666666666666, \"#ed7953\"], [0.7777777777777778, \"#fb9f3a\"], [0.8888888888888888, \"#fdca26\"], [1.0, \"#f0f921\"]], \"type\": \"heatmapgl\"}], \"histogram\": [{\"marker\": {\"colorbar\": {\"outlinewidth\": 0, \"ticks\": \"\"}}, \"type\": \"histogram\"}], \"histogram2d\": [{\"colorbar\": {\"outlinewidth\": 0, \"ticks\": \"\"}, \"colorscale\": [[0.0, \"#0d0887\"], [0.1111111111111111, \"#46039f\"], [0.2222222222222222, \"#7201a8\"], [0.3333333333333333, \"#9c179e\"], [0.4444444444444444, \"#bd3786\"], [0.5555555555555556, \"#d8576b\"], [0.6666666666666666, \"#ed7953\"], [0.7777777777777778, \"#fb9f3a\"], [0.8888888888888888, \"#fdca26\"], [1.0, \"#f0f921\"]], \"type\": \"histogram2d\"}], \"histogram2dcontour\": [{\"colorbar\": {\"outlinewidth\": 0, \"ticks\": \"\"}, \"colorscale\": [[0.0, \"#0d0887\"], [0.1111111111111111, \"#46039f\"], [0.2222222222222222, \"#7201a8\"], [0.3333333333333333, \"#9c179e\"], [0.4444444444444444, \"#bd3786\"], [0.5555555555555556, \"#d8576b\"], [0.6666666666666666, \"#ed7953\"], [0.7777777777777778, \"#fb9f3a\"], [0.8888888888888888, \"#fdca26\"], [1.0, \"#f0f921\"]], \"type\": \"histogram2dcontour\"}], \"mesh3d\": [{\"colorbar\": {\"outlinewidth\": 0, \"ticks\": \"\"}, \"type\": \"mesh3d\"}], \"parcoords\": [{\"line\": {\"colorbar\": {\"outlinewidth\": 0, \"ticks\": \"\"}}, \"type\": \"parcoords\"}], \"pie\": [{\"automargin\": true, \"type\": \"pie\"}], \"scatter\": [{\"marker\": {\"colorbar\": {\"outlinewidth\": 0, \"ticks\": \"\"}}, \"type\": \"scatter\"}], \"scatter3d\": [{\"line\": {\"colorbar\": {\"outlinewidth\": 0, \"ticks\": \"\"}}, \"marker\": {\"colorbar\": {\"outlinewidth\": 0, \"ticks\": \"\"}}, \"type\": \"scatter3d\"}], \"scattercarpet\": [{\"marker\": {\"colorbar\": {\"outlinewidth\": 0, \"ticks\": \"\"}}, \"type\": \"scattercarpet\"}], \"scattergeo\": [{\"marker\": {\"colorbar\": {\"outlinewidth\": 0, \"ticks\": \"\"}}, \"type\": \"scattergeo\"}], \"scattergl\": [{\"marker\": {\"colorbar\": {\"outlinewidth\": 0, \"ticks\": \"\"}}, \"type\": \"scattergl\"}], \"scattermapbox\": [{\"marker\": {\"colorbar\": {\"outlinewidth\": 0, \"ticks\": \"\"}}, \"type\": \"scattermapbox\"}], \"scatterpolar\": [{\"marker\": {\"colorbar\": {\"outlinewidth\": 0, \"ticks\": \"\"}}, \"type\": \"scatterpolar\"}], \"scatterpolargl\": [{\"marker\": {\"colorbar\": {\"outlinewidth\": 0, \"ticks\": \"\"}}, \"type\": \"scatterpolargl\"}], \"scatterternary\": [{\"marker\": {\"colorbar\": {\"outlinewidth\": 0, \"ticks\": \"\"}}, \"type\": \"scatterternary\"}], \"surface\": [{\"colorbar\": {\"outlinewidth\": 0, \"ticks\": \"\"}, \"colorscale\": [[0.0, \"#0d0887\"], [0.1111111111111111, \"#46039f\"], [0.2222222222222222, \"#7201a8\"], [0.3333333333333333, \"#9c179e\"], [0.4444444444444444, \"#bd3786\"], [0.5555555555555556, \"#d8576b\"], [0.6666666666666666, \"#ed7953\"], [0.7777777777777778, \"#fb9f3a\"], [0.8888888888888888, \"#fdca26\"], [1.0, \"#f0f921\"]], \"type\": \"surface\"}], \"table\": [{\"cells\": {\"fill\": {\"color\": \"#EBF0F8\"}, \"line\": {\"color\": \"white\"}}, \"header\": {\"fill\": {\"color\": \"#C8D4E3\"}, \"line\": {\"color\": \"white\"}}, \"type\": \"table\"}]}, \"layout\": {\"annotationdefaults\": {\"arrowcolor\": \"#2a3f5f\", \"arrowhead\": 0, \"arrowwidth\": 1}, \"coloraxis\": {\"colorbar\": {\"outlinewidth\": 0, \"ticks\": \"\"}}, \"colorscale\": {\"diverging\": [[0, \"#8e0152\"], [0.1, \"#c51b7d\"], [0.2, \"#de77ae\"], [0.3, \"#f1b6da\"], [0.4, \"#fde0ef\"], [0.5, \"#f7f7f7\"], [0.6, \"#e6f5d0\"], [0.7, \"#b8e186\"], [0.8, \"#7fbc41\"], [0.9, \"#4d9221\"], [1, \"#276419\"]], \"sequential\": [[0.0, \"#0d0887\"], [0.1111111111111111, \"#46039f\"], [0.2222222222222222, \"#7201a8\"], [0.3333333333333333, \"#9c179e\"], [0.4444444444444444, \"#bd3786\"], [0.5555555555555556, \"#d8576b\"], [0.6666666666666666, \"#ed7953\"], [0.7777777777777778, \"#fb9f3a\"], [0.8888888888888888, \"#fdca26\"], [1.0, \"#f0f921\"]], \"sequentialminus\": [[0.0, \"#0d0887\"], [0.1111111111111111, \"#46039f\"], [0.2222222222222222, \"#7201a8\"], [0.3333333333333333, \"#9c179e\"], [0.4444444444444444, \"#bd3786\"], [0.5555555555555556, \"#d8576b\"], [0.6666666666666666, \"#ed7953\"], [0.7777777777777778, \"#fb9f3a\"], [0.8888888888888888, \"#fdca26\"], [1.0, \"#f0f921\"]]}, \"colorway\": [\"#636efa\", \"#EF553B\", \"#00cc96\", \"#ab63fa\", \"#FFA15A\", \"#19d3f3\", \"#FF6692\", \"#B6E880\", \"#FF97FF\", \"#FECB52\"], \"font\": {\"color\": \"#2a3f5f\"}, \"geo\": {\"bgcolor\": \"white\", \"lakecolor\": \"white\", \"landcolor\": \"#E5ECF6\", \"showlakes\": true, \"showland\": true, \"subunitcolor\": \"white\"}, \"hoverlabel\": {\"align\": \"left\"}, \"hovermode\": \"closest\", \"mapbox\": {\"style\": \"light\"}, \"paper_bgcolor\": \"white\", \"plot_bgcolor\": \"#E5ECF6\", \"polar\": {\"angularaxis\": {\"gridcolor\": \"white\", \"linecolor\": \"white\", \"ticks\": \"\"}, \"bgcolor\": \"#E5ECF6\", \"radialaxis\": {\"gridcolor\": \"white\", \"linecolor\": \"white\", \"ticks\": \"\"}}, \"scene\": {\"xaxis\": {\"backgroundcolor\": \"#E5ECF6\", \"gridcolor\": \"white\", \"gridwidth\": 2, \"linecolor\": \"white\", \"showbackground\": true, \"ticks\": \"\", \"zerolinecolor\": \"white\"}, \"yaxis\": {\"backgroundcolor\": \"#E5ECF6\", \"gridcolor\": \"white\", \"gridwidth\": 2, \"linecolor\": \"white\", \"showbackground\": true, \"ticks\": \"\", \"zerolinecolor\": \"white\"}, \"zaxis\": {\"backgroundcolor\": \"#E5ECF6\", \"gridcolor\": \"white\", \"gridwidth\": 2, \"linecolor\": \"white\", \"showbackground\": true, \"ticks\": \"\", \"zerolinecolor\": \"white\"}}, \"shapedefaults\": {\"line\": {\"color\": \"#2a3f5f\"}}, \"ternary\": {\"aaxis\": {\"gridcolor\": \"white\", \"linecolor\": \"white\", \"ticks\": \"\"}, \"baxis\": {\"gridcolor\": \"white\", \"linecolor\": \"white\", \"ticks\": \"\"}, \"bgcolor\": \"#E5ECF6\", \"caxis\": {\"gridcolor\": \"white\", \"linecolor\": \"white\", \"ticks\": \"\"}}, \"title\": {\"x\": 0.05}, \"xaxis\": {\"automargin\": true, \"gridcolor\": \"white\", \"linecolor\": \"white\", \"ticks\": \"\", \"title\": {\"standoff\": 15}, \"zerolinecolor\": \"white\", \"zerolinewidth\": 2}, \"yaxis\": {\"automargin\": true, \"gridcolor\": \"white\", \"linecolor\": \"white\", \"ticks\": \"\", \"title\": {\"standoff\": 15}, \"zerolinecolor\": \"white\", \"zerolinewidth\": 2}}}, \"xaxis\": {\"anchor\": \"y\", \"domain\": [0.0, 1.0], \"title\": {\"text\": \"parental level of education\"}}, \"yaxis\": {\"anchor\": \"x\", \"domain\": [0.0, 1.0], \"title\": {\"text\": \"count of percent correct\"}}},\n",
              "                        {\"responsive\": true}\n",
              "                    ).then(function(){\n",
              "                            \n",
              "var gd = document.getElementById('66f7a7dc-6e56-45a0-9730-5d6426230f9e');\n",
              "var x = new MutationObserver(function (mutations, observer) {{\n",
              "        var display = window.getComputedStyle(gd).display;\n",
              "        if (!display || display === 'none') {{\n",
              "            console.log([gd, 'removed!']);\n",
              "            Plotly.purge(gd);\n",
              "            observer.disconnect();\n",
              "        }}\n",
              "}});\n",
              "\n",
              "// Listen for the removal of the full notebook cells\n",
              "var notebookContainer = gd.closest('#notebook-container');\n",
              "if (notebookContainer) {{\n",
              "    x.observe(notebookContainer, {childList: true});\n",
              "}}\n",
              "\n",
              "// Listen for the clearing of the current output cell\n",
              "var outputEl = gd.closest('.output');\n",
              "if (outputEl) {{\n",
              "    x.observe(outputEl, {childList: true});\n",
              "}}\n",
              "\n",
              "                        })\n",
              "                };\n",
              "                \n",
              "            </script>\n",
              "        </div>\n",
              "</body>\n",
              "</html>"
            ]
          },
          "metadata": {
            "tags": []
          }
        }
      ]
    },
    {
      "cell_type": "code",
      "metadata": {
        "id": "Py2gW5QxP5PM"
      },
      "source": [
        "#Pie chart of percent correct based on education"
      ],
      "execution_count": null,
      "outputs": []
    },
    {
      "cell_type": "code",
      "metadata": {
        "colab": {
          "base_uri": "https://localhost:8080/",
          "height": 542
        },
        "id": "saEy_jrOGsP7",
        "outputId": "9bce7db6-d0b2-4e74-8f52-ab07f800d1fd"
      },
      "source": [
        "px.pie(dataset, values = \"percent correct\", names = \"parental level of education\")"
      ],
      "execution_count": null,
      "outputs": [
        {
          "output_type": "display_data",
          "data": {
            "text/html": [
              "<html>\n",
              "<head><meta charset=\"utf-8\" /></head>\n",
              "<body>\n",
              "    <div>\n",
              "            <script src=\"https://cdnjs.cloudflare.com/ajax/libs/mathjax/2.7.5/MathJax.js?config=TeX-AMS-MML_SVG\"></script><script type=\"text/javascript\">if (window.MathJax) {MathJax.Hub.Config({SVG: {font: \"STIX-Web\"}});}</script>\n",
              "                <script type=\"text/javascript\">window.PlotlyConfig = {MathJaxConfig: 'local'};</script>\n",
              "        <script src=\"https://cdn.plot.ly/plotly-latest.min.js\"></script>    \n",
              "            <div id=\"62d9f836-fe90-4cd3-8086-9288d4564b96\" class=\"plotly-graph-div\" style=\"height:525px; width:100%;\"></div>\n",
              "            <script type=\"text/javascript\">\n",
              "                \n",
              "                    window.PLOTLYENV=window.PLOTLYENV || {};\n",
              "                    \n",
              "                if (document.getElementById(\"62d9f836-fe90-4cd3-8086-9288d4564b96\")) {\n",
              "                    Plotly.newPlot(\n",
              "                        '62d9f836-fe90-4cd3-8086-9288d4564b96',\n",
              "                        [{\"domain\": {\"x\": [0.0, 1.0], \"y\": [0.0, 1.0]}, \"hoverlabel\": {\"namelength\": 0}, \"hovertemplate\": \"parental level of education=%{label}<br>percent correct=%{value}\", \"labels\": [\"bachelor's degree\", \"some college\", \"master's degree\", \"associate's degree\", \"some college\", \"associate's degree\", \"some college\", \"some college\", \"high school\", \"high school\", \"associate's degree\", \"associate's degree\", \"high school\", \"some college\", \"master's degree\", \"some high school\", \"high school\", \"some high school\", \"master's degree\", \"associate's degree\", \"high school\", \"some college\", \"some college\", \"some high school\", \"bachelor's degree\", \"master's degree\", \"some college\", \"bachelor's degree\", \"high school\", \"master's degree\", \"some college\", \"some college\", \"master's degree\", \"some college\", \"some college\", \"associate's degree\", \"associate's degree\", \"some high school\", \"associate's degree\", \"associate's degree\", \"associate's degree\", \"associate's degree\", \"associate's degree\", \"some college\", \"associate's degree\", \"associate's degree\", \"associate's degree\", \"high school\", \"associate's degree\", \"high school\", \"some college\", \"associate's degree\", \"some college\", \"high school\", \"some high school\", \"high school\", \"associate's degree\", \"associate's degree\", \"some college\", \"some high school\", \"bachelor's degree\", \"some high school\", \"associate's degree\", \"associate's degree\", \"some high school\", \"some high school\", \"some high school\", \"some college\", \"associate's degree\", \"associate's degree\", \"some college\", \"some college\", \"associate's degree\", \"some high school\", \"some high school\", \"associate's degree\", \"some high school\", \"bachelor's degree\", \"some high school\", \"master's degree\", \"associate's degree\", \"high school\", \"some college\", \"associate's degree\", \"high school\", \"some college\", \"some college\", \"associate's degree\", \"some college\", \"some high school\", \"bachelor's degree\", \"high school\", \"high school\", \"associate's degree\", \"some college\", \"associate's degree\", \"some high school\", \"some college\", \"some college\", \"bachelor's degree\", \"some college\", \"bachelor's degree\", \"associate's degree\", \"high school\", \"some college\", \"some college\", \"master's degree\", \"associate's degree\", \"associate's degree\", \"some high school\", \"associate's degree\", \"high school\", \"associate's degree\", \"some college\", \"bachelor's degree\", \"high school\", \"bachelor's degree\", \"bachelor's degree\", \"some high school\", \"some college\", \"bachelor's degree\", \"associate's degree\", \"some college\", \"high school\", \"some college\", \"high school\", \"some high school\", \"some college\", \"master's degree\", \"bachelor's degree\", \"master's degree\", \"some high school\", \"some college\", \"some college\", \"bachelor's degree\", \"bachelor's degree\", \"some high school\", \"high school\", \"associate's degree\", \"some college\", \"some high school\", \"some college\", \"some college\", \"high school\", \"some college\", \"some college\", \"some high school\", \"associate's degree\", \"bachelor's degree\", \"associate's degree\", \"some high school\", \"bachelor's degree\", \"associate's degree\", \"bachelor's degree\", \"some high school\", \"some college\", \"high school\", \"some college\", \"associate's degree\", \"associate's degree\", \"associate's degree\", \"some college\", \"master's degree\", \"high school\", \"master's degree\", \"bachelor's degree\", \"high school\", \"master's degree\", \"high school\", \"some college\", \"high school\", \"some high school\", \"some college\", \"associate's degree\", \"bachelor's degree\", \"master's degree\", \"high school\", \"associate's degree\", \"master's degree\", \"some high school\", \"master's degree\", \"some college\", \"high school\", \"associate's degree\", \"some high school\", \"associate's degree\", \"high school\", \"some high school\", \"some high school\", \"bachelor's degree\", \"associate's degree\", \"some college\", \"some high school\", \"some college\", \"master's degree\", \"associate's degree\", \"some high school\", \"high school\", \"some college\", \"bachelor's degree\", \"associate's degree\", \"some college\", \"associate's degree\", \"associate's degree\", \"some college\", \"some high school\", \"bachelor's degree\", \"high school\", \"some college\", \"some college\", \"some high school\", \"some college\", \"high school\", \"associate's degree\", \"high school\", \"some high school\", \"associate's degree\", \"high school\", \"high school\", \"some high school\", \"high school\", \"associate's degree\", \"some high school\", \"some high school\", \"associate's degree\", \"master's degree\", \"some college\", \"high school\", \"some high school\", \"some college\", \"some college\", \"associate's degree\", \"bachelor's degree\", \"some high school\", \"bachelor's degree\", \"associate's degree\", \"bachelor's degree\", \"some high school\", \"some college\", \"associate's degree\", \"high school\", \"bachelor's degree\", \"high school\", \"some college\", \"some high school\", \"associate's degree\", \"associate's degree\", \"high school\", \"high school\", \"high school\", \"some high school\", \"some college\", \"some high school\", \"master's degree\", \"high school\", \"some college\", \"associate's degree\", \"associate's degree\", \"some college\", \"master's degree\", \"some high school\", \"some college\", \"some high school\", \"high school\", \"high school\", \"some high school\", \"bachelor's degree\", \"high school\", \"associate's degree\", \"some college\", \"bachelor's degree\", \"some college\", \"associate's degree\", \"some college\", \"some college\", \"bachelor's degree\", \"some high school\", \"high school\", \"some high school\", \"bachelor's degree\", \"high school\", \"high school\", \"bachelor's degree\", \"some college\", \"some high school\", \"associate's degree\", \"associate's degree\", \"some high school\", \"bachelor's degree\", \"some high school\", \"associate's degree\", \"some high school\", \"some high school\", \"bachelor's degree\", \"high school\", \"associate's degree\", \"some high school\", \"associate's degree\", \"high school\", \"associate's degree\", \"some college\", \"some high school\", \"associate's degree\", \"associate's degree\", \"associate's degree\", \"some college\", \"some college\", \"some high school\", \"associate's degree\", \"high school\", \"associate's degree\", \"bachelor's degree\", \"bachelor's degree\", \"associate's degree\", \"bachelor's degree\", \"high school\", \"master's degree\", \"associate's degree\", \"bachelor's degree\", \"associate's degree\", \"high school\", \"high school\", \"some college\", \"some high school\", \"high school\", \"some college\", \"some college\", \"some college\", \"associate's degree\", \"some high school\", \"high school\", \"associate's degree\", \"associate's degree\", \"associate's degree\", \"bachelor's degree\", \"some college\", \"some high school\", \"associate's degree\", \"some high school\", \"some high school\", \"high school\", \"high school\", \"high school\", \"associate's degree\", \"some college\", \"high school\", \"some college\", \"bachelor's degree\", \"high school\", \"associate's degree\", \"bachelor's degree\", \"some college\", \"some college\", \"associate's degree\", \"some college\", \"bachelor's degree\", \"associate's degree\", \"some college\", \"some college\", \"some college\", \"high school\", \"some high school\", \"some college\", \"some high school\", \"some college\", \"bachelor's degree\", \"high school\", \"bachelor's degree\", \"some high school\", \"some high school\", \"some college\", \"some college\", \"some high school\", \"some college\", \"bachelor's degree\", \"associate's degree\", \"some high school\", \"master's degree\", \"some high school\", \"bachelor's degree\", \"associate's degree\", \"associate's degree\", \"master's degree\", \"some high school\", \"some high school\", \"some college\", \"bachelor's degree\", \"associate's degree\", \"high school\", \"master's degree\", \"some high school\", \"some college\", \"some college\", \"associate's degree\", \"some high school\", \"high school\", \"high school\", \"associate's degree\", \"some high school\", \"some high school\", \"some high school\", \"some college\", \"some college\", \"high school\", \"high school\", \"some high school\", \"associate's degree\", \"associate's degree\", \"high school\", \"associate's degree\", \"master's degree\", \"some college\", \"associate's degree\", \"some high school\", \"bachelor's degree\", \"high school\", \"bachelor's degree\", \"associate's degree\", \"some college\", \"high school\", \"associate's degree\", \"high school\", \"master's degree\", \"some high school\", \"some college\", \"some college\", \"bachelor's degree\", \"some high school\", \"some high school\", \"some high school\", \"associate's degree\", \"high school\", \"high school\", \"some high school\", \"some high school\", \"some college\", \"associate's degree\", \"associate's degree\", \"high school\", \"some high school\", \"some college\", \"high school\", \"some high school\", \"associate's degree\", \"some high school\", \"some high school\", \"some college\", \"high school\", \"high school\", \"associate's degree\", \"some college\", \"some college\", \"associate's degree\", \"some college\", \"associate's degree\", \"bachelor's degree\", \"bachelor's degree\", \"associate's degree\", \"bachelor's degree\", \"high school\", \"bachelor's degree\", \"some college\", \"some college\", \"some college\", \"bachelor's degree\", \"some college\", \"associate's degree\", \"high school\", \"high school\", \"some college\", \"associate's degree\", \"high school\", \"associate's degree\", \"some high school\", \"associate's degree\", \"bachelor's degree\", \"bachelor's degree\", \"associate's degree\", \"master's degree\", \"associate's degree\", \"high school\", \"associate's degree\", \"some college\", \"high school\", \"associate's degree\", \"high school\", \"some college\", \"associate's degree\", \"some high school\", \"associate's degree\", \"associate's degree\", \"associate's degree\", \"some college\", \"bachelor's degree\", \"high school\", \"high school\", \"some college\", \"some college\", \"some high school\", \"some college\", \"master's degree\", \"associate's degree\", \"some college\", \"associate's degree\", \"master's degree\", \"some high school\", \"high school\", \"bachelor's degree\", \"master's degree\", \"bachelor's degree\", \"some college\", \"some high school\", \"some high school\", \"some high school\", \"master's degree\", \"some high school\", \"some college\", \"some college\", \"some high school\", \"high school\", \"some college\", \"associate's degree\", \"bachelor's degree\", \"master's degree\", \"high school\", \"some college\", \"some high school\", \"high school\", \"bachelor's degree\", \"associate's degree\", \"associate's degree\", \"some high school\", \"associate's degree\", \"associate's degree\", \"high school\", \"bachelor's degree\", \"associate's degree\", \"high school\", \"bachelor's degree\", \"associate's degree\", \"high school\", \"associate's degree\", \"associate's degree\", \"associate's degree\", \"master's degree\", \"some high school\", \"some high school\", \"high school\", \"high school\", \"master's degree\", \"some high school\", \"bachelor's degree\", \"associate's degree\", \"some college\", \"associate's degree\", \"some college\", \"associate's degree\", \"master's degree\", \"associate's degree\", \"some high school\", \"some college\", \"some college\", \"bachelor's degree\", \"some college\", \"bachelor's degree\", \"associate's degree\", \"bachelor's degree\", \"master's degree\", \"high school\", \"bachelor's degree\", \"some college\", \"bachelor's degree\", \"some college\", \"high school\", \"high school\", \"associate's degree\", \"some college\", \"high school\", \"some college\", \"master's degree\", \"some high school\", \"some high school\", \"bachelor's degree\", \"associate's degree\", \"some college\", \"associate's degree\", \"high school\", \"bachelor's degree\", \"some college\", \"some high school\", \"some college\", \"some high school\", \"bachelor's degree\", \"high school\", \"bachelor's degree\", \"bachelor's degree\", \"high school\", \"some high school\", \"high school\", \"some high school\", \"master's degree\", \"high school\", \"some college\", \"high school\", \"master's degree\", \"some high school\", \"associate's degree\", \"master's degree\", \"some college\", \"associate's degree\", \"some college\", \"some college\", \"bachelor's degree\", \"associate's degree\", \"associate's degree\", \"high school\", \"bachelor's degree\", \"bachelor's degree\", \"master's degree\", \"associate's degree\", \"high school\", \"bachelor's degree\", \"high school\", \"some college\", \"bachelor's degree\", \"some college\", \"associate's degree\", \"associate's degree\", \"some college\", \"some high school\", \"some college\", \"high school\", \"bachelor's degree\", \"high school\", \"some high school\", \"high school\", \"high school\", \"some high school\", \"some college\", \"associate's degree\", \"high school\", \"associate's degree\", \"some high school\", \"high school\", \"high school\", \"bachelor's degree\", \"associate's degree\", \"high school\", \"high school\", \"some college\", \"some high school\", \"high school\", \"some college\", \"associate's degree\", \"some high school\", \"some college\", \"associate's degree\", \"some high school\", \"associate's degree\", \"associate's degree\", \"some college\", \"some high school\", \"some college\", \"high school\", \"associate's degree\", \"some high school\", \"some college\", \"bachelor's degree\", \"some college\", \"associate's degree\", \"high school\", \"associate's degree\", \"some college\", \"associate's degree\", \"high school\", \"some college\", \"some college\", \"some high school\", \"associate's degree\", \"some college\", \"high school\", \"high school\", \"high school\", \"some high school\", \"some college\", \"master's degree\", \"some college\", \"associate's degree\", \"high school\", \"some college\", \"associate's degree\", \"associate's degree\", \"bachelor's degree\", \"associate's degree\", \"some high school\", \"some college\", \"associate's degree\", \"bachelor's degree\", \"associate's degree\", \"high school\", \"bachelor's degree\", \"some high school\", \"bachelor's degree\", \"some college\", \"some high school\", \"bachelor's degree\", \"high school\", \"some college\", \"high school\", \"associate's degree\", \"some college\", \"some high school\", \"some college\", \"master's degree\", \"some high school\", \"associate's degree\", \"associate's degree\", \"associate's degree\", \"high school\", \"associate's degree\", \"some college\", \"some high school\", \"some high school\", \"high school\", \"some college\", \"some college\", \"associate's degree\", \"some high school\", \"high school\", \"some college\", \"associate's degree\", \"some high school\", \"some college\", \"some high school\", \"some college\", \"master's degree\", \"associate's degree\", \"some college\", \"associate's degree\", \"high school\", \"bachelor's degree\", \"associate's degree\", \"high school\", \"associate's degree\", \"some college\", \"associate's degree\", \"high school\", \"some college\", \"bachelor's degree\", \"some college\", \"some high school\", \"some college\", \"master's degree\", \"some high school\", \"associate's degree\", \"associate's degree\", \"some college\", \"bachelor's degree\", \"some college\", \"some college\", \"high school\", \"some high school\", \"some high school\", \"high school\", \"some college\", \"high school\", \"high school\", \"high school\", \"some high school\", \"some college\", \"high school\", \"bachelor's degree\", \"some high school\", \"bachelor's degree\", \"some college\", \"some high school\", \"high school\", \"some college\", \"some college\", \"associate's degree\", \"associate's degree\", \"master's degree\", \"high school\", \"associate's degree\", \"bachelor's degree\", \"some high school\", \"some high school\", \"some college\", \"associate's degree\", \"master's degree\", \"high school\", \"some college\", \"high school\", \"some high school\", \"high school\", \"associate's degree\", \"high school\", \"associate's degree\", \"some college\", \"associate's degree\", \"some high school\", \"some high school\", \"associate's degree\", \"some college\", \"some college\", \"some college\", \"some college\", \"high school\", \"high school\", \"bachelor's degree\", \"some high school\", \"high school\", \"master's degree\", \"some high school\", \"high school\", \"some high school\", \"bachelor's degree\", \"bachelor's degree\", \"high school\", \"some high school\", \"some high school\", \"bachelor's degree\", \"some college\", \"high school\", \"some high school\", \"high school\", \"associate's degree\", \"some high school\", \"some high school\", \"some high school\", \"some college\", \"bachelor's degree\", \"bachelor's degree\", \"high school\", \"some college\", \"high school\", \"high school\", \"high school\", \"associate's degree\", \"associate's degree\", \"high school\", \"some high school\", \"high school\", \"some college\", \"some high school\", \"master's degree\", \"master's degree\", \"high school\", \"high school\", \"associate's degree\", \"master's degree\", \"high school\", \"some college\", \"some high school\", \"some high school\", \"bachelor's degree\", \"some college\", \"bachelor's degree\", \"high school\", \"associate's degree\", \"associate's degree\", \"master's degree\", \"bachelor's degree\", \"some college\", \"associate's degree\", \"some college\", \"high school\", \"associate's degree\", \"associate's degree\", \"associate's degree\", \"high school\", \"some college\", \"associate's degree\", \"associate's degree\", \"bachelor's degree\", \"some college\", \"some college\", \"some high school\", \"some high school\", \"associate's degree\", \"bachelor's degree\", \"bachelor's degree\", \"high school\", \"bachelor's degree\", \"associate's degree\", \"associate's degree\", \"associate's degree\", \"high school\", \"some college\", \"high school\", \"some college\", \"associate's degree\", \"master's degree\", \"some high school\", \"associate's degree\", \"some high school\", \"high school\", \"some high school\", \"associate's degree\", \"some high school\", \"master's degree\", \"master's degree\", \"high school\", \"bachelor's degree\", \"some high school\", \"some college\", \"high school\", \"some college\", \"bachelor's degree\", \"bachelor's degree\", \"bachelor's degree\", \"some college\", \"bachelor's degree\", \"bachelor's degree\", \"associate's degree\", \"some college\", \"bachelor's degree\", \"high school\", \"associate's degree\", \"some college\", \"high school\", \"high school\", \"high school\", \"associate's degree\", \"high school\", \"some high school\", \"associate's degree\", \"high school\", \"associate's degree\", \"some high school\", \"some college\", \"some college\", \"associate's degree\", \"bachelor's degree\", \"associate's degree\", \"some college\", \"associate's degree\", \"high school\", \"some college\", \"some high school\", \"master's degree\", \"master's degree\", \"high school\", \"some high school\", \"high school\", \"associate's degree\", \"high school\", \"some college\", \"some high school\", \"high school\", \"high school\", \"some college\", \"some high school\", \"high school\", \"some college\", \"associate's degree\", \"some college\", \"master's degree\", \"high school\", \"high school\", \"some college\", \"some high school\", \"associate's degree\", \"some high school\", \"some college\", \"some college\", \"some high school\", \"some college\", \"associate's degree\", \"bachelor's degree\", \"bachelor's degree\", \"some high school\", \"high school\", \"some college\", \"some college\", \"some college\", \"some college\", \"associate's degree\", \"high school\", \"associate's degree\", \"high school\", \"some high school\", \"some high school\", \"some college\", \"some high school\", \"high school\", \"associate's degree\", \"some high school\", \"some high school\", \"some college\", \"high school\", \"some high school\", \"associate's degree\", \"bachelor's degree\", \"high school\", \"master's degree\", \"high school\", \"high school\", \"some college\", \"some college\"], \"legendgroup\": \"\", \"name\": \"\", \"showlegend\": true, \"type\": \"pie\", \"values\": [0.7266666666666667, 0.8233333333333334, 0.9266666666666666, 0.49333333333333335, 0.7633333333333333, 0.7733333333333333, 0.9166666666666666, 0.4066666666666667, 0.65, 0.49333333333333335, 0.5466666666666666, 0.45, 0.73, 0.7333333333333333, 0.5366666666666666, 0.74, 0.8766666666666667, 0.26, 0.44666666666666666, 0.5766666666666667, 0.66, 0.7, 0.5033333333333333, 0.7166666666666667, 0.75, 0.73, 0.5933333333333334, 0.7033333333333334, 0.6833333333333333, 0.69, 0.7233333333333334, 0.63, 0.6433333333333333, 0.4, 0.8866666666666667, 0.8033333333333333, 0.7933333333333333, 0.5766666666666667, 0.8433333333333334, 0.5666666666666667, 0.5666666666666667, 0.6633333333333333, 0.5866666666666667, 0.6333333333333333, 0.5333333333333333, 0.5866666666666667, 0.6066666666666667, 0.71, 0.69, 0.8266666666666667, 0.52, 0.7133333333333334, 0.4633333333333333, 0.8033333333333333, 0.8066666666666666, 0.39, 0.8433333333333334, 0.52, 0.5833333333333334, 0.09, 0.75, 0.37333333333333335, 0.5933333333333334, 0.7333333333333333, 0.5866666666666667, 0.64, 0.39666666666666667, 0.6866666666666666, 0.5833333333333334, 0.5333333333333333, 0.6466666666666666, 0.6033333333333334, 0.4666666666666667, 0.58, 0.4633333333333333, 0.41, 0.26, 0.7966666666666666, 0.69, 0.66, 0.4866666666666667, 0.4633333333333333, 0.5033333333333333, 0.6633333333333333, 0.38333333333333336, 0.7833333333333333, 0.8233333333333334, 0.72, 0.65, 0.8033333333333333, 0.7033333333333334, 0.3233333333333333, 0.7366666666666667, 0.46, 0.8566666666666667, 0.8033333333333333, 0.6433333333333333, 0.6833333333333333, 0.6233333333333333, 0.6466666666666666, 0.71, 0.72, 0.8833333333333333, 0.5033333333333333, 0.9133333333333333, 0.6566666666666666, 0.9566666666666667, 0.6433333333333333, 0.66, 0.6866666666666666, 0.88, 0.5533333333333333, 0.5133333333333333, 0.5433333333333333, 0.9966666666666667, 0.7833333333333333, 0.8066666666666666, 0.7966666666666666, 0.5833333333333334, 0.63, 0.8666666666666667, 0.9066666666666666, 0.9133333333333333, 0.5866666666666667, 0.7866666666666666, 0.8933333333333333, 0.69, 0.72, 0.7933333333333333, 0.5033333333333333, 0.85, 0.43333333333333335, 0.77, 0.8, 0.76, 0.5366666666666666, 0.4866666666666667, 0.6033333333333334, 0.64, 0.67, 0.73, 0.6166666666666667, 0.5033333333333333, 0.49, 0.7966666666666666, 0.31333333333333335, 0.8233333333333334, 0.69, 0.7466666666666667, 0.9766666666666667, 0.66, 0.7066666666666667, 0.65, 0.5, 0.6333333333333333, 0.8233333333333334, 0.7266666666666667, 0.6, 0.78, 0.64, 0.78, 0.8266666666666667, 0.5133333333333333, 0.5133333333333333, 0.88, 0.9866666666666667, 0.5166666666666667, 0.7066666666666667, 0.7633333333333333, 0.7066666666666667, 0.73, 0.8666666666666667, 0.82, 0.6666666666666666, 0.49333333333333335, 0.8633333333333333, 0.5266666666666666, 0.75, 0.6133333333333333, 0.99, 0.6833333333333333, 0.5866666666666667, 0.49, 0.68, 0.4866666666666667, 0.6566666666666666, 0.7366666666666667, 0.6533333333333333, 0.48333333333333334, 0.84, 0.6666666666666666, 0.7933333333333333, 0.64, 0.67, 0.7933333333333333, 0.56, 0.6433333333333333, 0.54, 0.51, 0.7766666666666666, 0.79, 0.7433333333333333, 0.7166666666666667, 0.6466666666666666, 0.47333333333333333, 0.7433333333333333, 0.6866666666666666, 0.79, 0.77, 0.6166666666666667, 0.7933333333333333, 0.3, 0.5466666666666666, 0.5566666666666666, 0.8633333333333333, 0.8066666666666666, 0.8566666666666667, 0.38333333333333336, 0.71, 0.5766666666666667, 0.66, 0.8166666666666667, 0.6066666666666667, 0.8033333333333333, 0.6366666666666667, 0.5166666666666667, 0.7166666666666667, 0.5366666666666666, 0.68, 0.9233333333333333, 0.6866666666666666, 0.43666666666666665, 0.7866666666666666, 0.8566666666666667, 0.83, 0.7733333333333333, 0.6533333333333333, 0.66, 0.5233333333333333, 0.8133333333333334, 0.69, 0.82, 0.5433333333333333, 0.51, 0.7266666666666667, 0.7733333333333333, 0.7966666666666666, 0.6533333333333333, 0.6366666666666667, 0.6033333333333334, 0.48333333333333334, 0.79, 0.6666666666666666, 0.7733333333333333, 0.5266666666666666, 0.6833333333333333, 0.6833333333333333, 0.7733333333333333, 0.7433333333333333, 0.7566666666666667, 0.7333333333333333, 0.7866666666666666, 0.48333333333333334, 0.94, 0.7233333333333334, 0.47333333333333333, 0.73, 0.7266666666666667, 0.9166666666666666, 0.7233333333333334, 0.6433333333333333, 0.49666666666666665, 0.5266666666666666, 0.6866666666666666, 0.83, 0.78, 0.9, 0.6566666666666666, 0.77, 0.62, 0.49, 0.4633333333333333, 0.7866666666666666, 0.7533333333333333, 0.43, 0.8166666666666667, 0.89, 0.7933333333333333, 0.7966666666666666, 0.7666666666666667, 0.7133333333333334, 0.7633333333333333, 0.6, 0.71, 0.7833333333333333, 0.63, 0.43333333333333335, 0.71, 0.4533333333333333, 0.84, 0.8, 0.54, 0.7733333333333333, 0.7333333333333333, 0.7733333333333333, 0.6833333333333333, 0.89, 0.49, 0.6366666666666667, 0.5266666666666666, 0.7633333333333333, 0.61, 0.6533333333333333, 0.68, 0.66, 0.6733333333333333, 0.8333333333333334, 0.7766666666666666, 0.6766666666666666, 0.6133333333333333, 0.7666666666666667, 0.8, 0.7733333333333333, 0.49666666666666665, 0.43333333333333335, 0.8866666666666667, 0.6133333333333333, 0.23333333333333334, 0.78, 0.49, 0.64, 0.39666666666666667, 0.57, 0.83, 0.9033333333333333, 0.65, 0.7166666666666667, 0.4766666666666667, 0.2966666666666667, 0.5, 0.57, 0.6566666666666666, 0.73, 0.6866666666666666, 0.73, 0.7566666666666667, 0.6, 0.8866666666666667, 0.7166666666666667, 0.79, 0.62, 0.5833333333333334, 0.7366666666666667, 0.5366666666666666, 0.6666666666666666, 0.6766666666666666, 0.6166666666666667, 0.59, 0.6066666666666667, 0.8633333333333333, 0.5966666666666667, 0.8233333333333334, 0.56, 0.31, 0.59, 0.5566666666666666, 0.6, 0.6266666666666667, 0.5533333333333333, 0.8066666666666666, 0.7733333333333333, 0.6266666666666667, 0.7333333333333333, 0.9166666666666666, 0.6733333333333333, 0.43333333333333335, 0.84, 0.9333333333333333, 0.77, 0.64, 0.83, 0.94, 0.77, 0.44, 0.41333333333333333, 0.7266666666666667, 0.69, 0.6733333333333333, 0.6333333333333333, 0.7266666666666667, 0.6633333333333333, 0.74, 0.7, 0.5566666666666666, 0.72, 0.44666666666666666, 0.6, 0.8966666666666666, 0.6466666666666666, 0.5766666666666667, 0.6, 0.4633333333333333, 0.5633333333333334, 0.9566666666666667, 0.5833333333333334, 0.68, 0.6433333333333333, 0.7966666666666666, 0.55, 0.8533333333333334, 0.7166666666666667, 0.8166666666666667, 0.6566666666666666, 0.6566666666666666, 0.6733333333333333, 0.7533333333333333, 0.71, 0.7133333333333334, 0.63, 0.5566666666666666, 0.8933333333333333, 0.5966666666666667, 0.5733333333333334, 0.7466666666666667, 0.38, 0.6366666666666667, 0.85, 0.6833333333333333, 0.59, 0.6166666666666667, 0.63, 0.6766666666666666, 0.5733333333333334, 0.52, 0.6833333333333333, 0.5033333333333333, 0.69, 0.7133333333333334, 0.59, 0.8633333333333333, 0.7566666666666667, 0.7966666666666666, 0.67, 0.7733333333333333, 0.78, 0.7266666666666667, 0.65, 0.8233333333333334, 0.45, 0.7533333333333333, 0.78, 0.9633333333333334, 0.72, 0.5733333333333334, 0.5866666666666667, 0.4666666666666667, 0.8566666666666667, 0.5166666666666667, 1.0, 0.6833333333333333, 0.5533333333333333, 0.51, 0.7233333333333334, 0.86, 0.65, 0.8733333333333333, 0.31666666666666665, 0.68, 0.8333333333333334, 0.8033333333333333, 0.86, 0.6866666666666666, 0.7933333333333333, 0.6233333333333333, 0.9033333333333333, 0.7666666666666667, 0.68, 0.7333333333333333, 0.63, 0.7133333333333334, 0.7066666666666667, 0.5566666666666666, 0.6566666666666666, 0.5233333333333333, 0.5166666666666667, 0.7166666666666667, 0.5466666666666666, 0.6966666666666667, 0.58, 0.81, 0.7533333333333333, 0.66, 0.8533333333333334, 0.8633333333333333, 0.62, 0.66, 0.5133333333333333, 0.71, 0.6766666666666666, 0.73, 0.7833333333333333, 0.91, 0.5933333333333334, 0.92, 0.51, 0.8133333333333334, 0.68, 0.56, 0.78, 0.8833333333333333, 0.7333333333333333, 0.5233333333333333, 0.5433333333333333, 0.59, 0.8933333333333333, 0.8266666666666667, 0.8233333333333334, 0.71, 0.74, 0.7466666666666667, 0.5733333333333334, 0.87, 0.6133333333333333, 0.5433333333333333, 0.5133333333333333, 0.6233333333333333, 0.59, 0.44, 0.39, 0.6866666666666666, 0.6933333333333334, 0.5133333333333333, 0.6033333333333334, 0.87, 0.7, 0.7733333333333333, 0.5633333333333334, 0.5966666666666667, 0.74, 0.9166666666666666, 0.7066666666666667, 0.8033333333333333, 0.79, 0.8866666666666667, 0.6433333333333333, 0.8033333333333333, 0.9633333333333334, 0.6766666666666666, 0.6433333333333333, 0.7333333333333333, 0.7333333333333333, 0.8833333333333333, 0.46, 0.6766666666666666, 0.46, 0.3466666666666667, 0.6866666666666666, 0.6466666666666666, 0.6433333333333333, 0.67, 0.76, 0.7033333333333334, 0.9266666666666666, 0.7433333333333333, 0.48333333333333334, 0.4533333333333333, 0.9733333333333334, 0.7, 0.5266666666666666, 0.6766666666666666, 0.72, 0.93, 0.57, 0.6, 0.7533333333333333, 0.49333333333333335, 0.5466666666666666, 0.87, 0.54, 0.6066666666666667, 0.9133333333333333, 0.7866666666666666, 0.7133333333333334, 0.76, 0.7433333333333333, 0.7233333333333334, 0.67, 0.5633333333333334, 0.61, 0.5966666666666667, 0.5633333333333334, 0.61, 0.6666666666666666, 0.7433333333333333, 0.97, 0.69, 0.23, 0.5166666666666667, 0.73, 0.76, 0.59, 0.29333333333333333, 0.78, 0.56, 0.8766666666666667, 0.6966666666666667, 0.8366666666666667, 0.5066666666666667, 0.6233333333333333, 0.62, 0.64, 0.61, 0.9166666666666666, 0.72, 0.8933333333333333, 0.6666666666666666, 0.4, 0.83, 0.8666666666666667, 0.6866666666666666, 0.5, 0.6033333333333334, 0.5366666666666666, 0.94, 0.6033333333333334, 0.9866666666666667, 0.6733333333333333, 0.5166666666666667, 0.5066666666666667, 0.5, 0.67, 0.68, 0.7366666666666667, 0.8266666666666667, 0.8266666666666667, 0.6966666666666667, 0.76, 0.8666666666666667, 0.7866666666666666, 0.7433333333333333, 0.48, 0.84, 0.7733333333333333, 0.7766666666666666, 0.65, 0.7566666666666667, 0.6466666666666666, 0.6466666666666666, 0.5266666666666666, 0.7633333333333333, 0.5333333333333333, 0.7466666666666667, 0.8966666666666666, 0.6966666666666667, 0.77, 0.6533333333333333, 0.6933333333333334, 0.6533333333333333, 0.5366666666666666, 0.8733333333333333, 0.7466666666666667, 0.6733333333333333, 0.65, 0.67, 0.6866666666666666, 0.5666666666666667, 0.69, 0.83, 0.6933333333333334, 0.7666666666666667, 0.7, 0.53, 0.7433333333333333, 0.7766666666666666, 0.7466666666666667, 0.6, 0.7566666666666667, 0.76, 0.78, 0.6133333333333333, 0.71, 0.6266666666666667, 0.57, 0.37666666666666665, 0.6533333333333333, 0.9766666666666667, 0.76, 0.76, 0.5166666666666667, 0.8866666666666667, 0.5166666666666667, 0.7566666666666667, 0.7366666666666667, 0.7566666666666667, 0.56, 0.8466666666666667, 0.8233333333333334, 0.67, 0.7133333333333334, 0.6366666666666667, 0.8066666666666666, 0.6533333333333333, 0.86, 0.6466666666666666, 0.62, 0.6633333333333333, 0.38666666666666666, 0.59, 0.85, 0.5366666666666666, 0.89, 0.8333333333333334, 0.99, 0.82, 0.68, 0.8566666666666667, 0.7433333333333333, 0.97, 0.7533333333333333, 0.8133333333333334, 0.68, 0.5766666666666667, 0.84, 0.4666666666666667, 0.43666666666666665, 0.7533333333333333, 0.7233333333333334, 0.5866666666666667, 0.83, 0.43, 0.75, 0.48, 0.9, 0.4866666666666667, 0.56, 0.61, 0.85, 0.64, 0.75, 0.5866666666666667, 0.75, 0.5, 0.8233333333333334, 0.68, 0.5233333333333333, 0.75, 0.7166666666666667, 0.67, 0.5633333333333334, 0.8566666666666667, 0.6933333333333334, 0.6833333333333333, 0.77, 0.84, 0.5533333333333333, 0.9033333333333333, 0.55, 0.7, 0.5866666666666667, 0.7433333333333333, 0.63, 0.5333333333333333, 0.8166666666666667, 0.6233333333333333, 0.6066666666666667, 0.7266666666666667, 0.7, 0.66, 0.7133333333333334, 0.5833333333333334, 0.49666666666666665, 0.74, 0.6366666666666667, 0.73, 0.6366666666666667, 0.54, 0.6933333333333334, 0.4066666666666667, 0.7766666666666666, 0.87, 0.53, 0.8366666666666667, 0.81, 0.5766666666666667, 0.8366666666666667, 0.42333333333333334, 0.76, 0.2966666666666667, 0.6466666666666666, 0.5933333333333334, 0.5666666666666667, 0.6533333333333333, 0.6966666666666667, 0.8333333333333334, 0.48333333333333334, 0.66, 0.7, 0.7833333333333333, 0.61, 0.5466666666666666, 0.6933333333333334, 0.7633333333333333, 0.92, 0.8466666666666667, 0.7566666666666667, 0.7666666666666667, 0.71, 0.42, 0.78, 0.5466666666666666, 0.3933333333333333, 0.47, 0.6166666666666667, 0.8233333333333334, 0.7833333333333333, 0.89, 0.56, 0.69, 0.6666666666666666, 0.8533333333333334, 0.89, 0.87, 0.5066666666666667, 0.8, 0.5266666666666666, 0.6233333333333333, 0.6466666666666666, 0.7, 0.7866666666666666, 0.5833333333333334, 0.5933333333333334, 0.83, 0.6066666666666667, 0.8266666666666667, 0.51, 0.66, 0.6466666666666666, 0.7866666666666666, 0.56, 0.72, 0.45666666666666667, 0.5766666666666667, 0.3433333333333333, 0.7566666666666667, 0.5633333333333334, 0.8633333333333333, 0.87, 0.56, 0.6633333333333333, 0.7466666666666667, 0.6833333333333333, 0.64, 0.8833333333333333, 0.7, 0.6033333333333334, 0.9666666666666667, 0.6933333333333334, 0.75, 0.49, 0.7733333333333333, 0.56, 0.8466666666666667, 0.39666666666666667, 0.74, 0.9366666666666666, 0.84, 0.5466666666666666, 0.48, 0.7466666666666667, 0.5033333333333333, 0.5466666666666666, 0.7266666666666667, 0.8133333333333334, 0.8733333333333333, 0.5533333333333333, 0.7, 0.8233333333333334, 0.5733333333333334, 0.7033333333333334, 0.7133333333333334, 0.6433333333333333, 0.7033333333333334, 0.6933333333333334, 0.48333333333333334, 0.52, 0.7266666666666667, 0.96, 0.6166666666666667, 0.6933333333333334, 0.4766666666666667, 0.8733333333333333, 0.8733333333333333, 0.6333333333333333, 0.79, 0.6333333333333333, 0.3466666666666667, 0.30666666666666664, 0.7333333333333333, 0.6133333333333333, 0.75, 0.86, 0.75, 0.41, 0.9766666666666667, 0.7833333333333333, 0.8066666666666666, 0.52, 0.8466666666666667, 0.7133333333333334, 0.68, 0.4666666666666667, 0.7833333333333333, 0.5966666666666667, 0.5833333333333334, 0.54, 0.68, 1.0, 0.5233333333333333, 0.7133333333333334, 0.9266666666666666, 0.6866666666666666, 0.44666666666666666, 0.68, 0.6133333333333333, 0.71, 0.66, 0.5733333333333334, 0.6566666666666666, 0.44333333333333336, 0.5166666666666667, 0.7033333333333334, 0.6033333333333334, 0.6833333333333333, 0.73, 0.9166666666666666, 0.6366666666666667, 0.59, 0.5733333333333334, 0.8366666666666667, 0.7133333333333334, 0.7, 0.8833333333333333, 0.7033333333333334, 0.6133333333333333, 0.6233333333333333, 0.5766666666666667, 0.8133333333333334, 0.5566666666666666, 0.5033333333333333, 0.6833333333333333, 0.7933333333333333, 0.7833333333333333, 0.7333333333333333, 0.5466666666666666, 0.6666666666666666, 0.6366666666666667, 0.84, 0.9733333333333334, 0.5566666666666666, 0.7566666666666667, 0.5933333333333334, 0.5166666666666667, 1.0, 0.72, 0.6233333333333333, 0.68, 0.66, 0.62, 0.7033333333333334, 0.7966666666666666, 0.9633333333333334, 0.73, 0.5433333333333333, 0.5833333333333334, 0.6133333333333333, 0.7433333333333333, 0.6066666666666667, 0.6166666666666667, 0.48, 0.9333333333333333, 0.18333333333333332, 0.79, 0.8333333333333334, 0.8533333333333334, 0.77, 0.54, 0.5, 0.7733333333333333, 0.44666666666666666, 0.7866666666666666, 0.8066666666666666, 0.75, 0.69, 0.6933333333333334, 0.6266666666666667, 0.94, 0.5733333333333334, 0.65, 0.7433333333333333, 0.83]}],\n",
              "                        {\"legend\": {\"tracegroupgap\": 0}, \"margin\": {\"t\": 60}, \"template\": {\"data\": {\"bar\": [{\"error_x\": {\"color\": \"#2a3f5f\"}, \"error_y\": {\"color\": \"#2a3f5f\"}, \"marker\": {\"line\": {\"color\": \"#E5ECF6\", \"width\": 0.5}}, \"type\": \"bar\"}], \"barpolar\": [{\"marker\": {\"line\": {\"color\": \"#E5ECF6\", \"width\": 0.5}}, \"type\": \"barpolar\"}], \"carpet\": [{\"aaxis\": {\"endlinecolor\": \"#2a3f5f\", \"gridcolor\": \"white\", \"linecolor\": \"white\", \"minorgridcolor\": \"white\", \"startlinecolor\": \"#2a3f5f\"}, \"baxis\": {\"endlinecolor\": \"#2a3f5f\", \"gridcolor\": \"white\", \"linecolor\": \"white\", \"minorgridcolor\": \"white\", \"startlinecolor\": \"#2a3f5f\"}, \"type\": \"carpet\"}], \"choropleth\": [{\"colorbar\": {\"outlinewidth\": 0, \"ticks\": \"\"}, \"type\": \"choropleth\"}], \"contour\": [{\"colorbar\": {\"outlinewidth\": 0, \"ticks\": \"\"}, \"colorscale\": [[0.0, \"#0d0887\"], [0.1111111111111111, \"#46039f\"], [0.2222222222222222, \"#7201a8\"], [0.3333333333333333, \"#9c179e\"], [0.4444444444444444, \"#bd3786\"], [0.5555555555555556, \"#d8576b\"], [0.6666666666666666, \"#ed7953\"], [0.7777777777777778, \"#fb9f3a\"], [0.8888888888888888, \"#fdca26\"], [1.0, \"#f0f921\"]], \"type\": \"contour\"}], \"contourcarpet\": [{\"colorbar\": {\"outlinewidth\": 0, \"ticks\": \"\"}, \"type\": \"contourcarpet\"}], \"heatmap\": [{\"colorbar\": {\"outlinewidth\": 0, \"ticks\": \"\"}, \"colorscale\": [[0.0, \"#0d0887\"], [0.1111111111111111, \"#46039f\"], [0.2222222222222222, \"#7201a8\"], [0.3333333333333333, \"#9c179e\"], [0.4444444444444444, \"#bd3786\"], [0.5555555555555556, \"#d8576b\"], [0.6666666666666666, \"#ed7953\"], [0.7777777777777778, \"#fb9f3a\"], [0.8888888888888888, \"#fdca26\"], [1.0, \"#f0f921\"]], \"type\": \"heatmap\"}], \"heatmapgl\": [{\"colorbar\": {\"outlinewidth\": 0, \"ticks\": \"\"}, \"colorscale\": [[0.0, \"#0d0887\"], [0.1111111111111111, \"#46039f\"], [0.2222222222222222, \"#7201a8\"], [0.3333333333333333, \"#9c179e\"], [0.4444444444444444, \"#bd3786\"], [0.5555555555555556, \"#d8576b\"], [0.6666666666666666, \"#ed7953\"], [0.7777777777777778, \"#fb9f3a\"], [0.8888888888888888, \"#fdca26\"], [1.0, \"#f0f921\"]], \"type\": \"heatmapgl\"}], \"histogram\": [{\"marker\": {\"colorbar\": {\"outlinewidth\": 0, \"ticks\": \"\"}}, \"type\": \"histogram\"}], \"histogram2d\": [{\"colorbar\": {\"outlinewidth\": 0, \"ticks\": \"\"}, \"colorscale\": [[0.0, \"#0d0887\"], [0.1111111111111111, \"#46039f\"], [0.2222222222222222, \"#7201a8\"], [0.3333333333333333, \"#9c179e\"], [0.4444444444444444, \"#bd3786\"], [0.5555555555555556, \"#d8576b\"], [0.6666666666666666, \"#ed7953\"], [0.7777777777777778, \"#fb9f3a\"], [0.8888888888888888, \"#fdca26\"], [1.0, \"#f0f921\"]], \"type\": \"histogram2d\"}], \"histogram2dcontour\": [{\"colorbar\": {\"outlinewidth\": 0, \"ticks\": \"\"}, \"colorscale\": [[0.0, \"#0d0887\"], [0.1111111111111111, \"#46039f\"], [0.2222222222222222, \"#7201a8\"], [0.3333333333333333, \"#9c179e\"], [0.4444444444444444, \"#bd3786\"], [0.5555555555555556, \"#d8576b\"], [0.6666666666666666, \"#ed7953\"], [0.7777777777777778, \"#fb9f3a\"], [0.8888888888888888, \"#fdca26\"], [1.0, \"#f0f921\"]], \"type\": \"histogram2dcontour\"}], \"mesh3d\": [{\"colorbar\": {\"outlinewidth\": 0, \"ticks\": \"\"}, \"type\": \"mesh3d\"}], \"parcoords\": [{\"line\": {\"colorbar\": {\"outlinewidth\": 0, \"ticks\": \"\"}}, \"type\": \"parcoords\"}], \"pie\": [{\"automargin\": true, \"type\": \"pie\"}], \"scatter\": [{\"marker\": {\"colorbar\": {\"outlinewidth\": 0, \"ticks\": \"\"}}, \"type\": \"scatter\"}], \"scatter3d\": [{\"line\": {\"colorbar\": {\"outlinewidth\": 0, \"ticks\": \"\"}}, \"marker\": {\"colorbar\": {\"outlinewidth\": 0, \"ticks\": \"\"}}, \"type\": \"scatter3d\"}], \"scattercarpet\": [{\"marker\": {\"colorbar\": {\"outlinewidth\": 0, \"ticks\": \"\"}}, \"type\": \"scattercarpet\"}], \"scattergeo\": [{\"marker\": {\"colorbar\": {\"outlinewidth\": 0, \"ticks\": \"\"}}, \"type\": \"scattergeo\"}], \"scattergl\": [{\"marker\": {\"colorbar\": {\"outlinewidth\": 0, \"ticks\": \"\"}}, \"type\": \"scattergl\"}], \"scattermapbox\": [{\"marker\": {\"colorbar\": {\"outlinewidth\": 0, \"ticks\": \"\"}}, \"type\": \"scattermapbox\"}], \"scatterpolar\": [{\"marker\": {\"colorbar\": {\"outlinewidth\": 0, \"ticks\": \"\"}}, \"type\": \"scatterpolar\"}], \"scatterpolargl\": [{\"marker\": {\"colorbar\": {\"outlinewidth\": 0, \"ticks\": \"\"}}, \"type\": \"scatterpolargl\"}], \"scatterternary\": [{\"marker\": {\"colorbar\": {\"outlinewidth\": 0, \"ticks\": \"\"}}, \"type\": \"scatterternary\"}], \"surface\": [{\"colorbar\": {\"outlinewidth\": 0, \"ticks\": \"\"}, \"colorscale\": [[0.0, \"#0d0887\"], [0.1111111111111111, \"#46039f\"], [0.2222222222222222, \"#7201a8\"], [0.3333333333333333, \"#9c179e\"], [0.4444444444444444, \"#bd3786\"], [0.5555555555555556, \"#d8576b\"], [0.6666666666666666, \"#ed7953\"], [0.7777777777777778, \"#fb9f3a\"], [0.8888888888888888, \"#fdca26\"], [1.0, \"#f0f921\"]], \"type\": \"surface\"}], \"table\": [{\"cells\": {\"fill\": {\"color\": \"#EBF0F8\"}, \"line\": {\"color\": \"white\"}}, \"header\": {\"fill\": {\"color\": \"#C8D4E3\"}, \"line\": {\"color\": \"white\"}}, \"type\": \"table\"}]}, \"layout\": {\"annotationdefaults\": {\"arrowcolor\": \"#2a3f5f\", \"arrowhead\": 0, \"arrowwidth\": 1}, \"coloraxis\": {\"colorbar\": {\"outlinewidth\": 0, \"ticks\": \"\"}}, \"colorscale\": {\"diverging\": [[0, \"#8e0152\"], [0.1, \"#c51b7d\"], [0.2, \"#de77ae\"], [0.3, \"#f1b6da\"], [0.4, \"#fde0ef\"], [0.5, \"#f7f7f7\"], [0.6, \"#e6f5d0\"], [0.7, \"#b8e186\"], [0.8, \"#7fbc41\"], [0.9, \"#4d9221\"], [1, \"#276419\"]], \"sequential\": [[0.0, \"#0d0887\"], [0.1111111111111111, \"#46039f\"], [0.2222222222222222, \"#7201a8\"], [0.3333333333333333, \"#9c179e\"], [0.4444444444444444, \"#bd3786\"], [0.5555555555555556, \"#d8576b\"], [0.6666666666666666, \"#ed7953\"], [0.7777777777777778, \"#fb9f3a\"], [0.8888888888888888, \"#fdca26\"], [1.0, \"#f0f921\"]], \"sequentialminus\": [[0.0, \"#0d0887\"], [0.1111111111111111, \"#46039f\"], [0.2222222222222222, \"#7201a8\"], [0.3333333333333333, \"#9c179e\"], [0.4444444444444444, \"#bd3786\"], [0.5555555555555556, \"#d8576b\"], [0.6666666666666666, \"#ed7953\"], [0.7777777777777778, \"#fb9f3a\"], [0.8888888888888888, \"#fdca26\"], [1.0, \"#f0f921\"]]}, \"colorway\": [\"#636efa\", \"#EF553B\", \"#00cc96\", \"#ab63fa\", \"#FFA15A\", \"#19d3f3\", \"#FF6692\", \"#B6E880\", \"#FF97FF\", \"#FECB52\"], \"font\": {\"color\": \"#2a3f5f\"}, \"geo\": {\"bgcolor\": \"white\", \"lakecolor\": \"white\", \"landcolor\": \"#E5ECF6\", \"showlakes\": true, \"showland\": true, \"subunitcolor\": \"white\"}, \"hoverlabel\": {\"align\": \"left\"}, \"hovermode\": \"closest\", \"mapbox\": {\"style\": \"light\"}, \"paper_bgcolor\": \"white\", \"plot_bgcolor\": \"#E5ECF6\", \"polar\": {\"angularaxis\": {\"gridcolor\": \"white\", \"linecolor\": \"white\", \"ticks\": \"\"}, \"bgcolor\": \"#E5ECF6\", \"radialaxis\": {\"gridcolor\": \"white\", \"linecolor\": \"white\", \"ticks\": \"\"}}, \"scene\": {\"xaxis\": {\"backgroundcolor\": \"#E5ECF6\", \"gridcolor\": \"white\", \"gridwidth\": 2, \"linecolor\": \"white\", \"showbackground\": true, \"ticks\": \"\", \"zerolinecolor\": \"white\"}, \"yaxis\": {\"backgroundcolor\": \"#E5ECF6\", \"gridcolor\": \"white\", \"gridwidth\": 2, \"linecolor\": \"white\", \"showbackground\": true, \"ticks\": \"\", \"zerolinecolor\": \"white\"}, \"zaxis\": {\"backgroundcolor\": \"#E5ECF6\", \"gridcolor\": \"white\", \"gridwidth\": 2, \"linecolor\": \"white\", \"showbackground\": true, \"ticks\": \"\", \"zerolinecolor\": \"white\"}}, \"shapedefaults\": {\"line\": {\"color\": \"#2a3f5f\"}}, \"ternary\": {\"aaxis\": {\"gridcolor\": \"white\", \"linecolor\": \"white\", \"ticks\": \"\"}, \"baxis\": {\"gridcolor\": \"white\", \"linecolor\": \"white\", \"ticks\": \"\"}, \"bgcolor\": \"#E5ECF6\", \"caxis\": {\"gridcolor\": \"white\", \"linecolor\": \"white\", \"ticks\": \"\"}}, \"title\": {\"x\": 0.05}, \"xaxis\": {\"automargin\": true, \"gridcolor\": \"white\", \"linecolor\": \"white\", \"ticks\": \"\", \"title\": {\"standoff\": 15}, \"zerolinecolor\": \"white\", \"zerolinewidth\": 2}, \"yaxis\": {\"automargin\": true, \"gridcolor\": \"white\", \"linecolor\": \"white\", \"ticks\": \"\", \"title\": {\"standoff\": 15}, \"zerolinecolor\": \"white\", \"zerolinewidth\": 2}}}},\n",
              "                        {\"responsive\": true}\n",
              "                    ).then(function(){\n",
              "                            \n",
              "var gd = document.getElementById('62d9f836-fe90-4cd3-8086-9288d4564b96');\n",
              "var x = new MutationObserver(function (mutations, observer) {{\n",
              "        var display = window.getComputedStyle(gd).display;\n",
              "        if (!display || display === 'none') {{\n",
              "            console.log([gd, 'removed!']);\n",
              "            Plotly.purge(gd);\n",
              "            observer.disconnect();\n",
              "        }}\n",
              "}});\n",
              "\n",
              "// Listen for the removal of the full notebook cells\n",
              "var notebookContainer = gd.closest('#notebook-container');\n",
              "if (notebookContainer) {{\n",
              "    x.observe(notebookContainer, {childList: true});\n",
              "}}\n",
              "\n",
              "// Listen for the clearing of the current output cell\n",
              "var outputEl = gd.closest('.output');\n",
              "if (outputEl) {{\n",
              "    x.observe(outputEl, {childList: true});\n",
              "}}\n",
              "\n",
              "                        })\n",
              "                };\n",
              "                \n",
              "            </script>\n",
              "        </div>\n",
              "</body>\n",
              "</html>"
            ]
          },
          "metadata": {
            "tags": []
          }
        }
      ]
    },
    {
      "cell_type": "code",
      "metadata": {
        "id": "MN3o0TTdQAYz"
      },
      "source": [
        "#Pie Chart percent correct based on ethnicity"
      ],
      "execution_count": null,
      "outputs": []
    },
    {
      "cell_type": "code",
      "metadata": {
        "colab": {
          "base_uri": "https://localhost:8080/",
          "height": 542
        },
        "id": "nnszYpvQIvCt",
        "outputId": "929c3226-345b-4134-89ed-36a3720723bd"
      },
      "source": [
        "px.pie(dataset, values = \"percent correct\", names = \"race/ethnicity\")"
      ],
      "execution_count": null,
      "outputs": [
        {
          "output_type": "display_data",
          "data": {
            "text/html": [
              "<html>\n",
              "<head><meta charset=\"utf-8\" /></head>\n",
              "<body>\n",
              "    <div>\n",
              "            <script src=\"https://cdnjs.cloudflare.com/ajax/libs/mathjax/2.7.5/MathJax.js?config=TeX-AMS-MML_SVG\"></script><script type=\"text/javascript\">if (window.MathJax) {MathJax.Hub.Config({SVG: {font: \"STIX-Web\"}});}</script>\n",
              "                <script type=\"text/javascript\">window.PlotlyConfig = {MathJaxConfig: 'local'};</script>\n",
              "        <script src=\"https://cdn.plot.ly/plotly-latest.min.js\"></script>    \n",
              "            <div id=\"963d2b27-01f4-453a-83b3-a8c8d52c9363\" class=\"plotly-graph-div\" style=\"height:525px; width:100%;\"></div>\n",
              "            <script type=\"text/javascript\">\n",
              "                \n",
              "                    window.PLOTLYENV=window.PLOTLYENV || {};\n",
              "                    \n",
              "                if (document.getElementById(\"963d2b27-01f4-453a-83b3-a8c8d52c9363\")) {\n",
              "                    Plotly.newPlot(\n",
              "                        '963d2b27-01f4-453a-83b3-a8c8d52c9363',\n",
              "                        [{\"domain\": {\"x\": [0.0, 1.0], \"y\": [0.0, 1.0]}, \"hoverlabel\": {\"namelength\": 0}, \"hovertemplate\": \"race/ethnicity=%{label}<br>percent correct=%{value}\", \"labels\": [\"group B\", \"group C\", \"group B\", \"group A\", \"group C\", \"group B\", \"group B\", \"group B\", \"group D\", \"group B\", \"group C\", \"group D\", \"group B\", \"group A\", \"group A\", \"group C\", \"group C\", \"group B\", \"group C\", \"group C\", \"group D\", \"group B\", \"group D\", \"group C\", \"group D\", \"group A\", \"group B\", \"group C\", \"group C\", \"group D\", \"group D\", \"group B\", \"group E\", \"group D\", \"group E\", \"group E\", \"group D\", \"group D\", \"group D\", \"group B\", \"group C\", \"group C\", \"group B\", \"group B\", \"group E\", \"group B\", \"group A\", \"group C\", \"group D\", \"group C\", \"group E\", \"group E\", \"group C\", \"group D\", \"group C\", \"group C\", \"group E\", \"group D\", \"group D\", \"group C\", \"group E\", \"group A\", \"group A\", \"group C\", \"group D\", \"group B\", \"group D\", \"group C\", \"group B\", \"group C\", \"group D\", \"group D\", \"group A\", \"group C\", \"group C\", \"group B\", \"group E\", \"group A\", \"group D\", \"group E\", \"group B\", \"group B\", \"group A\", \"group E\", \"group D\", \"group C\", \"group C\", \"group D\", \"group A\", \"group D\", \"group C\", \"group C\", \"group C\", \"group C\", \"group B\", \"group C\", \"group B\", \"group E\", \"group D\", \"group D\", \"group B\", \"group D\", \"group D\", \"group B\", \"group C\", \"group C\", \"group D\", \"group E\", \"group B\", \"group B\", \"group D\", \"group C\", \"group A\", \"group D\", \"group E\", \"group C\", \"group B\", \"group D\", \"group D\", \"group C\", \"group C\", \"group B\", \"group C\", \"group D\", \"group E\", \"group B\", \"group B\", \"group D\", \"group D\", \"group A\", \"group D\", \"group C\", \"group E\", \"group C\", \"group D\", \"group C\", \"group B\", \"group E\", \"group C\", \"group D\", \"group D\", \"group C\", \"group E\", \"group A\", \"group D\", \"group C\", \"group B\", \"group C\", \"group D\", \"group E\", \"group A\", \"group A\", \"group B\", \"group D\", \"group D\", \"group C\", \"group E\", \"group B\", \"group B\", \"group D\", \"group B\", \"group E\", \"group B\", \"group C\", \"group E\", \"group C\", \"group C\", \"group B\", \"group B\", \"group C\", \"group A\", \"group E\", \"group D\", \"group C\", \"group C\", \"group C\", \"group B\", \"group C\", \"group B\", \"group D\", \"group C\", \"group C\", \"group E\", \"group D\", \"group C\", \"group C\", \"group E\", \"group D\", \"group B\", \"group C\", \"group E\", \"group D\", \"group B\", \"group D\", \"group C\", \"group D\", \"group C\", \"group E\", \"group B\", \"group B\", \"group C\", \"group D\", \"group C\", \"group B\", \"group C\", \"group D\", \"group E\", \"group E\", \"group B\", \"group B\", \"group D\", \"group C\", \"group C\", \"group C\", \"group E\", \"group B\", \"group E\", \"group C\", \"group B\", \"group B\", \"group D\", \"group B\", \"group C\", \"group D\", \"group B\", \"group E\", \"group C\", \"group D\", \"group A\", \"group C\", \"group D\", \"group C\", \"group B\", \"group E\", \"group C\", \"group D\", \"group D\", \"group D\", \"group B\", \"group C\", \"group D\", \"group E\", \"group D\", \"group E\", \"group D\", \"group C\", \"group E\", \"group B\", \"group B\", \"group C\", \"group A\", \"group D\", \"group B\", \"group D\", \"group D\", \"group E\", \"group C\", \"group C\", \"group B\", \"group C\", \"group C\", \"group C\", \"group C\", \"group E\", \"group D\", \"group D\", \"group C\", \"group D\", \"group D\", \"group E\", \"group C\", \"group C\", \"group D\", \"group D\", \"group B\", \"group C\", \"group C\", \"group E\", \"group C\", \"group B\", \"group D\", \"group D\", \"group D\", \"group D\", \"group B\", \"group B\", \"group E\", \"group B\", \"group B\", \"group E\", \"group C\", \"group D\", \"group C\", \"group E\", \"group D\", \"group B\", \"group A\", \"group E\", \"group C\", \"group D\", \"group A\", \"group D\", \"group C\", \"group B\", \"group C\", \"group A\", \"group E\", \"group C\", \"group B\", \"group D\", \"group B\", \"group B\", \"group D\", \"group C\", \"group C\", \"group C\", \"group D\", \"group C\", \"group B\", \"group D\", \"group C\", \"group E\", \"group C\", \"group C\", \"group C\", \"group C\", \"group C\", \"group A\", \"group C\", \"group B\", \"group C\", \"group C\", \"group E\", \"group B\", \"group C\", \"group B\", \"group D\", \"group C\", \"group B\", \"group D\", \"group C\", \"group C\", \"group B\", \"group D\", \"group D\", \"group C\", \"group B\", \"group C\", \"group D\", \"group E\", \"group B\", \"group E\", \"group C\", \"group C\", \"group C\", \"group B\", \"group A\", \"group C\", \"group D\", \"group D\", \"group B\", \"group B\", \"group C\", \"group D\", \"group C\", \"group A\", \"group C\", \"group C\", \"group A\", \"group D\", \"group E\", \"group C\", \"group D\", \"group D\", \"group D\", \"group E\", \"group D\", \"group D\", \"group A\", \"group A\", \"group B\", \"group C\", \"group C\", \"group E\", \"group A\", \"group E\", \"group E\", \"group C\", \"group D\", \"group D\", \"group E\", \"group D\", \"group E\", \"group C\", \"group C\", \"group A\", \"group B\", \"group C\", \"group B\", \"group D\", \"group C\", \"group A\", \"group A\", \"group D\", \"group C\", \"group C\", \"group B\", \"group B\", \"group D\", \"group D\", \"group D\", \"group E\", \"group D\", \"group B\", \"group C\", \"group E\", \"group C\", \"group C\", \"group D\", \"group E\", \"group C\", \"group D\", \"group D\", \"group A\", \"group B\", \"group C\", \"group C\", \"group C\", \"group A\", \"group C\", \"group C\", \"group C\", \"group C\", \"group A\", \"group C\", \"group C\", \"group D\", \"group D\", \"group C\", \"group D\", \"group C\", \"group D\", \"group A\", \"group B\", \"group A\", \"group C\", \"group D\", \"group C\", \"group B\", \"group B\", \"group C\", \"group E\", \"group C\", \"group C\", \"group C\", \"group C\", \"group D\", \"group D\", \"group E\", \"group B\", \"group C\", \"group B\", \"group E\", \"group C\", \"group A\", \"group C\", \"group D\", \"group A\", \"group A\", \"group C\", \"group C\", \"group C\", \"group C\", \"group D\", \"group B\", \"group D\", \"group E\", \"group D\", \"group D\", \"group E\", \"group B\", \"group D\", \"group C\", \"group A\", \"group B\", \"group C\", \"group D\", \"group C\", \"group B\", \"group A\", \"group A\", \"group C\", \"group C\", \"group C\", \"group B\", \"group D\", \"group C\", \"group D\", \"group B\", \"group E\", \"group D\", \"group B\", \"group C\", \"group E\", \"group D\", \"group B\", \"group A\", \"group B\", \"group C\", \"group C\", \"group D\", \"group A\", \"group D\", \"group B\", \"group B\", \"group C\", \"group D\", \"group E\", \"group D\", \"group B\", \"group D\", \"group C\", \"group D\", \"group C\", \"group C\", \"group E\", \"group C\", \"group C\", \"group D\", \"group C\", \"group C\", \"group C\", \"group E\", \"group E\", \"group B\", \"group C\", \"group C\", \"group D\", \"group E\", \"group A\", \"group C\", \"group D\", \"group C\", \"group D\", \"group D\", \"group E\", \"group A\", \"group C\", \"group C\", \"group C\", \"group C\", \"group B\", \"group B\", \"group D\", \"group E\", \"group C\", \"group C\", \"group C\", \"group B\", \"group D\", \"group D\", \"group C\", \"group C\", \"group D\", \"group B\", \"group B\", \"group E\", \"group D\", \"group B\", \"group D\", \"group B\", \"group A\", \"group C\", \"group C\", \"group E\", \"group A\", \"group A\", \"group B\", \"group B\", \"group D\", \"group D\", \"group E\", \"group D\", \"group D\", \"group D\", \"group C\", \"group A\", \"group C\", \"group C\", \"group A\", \"group C\", \"group A\", \"group E\", \"group E\", \"group C\", \"group C\", \"group B\", \"group A\", \"group D\", \"group D\", \"group D\", \"group C\", \"group E\", \"group D\", \"group D\", \"group C\", \"group C\", \"group C\", \"group E\", \"group B\", \"group D\", \"group C\", \"group C\", \"group C\", \"group A\", \"group C\", \"group E\", \"group D\", \"group D\", \"group C\", \"group C\", \"group B\", \"group C\", \"group A\", \"group E\", \"group D\", \"group B\", \"group D\", \"group D\", \"group C\", \"group D\", \"group B\", \"group B\", \"group C\", \"group D\", \"group A\", \"group B\", \"group D\", \"group E\", \"group D\", \"group D\", \"group D\", \"group B\", \"group E\", \"group B\", \"group B\", \"group D\", \"group E\", \"group B\", \"group D\", \"group C\", \"group A\", \"group D\", \"group A\", \"group B\", \"group B\", \"group C\", \"group D\", \"group D\", \"group D\", \"group C\", \"group C\", \"group D\", \"group C\", \"group D\", \"group C\", \"group C\", \"group B\", \"group C\", \"group D\", \"group C\", \"group D\", \"group C\", \"group C\", \"group D\", \"group B\", \"group E\", \"group C\", \"group D\", \"group D\", \"group D\", \"group B\", \"group B\", \"group C\", \"group B\", \"group E\", \"group E\", \"group D\", \"group A\", \"group E\", \"group C\", \"group E\", \"group C\", \"group D\", \"group C\", \"group D\", \"group C\", \"group A\", \"group D\", \"group C\", \"group E\", \"group B\", \"group A\", \"group D\", \"group B\", \"group A\", \"group D\", \"group C\", \"group D\", \"group D\", \"group C\", \"group E\", \"group D\", \"group D\", \"group B\", \"group B\", \"group C\", \"group C\", \"group C\", \"group E\", \"group C\", \"group D\", \"group B\", \"group C\", \"group B\", \"group E\", \"group E\", \"group E\", \"group D\", \"group C\", \"group B\", \"group A\", \"group C\", \"group D\", \"group E\", \"group C\", \"group C\", \"group B\", \"group D\", \"group C\", \"group D\", \"group A\", \"group C\", \"group C\", \"group B\", \"group D\", \"group D\", \"group C\", \"group C\", \"group B\", \"group D\", \"group E\", \"group C\", \"group C\", \"group C\", \"group E\", \"group D\", \"group E\", \"group D\", \"group B\", \"group C\", \"group D\", \"group D\", \"group B\", \"group D\", \"group B\", \"group C\", \"group B\", \"group D\", \"group A\", \"group B\", \"group D\", \"group B\", \"group C\", \"group B\", \"group B\", \"group B\", \"group C\", \"group A\", \"group E\", \"group D\", \"group B\", \"group B\", \"group C\", \"group C\", \"group B\", \"group E\", \"group B\", \"group C\", \"group C\", \"group B\", \"group D\", \"group D\", \"group E\", \"group B\", \"group E\", \"group D\", \"group E\", \"group E\", \"group C\", \"group C\", \"group C\", \"group E\", \"group B\", \"group C\", \"group A\", \"group D\", \"group E\", \"group C\", \"group B\", \"group A\", \"group A\", \"group C\", \"group E\", \"group C\", \"group B\", \"group A\", \"group D\", \"group B\", \"group C\", \"group A\", \"group D\", \"group E\", \"group B\", \"group C\", \"group C\", \"group C\", \"group C\", \"group D\", \"group B\", \"group A\", \"group C\", \"group A\", \"group B\", \"group B\", \"group C\", \"group E\", \"group A\", \"group B\", \"group C\", \"group D\", \"group C\", \"group B\", \"group B\", \"group D\", \"group E\", \"group C\", \"group D\", \"group C\", \"group D\", \"group C\", \"group A\", \"group E\", \"group E\", \"group C\", \"group B\", \"group B\", \"group C\", \"group B\", \"group C\", \"group C\", \"group E\", \"group D\", \"group C\", \"group C\", \"group D\", \"group C\", \"group B\", \"group E\", \"group C\", \"group B\", \"group C\", \"group B\", \"group E\", \"group C\", \"group C\", \"group D\", \"group C\", \"group D\", \"group D\", \"group C\", \"group E\", \"group B\", \"group D\", \"group E\", \"group C\", \"group E\", \"group C\", \"group D\", \"group D\", \"group E\", \"group E\", \"group A\", \"group D\", \"group E\", \"group E\", \"group B\", \"group B\", \"group D\", \"group D\", \"group D\", \"group C\", \"group A\", \"group D\", \"group D\", \"group D\", \"group B\", \"group D\", \"group C\", \"group E\", \"group D\", \"group A\", \"group C\", \"group C\", \"group B\", \"group E\", \"group E\", \"group C\", \"group C\", \"group B\", \"group D\", \"group C\", \"group D\", \"group B\", \"group D\", \"group E\", \"group E\", \"group D\", \"group E\", \"group C\", \"group C\", \"group D\", \"group D\", \"group C\", \"group C\", \"group D\", \"group A\", \"group E\", \"group D\", \"group D\", \"group C\", \"group D\", \"group C\", \"group A\", \"group B\", \"group C\", \"group B\", \"group D\", \"group B\", \"group E\", \"group E\", \"group D\", \"group E\", \"group C\", \"group C\", \"group E\", \"group C\", \"group D\", \"group D\", \"group C\", \"group A\", \"group D\", \"group E\", \"group C\", \"group D\", \"group D\", \"group A\", \"group C\", \"group E\", \"group B\", \"group D\", \"group C\", \"group A\", \"group D\", \"group A\", \"group C\", \"group B\", \"group C\", \"group D\", \"group C\", \"group B\", \"group D\", \"group B\", \"group A\", \"group C\", \"group A\", \"group C\", \"group E\", \"group A\", \"group D\", \"group E\", \"group B\", \"group D\", \"group D\", \"group A\", \"group E\", \"group C\", \"group C\", \"group D\", \"group D\"], \"legendgroup\": \"\", \"name\": \"\", \"showlegend\": true, \"type\": \"pie\", \"values\": [0.7266666666666667, 0.8233333333333334, 0.9266666666666666, 0.49333333333333335, 0.7633333333333333, 0.7733333333333333, 0.9166666666666666, 0.4066666666666667, 0.65, 0.49333333333333335, 0.5466666666666666, 0.45, 0.73, 0.7333333333333333, 0.5366666666666666, 0.74, 0.8766666666666667, 0.26, 0.44666666666666666, 0.5766666666666667, 0.66, 0.7, 0.5033333333333333, 0.7166666666666667, 0.75, 0.73, 0.5933333333333334, 0.7033333333333334, 0.6833333333333333, 0.69, 0.7233333333333334, 0.63, 0.6433333333333333, 0.4, 0.8866666666666667, 0.8033333333333333, 0.7933333333333333, 0.5766666666666667, 0.8433333333333334, 0.5666666666666667, 0.5666666666666667, 0.6633333333333333, 0.5866666666666667, 0.6333333333333333, 0.5333333333333333, 0.5866666666666667, 0.6066666666666667, 0.71, 0.69, 0.8266666666666667, 0.52, 0.7133333333333334, 0.4633333333333333, 0.8033333333333333, 0.8066666666666666, 0.39, 0.8433333333333334, 0.52, 0.5833333333333334, 0.09, 0.75, 0.37333333333333335, 0.5933333333333334, 0.7333333333333333, 0.5866666666666667, 0.64, 0.39666666666666667, 0.6866666666666666, 0.5833333333333334, 0.5333333333333333, 0.6466666666666666, 0.6033333333333334, 0.4666666666666667, 0.58, 0.4633333333333333, 0.41, 0.26, 0.7966666666666666, 0.69, 0.66, 0.4866666666666667, 0.4633333333333333, 0.5033333333333333, 0.6633333333333333, 0.38333333333333336, 0.7833333333333333, 0.8233333333333334, 0.72, 0.65, 0.8033333333333333, 0.7033333333333334, 0.3233333333333333, 0.7366666666666667, 0.46, 0.8566666666666667, 0.8033333333333333, 0.6433333333333333, 0.6833333333333333, 0.6233333333333333, 0.6466666666666666, 0.71, 0.72, 0.8833333333333333, 0.5033333333333333, 0.9133333333333333, 0.6566666666666666, 0.9566666666666667, 0.6433333333333333, 0.66, 0.6866666666666666, 0.88, 0.5533333333333333, 0.5133333333333333, 0.5433333333333333, 0.9966666666666667, 0.7833333333333333, 0.8066666666666666, 0.7966666666666666, 0.5833333333333334, 0.63, 0.8666666666666667, 0.9066666666666666, 0.9133333333333333, 0.5866666666666667, 0.7866666666666666, 0.8933333333333333, 0.69, 0.72, 0.7933333333333333, 0.5033333333333333, 0.85, 0.43333333333333335, 0.77, 0.8, 0.76, 0.5366666666666666, 0.4866666666666667, 0.6033333333333334, 0.64, 0.67, 0.73, 0.6166666666666667, 0.5033333333333333, 0.49, 0.7966666666666666, 0.31333333333333335, 0.8233333333333334, 0.69, 0.7466666666666667, 0.9766666666666667, 0.66, 0.7066666666666667, 0.65, 0.5, 0.6333333333333333, 0.8233333333333334, 0.7266666666666667, 0.6, 0.78, 0.64, 0.78, 0.8266666666666667, 0.5133333333333333, 0.5133333333333333, 0.88, 0.9866666666666667, 0.5166666666666667, 0.7066666666666667, 0.7633333333333333, 0.7066666666666667, 0.73, 0.8666666666666667, 0.82, 0.6666666666666666, 0.49333333333333335, 0.8633333333333333, 0.5266666666666666, 0.75, 0.6133333333333333, 0.99, 0.6833333333333333, 0.5866666666666667, 0.49, 0.68, 0.4866666666666667, 0.6566666666666666, 0.7366666666666667, 0.6533333333333333, 0.48333333333333334, 0.84, 0.6666666666666666, 0.7933333333333333, 0.64, 0.67, 0.7933333333333333, 0.56, 0.6433333333333333, 0.54, 0.51, 0.7766666666666666, 0.79, 0.7433333333333333, 0.7166666666666667, 0.6466666666666666, 0.47333333333333333, 0.7433333333333333, 0.6866666666666666, 0.79, 0.77, 0.6166666666666667, 0.7933333333333333, 0.3, 0.5466666666666666, 0.5566666666666666, 0.8633333333333333, 0.8066666666666666, 0.8566666666666667, 0.38333333333333336, 0.71, 0.5766666666666667, 0.66, 0.8166666666666667, 0.6066666666666667, 0.8033333333333333, 0.6366666666666667, 0.5166666666666667, 0.7166666666666667, 0.5366666666666666, 0.68, 0.9233333333333333, 0.6866666666666666, 0.43666666666666665, 0.7866666666666666, 0.8566666666666667, 0.83, 0.7733333333333333, 0.6533333333333333, 0.66, 0.5233333333333333, 0.8133333333333334, 0.69, 0.82, 0.5433333333333333, 0.51, 0.7266666666666667, 0.7733333333333333, 0.7966666666666666, 0.6533333333333333, 0.6366666666666667, 0.6033333333333334, 0.48333333333333334, 0.79, 0.6666666666666666, 0.7733333333333333, 0.5266666666666666, 0.6833333333333333, 0.6833333333333333, 0.7733333333333333, 0.7433333333333333, 0.7566666666666667, 0.7333333333333333, 0.7866666666666666, 0.48333333333333334, 0.94, 0.7233333333333334, 0.47333333333333333, 0.73, 0.7266666666666667, 0.9166666666666666, 0.7233333333333334, 0.6433333333333333, 0.49666666666666665, 0.5266666666666666, 0.6866666666666666, 0.83, 0.78, 0.9, 0.6566666666666666, 0.77, 0.62, 0.49, 0.4633333333333333, 0.7866666666666666, 0.7533333333333333, 0.43, 0.8166666666666667, 0.89, 0.7933333333333333, 0.7966666666666666, 0.7666666666666667, 0.7133333333333334, 0.7633333333333333, 0.6, 0.71, 0.7833333333333333, 0.63, 0.43333333333333335, 0.71, 0.4533333333333333, 0.84, 0.8, 0.54, 0.7733333333333333, 0.7333333333333333, 0.7733333333333333, 0.6833333333333333, 0.89, 0.49, 0.6366666666666667, 0.5266666666666666, 0.7633333333333333, 0.61, 0.6533333333333333, 0.68, 0.66, 0.6733333333333333, 0.8333333333333334, 0.7766666666666666, 0.6766666666666666, 0.6133333333333333, 0.7666666666666667, 0.8, 0.7733333333333333, 0.49666666666666665, 0.43333333333333335, 0.8866666666666667, 0.6133333333333333, 0.23333333333333334, 0.78, 0.49, 0.64, 0.39666666666666667, 0.57, 0.83, 0.9033333333333333, 0.65, 0.7166666666666667, 0.4766666666666667, 0.2966666666666667, 0.5, 0.57, 0.6566666666666666, 0.73, 0.6866666666666666, 0.73, 0.7566666666666667, 0.6, 0.8866666666666667, 0.7166666666666667, 0.79, 0.62, 0.5833333333333334, 0.7366666666666667, 0.5366666666666666, 0.6666666666666666, 0.6766666666666666, 0.6166666666666667, 0.59, 0.6066666666666667, 0.8633333333333333, 0.5966666666666667, 0.8233333333333334, 0.56, 0.31, 0.59, 0.5566666666666666, 0.6, 0.6266666666666667, 0.5533333333333333, 0.8066666666666666, 0.7733333333333333, 0.6266666666666667, 0.7333333333333333, 0.9166666666666666, 0.6733333333333333, 0.43333333333333335, 0.84, 0.9333333333333333, 0.77, 0.64, 0.83, 0.94, 0.77, 0.44, 0.41333333333333333, 0.7266666666666667, 0.69, 0.6733333333333333, 0.6333333333333333, 0.7266666666666667, 0.6633333333333333, 0.74, 0.7, 0.5566666666666666, 0.72, 0.44666666666666666, 0.6, 0.8966666666666666, 0.6466666666666666, 0.5766666666666667, 0.6, 0.4633333333333333, 0.5633333333333334, 0.9566666666666667, 0.5833333333333334, 0.68, 0.6433333333333333, 0.7966666666666666, 0.55, 0.8533333333333334, 0.7166666666666667, 0.8166666666666667, 0.6566666666666666, 0.6566666666666666, 0.6733333333333333, 0.7533333333333333, 0.71, 0.7133333333333334, 0.63, 0.5566666666666666, 0.8933333333333333, 0.5966666666666667, 0.5733333333333334, 0.7466666666666667, 0.38, 0.6366666666666667, 0.85, 0.6833333333333333, 0.59, 0.6166666666666667, 0.63, 0.6766666666666666, 0.5733333333333334, 0.52, 0.6833333333333333, 0.5033333333333333, 0.69, 0.7133333333333334, 0.59, 0.8633333333333333, 0.7566666666666667, 0.7966666666666666, 0.67, 0.7733333333333333, 0.78, 0.7266666666666667, 0.65, 0.8233333333333334, 0.45, 0.7533333333333333, 0.78, 0.9633333333333334, 0.72, 0.5733333333333334, 0.5866666666666667, 0.4666666666666667, 0.8566666666666667, 0.5166666666666667, 1.0, 0.6833333333333333, 0.5533333333333333, 0.51, 0.7233333333333334, 0.86, 0.65, 0.8733333333333333, 0.31666666666666665, 0.68, 0.8333333333333334, 0.8033333333333333, 0.86, 0.6866666666666666, 0.7933333333333333, 0.6233333333333333, 0.9033333333333333, 0.7666666666666667, 0.68, 0.7333333333333333, 0.63, 0.7133333333333334, 0.7066666666666667, 0.5566666666666666, 0.6566666666666666, 0.5233333333333333, 0.5166666666666667, 0.7166666666666667, 0.5466666666666666, 0.6966666666666667, 0.58, 0.81, 0.7533333333333333, 0.66, 0.8533333333333334, 0.8633333333333333, 0.62, 0.66, 0.5133333333333333, 0.71, 0.6766666666666666, 0.73, 0.7833333333333333, 0.91, 0.5933333333333334, 0.92, 0.51, 0.8133333333333334, 0.68, 0.56, 0.78, 0.8833333333333333, 0.7333333333333333, 0.5233333333333333, 0.5433333333333333, 0.59, 0.8933333333333333, 0.8266666666666667, 0.8233333333333334, 0.71, 0.74, 0.7466666666666667, 0.5733333333333334, 0.87, 0.6133333333333333, 0.5433333333333333, 0.5133333333333333, 0.6233333333333333, 0.59, 0.44, 0.39, 0.6866666666666666, 0.6933333333333334, 0.5133333333333333, 0.6033333333333334, 0.87, 0.7, 0.7733333333333333, 0.5633333333333334, 0.5966666666666667, 0.74, 0.9166666666666666, 0.7066666666666667, 0.8033333333333333, 0.79, 0.8866666666666667, 0.6433333333333333, 0.8033333333333333, 0.9633333333333334, 0.6766666666666666, 0.6433333333333333, 0.7333333333333333, 0.7333333333333333, 0.8833333333333333, 0.46, 0.6766666666666666, 0.46, 0.3466666666666667, 0.6866666666666666, 0.6466666666666666, 0.6433333333333333, 0.67, 0.76, 0.7033333333333334, 0.9266666666666666, 0.7433333333333333, 0.48333333333333334, 0.4533333333333333, 0.9733333333333334, 0.7, 0.5266666666666666, 0.6766666666666666, 0.72, 0.93, 0.57, 0.6, 0.7533333333333333, 0.49333333333333335, 0.5466666666666666, 0.87, 0.54, 0.6066666666666667, 0.9133333333333333, 0.7866666666666666, 0.7133333333333334, 0.76, 0.7433333333333333, 0.7233333333333334, 0.67, 0.5633333333333334, 0.61, 0.5966666666666667, 0.5633333333333334, 0.61, 0.6666666666666666, 0.7433333333333333, 0.97, 0.69, 0.23, 0.5166666666666667, 0.73, 0.76, 0.59, 0.29333333333333333, 0.78, 0.56, 0.8766666666666667, 0.6966666666666667, 0.8366666666666667, 0.5066666666666667, 0.6233333333333333, 0.62, 0.64, 0.61, 0.9166666666666666, 0.72, 0.8933333333333333, 0.6666666666666666, 0.4, 0.83, 0.8666666666666667, 0.6866666666666666, 0.5, 0.6033333333333334, 0.5366666666666666, 0.94, 0.6033333333333334, 0.9866666666666667, 0.6733333333333333, 0.5166666666666667, 0.5066666666666667, 0.5, 0.67, 0.68, 0.7366666666666667, 0.8266666666666667, 0.8266666666666667, 0.6966666666666667, 0.76, 0.8666666666666667, 0.7866666666666666, 0.7433333333333333, 0.48, 0.84, 0.7733333333333333, 0.7766666666666666, 0.65, 0.7566666666666667, 0.6466666666666666, 0.6466666666666666, 0.5266666666666666, 0.7633333333333333, 0.5333333333333333, 0.7466666666666667, 0.8966666666666666, 0.6966666666666667, 0.77, 0.6533333333333333, 0.6933333333333334, 0.6533333333333333, 0.5366666666666666, 0.8733333333333333, 0.7466666666666667, 0.6733333333333333, 0.65, 0.67, 0.6866666666666666, 0.5666666666666667, 0.69, 0.83, 0.6933333333333334, 0.7666666666666667, 0.7, 0.53, 0.7433333333333333, 0.7766666666666666, 0.7466666666666667, 0.6, 0.7566666666666667, 0.76, 0.78, 0.6133333333333333, 0.71, 0.6266666666666667, 0.57, 0.37666666666666665, 0.6533333333333333, 0.9766666666666667, 0.76, 0.76, 0.5166666666666667, 0.8866666666666667, 0.5166666666666667, 0.7566666666666667, 0.7366666666666667, 0.7566666666666667, 0.56, 0.8466666666666667, 0.8233333333333334, 0.67, 0.7133333333333334, 0.6366666666666667, 0.8066666666666666, 0.6533333333333333, 0.86, 0.6466666666666666, 0.62, 0.6633333333333333, 0.38666666666666666, 0.59, 0.85, 0.5366666666666666, 0.89, 0.8333333333333334, 0.99, 0.82, 0.68, 0.8566666666666667, 0.7433333333333333, 0.97, 0.7533333333333333, 0.8133333333333334, 0.68, 0.5766666666666667, 0.84, 0.4666666666666667, 0.43666666666666665, 0.7533333333333333, 0.7233333333333334, 0.5866666666666667, 0.83, 0.43, 0.75, 0.48, 0.9, 0.4866666666666667, 0.56, 0.61, 0.85, 0.64, 0.75, 0.5866666666666667, 0.75, 0.5, 0.8233333333333334, 0.68, 0.5233333333333333, 0.75, 0.7166666666666667, 0.67, 0.5633333333333334, 0.8566666666666667, 0.6933333333333334, 0.6833333333333333, 0.77, 0.84, 0.5533333333333333, 0.9033333333333333, 0.55, 0.7, 0.5866666666666667, 0.7433333333333333, 0.63, 0.5333333333333333, 0.8166666666666667, 0.6233333333333333, 0.6066666666666667, 0.7266666666666667, 0.7, 0.66, 0.7133333333333334, 0.5833333333333334, 0.49666666666666665, 0.74, 0.6366666666666667, 0.73, 0.6366666666666667, 0.54, 0.6933333333333334, 0.4066666666666667, 0.7766666666666666, 0.87, 0.53, 0.8366666666666667, 0.81, 0.5766666666666667, 0.8366666666666667, 0.42333333333333334, 0.76, 0.2966666666666667, 0.6466666666666666, 0.5933333333333334, 0.5666666666666667, 0.6533333333333333, 0.6966666666666667, 0.8333333333333334, 0.48333333333333334, 0.66, 0.7, 0.7833333333333333, 0.61, 0.5466666666666666, 0.6933333333333334, 0.7633333333333333, 0.92, 0.8466666666666667, 0.7566666666666667, 0.7666666666666667, 0.71, 0.42, 0.78, 0.5466666666666666, 0.3933333333333333, 0.47, 0.6166666666666667, 0.8233333333333334, 0.7833333333333333, 0.89, 0.56, 0.69, 0.6666666666666666, 0.8533333333333334, 0.89, 0.87, 0.5066666666666667, 0.8, 0.5266666666666666, 0.6233333333333333, 0.6466666666666666, 0.7, 0.7866666666666666, 0.5833333333333334, 0.5933333333333334, 0.83, 0.6066666666666667, 0.8266666666666667, 0.51, 0.66, 0.6466666666666666, 0.7866666666666666, 0.56, 0.72, 0.45666666666666667, 0.5766666666666667, 0.3433333333333333, 0.7566666666666667, 0.5633333333333334, 0.8633333333333333, 0.87, 0.56, 0.6633333333333333, 0.7466666666666667, 0.6833333333333333, 0.64, 0.8833333333333333, 0.7, 0.6033333333333334, 0.9666666666666667, 0.6933333333333334, 0.75, 0.49, 0.7733333333333333, 0.56, 0.8466666666666667, 0.39666666666666667, 0.74, 0.9366666666666666, 0.84, 0.5466666666666666, 0.48, 0.7466666666666667, 0.5033333333333333, 0.5466666666666666, 0.7266666666666667, 0.8133333333333334, 0.8733333333333333, 0.5533333333333333, 0.7, 0.8233333333333334, 0.5733333333333334, 0.7033333333333334, 0.7133333333333334, 0.6433333333333333, 0.7033333333333334, 0.6933333333333334, 0.48333333333333334, 0.52, 0.7266666666666667, 0.96, 0.6166666666666667, 0.6933333333333334, 0.4766666666666667, 0.8733333333333333, 0.8733333333333333, 0.6333333333333333, 0.79, 0.6333333333333333, 0.3466666666666667, 0.30666666666666664, 0.7333333333333333, 0.6133333333333333, 0.75, 0.86, 0.75, 0.41, 0.9766666666666667, 0.7833333333333333, 0.8066666666666666, 0.52, 0.8466666666666667, 0.7133333333333334, 0.68, 0.4666666666666667, 0.7833333333333333, 0.5966666666666667, 0.5833333333333334, 0.54, 0.68, 1.0, 0.5233333333333333, 0.7133333333333334, 0.9266666666666666, 0.6866666666666666, 0.44666666666666666, 0.68, 0.6133333333333333, 0.71, 0.66, 0.5733333333333334, 0.6566666666666666, 0.44333333333333336, 0.5166666666666667, 0.7033333333333334, 0.6033333333333334, 0.6833333333333333, 0.73, 0.9166666666666666, 0.6366666666666667, 0.59, 0.5733333333333334, 0.8366666666666667, 0.7133333333333334, 0.7, 0.8833333333333333, 0.7033333333333334, 0.6133333333333333, 0.6233333333333333, 0.5766666666666667, 0.8133333333333334, 0.5566666666666666, 0.5033333333333333, 0.6833333333333333, 0.7933333333333333, 0.7833333333333333, 0.7333333333333333, 0.5466666666666666, 0.6666666666666666, 0.6366666666666667, 0.84, 0.9733333333333334, 0.5566666666666666, 0.7566666666666667, 0.5933333333333334, 0.5166666666666667, 1.0, 0.72, 0.6233333333333333, 0.68, 0.66, 0.62, 0.7033333333333334, 0.7966666666666666, 0.9633333333333334, 0.73, 0.5433333333333333, 0.5833333333333334, 0.6133333333333333, 0.7433333333333333, 0.6066666666666667, 0.6166666666666667, 0.48, 0.9333333333333333, 0.18333333333333332, 0.79, 0.8333333333333334, 0.8533333333333334, 0.77, 0.54, 0.5, 0.7733333333333333, 0.44666666666666666, 0.7866666666666666, 0.8066666666666666, 0.75, 0.69, 0.6933333333333334, 0.6266666666666667, 0.94, 0.5733333333333334, 0.65, 0.7433333333333333, 0.83]}],\n",
              "                        {\"legend\": {\"tracegroupgap\": 0}, \"margin\": {\"t\": 60}, \"template\": {\"data\": {\"bar\": [{\"error_x\": {\"color\": \"#2a3f5f\"}, \"error_y\": {\"color\": \"#2a3f5f\"}, \"marker\": {\"line\": {\"color\": \"#E5ECF6\", \"width\": 0.5}}, \"type\": \"bar\"}], \"barpolar\": [{\"marker\": {\"line\": {\"color\": \"#E5ECF6\", \"width\": 0.5}}, \"type\": \"barpolar\"}], \"carpet\": [{\"aaxis\": {\"endlinecolor\": \"#2a3f5f\", \"gridcolor\": \"white\", \"linecolor\": \"white\", \"minorgridcolor\": \"white\", \"startlinecolor\": \"#2a3f5f\"}, \"baxis\": {\"endlinecolor\": \"#2a3f5f\", \"gridcolor\": \"white\", \"linecolor\": \"white\", \"minorgridcolor\": \"white\", \"startlinecolor\": \"#2a3f5f\"}, \"type\": \"carpet\"}], \"choropleth\": [{\"colorbar\": {\"outlinewidth\": 0, \"ticks\": \"\"}, \"type\": \"choropleth\"}], \"contour\": [{\"colorbar\": {\"outlinewidth\": 0, \"ticks\": \"\"}, \"colorscale\": [[0.0, \"#0d0887\"], [0.1111111111111111, \"#46039f\"], [0.2222222222222222, \"#7201a8\"], [0.3333333333333333, \"#9c179e\"], [0.4444444444444444, \"#bd3786\"], [0.5555555555555556, \"#d8576b\"], [0.6666666666666666, \"#ed7953\"], [0.7777777777777778, \"#fb9f3a\"], [0.8888888888888888, \"#fdca26\"], [1.0, \"#f0f921\"]], \"type\": \"contour\"}], \"contourcarpet\": [{\"colorbar\": {\"outlinewidth\": 0, \"ticks\": \"\"}, \"type\": \"contourcarpet\"}], \"heatmap\": [{\"colorbar\": {\"outlinewidth\": 0, \"ticks\": \"\"}, \"colorscale\": [[0.0, \"#0d0887\"], [0.1111111111111111, \"#46039f\"], [0.2222222222222222, \"#7201a8\"], [0.3333333333333333, \"#9c179e\"], [0.4444444444444444, \"#bd3786\"], [0.5555555555555556, \"#d8576b\"], [0.6666666666666666, \"#ed7953\"], [0.7777777777777778, \"#fb9f3a\"], [0.8888888888888888, \"#fdca26\"], [1.0, \"#f0f921\"]], \"type\": \"heatmap\"}], \"heatmapgl\": [{\"colorbar\": {\"outlinewidth\": 0, \"ticks\": \"\"}, \"colorscale\": [[0.0, \"#0d0887\"], [0.1111111111111111, \"#46039f\"], [0.2222222222222222, \"#7201a8\"], [0.3333333333333333, \"#9c179e\"], [0.4444444444444444, \"#bd3786\"], [0.5555555555555556, \"#d8576b\"], [0.6666666666666666, \"#ed7953\"], [0.7777777777777778, \"#fb9f3a\"], [0.8888888888888888, \"#fdca26\"], [1.0, \"#f0f921\"]], \"type\": \"heatmapgl\"}], \"histogram\": [{\"marker\": {\"colorbar\": {\"outlinewidth\": 0, \"ticks\": \"\"}}, \"type\": \"histogram\"}], \"histogram2d\": [{\"colorbar\": {\"outlinewidth\": 0, \"ticks\": \"\"}, \"colorscale\": [[0.0, \"#0d0887\"], [0.1111111111111111, \"#46039f\"], [0.2222222222222222, \"#7201a8\"], [0.3333333333333333, \"#9c179e\"], [0.4444444444444444, \"#bd3786\"], [0.5555555555555556, \"#d8576b\"], [0.6666666666666666, \"#ed7953\"], [0.7777777777777778, \"#fb9f3a\"], [0.8888888888888888, \"#fdca26\"], [1.0, \"#f0f921\"]], \"type\": \"histogram2d\"}], \"histogram2dcontour\": [{\"colorbar\": {\"outlinewidth\": 0, \"ticks\": \"\"}, \"colorscale\": [[0.0, \"#0d0887\"], [0.1111111111111111, \"#46039f\"], [0.2222222222222222, \"#7201a8\"], [0.3333333333333333, \"#9c179e\"], [0.4444444444444444, \"#bd3786\"], [0.5555555555555556, \"#d8576b\"], [0.6666666666666666, \"#ed7953\"], [0.7777777777777778, \"#fb9f3a\"], [0.8888888888888888, \"#fdca26\"], [1.0, \"#f0f921\"]], \"type\": \"histogram2dcontour\"}], \"mesh3d\": [{\"colorbar\": {\"outlinewidth\": 0, \"ticks\": \"\"}, \"type\": \"mesh3d\"}], \"parcoords\": [{\"line\": {\"colorbar\": {\"outlinewidth\": 0, \"ticks\": \"\"}}, \"type\": \"parcoords\"}], \"pie\": [{\"automargin\": true, \"type\": \"pie\"}], \"scatter\": [{\"marker\": {\"colorbar\": {\"outlinewidth\": 0, \"ticks\": \"\"}}, \"type\": \"scatter\"}], \"scatter3d\": [{\"line\": {\"colorbar\": {\"outlinewidth\": 0, \"ticks\": \"\"}}, \"marker\": {\"colorbar\": {\"outlinewidth\": 0, \"ticks\": \"\"}}, \"type\": \"scatter3d\"}], \"scattercarpet\": [{\"marker\": {\"colorbar\": {\"outlinewidth\": 0, \"ticks\": \"\"}}, \"type\": \"scattercarpet\"}], \"scattergeo\": [{\"marker\": {\"colorbar\": {\"outlinewidth\": 0, \"ticks\": \"\"}}, \"type\": \"scattergeo\"}], \"scattergl\": [{\"marker\": {\"colorbar\": {\"outlinewidth\": 0, \"ticks\": \"\"}}, \"type\": \"scattergl\"}], \"scattermapbox\": [{\"marker\": {\"colorbar\": {\"outlinewidth\": 0, \"ticks\": \"\"}}, \"type\": \"scattermapbox\"}], \"scatterpolar\": [{\"marker\": {\"colorbar\": {\"outlinewidth\": 0, \"ticks\": \"\"}}, \"type\": \"scatterpolar\"}], \"scatterpolargl\": [{\"marker\": {\"colorbar\": {\"outlinewidth\": 0, \"ticks\": \"\"}}, \"type\": \"scatterpolargl\"}], \"scatterternary\": [{\"marker\": {\"colorbar\": {\"outlinewidth\": 0, \"ticks\": \"\"}}, \"type\": \"scatterternary\"}], \"surface\": [{\"colorbar\": {\"outlinewidth\": 0, \"ticks\": \"\"}, \"colorscale\": [[0.0, \"#0d0887\"], [0.1111111111111111, \"#46039f\"], [0.2222222222222222, \"#7201a8\"], [0.3333333333333333, \"#9c179e\"], [0.4444444444444444, \"#bd3786\"], [0.5555555555555556, \"#d8576b\"], [0.6666666666666666, \"#ed7953\"], [0.7777777777777778, \"#fb9f3a\"], [0.8888888888888888, \"#fdca26\"], [1.0, \"#f0f921\"]], \"type\": \"surface\"}], \"table\": [{\"cells\": {\"fill\": {\"color\": \"#EBF0F8\"}, \"line\": {\"color\": \"white\"}}, \"header\": {\"fill\": {\"color\": \"#C8D4E3\"}, \"line\": {\"color\": \"white\"}}, \"type\": \"table\"}]}, \"layout\": {\"annotationdefaults\": {\"arrowcolor\": \"#2a3f5f\", \"arrowhead\": 0, \"arrowwidth\": 1}, \"coloraxis\": {\"colorbar\": {\"outlinewidth\": 0, \"ticks\": \"\"}}, \"colorscale\": {\"diverging\": [[0, \"#8e0152\"], [0.1, \"#c51b7d\"], [0.2, \"#de77ae\"], [0.3, \"#f1b6da\"], [0.4, \"#fde0ef\"], [0.5, \"#f7f7f7\"], [0.6, \"#e6f5d0\"], [0.7, \"#b8e186\"], [0.8, \"#7fbc41\"], [0.9, \"#4d9221\"], [1, \"#276419\"]], \"sequential\": [[0.0, \"#0d0887\"], [0.1111111111111111, \"#46039f\"], [0.2222222222222222, \"#7201a8\"], [0.3333333333333333, \"#9c179e\"], [0.4444444444444444, \"#bd3786\"], [0.5555555555555556, \"#d8576b\"], [0.6666666666666666, \"#ed7953\"], [0.7777777777777778, \"#fb9f3a\"], [0.8888888888888888, \"#fdca26\"], [1.0, \"#f0f921\"]], \"sequentialminus\": [[0.0, \"#0d0887\"], [0.1111111111111111, \"#46039f\"], [0.2222222222222222, \"#7201a8\"], [0.3333333333333333, \"#9c179e\"], [0.4444444444444444, \"#bd3786\"], [0.5555555555555556, \"#d8576b\"], [0.6666666666666666, \"#ed7953\"], [0.7777777777777778, \"#fb9f3a\"], [0.8888888888888888, \"#fdca26\"], [1.0, \"#f0f921\"]]}, \"colorway\": [\"#636efa\", \"#EF553B\", \"#00cc96\", \"#ab63fa\", \"#FFA15A\", \"#19d3f3\", \"#FF6692\", \"#B6E880\", \"#FF97FF\", \"#FECB52\"], \"font\": {\"color\": \"#2a3f5f\"}, \"geo\": {\"bgcolor\": \"white\", \"lakecolor\": \"white\", \"landcolor\": \"#E5ECF6\", \"showlakes\": true, \"showland\": true, \"subunitcolor\": \"white\"}, \"hoverlabel\": {\"align\": \"left\"}, \"hovermode\": \"closest\", \"mapbox\": {\"style\": \"light\"}, \"paper_bgcolor\": \"white\", \"plot_bgcolor\": \"#E5ECF6\", \"polar\": {\"angularaxis\": {\"gridcolor\": \"white\", \"linecolor\": \"white\", \"ticks\": \"\"}, \"bgcolor\": \"#E5ECF6\", \"radialaxis\": {\"gridcolor\": \"white\", \"linecolor\": \"white\", \"ticks\": \"\"}}, \"scene\": {\"xaxis\": {\"backgroundcolor\": \"#E5ECF6\", \"gridcolor\": \"white\", \"gridwidth\": 2, \"linecolor\": \"white\", \"showbackground\": true, \"ticks\": \"\", \"zerolinecolor\": \"white\"}, \"yaxis\": {\"backgroundcolor\": \"#E5ECF6\", \"gridcolor\": \"white\", \"gridwidth\": 2, \"linecolor\": \"white\", \"showbackground\": true, \"ticks\": \"\", \"zerolinecolor\": \"white\"}, \"zaxis\": {\"backgroundcolor\": \"#E5ECF6\", \"gridcolor\": \"white\", \"gridwidth\": 2, \"linecolor\": \"white\", \"showbackground\": true, \"ticks\": \"\", \"zerolinecolor\": \"white\"}}, \"shapedefaults\": {\"line\": {\"color\": \"#2a3f5f\"}}, \"ternary\": {\"aaxis\": {\"gridcolor\": \"white\", \"linecolor\": \"white\", \"ticks\": \"\"}, \"baxis\": {\"gridcolor\": \"white\", \"linecolor\": \"white\", \"ticks\": \"\"}, \"bgcolor\": \"#E5ECF6\", \"caxis\": {\"gridcolor\": \"white\", \"linecolor\": \"white\", \"ticks\": \"\"}}, \"title\": {\"x\": 0.05}, \"xaxis\": {\"automargin\": true, \"gridcolor\": \"white\", \"linecolor\": \"white\", \"ticks\": \"\", \"title\": {\"standoff\": 15}, \"zerolinecolor\": \"white\", \"zerolinewidth\": 2}, \"yaxis\": {\"automargin\": true, \"gridcolor\": \"white\", \"linecolor\": \"white\", \"ticks\": \"\", \"title\": {\"standoff\": 15}, \"zerolinecolor\": \"white\", \"zerolinewidth\": 2}}}},\n",
              "                        {\"responsive\": true}\n",
              "                    ).then(function(){\n",
              "                            \n",
              "var gd = document.getElementById('963d2b27-01f4-453a-83b3-a8c8d52c9363');\n",
              "var x = new MutationObserver(function (mutations, observer) {{\n",
              "        var display = window.getComputedStyle(gd).display;\n",
              "        if (!display || display === 'none') {{\n",
              "            console.log([gd, 'removed!']);\n",
              "            Plotly.purge(gd);\n",
              "            observer.disconnect();\n",
              "        }}\n",
              "}});\n",
              "\n",
              "// Listen for the removal of the full notebook cells\n",
              "var notebookContainer = gd.closest('#notebook-container');\n",
              "if (notebookContainer) {{\n",
              "    x.observe(notebookContainer, {childList: true});\n",
              "}}\n",
              "\n",
              "// Listen for the clearing of the current output cell\n",
              "var outputEl = gd.closest('.output');\n",
              "if (outputEl) {{\n",
              "    x.observe(outputEl, {childList: true});\n",
              "}}\n",
              "\n",
              "                        })\n",
              "                };\n",
              "                \n",
              "            </script>\n",
              "        </div>\n",
              "</body>\n",
              "</html>"
            ]
          },
          "metadata": {
            "tags": []
          }
        }
      ]
    },
    {
      "cell_type": "code",
      "metadata": {
        "id": "P51O5q-mQEnP"
      },
      "source": [
        "# Bar Chart of test prep"
      ],
      "execution_count": null,
      "outputs": []
    },
    {
      "cell_type": "code",
      "metadata": {
        "colab": {
          "base_uri": "https://localhost:8080/",
          "height": 542
        },
        "id": "_vqWfG-9Jlei",
        "outputId": "96327b3e-8643-413c-a0d9-731ce955004f"
      },
      "source": [
        "px.bar(dataset, x =\"test preparation course\", y = \"percent correct\")"
      ],
      "execution_count": null,
      "outputs": [
        {
          "output_type": "display_data",
          "data": {
            "text/html": [
              "<html>\n",
              "<head><meta charset=\"utf-8\" /></head>\n",
              "<body>\n",
              "    <div>\n",
              "            <script src=\"https://cdnjs.cloudflare.com/ajax/libs/mathjax/2.7.5/MathJax.js?config=TeX-AMS-MML_SVG\"></script><script type=\"text/javascript\">if (window.MathJax) {MathJax.Hub.Config({SVG: {font: \"STIX-Web\"}});}</script>\n",
              "                <script type=\"text/javascript\">window.PlotlyConfig = {MathJaxConfig: 'local'};</script>\n",
              "        <script src=\"https://cdn.plot.ly/plotly-latest.min.js\"></script>    \n",
              "            <div id=\"8527c6f3-5a5b-489b-854d-4c3deacd6f96\" class=\"plotly-graph-div\" style=\"height:525px; width:100%;\"></div>\n",
              "            <script type=\"text/javascript\">\n",
              "                \n",
              "                    window.PLOTLYENV=window.PLOTLYENV || {};\n",
              "                    \n",
              "                if (document.getElementById(\"8527c6f3-5a5b-489b-854d-4c3deacd6f96\")) {\n",
              "                    Plotly.newPlot(\n",
              "                        '8527c6f3-5a5b-489b-854d-4c3deacd6f96',\n",
              "                        [{\"alignmentgroup\": \"True\", \"hoverlabel\": {\"namelength\": 0}, \"hovertemplate\": \"test preparation course=%{x}<br>percent correct=%{y}\", \"legendgroup\": \"\", \"marker\": {\"color\": \"#636efa\"}, \"name\": \"\", \"offsetgroup\": \"\", \"orientation\": \"v\", \"showlegend\": false, \"textposition\": \"auto\", \"type\": \"bar\", \"x\": [\"none\", \"completed\", \"none\", \"none\", \"none\", \"none\", \"completed\", \"none\", \"completed\", \"none\", \"none\", \"none\", \"none\", \"completed\", \"none\", \"none\", \"none\", \"none\", \"completed\", \"none\", \"none\", \"completed\", \"none\", \"none\", \"completed\", \"none\", \"none\", \"none\", \"none\", \"none\", \"none\", \"none\", \"none\", \"none\", \"none\", \"completed\", \"none\", \"none\", \"completed\", \"none\", \"none\", \"none\", \"none\", \"completed\", \"none\", \"none\", \"completed\", \"none\", \"completed\", \"completed\", \"none\", \"completed\", \"none\", \"none\", \"completed\", \"none\", \"completed\", \"none\", \"completed\", \"none\", \"completed\", \"none\", \"none\", \"none\", \"none\", \"none\", \"none\", \"none\", \"none\", \"none\", \"completed\", \"completed\", \"none\", \"none\", \"none\", \"none\", \"none\", \"completed\", \"completed\", \"none\", \"none\", \"none\", \"completed\", \"none\", \"none\", \"none\", \"none\", \"none\", \"none\", \"none\", \"none\", \"none\", \"none\", \"completed\", \"none\", \"completed\", \"completed\", \"completed\", \"none\", \"none\", \"none\", \"completed\", \"none\", \"completed\", \"completed\", \"none\", \"none\", \"completed\", \"none\", \"none\", \"completed\", \"none\", \"none\", \"none\", \"completed\", \"none\", \"none\", \"none\", \"none\", \"none\", \"completed\", \"completed\", \"completed\", \"none\", \"none\", \"none\", \"none\", \"completed\", \"none\", \"none\", \"none\", \"completed\", \"completed\", \"completed\", \"completed\", \"none\", \"completed\", \"none\", \"none\", \"completed\", \"none\", \"none\", \"completed\", \"none\", \"none\", \"none\", \"none\", \"none\", \"completed\", \"completed\", \"completed\", \"none\", \"completed\", \"none\", \"none\", \"completed\", \"completed\", \"none\", \"completed\", \"none\", \"completed\", \"completed\", \"none\", \"none\", \"none\", \"completed\", \"completed\", \"completed\", \"completed\", \"completed\", \"completed\", \"none\", \"none\", \"none\", \"completed\", \"completed\", \"completed\", \"completed\", \"completed\", \"completed\", \"completed\", \"none\", \"none\", \"none\", \"completed\", \"completed\", \"none\", \"completed\", \"none\", \"none\", \"none\", \"completed\", \"none\", \"completed\", \"completed\", \"none\", \"completed\", \"none\", \"none\", \"none\", \"completed\", \"none\", \"none\", \"none\", \"none\", \"completed\", \"none\", \"completed\", \"none\", \"none\", \"completed\", \"none\", \"none\", \"completed\", \"completed\", \"completed\", \"completed\", \"none\", \"none\", \"completed\", \"completed\", \"none\", \"none\", \"none\", \"completed\", \"none\", \"none\", \"none\", \"none\", \"completed\", \"none\", \"none\", \"none\", \"none\", \"completed\", \"none\", \"none\", \"completed\", \"none\", \"none\", \"completed\", \"none\", \"none\", \"none\", \"none\", \"none\", \"none\", \"completed\", \"none\", \"none\", \"completed\", \"none\", \"completed\", \"none\", \"none\", \"none\", \"none\", \"completed\", \"none\", \"completed\", \"completed\", \"completed\", \"none\", \"none\", \"none\", \"none\", \"none\", \"none\", \"completed\", \"none\", \"none\", \"none\", \"none\", \"none\", \"completed\", \"none\", \"completed\", \"completed\", \"none\", \"none\", \"none\", \"none\", \"none\", \"completed\", \"none\", \"completed\", \"completed\", \"none\", \"none\", \"completed\", \"none\", \"none\", \"completed\", \"none\", \"completed\", \"none\", \"completed\", \"completed\", \"completed\", \"none\", \"completed\", \"none\", \"completed\", \"none\", \"completed\", \"none\", \"completed\", \"none\", \"none\", \"none\", \"none\", \"none\", \"completed\", \"completed\", \"completed\", \"none\", \"completed\", \"none\", \"none\", \"none\", \"completed\", \"none\", \"none\", \"none\", \"none\", \"none\", \"none\", \"none\", \"completed\", \"none\", \"none\", \"none\", \"completed\", \"none\", \"none\", \"none\", \"completed\", \"none\", \"none\", \"completed\", \"none\", \"none\", \"completed\", \"completed\", \"none\", \"none\", \"none\", \"completed\", \"none\", \"none\", \"none\", \"none\", \"completed\", \"none\", \"none\", \"none\", \"none\", \"completed\", \"none\", \"none\", \"none\", \"completed\", \"none\", \"none\", \"none\", \"completed\", \"completed\", \"none\", \"none\", \"none\", \"none\", \"completed\", \"none\", \"completed\", \"none\", \"none\", \"none\", \"completed\", \"none\", \"none\", \"none\", \"completed\", \"none\", \"none\", \"none\", \"none\", \"none\", \"none\", \"none\", \"none\", \"completed\", \"none\", \"none\", \"completed\", \"completed\", \"none\", \"none\", \"none\", \"none\", \"none\", \"completed\", \"none\", \"none\", \"completed\", \"none\", \"none\", \"completed\", \"none\", \"completed\", \"completed\", \"completed\", \"completed\", \"none\", \"completed\", \"completed\", \"none\", \"completed\", \"none\", \"none\", \"completed\", \"completed\", \"completed\", \"completed\", \"completed\", \"none\", \"none\", \"none\", \"none\", \"none\", \"none\", \"none\", \"none\", \"none\", \"none\", \"none\", \"completed\", \"none\", \"none\", \"none\", \"completed\", \"completed\", \"none\", \"none\", \"none\", \"none\", \"completed\", \"none\", \"completed\", \"none\", \"none\", \"completed\", \"none\", \"none\", \"none\", \"none\", \"none\", \"none\", \"none\", \"none\", \"completed\", \"none\", \"none\", \"none\", \"none\", \"completed\", \"none\", \"none\", \"completed\", \"completed\", \"none\", \"completed\", \"none\", \"completed\", \"none\", \"completed\", \"completed\", \"completed\", \"none\", \"none\", \"none\", \"completed\", \"none\", \"none\", \"none\", \"none\", \"none\", \"none\", \"none\", \"completed\", \"completed\", \"none\", \"none\", \"none\", \"none\", \"none\", \"completed\", \"none\", \"completed\", \"none\", \"none\", \"none\", \"completed\", \"none\", \"completed\", \"none\", \"none\", \"none\", \"none\", \"none\", \"none\", \"none\", \"none\", \"none\", \"completed\", \"completed\", \"completed\", \"none\", \"completed\", \"completed\", \"completed\", \"none\", \"none\", \"none\", \"none\", \"completed\", \"none\", \"completed\", \"none\", \"none\", \"none\", \"completed\", \"none\", \"completed\", \"completed\", \"completed\", \"completed\", \"completed\", \"none\", \"completed\", \"completed\", \"completed\", \"completed\", \"none\", \"none\", \"none\", \"completed\", \"completed\", \"completed\", \"none\", \"none\", \"none\", \"completed\", \"none\", \"none\", \"none\", \"none\", \"completed\", \"none\", \"none\", \"none\", \"completed\", \"none\", \"completed\", \"completed\", \"none\", \"none\", \"completed\", \"completed\", \"none\", \"none\", \"completed\", \"none\", \"none\", \"completed\", \"none\", \"completed\", \"completed\", \"none\", \"completed\", \"none\", \"none\", \"none\", \"none\", \"completed\", \"none\", \"none\", \"none\", \"none\", \"none\", \"none\", \"none\", \"none\", \"none\", \"none\", \"completed\", \"completed\", \"none\", \"none\", \"none\", \"none\", \"none\", \"none\", \"none\", \"none\", \"completed\", \"none\", \"none\", \"none\", \"none\", \"none\", \"completed\", \"none\", \"completed\", \"none\", \"none\", \"none\", \"none\", \"none\", \"none\", \"completed\", \"none\", \"none\", \"completed\", \"completed\", \"none\", \"completed\", \"completed\", \"none\", \"none\", \"completed\", \"none\", \"none\", \"completed\", \"none\", \"none\", \"none\", \"completed\", \"completed\", \"none\", \"none\", \"none\", \"completed\", \"none\", \"completed\", \"none\", \"completed\", \"none\", \"none\", \"none\", \"completed\", \"completed\", \"completed\", \"completed\", \"completed\", \"none\", \"none\", \"none\", \"none\", \"none\", \"none\", \"none\", \"none\", \"none\", \"none\", \"none\", \"completed\", \"completed\", \"none\", \"none\", \"completed\", \"none\", \"none\", \"none\", \"completed\", \"completed\", \"completed\", \"completed\", \"completed\", \"none\", \"none\", \"none\", \"none\", \"none\", \"completed\", \"completed\", \"completed\", \"completed\", \"none\", \"none\", \"none\", \"none\", \"none\", \"completed\", \"none\", \"none\", \"none\", \"completed\", \"none\", \"completed\", \"none\", \"completed\", \"none\", \"completed\", \"none\", \"completed\", \"none\", \"none\", \"none\", \"none\", \"completed\", \"completed\", \"completed\", \"none\", \"none\", \"completed\", \"completed\", \"completed\", \"completed\", \"none\", \"completed\", \"none\", \"completed\", \"completed\", \"none\", \"none\", \"completed\", \"completed\", \"completed\", \"none\", \"none\", \"completed\", \"none\", \"completed\", \"none\", \"none\", \"none\", \"none\", \"completed\", \"none\", \"none\", \"none\", \"none\", \"none\", \"completed\", \"none\", \"none\", \"none\", \"none\", \"none\", \"completed\", \"completed\", \"none\", \"completed\", \"completed\", \"none\", \"none\", \"none\", \"completed\", \"completed\", \"completed\", \"none\", \"none\", \"completed\", \"none\", \"none\", \"none\", \"completed\", \"completed\", \"none\", \"none\", \"none\", \"none\", \"completed\", \"none\", \"none\", \"none\", \"none\", \"none\", \"completed\", \"completed\", \"none\", \"none\", \"completed\", \"completed\", \"completed\", \"completed\", \"none\", \"none\", \"none\", \"none\", \"none\", \"none\", \"none\", \"completed\", \"none\", \"completed\", \"none\", \"none\", \"none\", \"none\", \"completed\", \"completed\", \"none\", \"none\", \"none\", \"none\", \"none\", \"none\", \"none\", \"none\", \"none\", \"none\", \"completed\", \"completed\", \"none\", \"completed\", \"none\", \"completed\", \"none\", \"none\", \"completed\", \"none\", \"completed\", \"none\", \"none\", \"none\", \"completed\", \"none\", \"completed\", \"none\", \"none\", \"completed\", \"none\", \"completed\", \"none\", \"completed\", \"none\", \"completed\", \"completed\", \"none\", \"none\", \"none\", \"completed\", \"completed\", \"completed\", \"none\", \"completed\", \"none\", \"none\", \"none\", \"none\", \"none\", \"none\", \"none\", \"none\", \"none\", \"none\", \"none\", \"completed\", \"none\", \"none\", \"none\", \"completed\", \"completed\", \"none\", \"completed\", \"none\", \"none\", \"completed\", \"none\", \"none\", \"completed\", \"completed\", \"none\", \"none\", \"none\", \"none\", \"none\", \"none\", \"none\", \"completed\", \"completed\", \"none\", \"none\", \"none\", \"completed\", \"completed\", \"none\", \"none\", \"none\", \"completed\", \"none\", \"none\", \"completed\", \"none\", \"none\", \"none\", \"completed\", \"completed\", \"completed\", \"none\", \"none\", \"completed\", \"completed\", \"none\", \"none\", \"none\", \"completed\", \"none\", \"completed\", \"none\", \"none\", \"completed\", \"completed\", \"none\", \"none\", \"completed\", \"none\", \"completed\", \"completed\", \"none\", \"none\", \"none\", \"none\", \"none\", \"completed\", \"none\", \"completed\", \"completed\", \"none\", \"completed\", \"none\", \"completed\", \"completed\", \"completed\", \"none\", \"none\", \"none\", \"completed\", \"completed\", \"completed\", \"none\", \"none\", \"completed\", \"none\", \"none\", \"none\", \"none\", \"completed\", \"completed\", \"none\", \"completed\", \"none\", \"completed\", \"none\", \"none\", \"none\", \"none\", \"none\", \"none\", \"none\", \"none\", \"none\", \"completed\", \"none\", \"none\", \"completed\", \"none\", \"none\", \"none\", \"none\", \"completed\", \"completed\", \"none\", \"none\", \"completed\", \"completed\", \"none\", \"completed\", \"none\", \"none\", \"none\", \"completed\", \"completed\", \"none\", \"none\", \"none\", \"completed\", \"none\", \"completed\", \"completed\", \"completed\", \"none\", \"none\", \"none\", \"completed\", \"none\", \"completed\", \"completed\", \"none\"], \"xaxis\": \"x\", \"y\": [0.7266666666666667, 0.8233333333333334, 0.9266666666666666, 0.49333333333333335, 0.7633333333333333, 0.7733333333333333, 0.9166666666666666, 0.4066666666666667, 0.65, 0.49333333333333335, 0.5466666666666666, 0.45, 0.73, 0.7333333333333333, 0.5366666666666666, 0.74, 0.8766666666666667, 0.26, 0.44666666666666666, 0.5766666666666667, 0.66, 0.7, 0.5033333333333333, 0.7166666666666667, 0.75, 0.73, 0.5933333333333334, 0.7033333333333334, 0.6833333333333333, 0.69, 0.7233333333333334, 0.63, 0.6433333333333333, 0.4, 0.8866666666666667, 0.8033333333333333, 0.7933333333333333, 0.5766666666666667, 0.8433333333333334, 0.5666666666666667, 0.5666666666666667, 0.6633333333333333, 0.5866666666666667, 0.6333333333333333, 0.5333333333333333, 0.5866666666666667, 0.6066666666666667, 0.71, 0.69, 0.8266666666666667, 0.52, 0.7133333333333334, 0.4633333333333333, 0.8033333333333333, 0.8066666666666666, 0.39, 0.8433333333333334, 0.52, 0.5833333333333334, 0.09, 0.75, 0.37333333333333335, 0.5933333333333334, 0.7333333333333333, 0.5866666666666667, 0.64, 0.39666666666666667, 0.6866666666666666, 0.5833333333333334, 0.5333333333333333, 0.6466666666666666, 0.6033333333333334, 0.4666666666666667, 0.58, 0.4633333333333333, 0.41, 0.26, 0.7966666666666666, 0.69, 0.66, 0.4866666666666667, 0.4633333333333333, 0.5033333333333333, 0.6633333333333333, 0.38333333333333336, 0.7833333333333333, 0.8233333333333334, 0.72, 0.65, 0.8033333333333333, 0.7033333333333334, 0.3233333333333333, 0.7366666666666667, 0.46, 0.8566666666666667, 0.8033333333333333, 0.6433333333333333, 0.6833333333333333, 0.6233333333333333, 0.6466666666666666, 0.71, 0.72, 0.8833333333333333, 0.5033333333333333, 0.9133333333333333, 0.6566666666666666, 0.9566666666666667, 0.6433333333333333, 0.66, 0.6866666666666666, 0.88, 0.5533333333333333, 0.5133333333333333, 0.5433333333333333, 0.9966666666666667, 0.7833333333333333, 0.8066666666666666, 0.7966666666666666, 0.5833333333333334, 0.63, 0.8666666666666667, 0.9066666666666666, 0.9133333333333333, 0.5866666666666667, 0.7866666666666666, 0.8933333333333333, 0.69, 0.72, 0.7933333333333333, 0.5033333333333333, 0.85, 0.43333333333333335, 0.77, 0.8, 0.76, 0.5366666666666666, 0.4866666666666667, 0.6033333333333334, 0.64, 0.67, 0.73, 0.6166666666666667, 0.5033333333333333, 0.49, 0.7966666666666666, 0.31333333333333335, 0.8233333333333334, 0.69, 0.7466666666666667, 0.9766666666666667, 0.66, 0.7066666666666667, 0.65, 0.5, 0.6333333333333333, 0.8233333333333334, 0.7266666666666667, 0.6, 0.78, 0.64, 0.78, 0.8266666666666667, 0.5133333333333333, 0.5133333333333333, 0.88, 0.9866666666666667, 0.5166666666666667, 0.7066666666666667, 0.7633333333333333, 0.7066666666666667, 0.73, 0.8666666666666667, 0.82, 0.6666666666666666, 0.49333333333333335, 0.8633333333333333, 0.5266666666666666, 0.75, 0.6133333333333333, 0.99, 0.6833333333333333, 0.5866666666666667, 0.49, 0.68, 0.4866666666666667, 0.6566666666666666, 0.7366666666666667, 0.6533333333333333, 0.48333333333333334, 0.84, 0.6666666666666666, 0.7933333333333333, 0.64, 0.67, 0.7933333333333333, 0.56, 0.6433333333333333, 0.54, 0.51, 0.7766666666666666, 0.79, 0.7433333333333333, 0.7166666666666667, 0.6466666666666666, 0.47333333333333333, 0.7433333333333333, 0.6866666666666666, 0.79, 0.77, 0.6166666666666667, 0.7933333333333333, 0.3, 0.5466666666666666, 0.5566666666666666, 0.8633333333333333, 0.8066666666666666, 0.8566666666666667, 0.38333333333333336, 0.71, 0.5766666666666667, 0.66, 0.8166666666666667, 0.6066666666666667, 0.8033333333333333, 0.6366666666666667, 0.5166666666666667, 0.7166666666666667, 0.5366666666666666, 0.68, 0.9233333333333333, 0.6866666666666666, 0.43666666666666665, 0.7866666666666666, 0.8566666666666667, 0.83, 0.7733333333333333, 0.6533333333333333, 0.66, 0.5233333333333333, 0.8133333333333334, 0.69, 0.82, 0.5433333333333333, 0.51, 0.7266666666666667, 0.7733333333333333, 0.7966666666666666, 0.6533333333333333, 0.6366666666666667, 0.6033333333333334, 0.48333333333333334, 0.79, 0.6666666666666666, 0.7733333333333333, 0.5266666666666666, 0.6833333333333333, 0.6833333333333333, 0.7733333333333333, 0.7433333333333333, 0.7566666666666667, 0.7333333333333333, 0.7866666666666666, 0.48333333333333334, 0.94, 0.7233333333333334, 0.47333333333333333, 0.73, 0.7266666666666667, 0.9166666666666666, 0.7233333333333334, 0.6433333333333333, 0.49666666666666665, 0.5266666666666666, 0.6866666666666666, 0.83, 0.78, 0.9, 0.6566666666666666, 0.77, 0.62, 0.49, 0.4633333333333333, 0.7866666666666666, 0.7533333333333333, 0.43, 0.8166666666666667, 0.89, 0.7933333333333333, 0.7966666666666666, 0.7666666666666667, 0.7133333333333334, 0.7633333333333333, 0.6, 0.71, 0.7833333333333333, 0.63, 0.43333333333333335, 0.71, 0.4533333333333333, 0.84, 0.8, 0.54, 0.7733333333333333, 0.7333333333333333, 0.7733333333333333, 0.6833333333333333, 0.89, 0.49, 0.6366666666666667, 0.5266666666666666, 0.7633333333333333, 0.61, 0.6533333333333333, 0.68, 0.66, 0.6733333333333333, 0.8333333333333334, 0.7766666666666666, 0.6766666666666666, 0.6133333333333333, 0.7666666666666667, 0.8, 0.7733333333333333, 0.49666666666666665, 0.43333333333333335, 0.8866666666666667, 0.6133333333333333, 0.23333333333333334, 0.78, 0.49, 0.64, 0.39666666666666667, 0.57, 0.83, 0.9033333333333333, 0.65, 0.7166666666666667, 0.4766666666666667, 0.2966666666666667, 0.5, 0.57, 0.6566666666666666, 0.73, 0.6866666666666666, 0.73, 0.7566666666666667, 0.6, 0.8866666666666667, 0.7166666666666667, 0.79, 0.62, 0.5833333333333334, 0.7366666666666667, 0.5366666666666666, 0.6666666666666666, 0.6766666666666666, 0.6166666666666667, 0.59, 0.6066666666666667, 0.8633333333333333, 0.5966666666666667, 0.8233333333333334, 0.56, 0.31, 0.59, 0.5566666666666666, 0.6, 0.6266666666666667, 0.5533333333333333, 0.8066666666666666, 0.7733333333333333, 0.6266666666666667, 0.7333333333333333, 0.9166666666666666, 0.6733333333333333, 0.43333333333333335, 0.84, 0.9333333333333333, 0.77, 0.64, 0.83, 0.94, 0.77, 0.44, 0.41333333333333333, 0.7266666666666667, 0.69, 0.6733333333333333, 0.6333333333333333, 0.7266666666666667, 0.6633333333333333, 0.74, 0.7, 0.5566666666666666, 0.72, 0.44666666666666666, 0.6, 0.8966666666666666, 0.6466666666666666, 0.5766666666666667, 0.6, 0.4633333333333333, 0.5633333333333334, 0.9566666666666667, 0.5833333333333334, 0.68, 0.6433333333333333, 0.7966666666666666, 0.55, 0.8533333333333334, 0.7166666666666667, 0.8166666666666667, 0.6566666666666666, 0.6566666666666666, 0.6733333333333333, 0.7533333333333333, 0.71, 0.7133333333333334, 0.63, 0.5566666666666666, 0.8933333333333333, 0.5966666666666667, 0.5733333333333334, 0.7466666666666667, 0.38, 0.6366666666666667, 0.85, 0.6833333333333333, 0.59, 0.6166666666666667, 0.63, 0.6766666666666666, 0.5733333333333334, 0.52, 0.6833333333333333, 0.5033333333333333, 0.69, 0.7133333333333334, 0.59, 0.8633333333333333, 0.7566666666666667, 0.7966666666666666, 0.67, 0.7733333333333333, 0.78, 0.7266666666666667, 0.65, 0.8233333333333334, 0.45, 0.7533333333333333, 0.78, 0.9633333333333334, 0.72, 0.5733333333333334, 0.5866666666666667, 0.4666666666666667, 0.8566666666666667, 0.5166666666666667, 1.0, 0.6833333333333333, 0.5533333333333333, 0.51, 0.7233333333333334, 0.86, 0.65, 0.8733333333333333, 0.31666666666666665, 0.68, 0.8333333333333334, 0.8033333333333333, 0.86, 0.6866666666666666, 0.7933333333333333, 0.6233333333333333, 0.9033333333333333, 0.7666666666666667, 0.68, 0.7333333333333333, 0.63, 0.7133333333333334, 0.7066666666666667, 0.5566666666666666, 0.6566666666666666, 0.5233333333333333, 0.5166666666666667, 0.7166666666666667, 0.5466666666666666, 0.6966666666666667, 0.58, 0.81, 0.7533333333333333, 0.66, 0.8533333333333334, 0.8633333333333333, 0.62, 0.66, 0.5133333333333333, 0.71, 0.6766666666666666, 0.73, 0.7833333333333333, 0.91, 0.5933333333333334, 0.92, 0.51, 0.8133333333333334, 0.68, 0.56, 0.78, 0.8833333333333333, 0.7333333333333333, 0.5233333333333333, 0.5433333333333333, 0.59, 0.8933333333333333, 0.8266666666666667, 0.8233333333333334, 0.71, 0.74, 0.7466666666666667, 0.5733333333333334, 0.87, 0.6133333333333333, 0.5433333333333333, 0.5133333333333333, 0.6233333333333333, 0.59, 0.44, 0.39, 0.6866666666666666, 0.6933333333333334, 0.5133333333333333, 0.6033333333333334, 0.87, 0.7, 0.7733333333333333, 0.5633333333333334, 0.5966666666666667, 0.74, 0.9166666666666666, 0.7066666666666667, 0.8033333333333333, 0.79, 0.8866666666666667, 0.6433333333333333, 0.8033333333333333, 0.9633333333333334, 0.6766666666666666, 0.6433333333333333, 0.7333333333333333, 0.7333333333333333, 0.8833333333333333, 0.46, 0.6766666666666666, 0.46, 0.3466666666666667, 0.6866666666666666, 0.6466666666666666, 0.6433333333333333, 0.67, 0.76, 0.7033333333333334, 0.9266666666666666, 0.7433333333333333, 0.48333333333333334, 0.4533333333333333, 0.9733333333333334, 0.7, 0.5266666666666666, 0.6766666666666666, 0.72, 0.93, 0.57, 0.6, 0.7533333333333333, 0.49333333333333335, 0.5466666666666666, 0.87, 0.54, 0.6066666666666667, 0.9133333333333333, 0.7866666666666666, 0.7133333333333334, 0.76, 0.7433333333333333, 0.7233333333333334, 0.67, 0.5633333333333334, 0.61, 0.5966666666666667, 0.5633333333333334, 0.61, 0.6666666666666666, 0.7433333333333333, 0.97, 0.69, 0.23, 0.5166666666666667, 0.73, 0.76, 0.59, 0.29333333333333333, 0.78, 0.56, 0.8766666666666667, 0.6966666666666667, 0.8366666666666667, 0.5066666666666667, 0.6233333333333333, 0.62, 0.64, 0.61, 0.9166666666666666, 0.72, 0.8933333333333333, 0.6666666666666666, 0.4, 0.83, 0.8666666666666667, 0.6866666666666666, 0.5, 0.6033333333333334, 0.5366666666666666, 0.94, 0.6033333333333334, 0.9866666666666667, 0.6733333333333333, 0.5166666666666667, 0.5066666666666667, 0.5, 0.67, 0.68, 0.7366666666666667, 0.8266666666666667, 0.8266666666666667, 0.6966666666666667, 0.76, 0.8666666666666667, 0.7866666666666666, 0.7433333333333333, 0.48, 0.84, 0.7733333333333333, 0.7766666666666666, 0.65, 0.7566666666666667, 0.6466666666666666, 0.6466666666666666, 0.5266666666666666, 0.7633333333333333, 0.5333333333333333, 0.7466666666666667, 0.8966666666666666, 0.6966666666666667, 0.77, 0.6533333333333333, 0.6933333333333334, 0.6533333333333333, 0.5366666666666666, 0.8733333333333333, 0.7466666666666667, 0.6733333333333333, 0.65, 0.67, 0.6866666666666666, 0.5666666666666667, 0.69, 0.83, 0.6933333333333334, 0.7666666666666667, 0.7, 0.53, 0.7433333333333333, 0.7766666666666666, 0.7466666666666667, 0.6, 0.7566666666666667, 0.76, 0.78, 0.6133333333333333, 0.71, 0.6266666666666667, 0.57, 0.37666666666666665, 0.6533333333333333, 0.9766666666666667, 0.76, 0.76, 0.5166666666666667, 0.8866666666666667, 0.5166666666666667, 0.7566666666666667, 0.7366666666666667, 0.7566666666666667, 0.56, 0.8466666666666667, 0.8233333333333334, 0.67, 0.7133333333333334, 0.6366666666666667, 0.8066666666666666, 0.6533333333333333, 0.86, 0.6466666666666666, 0.62, 0.6633333333333333, 0.38666666666666666, 0.59, 0.85, 0.5366666666666666, 0.89, 0.8333333333333334, 0.99, 0.82, 0.68, 0.8566666666666667, 0.7433333333333333, 0.97, 0.7533333333333333, 0.8133333333333334, 0.68, 0.5766666666666667, 0.84, 0.4666666666666667, 0.43666666666666665, 0.7533333333333333, 0.7233333333333334, 0.5866666666666667, 0.83, 0.43, 0.75, 0.48, 0.9, 0.4866666666666667, 0.56, 0.61, 0.85, 0.64, 0.75, 0.5866666666666667, 0.75, 0.5, 0.8233333333333334, 0.68, 0.5233333333333333, 0.75, 0.7166666666666667, 0.67, 0.5633333333333334, 0.8566666666666667, 0.6933333333333334, 0.6833333333333333, 0.77, 0.84, 0.5533333333333333, 0.9033333333333333, 0.55, 0.7, 0.5866666666666667, 0.7433333333333333, 0.63, 0.5333333333333333, 0.8166666666666667, 0.6233333333333333, 0.6066666666666667, 0.7266666666666667, 0.7, 0.66, 0.7133333333333334, 0.5833333333333334, 0.49666666666666665, 0.74, 0.6366666666666667, 0.73, 0.6366666666666667, 0.54, 0.6933333333333334, 0.4066666666666667, 0.7766666666666666, 0.87, 0.53, 0.8366666666666667, 0.81, 0.5766666666666667, 0.8366666666666667, 0.42333333333333334, 0.76, 0.2966666666666667, 0.6466666666666666, 0.5933333333333334, 0.5666666666666667, 0.6533333333333333, 0.6966666666666667, 0.8333333333333334, 0.48333333333333334, 0.66, 0.7, 0.7833333333333333, 0.61, 0.5466666666666666, 0.6933333333333334, 0.7633333333333333, 0.92, 0.8466666666666667, 0.7566666666666667, 0.7666666666666667, 0.71, 0.42, 0.78, 0.5466666666666666, 0.3933333333333333, 0.47, 0.6166666666666667, 0.8233333333333334, 0.7833333333333333, 0.89, 0.56, 0.69, 0.6666666666666666, 0.8533333333333334, 0.89, 0.87, 0.5066666666666667, 0.8, 0.5266666666666666, 0.6233333333333333, 0.6466666666666666, 0.7, 0.7866666666666666, 0.5833333333333334, 0.5933333333333334, 0.83, 0.6066666666666667, 0.8266666666666667, 0.51, 0.66, 0.6466666666666666, 0.7866666666666666, 0.56, 0.72, 0.45666666666666667, 0.5766666666666667, 0.3433333333333333, 0.7566666666666667, 0.5633333333333334, 0.8633333333333333, 0.87, 0.56, 0.6633333333333333, 0.7466666666666667, 0.6833333333333333, 0.64, 0.8833333333333333, 0.7, 0.6033333333333334, 0.9666666666666667, 0.6933333333333334, 0.75, 0.49, 0.7733333333333333, 0.56, 0.8466666666666667, 0.39666666666666667, 0.74, 0.9366666666666666, 0.84, 0.5466666666666666, 0.48, 0.7466666666666667, 0.5033333333333333, 0.5466666666666666, 0.7266666666666667, 0.8133333333333334, 0.8733333333333333, 0.5533333333333333, 0.7, 0.8233333333333334, 0.5733333333333334, 0.7033333333333334, 0.7133333333333334, 0.6433333333333333, 0.7033333333333334, 0.6933333333333334, 0.48333333333333334, 0.52, 0.7266666666666667, 0.96, 0.6166666666666667, 0.6933333333333334, 0.4766666666666667, 0.8733333333333333, 0.8733333333333333, 0.6333333333333333, 0.79, 0.6333333333333333, 0.3466666666666667, 0.30666666666666664, 0.7333333333333333, 0.6133333333333333, 0.75, 0.86, 0.75, 0.41, 0.9766666666666667, 0.7833333333333333, 0.8066666666666666, 0.52, 0.8466666666666667, 0.7133333333333334, 0.68, 0.4666666666666667, 0.7833333333333333, 0.5966666666666667, 0.5833333333333334, 0.54, 0.68, 1.0, 0.5233333333333333, 0.7133333333333334, 0.9266666666666666, 0.6866666666666666, 0.44666666666666666, 0.68, 0.6133333333333333, 0.71, 0.66, 0.5733333333333334, 0.6566666666666666, 0.44333333333333336, 0.5166666666666667, 0.7033333333333334, 0.6033333333333334, 0.6833333333333333, 0.73, 0.9166666666666666, 0.6366666666666667, 0.59, 0.5733333333333334, 0.8366666666666667, 0.7133333333333334, 0.7, 0.8833333333333333, 0.7033333333333334, 0.6133333333333333, 0.6233333333333333, 0.5766666666666667, 0.8133333333333334, 0.5566666666666666, 0.5033333333333333, 0.6833333333333333, 0.7933333333333333, 0.7833333333333333, 0.7333333333333333, 0.5466666666666666, 0.6666666666666666, 0.6366666666666667, 0.84, 0.9733333333333334, 0.5566666666666666, 0.7566666666666667, 0.5933333333333334, 0.5166666666666667, 1.0, 0.72, 0.6233333333333333, 0.68, 0.66, 0.62, 0.7033333333333334, 0.7966666666666666, 0.9633333333333334, 0.73, 0.5433333333333333, 0.5833333333333334, 0.6133333333333333, 0.7433333333333333, 0.6066666666666667, 0.6166666666666667, 0.48, 0.9333333333333333, 0.18333333333333332, 0.79, 0.8333333333333334, 0.8533333333333334, 0.77, 0.54, 0.5, 0.7733333333333333, 0.44666666666666666, 0.7866666666666666, 0.8066666666666666, 0.75, 0.69, 0.6933333333333334, 0.6266666666666667, 0.94, 0.5733333333333334, 0.65, 0.7433333333333333, 0.83], \"yaxis\": \"y\"}],\n",
              "                        {\"barmode\": \"relative\", \"legend\": {\"tracegroupgap\": 0}, \"margin\": {\"t\": 60}, \"template\": {\"data\": {\"bar\": [{\"error_x\": {\"color\": \"#2a3f5f\"}, \"error_y\": {\"color\": \"#2a3f5f\"}, \"marker\": {\"line\": {\"color\": \"#E5ECF6\", \"width\": 0.5}}, \"type\": \"bar\"}], \"barpolar\": [{\"marker\": {\"line\": {\"color\": \"#E5ECF6\", \"width\": 0.5}}, \"type\": \"barpolar\"}], \"carpet\": [{\"aaxis\": {\"endlinecolor\": \"#2a3f5f\", \"gridcolor\": \"white\", \"linecolor\": \"white\", \"minorgridcolor\": \"white\", \"startlinecolor\": \"#2a3f5f\"}, \"baxis\": {\"endlinecolor\": \"#2a3f5f\", \"gridcolor\": \"white\", \"linecolor\": \"white\", \"minorgridcolor\": \"white\", \"startlinecolor\": \"#2a3f5f\"}, \"type\": \"carpet\"}], \"choropleth\": [{\"colorbar\": {\"outlinewidth\": 0, \"ticks\": \"\"}, \"type\": \"choropleth\"}], \"contour\": [{\"colorbar\": {\"outlinewidth\": 0, \"ticks\": \"\"}, \"colorscale\": [[0.0, \"#0d0887\"], [0.1111111111111111, \"#46039f\"], [0.2222222222222222, \"#7201a8\"], [0.3333333333333333, \"#9c179e\"], [0.4444444444444444, \"#bd3786\"], [0.5555555555555556, \"#d8576b\"], [0.6666666666666666, \"#ed7953\"], [0.7777777777777778, \"#fb9f3a\"], [0.8888888888888888, \"#fdca26\"], [1.0, \"#f0f921\"]], \"type\": \"contour\"}], \"contourcarpet\": [{\"colorbar\": {\"outlinewidth\": 0, \"ticks\": \"\"}, \"type\": \"contourcarpet\"}], \"heatmap\": [{\"colorbar\": {\"outlinewidth\": 0, \"ticks\": \"\"}, \"colorscale\": [[0.0, \"#0d0887\"], [0.1111111111111111, \"#46039f\"], [0.2222222222222222, \"#7201a8\"], [0.3333333333333333, \"#9c179e\"], [0.4444444444444444, \"#bd3786\"], [0.5555555555555556, \"#d8576b\"], [0.6666666666666666, \"#ed7953\"], [0.7777777777777778, \"#fb9f3a\"], [0.8888888888888888, \"#fdca26\"], [1.0, \"#f0f921\"]], \"type\": \"heatmap\"}], \"heatmapgl\": [{\"colorbar\": {\"outlinewidth\": 0, \"ticks\": \"\"}, \"colorscale\": [[0.0, \"#0d0887\"], [0.1111111111111111, \"#46039f\"], [0.2222222222222222, \"#7201a8\"], [0.3333333333333333, \"#9c179e\"], [0.4444444444444444, \"#bd3786\"], [0.5555555555555556, \"#d8576b\"], [0.6666666666666666, \"#ed7953\"], [0.7777777777777778, \"#fb9f3a\"], [0.8888888888888888, \"#fdca26\"], [1.0, \"#f0f921\"]], \"type\": \"heatmapgl\"}], \"histogram\": [{\"marker\": {\"colorbar\": {\"outlinewidth\": 0, \"ticks\": \"\"}}, \"type\": \"histogram\"}], \"histogram2d\": [{\"colorbar\": {\"outlinewidth\": 0, \"ticks\": \"\"}, \"colorscale\": [[0.0, \"#0d0887\"], [0.1111111111111111, \"#46039f\"], [0.2222222222222222, \"#7201a8\"], [0.3333333333333333, \"#9c179e\"], [0.4444444444444444, \"#bd3786\"], [0.5555555555555556, \"#d8576b\"], [0.6666666666666666, \"#ed7953\"], [0.7777777777777778, \"#fb9f3a\"], [0.8888888888888888, \"#fdca26\"], [1.0, \"#f0f921\"]], \"type\": \"histogram2d\"}], \"histogram2dcontour\": [{\"colorbar\": {\"outlinewidth\": 0, \"ticks\": \"\"}, \"colorscale\": [[0.0, \"#0d0887\"], [0.1111111111111111, \"#46039f\"], [0.2222222222222222, \"#7201a8\"], [0.3333333333333333, \"#9c179e\"], [0.4444444444444444, \"#bd3786\"], [0.5555555555555556, \"#d8576b\"], [0.6666666666666666, \"#ed7953\"], [0.7777777777777778, \"#fb9f3a\"], [0.8888888888888888, \"#fdca26\"], [1.0, \"#f0f921\"]], \"type\": \"histogram2dcontour\"}], \"mesh3d\": [{\"colorbar\": {\"outlinewidth\": 0, \"ticks\": \"\"}, \"type\": \"mesh3d\"}], \"parcoords\": [{\"line\": {\"colorbar\": {\"outlinewidth\": 0, \"ticks\": \"\"}}, \"type\": \"parcoords\"}], \"pie\": [{\"automargin\": true, \"type\": \"pie\"}], \"scatter\": [{\"marker\": {\"colorbar\": {\"outlinewidth\": 0, \"ticks\": \"\"}}, \"type\": \"scatter\"}], \"scatter3d\": [{\"line\": {\"colorbar\": {\"outlinewidth\": 0, \"ticks\": \"\"}}, \"marker\": {\"colorbar\": {\"outlinewidth\": 0, \"ticks\": \"\"}}, \"type\": \"scatter3d\"}], \"scattercarpet\": [{\"marker\": {\"colorbar\": {\"outlinewidth\": 0, \"ticks\": \"\"}}, \"type\": \"scattercarpet\"}], \"scattergeo\": [{\"marker\": {\"colorbar\": {\"outlinewidth\": 0, \"ticks\": \"\"}}, \"type\": \"scattergeo\"}], \"scattergl\": [{\"marker\": {\"colorbar\": {\"outlinewidth\": 0, \"ticks\": \"\"}}, \"type\": \"scattergl\"}], \"scattermapbox\": [{\"marker\": {\"colorbar\": {\"outlinewidth\": 0, \"ticks\": \"\"}}, \"type\": \"scattermapbox\"}], \"scatterpolar\": [{\"marker\": {\"colorbar\": {\"outlinewidth\": 0, \"ticks\": \"\"}}, \"type\": \"scatterpolar\"}], \"scatterpolargl\": [{\"marker\": {\"colorbar\": {\"outlinewidth\": 0, \"ticks\": \"\"}}, \"type\": \"scatterpolargl\"}], \"scatterternary\": [{\"marker\": {\"colorbar\": {\"outlinewidth\": 0, \"ticks\": \"\"}}, \"type\": \"scatterternary\"}], \"surface\": [{\"colorbar\": {\"outlinewidth\": 0, \"ticks\": \"\"}, \"colorscale\": [[0.0, \"#0d0887\"], [0.1111111111111111, \"#46039f\"], [0.2222222222222222, \"#7201a8\"], [0.3333333333333333, \"#9c179e\"], [0.4444444444444444, \"#bd3786\"], [0.5555555555555556, \"#d8576b\"], [0.6666666666666666, \"#ed7953\"], [0.7777777777777778, \"#fb9f3a\"], [0.8888888888888888, \"#fdca26\"], [1.0, \"#f0f921\"]], \"type\": \"surface\"}], \"table\": [{\"cells\": {\"fill\": {\"color\": \"#EBF0F8\"}, \"line\": {\"color\": \"white\"}}, \"header\": {\"fill\": {\"color\": \"#C8D4E3\"}, \"line\": {\"color\": \"white\"}}, \"type\": \"table\"}]}, \"layout\": {\"annotationdefaults\": {\"arrowcolor\": \"#2a3f5f\", \"arrowhead\": 0, \"arrowwidth\": 1}, \"coloraxis\": {\"colorbar\": {\"outlinewidth\": 0, \"ticks\": \"\"}}, \"colorscale\": {\"diverging\": [[0, \"#8e0152\"], [0.1, \"#c51b7d\"], [0.2, \"#de77ae\"], [0.3, \"#f1b6da\"], [0.4, \"#fde0ef\"], [0.5, \"#f7f7f7\"], [0.6, \"#e6f5d0\"], [0.7, \"#b8e186\"], [0.8, \"#7fbc41\"], [0.9, \"#4d9221\"], [1, \"#276419\"]], \"sequential\": [[0.0, \"#0d0887\"], [0.1111111111111111, \"#46039f\"], [0.2222222222222222, \"#7201a8\"], [0.3333333333333333, \"#9c179e\"], [0.4444444444444444, \"#bd3786\"], [0.5555555555555556, \"#d8576b\"], [0.6666666666666666, \"#ed7953\"], [0.7777777777777778, \"#fb9f3a\"], [0.8888888888888888, \"#fdca26\"], [1.0, \"#f0f921\"]], \"sequentialminus\": [[0.0, \"#0d0887\"], [0.1111111111111111, \"#46039f\"], [0.2222222222222222, \"#7201a8\"], [0.3333333333333333, \"#9c179e\"], [0.4444444444444444, \"#bd3786\"], [0.5555555555555556, \"#d8576b\"], [0.6666666666666666, \"#ed7953\"], [0.7777777777777778, \"#fb9f3a\"], [0.8888888888888888, \"#fdca26\"], [1.0, \"#f0f921\"]]}, \"colorway\": [\"#636efa\", \"#EF553B\", \"#00cc96\", \"#ab63fa\", \"#FFA15A\", \"#19d3f3\", \"#FF6692\", \"#B6E880\", \"#FF97FF\", \"#FECB52\"], \"font\": {\"color\": \"#2a3f5f\"}, \"geo\": {\"bgcolor\": \"white\", \"lakecolor\": \"white\", \"landcolor\": \"#E5ECF6\", \"showlakes\": true, \"showland\": true, \"subunitcolor\": \"white\"}, \"hoverlabel\": {\"align\": \"left\"}, \"hovermode\": \"closest\", \"mapbox\": {\"style\": \"light\"}, \"paper_bgcolor\": \"white\", \"plot_bgcolor\": \"#E5ECF6\", \"polar\": {\"angularaxis\": {\"gridcolor\": \"white\", \"linecolor\": \"white\", \"ticks\": \"\"}, \"bgcolor\": \"#E5ECF6\", \"radialaxis\": {\"gridcolor\": \"white\", \"linecolor\": \"white\", \"ticks\": \"\"}}, \"scene\": {\"xaxis\": {\"backgroundcolor\": \"#E5ECF6\", \"gridcolor\": \"white\", \"gridwidth\": 2, \"linecolor\": \"white\", \"showbackground\": true, \"ticks\": \"\", \"zerolinecolor\": \"white\"}, \"yaxis\": {\"backgroundcolor\": \"#E5ECF6\", \"gridcolor\": \"white\", \"gridwidth\": 2, \"linecolor\": \"white\", \"showbackground\": true, \"ticks\": \"\", \"zerolinecolor\": \"white\"}, \"zaxis\": {\"backgroundcolor\": \"#E5ECF6\", \"gridcolor\": \"white\", \"gridwidth\": 2, \"linecolor\": \"white\", \"showbackground\": true, \"ticks\": \"\", \"zerolinecolor\": \"white\"}}, \"shapedefaults\": {\"line\": {\"color\": \"#2a3f5f\"}}, \"ternary\": {\"aaxis\": {\"gridcolor\": \"white\", \"linecolor\": \"white\", \"ticks\": \"\"}, \"baxis\": {\"gridcolor\": \"white\", \"linecolor\": \"white\", \"ticks\": \"\"}, \"bgcolor\": \"#E5ECF6\", \"caxis\": {\"gridcolor\": \"white\", \"linecolor\": \"white\", \"ticks\": \"\"}}, \"title\": {\"x\": 0.05}, \"xaxis\": {\"automargin\": true, \"gridcolor\": \"white\", \"linecolor\": \"white\", \"ticks\": \"\", \"title\": {\"standoff\": 15}, \"zerolinecolor\": \"white\", \"zerolinewidth\": 2}, \"yaxis\": {\"automargin\": true, \"gridcolor\": \"white\", \"linecolor\": \"white\", \"ticks\": \"\", \"title\": {\"standoff\": 15}, \"zerolinecolor\": \"white\", \"zerolinewidth\": 2}}}, \"xaxis\": {\"anchor\": \"y\", \"domain\": [0.0, 1.0], \"title\": {\"text\": \"test preparation course\"}}, \"yaxis\": {\"anchor\": \"x\", \"domain\": [0.0, 1.0], \"title\": {\"text\": \"percent correct\"}}},\n",
              "                        {\"responsive\": true}\n",
              "                    ).then(function(){\n",
              "                            \n",
              "var gd = document.getElementById('8527c6f3-5a5b-489b-854d-4c3deacd6f96');\n",
              "var x = new MutationObserver(function (mutations, observer) {{\n",
              "        var display = window.getComputedStyle(gd).display;\n",
              "        if (!display || display === 'none') {{\n",
              "            console.log([gd, 'removed!']);\n",
              "            Plotly.purge(gd);\n",
              "            observer.disconnect();\n",
              "        }}\n",
              "}});\n",
              "\n",
              "// Listen for the removal of the full notebook cells\n",
              "var notebookContainer = gd.closest('#notebook-container');\n",
              "if (notebookContainer) {{\n",
              "    x.observe(notebookContainer, {childList: true});\n",
              "}}\n",
              "\n",
              "// Listen for the clearing of the current output cell\n",
              "var outputEl = gd.closest('.output');\n",
              "if (outputEl) {{\n",
              "    x.observe(outputEl, {childList: true});\n",
              "}}\n",
              "\n",
              "                        })\n",
              "                };\n",
              "                \n",
              "            </script>\n",
              "        </div>\n",
              "</body>\n",
              "</html>"
            ]
          },
          "metadata": {
            "tags": []
          }
        }
      ]
    },
    {
      "cell_type": "code",
      "metadata": {
        "id": "8rk-xR-3Kcdy"
      },
      "source": [
        "#Machine Learning Techniques"
      ],
      "execution_count": null,
      "outputs": []
    },
    {
      "cell_type": "code",
      "metadata": {
        "colab": {
          "base_uri": "https://localhost:8080/",
          "height": 408
        },
        "id": "W0xpT2yJzIjj",
        "outputId": "4b6005dc-7546-4443-82e4-2a114b47ef60"
      },
      "source": [
        "dataset"
      ],
      "execution_count": null,
      "outputs": [
        {
          "output_type": "execute_result",
          "data": {
            "text/html": [
              "<div>\n",
              "<style scoped>\n",
              "    .dataframe tbody tr th:only-of-type {\n",
              "        vertical-align: middle;\n",
              "    }\n",
              "\n",
              "    .dataframe tbody tr th {\n",
              "        vertical-align: top;\n",
              "    }\n",
              "\n",
              "    .dataframe thead th {\n",
              "        text-align: right;\n",
              "    }\n",
              "</style>\n",
              "<table border=\"1\" class=\"dataframe\">\n",
              "  <thead>\n",
              "    <tr style=\"text-align: right;\">\n",
              "      <th></th>\n",
              "      <th>gender</th>\n",
              "      <th>race/ethnicity</th>\n",
              "      <th>parental level of education</th>\n",
              "      <th>lunch</th>\n",
              "      <th>test preparation course</th>\n",
              "      <th>math score</th>\n",
              "      <th>reading score</th>\n",
              "      <th>writing score</th>\n",
              "      <th>total score</th>\n",
              "      <th>percent correct</th>\n",
              "    </tr>\n",
              "  </thead>\n",
              "  <tbody>\n",
              "    <tr>\n",
              "      <th>0</th>\n",
              "      <td>female</td>\n",
              "      <td>group B</td>\n",
              "      <td>bachelor's degree</td>\n",
              "      <td>standard</td>\n",
              "      <td>none</td>\n",
              "      <td>72</td>\n",
              "      <td>72</td>\n",
              "      <td>74</td>\n",
              "      <td>218</td>\n",
              "      <td>0.726667</td>\n",
              "    </tr>\n",
              "    <tr>\n",
              "      <th>1</th>\n",
              "      <td>female</td>\n",
              "      <td>group C</td>\n",
              "      <td>some college</td>\n",
              "      <td>standard</td>\n",
              "      <td>completed</td>\n",
              "      <td>69</td>\n",
              "      <td>90</td>\n",
              "      <td>88</td>\n",
              "      <td>247</td>\n",
              "      <td>0.823333</td>\n",
              "    </tr>\n",
              "    <tr>\n",
              "      <th>2</th>\n",
              "      <td>female</td>\n",
              "      <td>group B</td>\n",
              "      <td>master's degree</td>\n",
              "      <td>standard</td>\n",
              "      <td>none</td>\n",
              "      <td>90</td>\n",
              "      <td>95</td>\n",
              "      <td>93</td>\n",
              "      <td>278</td>\n",
              "      <td>0.926667</td>\n",
              "    </tr>\n",
              "    <tr>\n",
              "      <th>3</th>\n",
              "      <td>male</td>\n",
              "      <td>group A</td>\n",
              "      <td>associate's degree</td>\n",
              "      <td>free/reduced</td>\n",
              "      <td>none</td>\n",
              "      <td>47</td>\n",
              "      <td>57</td>\n",
              "      <td>44</td>\n",
              "      <td>148</td>\n",
              "      <td>0.493333</td>\n",
              "    </tr>\n",
              "    <tr>\n",
              "      <th>4</th>\n",
              "      <td>male</td>\n",
              "      <td>group C</td>\n",
              "      <td>some college</td>\n",
              "      <td>standard</td>\n",
              "      <td>none</td>\n",
              "      <td>76</td>\n",
              "      <td>78</td>\n",
              "      <td>75</td>\n",
              "      <td>229</td>\n",
              "      <td>0.763333</td>\n",
              "    </tr>\n",
              "    <tr>\n",
              "      <th>...</th>\n",
              "      <td>...</td>\n",
              "      <td>...</td>\n",
              "      <td>...</td>\n",
              "      <td>...</td>\n",
              "      <td>...</td>\n",
              "      <td>...</td>\n",
              "      <td>...</td>\n",
              "      <td>...</td>\n",
              "      <td>...</td>\n",
              "      <td>...</td>\n",
              "    </tr>\n",
              "    <tr>\n",
              "      <th>995</th>\n",
              "      <td>female</td>\n",
              "      <td>group E</td>\n",
              "      <td>master's degree</td>\n",
              "      <td>standard</td>\n",
              "      <td>completed</td>\n",
              "      <td>88</td>\n",
              "      <td>99</td>\n",
              "      <td>95</td>\n",
              "      <td>282</td>\n",
              "      <td>0.940000</td>\n",
              "    </tr>\n",
              "    <tr>\n",
              "      <th>996</th>\n",
              "      <td>male</td>\n",
              "      <td>group C</td>\n",
              "      <td>high school</td>\n",
              "      <td>free/reduced</td>\n",
              "      <td>none</td>\n",
              "      <td>62</td>\n",
              "      <td>55</td>\n",
              "      <td>55</td>\n",
              "      <td>172</td>\n",
              "      <td>0.573333</td>\n",
              "    </tr>\n",
              "    <tr>\n",
              "      <th>997</th>\n",
              "      <td>female</td>\n",
              "      <td>group C</td>\n",
              "      <td>high school</td>\n",
              "      <td>free/reduced</td>\n",
              "      <td>completed</td>\n",
              "      <td>59</td>\n",
              "      <td>71</td>\n",
              "      <td>65</td>\n",
              "      <td>195</td>\n",
              "      <td>0.650000</td>\n",
              "    </tr>\n",
              "    <tr>\n",
              "      <th>998</th>\n",
              "      <td>female</td>\n",
              "      <td>group D</td>\n",
              "      <td>some college</td>\n",
              "      <td>standard</td>\n",
              "      <td>completed</td>\n",
              "      <td>68</td>\n",
              "      <td>78</td>\n",
              "      <td>77</td>\n",
              "      <td>223</td>\n",
              "      <td>0.743333</td>\n",
              "    </tr>\n",
              "    <tr>\n",
              "      <th>999</th>\n",
              "      <td>female</td>\n",
              "      <td>group D</td>\n",
              "      <td>some college</td>\n",
              "      <td>free/reduced</td>\n",
              "      <td>none</td>\n",
              "      <td>77</td>\n",
              "      <td>86</td>\n",
              "      <td>86</td>\n",
              "      <td>249</td>\n",
              "      <td>0.830000</td>\n",
              "    </tr>\n",
              "  </tbody>\n",
              "</table>\n",
              "<p>1000 rows × 10 columns</p>\n",
              "</div>"
            ],
            "text/plain": [
              "     gender race/ethnicity  ... total score percent correct\n",
              "0    female        group B  ...         218        0.726667\n",
              "1    female        group C  ...         247        0.823333\n",
              "2    female        group B  ...         278        0.926667\n",
              "3      male        group A  ...         148        0.493333\n",
              "4      male        group C  ...         229        0.763333\n",
              "..      ...            ...  ...         ...             ...\n",
              "995  female        group E  ...         282        0.940000\n",
              "996    male        group C  ...         172        0.573333\n",
              "997  female        group C  ...         195        0.650000\n",
              "998  female        group D  ...         223        0.743333\n",
              "999  female        group D  ...         249        0.830000\n",
              "\n",
              "[1000 rows x 10 columns]"
            ]
          },
          "metadata": {
            "tags": []
          },
          "execution_count": 118
        }
      ]
    },
    {
      "cell_type": "code",
      "metadata": {
        "id": "_HkSiWQoQJrO"
      },
      "source": [
        "#Create copy of dataset"
      ],
      "execution_count": null,
      "outputs": []
    },
    {
      "cell_type": "code",
      "metadata": {
        "id": "U9F1uFObz7kl"
      },
      "source": [
        "datasetcopy = dataset"
      ],
      "execution_count": null,
      "outputs": []
    },
    {
      "cell_type": "markdown",
      "metadata": {
        "id": "9S6xDiJqU4km"
      },
      "source": [
        "Data Cleaning:\n",
        "To use linear methods such as linear ridge and lesso, must change all the qualitative variables to and assign them to quantitative values."
      ]
    },
    {
      "cell_type": "code",
      "metadata": {
        "id": "_sWoMWiW0Ceu"
      },
      "source": [
        "datasetcopy[\"gender\"].replace({\"female\": 1, \"male\" : 2}, inplace = True)\n",
        "datasetcopy[\"race/ethnicity\"].replace({\"group A\": 1, \"group B\": 2, \"group C\": 3, \"group D\": 4, \"group E\": 5}, inplace = True)\n",
        "datasetcopy[\"parental level of education\"].replace({\"some high school\": 1, \"high school\" : 2, \"some college\": 3, \"associate's degree\": 4, \"bachelor's degree\": 5, \"master's degree\" : 6}, inplace = True)\n",
        "datasetcopy[\"test preparation course\"].replace({\"none\": 1 , \"completed\": 2}, inplace = True)\n",
        "datasetcopy[\"lunch\"].replace({\"free/reduced\" : 1 , \"standard\": 2},inplace = True)"
      ],
      "execution_count": null,
      "outputs": []
    },
    {
      "cell_type": "markdown",
      "metadata": {
        "id": "NcJhat6iuRop"
      },
      "source": [
        "Linear Regression using math score as the response variable"
      ]
    },
    {
      "cell_type": "code",
      "metadata": {
        "id": "wtHcLGPkQfDL"
      },
      "source": [
        "#Split predictors and assign to X"
      ],
      "execution_count": null,
      "outputs": []
    },
    {
      "cell_type": "code",
      "metadata": {
        "id": "r8bzIkUD4U0Z"
      },
      "source": [
        "X = dataset.iloc[:, 0:5]"
      ],
      "execution_count": null,
      "outputs": []
    },
    {
      "cell_type": "code",
      "metadata": {
        "colab": {
          "base_uri": "https://localhost:8080/",
          "height": 408
        },
        "id": "37xpfOFt447C",
        "outputId": "d89dee08-966a-4815-fca9-10cbf1320ec6"
      },
      "source": [
        "X"
      ],
      "execution_count": null,
      "outputs": [
        {
          "output_type": "execute_result",
          "data": {
            "text/html": [
              "<div>\n",
              "<style scoped>\n",
              "    .dataframe tbody tr th:only-of-type {\n",
              "        vertical-align: middle;\n",
              "    }\n",
              "\n",
              "    .dataframe tbody tr th {\n",
              "        vertical-align: top;\n",
              "    }\n",
              "\n",
              "    .dataframe thead th {\n",
              "        text-align: right;\n",
              "    }\n",
              "</style>\n",
              "<table border=\"1\" class=\"dataframe\">\n",
              "  <thead>\n",
              "    <tr style=\"text-align: right;\">\n",
              "      <th></th>\n",
              "      <th>gender</th>\n",
              "      <th>race/ethnicity</th>\n",
              "      <th>parental level of education</th>\n",
              "      <th>lunch</th>\n",
              "      <th>test preparation course</th>\n",
              "    </tr>\n",
              "  </thead>\n",
              "  <tbody>\n",
              "    <tr>\n",
              "      <th>0</th>\n",
              "      <td>1</td>\n",
              "      <td>2</td>\n",
              "      <td>5</td>\n",
              "      <td>2</td>\n",
              "      <td>1</td>\n",
              "    </tr>\n",
              "    <tr>\n",
              "      <th>1</th>\n",
              "      <td>1</td>\n",
              "      <td>3</td>\n",
              "      <td>3</td>\n",
              "      <td>2</td>\n",
              "      <td>2</td>\n",
              "    </tr>\n",
              "    <tr>\n",
              "      <th>2</th>\n",
              "      <td>1</td>\n",
              "      <td>2</td>\n",
              "      <td>6</td>\n",
              "      <td>2</td>\n",
              "      <td>1</td>\n",
              "    </tr>\n",
              "    <tr>\n",
              "      <th>3</th>\n",
              "      <td>2</td>\n",
              "      <td>1</td>\n",
              "      <td>4</td>\n",
              "      <td>1</td>\n",
              "      <td>1</td>\n",
              "    </tr>\n",
              "    <tr>\n",
              "      <th>4</th>\n",
              "      <td>2</td>\n",
              "      <td>3</td>\n",
              "      <td>3</td>\n",
              "      <td>2</td>\n",
              "      <td>1</td>\n",
              "    </tr>\n",
              "    <tr>\n",
              "      <th>...</th>\n",
              "      <td>...</td>\n",
              "      <td>...</td>\n",
              "      <td>...</td>\n",
              "      <td>...</td>\n",
              "      <td>...</td>\n",
              "    </tr>\n",
              "    <tr>\n",
              "      <th>995</th>\n",
              "      <td>1</td>\n",
              "      <td>5</td>\n",
              "      <td>6</td>\n",
              "      <td>2</td>\n",
              "      <td>2</td>\n",
              "    </tr>\n",
              "    <tr>\n",
              "      <th>996</th>\n",
              "      <td>2</td>\n",
              "      <td>3</td>\n",
              "      <td>2</td>\n",
              "      <td>1</td>\n",
              "      <td>1</td>\n",
              "    </tr>\n",
              "    <tr>\n",
              "      <th>997</th>\n",
              "      <td>1</td>\n",
              "      <td>3</td>\n",
              "      <td>2</td>\n",
              "      <td>1</td>\n",
              "      <td>2</td>\n",
              "    </tr>\n",
              "    <tr>\n",
              "      <th>998</th>\n",
              "      <td>1</td>\n",
              "      <td>4</td>\n",
              "      <td>3</td>\n",
              "      <td>2</td>\n",
              "      <td>2</td>\n",
              "    </tr>\n",
              "    <tr>\n",
              "      <th>999</th>\n",
              "      <td>1</td>\n",
              "      <td>4</td>\n",
              "      <td>3</td>\n",
              "      <td>1</td>\n",
              "      <td>1</td>\n",
              "    </tr>\n",
              "  </tbody>\n",
              "</table>\n",
              "<p>1000 rows × 5 columns</p>\n",
              "</div>"
            ],
            "text/plain": [
              "     gender  race/ethnicity  ...  lunch  test preparation course\n",
              "0         1               2  ...      2                        1\n",
              "1         1               3  ...      2                        2\n",
              "2         1               2  ...      2                        1\n",
              "3         2               1  ...      1                        1\n",
              "4         2               3  ...      2                        1\n",
              "..      ...             ...  ...    ...                      ...\n",
              "995       1               5  ...      2                        2\n",
              "996       2               3  ...      1                        1\n",
              "997       1               3  ...      1                        2\n",
              "998       1               4  ...      2                        2\n",
              "999       1               4  ...      1                        1\n",
              "\n",
              "[1000 rows x 5 columns]"
            ]
          },
          "metadata": {
            "tags": []
          },
          "execution_count": 124
        }
      ]
    },
    {
      "cell_type": "code",
      "metadata": {
        "id": "UaYfFPQ2QkO5"
      },
      "source": [
        "#Used math as Response"
      ],
      "execution_count": null,
      "outputs": []
    },
    {
      "cell_type": "code",
      "metadata": {
        "id": "jIqUO5mT5Cct"
      },
      "source": [
        "Y_math = dataset[\"math score\"]"
      ],
      "execution_count": null,
      "outputs": []
    },
    {
      "cell_type": "markdown",
      "metadata": {
        "id": "2vQr9_hVHnhb"
      },
      "source": [
        "Created training and test data with 66% as training and 33% as test"
      ]
    },
    {
      "cell_type": "code",
      "metadata": {
        "id": "vzROFTq85P_h"
      },
      "source": [
        "X_train, X_test, Y_train, Y_test = train_test_split(X, Y_math, test_size= 0.33, random_state = 2)"
      ],
      "execution_count": null,
      "outputs": []
    },
    {
      "cell_type": "code",
      "metadata": {
        "id": "uDRu82lPQo8g"
      },
      "source": [
        "#Used linearregression function run linear regression and fit the data"
      ],
      "execution_count": null,
      "outputs": []
    },
    {
      "cell_type": "code",
      "metadata": {
        "id": "JeXH3pmb5Yln"
      },
      "source": [
        "Linearmodelmath = LinearRegression(fit_intercept=False)\n",
        "Linearmodelmath.fit(X_train, Y_train)\n",
        "Y_pred = Linearmodelmath.predict(X_test)"
      ],
      "execution_count": null,
      "outputs": []
    },
    {
      "cell_type": "markdown",
      "metadata": {
        "id": "vhK3uXApHvXZ"
      },
      "source": [
        "Created a function called rmse ( ROOT MEAN SQUARED ERROR) to compare the different models."
      ]
    },
    {
      "cell_type": "code",
      "metadata": {
        "id": "_ydTAFwf5gtM"
      },
      "source": [
        "def rmse(actual_y, predicted_y):\n",
        "    return np.sqrt(np.mean((actual_y - predicted_y)**2))"
      ],
      "execution_count": null,
      "outputs": []
    },
    {
      "cell_type": "code",
      "metadata": {
        "id": "qzO52hdTQzbP"
      },
      "source": [
        "#Calculated RMSE on X test data"
      ],
      "execution_count": null,
      "outputs": []
    },
    {
      "cell_type": "code",
      "metadata": {
        "id": "KAqBrQ825jCw"
      },
      "source": [
        "test_error_linear_math = rmse(Y_test, Linearmodelmath.predict(X_test))"
      ],
      "execution_count": null,
      "outputs": []
    },
    {
      "cell_type": "code",
      "metadata": {
        "id": "tlXSnWq5Q4NF"
      },
      "source": [
        "#FOUND TEST ERROR"
      ],
      "execution_count": null,
      "outputs": []
    },
    {
      "cell_type": "code",
      "metadata": {
        "colab": {
          "base_uri": "https://localhost:8080/"
        },
        "id": "R9XteWVO5lc7",
        "outputId": "112f9cfb-bc3d-4a19-dbfd-a579b5c45bf2"
      },
      "source": [
        "print(\"Test RMSE:\", test_error_linear_math)"
      ],
      "execution_count": null,
      "outputs": [
        {
          "output_type": "stream",
          "text": [
            "Test RMSE: 13.630749359091372\n"
          ],
          "name": "stdout"
        }
      ]
    },
    {
      "cell_type": "code",
      "metadata": {
        "id": "WoBrf77IQ6_Z"
      },
      "source": [
        "#COEFFIECIENTS"
      ],
      "execution_count": null,
      "outputs": []
    },
    {
      "cell_type": "code",
      "metadata": {
        "colab": {
          "base_uri": "https://localhost:8080/"
        },
        "id": "IjVWhSNq5pPR",
        "outputId": "f3abdb96-5267-4bcc-e5c6-7d75c24a1457"
      },
      "source": [
        "Linearmodelmath.coef_"
      ],
      "execution_count": null,
      "outputs": [
        {
          "output_type": "execute_result",
          "data": {
            "text/plain": [
              "array([ 8.45075558,  3.48326935,  2.37581421, 13.53431467,  9.24709448])"
            ]
          },
          "metadata": {
            "tags": []
          },
          "execution_count": 136
        }
      ]
    },
    {
      "cell_type": "code",
      "metadata": {
        "id": "5matw0puQ81Y"
      },
      "source": [
        "#INTERCEPT"
      ],
      "execution_count": null,
      "outputs": []
    },
    {
      "cell_type": "code",
      "metadata": {
        "colab": {
          "base_uri": "https://localhost:8080/"
        },
        "id": "Da8ZSLts5vkC",
        "outputId": "db8f875e-7dc4-49f5-bf89-75d30ff830f6"
      },
      "source": [
        "Linearmodelmath.intercept_"
      ],
      "execution_count": null,
      "outputs": [
        {
          "output_type": "execute_result",
          "data": {
            "text/plain": [
              "0.0"
            ]
          },
          "metadata": {
            "tags": []
          },
          "execution_count": 138
        }
      ]
    },
    {
      "cell_type": "code",
      "metadata": {
        "id": "w7mfich_Q-s7"
      },
      "source": [
        "# For the rest of the notebook, I did the same thing for both lasso and ridge regression"
      ],
      "execution_count": null,
      "outputs": []
    },
    {
      "cell_type": "markdown",
      "metadata": {
        "id": "Z57x703twplZ"
      },
      "source": [
        "Linear Regression using reading score as the response variable"
      ]
    },
    {
      "cell_type": "code",
      "metadata": {
        "id": "HFA68bRjwxFP"
      },
      "source": [
        "Y_read = dataset[\"reading score\"]"
      ],
      "execution_count": null,
      "outputs": []
    },
    {
      "cell_type": "code",
      "metadata": {
        "id": "vB7TwHh-sPGP"
      },
      "source": [
        "#Split TEST TRAINING"
      ],
      "execution_count": null,
      "outputs": []
    },
    {
      "cell_type": "code",
      "metadata": {
        "id": "B8Y8FEp5w-cZ"
      },
      "source": [
        "X_train, X_test, Y_train, Y_test = train_test_split(X, Y_read, test_size= 0.33, random_state = 2)"
      ],
      "execution_count": null,
      "outputs": []
    },
    {
      "cell_type": "code",
      "metadata": {
        "id": "uvIHLCZIsRfc"
      },
      "source": [
        "#Running Linear Regression and fitting training data and predicting Y"
      ],
      "execution_count": null,
      "outputs": []
    },
    {
      "cell_type": "code",
      "metadata": {
        "id": "7j3bXL-xxZtq"
      },
      "source": [
        "Linearmodelread = LinearRegression(fit_intercept=False)\n",
        "Linearmodelread.fit(X_train, Y_train)\n",
        "Y_pred = Linearmodelread.predict(X_test)"
      ],
      "execution_count": null,
      "outputs": []
    },
    {
      "cell_type": "code",
      "metadata": {
        "id": "W7BI95DXsdoK"
      },
      "source": [
        "#ROOT MEAN SQUARED ERROR"
      ],
      "execution_count": null,
      "outputs": []
    },
    {
      "cell_type": "code",
      "metadata": {
        "id": "fB_bsaS9y2k8"
      },
      "source": [
        "test_error_linear_read = rmse(Y_test, Linearmodelread.predict(X_test))"
      ],
      "execution_count": null,
      "outputs": []
    },
    {
      "cell_type": "code",
      "metadata": {
        "id": "go3k90x4sioi"
      },
      "source": [
        "#Printing the test error of reading from Linear"
      ],
      "execution_count": null,
      "outputs": []
    },
    {
      "cell_type": "code",
      "metadata": {
        "colab": {
          "base_uri": "https://localhost:8080/"
        },
        "id": "1LDUyngMy88R",
        "outputId": "eedf29df-f9b5-494b-947b-0127d06696b6"
      },
      "source": [
        "print(\"Test RMSE:\", test_error_linear_read)"
      ],
      "execution_count": null,
      "outputs": [
        {
          "output_type": "stream",
          "text": [
            "Test RMSE: 15.427214220485427\n"
          ],
          "name": "stdout"
        }
      ]
    },
    {
      "cell_type": "code",
      "metadata": {
        "id": "fI3gEzSXsqcy"
      },
      "source": [
        "#Displaying coefficient"
      ],
      "execution_count": null,
      "outputs": []
    },
    {
      "cell_type": "code",
      "metadata": {
        "colab": {
          "base_uri": "https://localhost:8080/"
        },
        "id": "lfoBbSBgzG9H",
        "outputId": "558860f7-4b9f-40fa-adcb-be6c6a49ffc7"
      },
      "source": [
        "Linearmodelread.coef_"
      ],
      "execution_count": null,
      "outputs": [
        {
          "output_type": "execute_result",
          "data": {
            "text/plain": [
              "array([ 0.29525313,  3.78775894,  3.60156623, 14.53928481, 15.2566129 ])"
            ]
          },
          "metadata": {
            "tags": []
          },
          "execution_count": 150
        }
      ]
    },
    {
      "cell_type": "code",
      "metadata": {
        "id": "IRKQYHcYss17"
      },
      "source": [
        "#Displaying Intercepts"
      ],
      "execution_count": null,
      "outputs": []
    },
    {
      "cell_type": "code",
      "metadata": {
        "colab": {
          "base_uri": "https://localhost:8080/"
        },
        "id": "SXTA481_zIQd",
        "outputId": "9bcc9a4a-991b-4afb-b145-69592d6aa88c"
      },
      "source": [
        "Linearmodelread.intercept_"
      ],
      "execution_count": null,
      "outputs": [
        {
          "output_type": "execute_result",
          "data": {
            "text/plain": [
              "0.0"
            ]
          },
          "metadata": {
            "tags": []
          },
          "execution_count": 152
        }
      ]
    },
    {
      "cell_type": "markdown",
      "metadata": {
        "id": "evHe0HZVzTqc"
      },
      "source": [
        "Linear Regression using writing score as the response variable"
      ]
    },
    {
      "cell_type": "code",
      "metadata": {
        "id": "EIR10WRltNXY"
      },
      "source": [
        "#Defining Y_write as writing score"
      ],
      "execution_count": null,
      "outputs": []
    },
    {
      "cell_type": "code",
      "metadata": {
        "id": "S1X-35o4zZtv"
      },
      "source": [
        "Y_write = dataset[\"writing score\"]"
      ],
      "execution_count": null,
      "outputs": []
    },
    {
      "cell_type": "code",
      "metadata": {
        "id": "mtHyeuTltTlt"
      },
      "source": [
        "# Train test split"
      ],
      "execution_count": null,
      "outputs": []
    },
    {
      "cell_type": "code",
      "metadata": {
        "id": "bNCuxx87zf8Q"
      },
      "source": [
        "X_train, X_test, Y_train, Y_test = train_test_split(X, Y_write, test_size= 0.33, random_state = 2)"
      ],
      "execution_count": null,
      "outputs": []
    },
    {
      "cell_type": "code",
      "metadata": {
        "id": "dduRhcyltWkd"
      },
      "source": [
        "#Defining Linear regression and fitting data and predicting Y variable"
      ],
      "execution_count": null,
      "outputs": []
    },
    {
      "cell_type": "code",
      "metadata": {
        "id": "jpdOCje8ziNq"
      },
      "source": [
        "Linearmodelwrite = LinearRegression(fit_intercept=False)\n",
        "Linearmodelwrite.fit(X_train, Y_train)\n",
        "Y_pred = Linearmodelwrite.predict(X_test)"
      ],
      "execution_count": null,
      "outputs": []
    },
    {
      "cell_type": "code",
      "metadata": {
        "id": "01VhUOnHtdf9"
      },
      "source": [
        "#Calculating RMSE of linear Write"
      ],
      "execution_count": null,
      "outputs": []
    },
    {
      "cell_type": "code",
      "metadata": {
        "id": "Z0Uq9WlYznCa"
      },
      "source": [
        "test_error_linear_write = rmse(Y_test, Linearmodelwrite.predict(X_test))"
      ],
      "execution_count": null,
      "outputs": []
    },
    {
      "cell_type": "code",
      "metadata": {
        "id": "0KraytPKtiQL"
      },
      "source": [
        "#Printing test error linear write"
      ],
      "execution_count": null,
      "outputs": []
    },
    {
      "cell_type": "code",
      "metadata": {
        "colab": {
          "base_uri": "https://localhost:8080/"
        },
        "id": "4AM-YRyPzp33",
        "outputId": "dc7850fe-23f7-4c88-c891-debcc8a2c8cc"
      },
      "source": [
        "print(\"Test RMSE:\", test_error_linear_write)"
      ],
      "execution_count": null,
      "outputs": [
        {
          "output_type": "stream",
          "text": [
            "Test RMSE: 14.717378952128481\n"
          ],
          "name": "stdout"
        }
      ]
    },
    {
      "cell_type": "code",
      "metadata": {
        "id": "oQ2oPe7CtlwR"
      },
      "source": [
        "#Linear write coefficients"
      ],
      "execution_count": null,
      "outputs": []
    },
    {
      "cell_type": "code",
      "metadata": {
        "colab": {
          "base_uri": "https://localhost:8080/"
        },
        "id": "TdKzXvIeztRW",
        "outputId": "3388c3f7-1590-4f1a-add4-678d7f99e832"
      },
      "source": [
        "Linearmodelwrite.coef_ "
      ],
      "execution_count": null,
      "outputs": [
        {
          "output_type": "execute_result",
          "data": {
            "text/plain": [
              "array([-2.60036501,  3.77336123,  3.98033148, 14.29892816, 16.99518027])"
            ]
          },
          "metadata": {
            "tags": []
          },
          "execution_count": 164
        }
      ]
    },
    {
      "cell_type": "code",
      "metadata": {
        "id": "DgDdbw5XtofR"
      },
      "source": [
        "#lienar write intercept"
      ],
      "execution_count": null,
      "outputs": []
    },
    {
      "cell_type": "code",
      "metadata": {
        "colab": {
          "base_uri": "https://localhost:8080/"
        },
        "id": "63UMxhKmzvNu",
        "outputId": "7e269382-b6ff-452c-9f97-d7ea32766232"
      },
      "source": [
        "Linearmodelwrite.intercept_"
      ],
      "execution_count": null,
      "outputs": [
        {
          "output_type": "execute_result",
          "data": {
            "text/plain": [
              "0.0"
            ]
          },
          "metadata": {
            "tags": []
          },
          "execution_count": 166
        }
      ]
    },
    {
      "cell_type": "markdown",
      "metadata": {
        "id": "492hSlrk0lnY"
      },
      "source": [
        "Linear Regression with the scores as a whole (Wanna compare and see how things change)"
      ]
    },
    {
      "cell_type": "code",
      "metadata": {
        "id": "DHOJJ4QAtvsN"
      },
      "source": [
        "#Defined Y_total"
      ],
      "execution_count": null,
      "outputs": []
    },
    {
      "cell_type": "code",
      "metadata": {
        "id": "1vWLh68_0tDE"
      },
      "source": [
        "Y_total = dataset[\"total score\"]"
      ],
      "execution_count": null,
      "outputs": []
    },
    {
      "cell_type": "code",
      "metadata": {
        "id": "aEaKUN_ptzMB"
      },
      "source": [
        "#train test split"
      ],
      "execution_count": null,
      "outputs": []
    },
    {
      "cell_type": "code",
      "metadata": {
        "id": "CKc150Wz00hV"
      },
      "source": [
        "X_train, X_test, Y_train, Y_test = train_test_split(X, Y_total ,test_size= 0.33, random_state = 2)"
      ],
      "execution_count": null,
      "outputs": []
    },
    {
      "cell_type": "code",
      "metadata": {
        "id": "Icg5VvaNt1ks"
      },
      "source": [
        "#Linear model and fit and predict X_test"
      ],
      "execution_count": null,
      "outputs": []
    },
    {
      "cell_type": "code",
      "metadata": {
        "id": "KGhUMX25029U"
      },
      "source": [
        "Linearmodeltotal= LinearRegression(fit_intercept=False)\n",
        "Linearmodeltotal.fit(X_train, Y_train)\n",
        "Y_pred = Linearmodeltotal.predict(X_test)"
      ],
      "execution_count": null,
      "outputs": []
    },
    {
      "cell_type": "code",
      "metadata": {
        "id": "pp6Iow3guHvY"
      },
      "source": [
        "#calculating RMSE"
      ],
      "execution_count": null,
      "outputs": []
    },
    {
      "cell_type": "code",
      "metadata": {
        "id": "6_MiO1Ss04rL"
      },
      "source": [
        "test_error_linear_total = rmse(Y_test, Linearmodeltotal.predict(X_test))"
      ],
      "execution_count": null,
      "outputs": []
    },
    {
      "cell_type": "code",
      "metadata": {
        "id": "wyuKcAWhuLeZ"
      },
      "source": [
        "#Print total for test error"
      ],
      "execution_count": null,
      "outputs": []
    },
    {
      "cell_type": "code",
      "metadata": {
        "colab": {
          "base_uri": "https://localhost:8080/"
        },
        "id": "6Y-5wwKs0_yr",
        "outputId": "4f743cfb-893a-4f93-b54e-2a64396d31a0"
      },
      "source": [
        "print(\"Test RMSE:\", test_error_linear_total)"
      ],
      "execution_count": null,
      "outputs": [
        {
          "output_type": "stream",
          "text": [
            "Test RMSE: 42.3533256099155\n"
          ],
          "name": "stdout"
        }
      ]
    },
    {
      "cell_type": "code",
      "metadata": {
        "id": "6WH1qxKpuRAO"
      },
      "source": [
        "#Linear model total coefficients"
      ],
      "execution_count": null,
      "outputs": []
    },
    {
      "cell_type": "code",
      "metadata": {
        "colab": {
          "base_uri": "https://localhost:8080/"
        },
        "id": "qBkq26Nz1CZ4",
        "outputId": "a586c7f3-30a3-41ba-f3b0-2824a294f717"
      },
      "source": [
        "Linearmodeltotal.coef_"
      ],
      "execution_count": null,
      "outputs": [
        {
          "output_type": "execute_result",
          "data": {
            "text/plain": [
              "array([ 6.1456437 , 11.04438952,  9.95771191, 42.37252765, 41.49888765])"
            ]
          },
          "metadata": {
            "tags": []
          },
          "execution_count": 178
        }
      ]
    },
    {
      "cell_type": "code",
      "metadata": {
        "id": "b3bu4sBjuVE_"
      },
      "source": [
        "#Linear model total intercept"
      ],
      "execution_count": null,
      "outputs": []
    },
    {
      "cell_type": "code",
      "metadata": {
        "colab": {
          "base_uri": "https://localhost:8080/"
        },
        "id": "GOugemaL1E26",
        "outputId": "320f1540-deb2-46b3-a9ff-e5df36686dcd"
      },
      "source": [
        "Linearmodeltotal.intercept_"
      ],
      "execution_count": null,
      "outputs": [
        {
          "output_type": "execute_result",
          "data": {
            "text/plain": [
              "0.0"
            ]
          },
          "metadata": {
            "tags": []
          },
          "execution_count": 180
        }
      ]
    },
    {
      "cell_type": "markdown",
      "metadata": {
        "id": "uw6r0jlS0A-j"
      },
      "source": [
        "Ridge Regression: Used to solve multicollinearity problem"
      ]
    },
    {
      "cell_type": "code",
      "metadata": {
        "id": "KnQRYjZ2uYC6"
      },
      "source": [
        "#created list of alphas evenly spaced out"
      ],
      "execution_count": null,
      "outputs": []
    },
    {
      "cell_type": "code",
      "metadata": {
        "id": "Y744Q-Xg70wK"
      },
      "source": [
        "alphas = np.arange(0.0001,1,0.001)\n",
        "list = alphas.tolist()"
      ],
      "execution_count": null,
      "outputs": []
    },
    {
      "cell_type": "code",
      "metadata": {
        "id": "Vxtm1HODucNK"
      },
      "source": [
        "#display alphas"
      ],
      "execution_count": null,
      "outputs": []
    },
    {
      "cell_type": "code",
      "metadata": {
        "colab": {
          "base_uri": "https://localhost:8080/"
        },
        "id": "Ye9YpcX9727E",
        "outputId": "db1b8e4a-6bd2-47d1-d015-d424b0106293"
      },
      "source": [
        "alphas"
      ],
      "execution_count": null,
      "outputs": [
        {
          "output_type": "execute_result",
          "data": {
            "text/plain": [
              "array([1.000e-04, 1.100e-03, 2.100e-03, 3.100e-03, 4.100e-03, 5.100e-03,\n",
              "       6.100e-03, 7.100e-03, 8.100e-03, 9.100e-03, 1.010e-02, 1.110e-02,\n",
              "       1.210e-02, 1.310e-02, 1.410e-02, 1.510e-02, 1.610e-02, 1.710e-02,\n",
              "       1.810e-02, 1.910e-02, 2.010e-02, 2.110e-02, 2.210e-02, 2.310e-02,\n",
              "       2.410e-02, 2.510e-02, 2.610e-02, 2.710e-02, 2.810e-02, 2.910e-02,\n",
              "       3.010e-02, 3.110e-02, 3.210e-02, 3.310e-02, 3.410e-02, 3.510e-02,\n",
              "       3.610e-02, 3.710e-02, 3.810e-02, 3.910e-02, 4.010e-02, 4.110e-02,\n",
              "       4.210e-02, 4.310e-02, 4.410e-02, 4.510e-02, 4.610e-02, 4.710e-02,\n",
              "       4.810e-02, 4.910e-02, 5.010e-02, 5.110e-02, 5.210e-02, 5.310e-02,\n",
              "       5.410e-02, 5.510e-02, 5.610e-02, 5.710e-02, 5.810e-02, 5.910e-02,\n",
              "       6.010e-02, 6.110e-02, 6.210e-02, 6.310e-02, 6.410e-02, 6.510e-02,\n",
              "       6.610e-02, 6.710e-02, 6.810e-02, 6.910e-02, 7.010e-02, 7.110e-02,\n",
              "       7.210e-02, 7.310e-02, 7.410e-02, 7.510e-02, 7.610e-02, 7.710e-02,\n",
              "       7.810e-02, 7.910e-02, 8.010e-02, 8.110e-02, 8.210e-02, 8.310e-02,\n",
              "       8.410e-02, 8.510e-02, 8.610e-02, 8.710e-02, 8.810e-02, 8.910e-02,\n",
              "       9.010e-02, 9.110e-02, 9.210e-02, 9.310e-02, 9.410e-02, 9.510e-02,\n",
              "       9.610e-02, 9.710e-02, 9.810e-02, 9.910e-02, 1.001e-01, 1.011e-01,\n",
              "       1.021e-01, 1.031e-01, 1.041e-01, 1.051e-01, 1.061e-01, 1.071e-01,\n",
              "       1.081e-01, 1.091e-01, 1.101e-01, 1.111e-01, 1.121e-01, 1.131e-01,\n",
              "       1.141e-01, 1.151e-01, 1.161e-01, 1.171e-01, 1.181e-01, 1.191e-01,\n",
              "       1.201e-01, 1.211e-01, 1.221e-01, 1.231e-01, 1.241e-01, 1.251e-01,\n",
              "       1.261e-01, 1.271e-01, 1.281e-01, 1.291e-01, 1.301e-01, 1.311e-01,\n",
              "       1.321e-01, 1.331e-01, 1.341e-01, 1.351e-01, 1.361e-01, 1.371e-01,\n",
              "       1.381e-01, 1.391e-01, 1.401e-01, 1.411e-01, 1.421e-01, 1.431e-01,\n",
              "       1.441e-01, 1.451e-01, 1.461e-01, 1.471e-01, 1.481e-01, 1.491e-01,\n",
              "       1.501e-01, 1.511e-01, 1.521e-01, 1.531e-01, 1.541e-01, 1.551e-01,\n",
              "       1.561e-01, 1.571e-01, 1.581e-01, 1.591e-01, 1.601e-01, 1.611e-01,\n",
              "       1.621e-01, 1.631e-01, 1.641e-01, 1.651e-01, 1.661e-01, 1.671e-01,\n",
              "       1.681e-01, 1.691e-01, 1.701e-01, 1.711e-01, 1.721e-01, 1.731e-01,\n",
              "       1.741e-01, 1.751e-01, 1.761e-01, 1.771e-01, 1.781e-01, 1.791e-01,\n",
              "       1.801e-01, 1.811e-01, 1.821e-01, 1.831e-01, 1.841e-01, 1.851e-01,\n",
              "       1.861e-01, 1.871e-01, 1.881e-01, 1.891e-01, 1.901e-01, 1.911e-01,\n",
              "       1.921e-01, 1.931e-01, 1.941e-01, 1.951e-01, 1.961e-01, 1.971e-01,\n",
              "       1.981e-01, 1.991e-01, 2.001e-01, 2.011e-01, 2.021e-01, 2.031e-01,\n",
              "       2.041e-01, 2.051e-01, 2.061e-01, 2.071e-01, 2.081e-01, 2.091e-01,\n",
              "       2.101e-01, 2.111e-01, 2.121e-01, 2.131e-01, 2.141e-01, 2.151e-01,\n",
              "       2.161e-01, 2.171e-01, 2.181e-01, 2.191e-01, 2.201e-01, 2.211e-01,\n",
              "       2.221e-01, 2.231e-01, 2.241e-01, 2.251e-01, 2.261e-01, 2.271e-01,\n",
              "       2.281e-01, 2.291e-01, 2.301e-01, 2.311e-01, 2.321e-01, 2.331e-01,\n",
              "       2.341e-01, 2.351e-01, 2.361e-01, 2.371e-01, 2.381e-01, 2.391e-01,\n",
              "       2.401e-01, 2.411e-01, 2.421e-01, 2.431e-01, 2.441e-01, 2.451e-01,\n",
              "       2.461e-01, 2.471e-01, 2.481e-01, 2.491e-01, 2.501e-01, 2.511e-01,\n",
              "       2.521e-01, 2.531e-01, 2.541e-01, 2.551e-01, 2.561e-01, 2.571e-01,\n",
              "       2.581e-01, 2.591e-01, 2.601e-01, 2.611e-01, 2.621e-01, 2.631e-01,\n",
              "       2.641e-01, 2.651e-01, 2.661e-01, 2.671e-01, 2.681e-01, 2.691e-01,\n",
              "       2.701e-01, 2.711e-01, 2.721e-01, 2.731e-01, 2.741e-01, 2.751e-01,\n",
              "       2.761e-01, 2.771e-01, 2.781e-01, 2.791e-01, 2.801e-01, 2.811e-01,\n",
              "       2.821e-01, 2.831e-01, 2.841e-01, 2.851e-01, 2.861e-01, 2.871e-01,\n",
              "       2.881e-01, 2.891e-01, 2.901e-01, 2.911e-01, 2.921e-01, 2.931e-01,\n",
              "       2.941e-01, 2.951e-01, 2.961e-01, 2.971e-01, 2.981e-01, 2.991e-01,\n",
              "       3.001e-01, 3.011e-01, 3.021e-01, 3.031e-01, 3.041e-01, 3.051e-01,\n",
              "       3.061e-01, 3.071e-01, 3.081e-01, 3.091e-01, 3.101e-01, 3.111e-01,\n",
              "       3.121e-01, 3.131e-01, 3.141e-01, 3.151e-01, 3.161e-01, 3.171e-01,\n",
              "       3.181e-01, 3.191e-01, 3.201e-01, 3.211e-01, 3.221e-01, 3.231e-01,\n",
              "       3.241e-01, 3.251e-01, 3.261e-01, 3.271e-01, 3.281e-01, 3.291e-01,\n",
              "       3.301e-01, 3.311e-01, 3.321e-01, 3.331e-01, 3.341e-01, 3.351e-01,\n",
              "       3.361e-01, 3.371e-01, 3.381e-01, 3.391e-01, 3.401e-01, 3.411e-01,\n",
              "       3.421e-01, 3.431e-01, 3.441e-01, 3.451e-01, 3.461e-01, 3.471e-01,\n",
              "       3.481e-01, 3.491e-01, 3.501e-01, 3.511e-01, 3.521e-01, 3.531e-01,\n",
              "       3.541e-01, 3.551e-01, 3.561e-01, 3.571e-01, 3.581e-01, 3.591e-01,\n",
              "       3.601e-01, 3.611e-01, 3.621e-01, 3.631e-01, 3.641e-01, 3.651e-01,\n",
              "       3.661e-01, 3.671e-01, 3.681e-01, 3.691e-01, 3.701e-01, 3.711e-01,\n",
              "       3.721e-01, 3.731e-01, 3.741e-01, 3.751e-01, 3.761e-01, 3.771e-01,\n",
              "       3.781e-01, 3.791e-01, 3.801e-01, 3.811e-01, 3.821e-01, 3.831e-01,\n",
              "       3.841e-01, 3.851e-01, 3.861e-01, 3.871e-01, 3.881e-01, 3.891e-01,\n",
              "       3.901e-01, 3.911e-01, 3.921e-01, 3.931e-01, 3.941e-01, 3.951e-01,\n",
              "       3.961e-01, 3.971e-01, 3.981e-01, 3.991e-01, 4.001e-01, 4.011e-01,\n",
              "       4.021e-01, 4.031e-01, 4.041e-01, 4.051e-01, 4.061e-01, 4.071e-01,\n",
              "       4.081e-01, 4.091e-01, 4.101e-01, 4.111e-01, 4.121e-01, 4.131e-01,\n",
              "       4.141e-01, 4.151e-01, 4.161e-01, 4.171e-01, 4.181e-01, 4.191e-01,\n",
              "       4.201e-01, 4.211e-01, 4.221e-01, 4.231e-01, 4.241e-01, 4.251e-01,\n",
              "       4.261e-01, 4.271e-01, 4.281e-01, 4.291e-01, 4.301e-01, 4.311e-01,\n",
              "       4.321e-01, 4.331e-01, 4.341e-01, 4.351e-01, 4.361e-01, 4.371e-01,\n",
              "       4.381e-01, 4.391e-01, 4.401e-01, 4.411e-01, 4.421e-01, 4.431e-01,\n",
              "       4.441e-01, 4.451e-01, 4.461e-01, 4.471e-01, 4.481e-01, 4.491e-01,\n",
              "       4.501e-01, 4.511e-01, 4.521e-01, 4.531e-01, 4.541e-01, 4.551e-01,\n",
              "       4.561e-01, 4.571e-01, 4.581e-01, 4.591e-01, 4.601e-01, 4.611e-01,\n",
              "       4.621e-01, 4.631e-01, 4.641e-01, 4.651e-01, 4.661e-01, 4.671e-01,\n",
              "       4.681e-01, 4.691e-01, 4.701e-01, 4.711e-01, 4.721e-01, 4.731e-01,\n",
              "       4.741e-01, 4.751e-01, 4.761e-01, 4.771e-01, 4.781e-01, 4.791e-01,\n",
              "       4.801e-01, 4.811e-01, 4.821e-01, 4.831e-01, 4.841e-01, 4.851e-01,\n",
              "       4.861e-01, 4.871e-01, 4.881e-01, 4.891e-01, 4.901e-01, 4.911e-01,\n",
              "       4.921e-01, 4.931e-01, 4.941e-01, 4.951e-01, 4.961e-01, 4.971e-01,\n",
              "       4.981e-01, 4.991e-01, 5.001e-01, 5.011e-01, 5.021e-01, 5.031e-01,\n",
              "       5.041e-01, 5.051e-01, 5.061e-01, 5.071e-01, 5.081e-01, 5.091e-01,\n",
              "       5.101e-01, 5.111e-01, 5.121e-01, 5.131e-01, 5.141e-01, 5.151e-01,\n",
              "       5.161e-01, 5.171e-01, 5.181e-01, 5.191e-01, 5.201e-01, 5.211e-01,\n",
              "       5.221e-01, 5.231e-01, 5.241e-01, 5.251e-01, 5.261e-01, 5.271e-01,\n",
              "       5.281e-01, 5.291e-01, 5.301e-01, 5.311e-01, 5.321e-01, 5.331e-01,\n",
              "       5.341e-01, 5.351e-01, 5.361e-01, 5.371e-01, 5.381e-01, 5.391e-01,\n",
              "       5.401e-01, 5.411e-01, 5.421e-01, 5.431e-01, 5.441e-01, 5.451e-01,\n",
              "       5.461e-01, 5.471e-01, 5.481e-01, 5.491e-01, 5.501e-01, 5.511e-01,\n",
              "       5.521e-01, 5.531e-01, 5.541e-01, 5.551e-01, 5.561e-01, 5.571e-01,\n",
              "       5.581e-01, 5.591e-01, 5.601e-01, 5.611e-01, 5.621e-01, 5.631e-01,\n",
              "       5.641e-01, 5.651e-01, 5.661e-01, 5.671e-01, 5.681e-01, 5.691e-01,\n",
              "       5.701e-01, 5.711e-01, 5.721e-01, 5.731e-01, 5.741e-01, 5.751e-01,\n",
              "       5.761e-01, 5.771e-01, 5.781e-01, 5.791e-01, 5.801e-01, 5.811e-01,\n",
              "       5.821e-01, 5.831e-01, 5.841e-01, 5.851e-01, 5.861e-01, 5.871e-01,\n",
              "       5.881e-01, 5.891e-01, 5.901e-01, 5.911e-01, 5.921e-01, 5.931e-01,\n",
              "       5.941e-01, 5.951e-01, 5.961e-01, 5.971e-01, 5.981e-01, 5.991e-01,\n",
              "       6.001e-01, 6.011e-01, 6.021e-01, 6.031e-01, 6.041e-01, 6.051e-01,\n",
              "       6.061e-01, 6.071e-01, 6.081e-01, 6.091e-01, 6.101e-01, 6.111e-01,\n",
              "       6.121e-01, 6.131e-01, 6.141e-01, 6.151e-01, 6.161e-01, 6.171e-01,\n",
              "       6.181e-01, 6.191e-01, 6.201e-01, 6.211e-01, 6.221e-01, 6.231e-01,\n",
              "       6.241e-01, 6.251e-01, 6.261e-01, 6.271e-01, 6.281e-01, 6.291e-01,\n",
              "       6.301e-01, 6.311e-01, 6.321e-01, 6.331e-01, 6.341e-01, 6.351e-01,\n",
              "       6.361e-01, 6.371e-01, 6.381e-01, 6.391e-01, 6.401e-01, 6.411e-01,\n",
              "       6.421e-01, 6.431e-01, 6.441e-01, 6.451e-01, 6.461e-01, 6.471e-01,\n",
              "       6.481e-01, 6.491e-01, 6.501e-01, 6.511e-01, 6.521e-01, 6.531e-01,\n",
              "       6.541e-01, 6.551e-01, 6.561e-01, 6.571e-01, 6.581e-01, 6.591e-01,\n",
              "       6.601e-01, 6.611e-01, 6.621e-01, 6.631e-01, 6.641e-01, 6.651e-01,\n",
              "       6.661e-01, 6.671e-01, 6.681e-01, 6.691e-01, 6.701e-01, 6.711e-01,\n",
              "       6.721e-01, 6.731e-01, 6.741e-01, 6.751e-01, 6.761e-01, 6.771e-01,\n",
              "       6.781e-01, 6.791e-01, 6.801e-01, 6.811e-01, 6.821e-01, 6.831e-01,\n",
              "       6.841e-01, 6.851e-01, 6.861e-01, 6.871e-01, 6.881e-01, 6.891e-01,\n",
              "       6.901e-01, 6.911e-01, 6.921e-01, 6.931e-01, 6.941e-01, 6.951e-01,\n",
              "       6.961e-01, 6.971e-01, 6.981e-01, 6.991e-01, 7.001e-01, 7.011e-01,\n",
              "       7.021e-01, 7.031e-01, 7.041e-01, 7.051e-01, 7.061e-01, 7.071e-01,\n",
              "       7.081e-01, 7.091e-01, 7.101e-01, 7.111e-01, 7.121e-01, 7.131e-01,\n",
              "       7.141e-01, 7.151e-01, 7.161e-01, 7.171e-01, 7.181e-01, 7.191e-01,\n",
              "       7.201e-01, 7.211e-01, 7.221e-01, 7.231e-01, 7.241e-01, 7.251e-01,\n",
              "       7.261e-01, 7.271e-01, 7.281e-01, 7.291e-01, 7.301e-01, 7.311e-01,\n",
              "       7.321e-01, 7.331e-01, 7.341e-01, 7.351e-01, 7.361e-01, 7.371e-01,\n",
              "       7.381e-01, 7.391e-01, 7.401e-01, 7.411e-01, 7.421e-01, 7.431e-01,\n",
              "       7.441e-01, 7.451e-01, 7.461e-01, 7.471e-01, 7.481e-01, 7.491e-01,\n",
              "       7.501e-01, 7.511e-01, 7.521e-01, 7.531e-01, 7.541e-01, 7.551e-01,\n",
              "       7.561e-01, 7.571e-01, 7.581e-01, 7.591e-01, 7.601e-01, 7.611e-01,\n",
              "       7.621e-01, 7.631e-01, 7.641e-01, 7.651e-01, 7.661e-01, 7.671e-01,\n",
              "       7.681e-01, 7.691e-01, 7.701e-01, 7.711e-01, 7.721e-01, 7.731e-01,\n",
              "       7.741e-01, 7.751e-01, 7.761e-01, 7.771e-01, 7.781e-01, 7.791e-01,\n",
              "       7.801e-01, 7.811e-01, 7.821e-01, 7.831e-01, 7.841e-01, 7.851e-01,\n",
              "       7.861e-01, 7.871e-01, 7.881e-01, 7.891e-01, 7.901e-01, 7.911e-01,\n",
              "       7.921e-01, 7.931e-01, 7.941e-01, 7.951e-01, 7.961e-01, 7.971e-01,\n",
              "       7.981e-01, 7.991e-01, 8.001e-01, 8.011e-01, 8.021e-01, 8.031e-01,\n",
              "       8.041e-01, 8.051e-01, 8.061e-01, 8.071e-01, 8.081e-01, 8.091e-01,\n",
              "       8.101e-01, 8.111e-01, 8.121e-01, 8.131e-01, 8.141e-01, 8.151e-01,\n",
              "       8.161e-01, 8.171e-01, 8.181e-01, 8.191e-01, 8.201e-01, 8.211e-01,\n",
              "       8.221e-01, 8.231e-01, 8.241e-01, 8.251e-01, 8.261e-01, 8.271e-01,\n",
              "       8.281e-01, 8.291e-01, 8.301e-01, 8.311e-01, 8.321e-01, 8.331e-01,\n",
              "       8.341e-01, 8.351e-01, 8.361e-01, 8.371e-01, 8.381e-01, 8.391e-01,\n",
              "       8.401e-01, 8.411e-01, 8.421e-01, 8.431e-01, 8.441e-01, 8.451e-01,\n",
              "       8.461e-01, 8.471e-01, 8.481e-01, 8.491e-01, 8.501e-01, 8.511e-01,\n",
              "       8.521e-01, 8.531e-01, 8.541e-01, 8.551e-01, 8.561e-01, 8.571e-01,\n",
              "       8.581e-01, 8.591e-01, 8.601e-01, 8.611e-01, 8.621e-01, 8.631e-01,\n",
              "       8.641e-01, 8.651e-01, 8.661e-01, 8.671e-01, 8.681e-01, 8.691e-01,\n",
              "       8.701e-01, 8.711e-01, 8.721e-01, 8.731e-01, 8.741e-01, 8.751e-01,\n",
              "       8.761e-01, 8.771e-01, 8.781e-01, 8.791e-01, 8.801e-01, 8.811e-01,\n",
              "       8.821e-01, 8.831e-01, 8.841e-01, 8.851e-01, 8.861e-01, 8.871e-01,\n",
              "       8.881e-01, 8.891e-01, 8.901e-01, 8.911e-01, 8.921e-01, 8.931e-01,\n",
              "       8.941e-01, 8.951e-01, 8.961e-01, 8.971e-01, 8.981e-01, 8.991e-01,\n",
              "       9.001e-01, 9.011e-01, 9.021e-01, 9.031e-01, 9.041e-01, 9.051e-01,\n",
              "       9.061e-01, 9.071e-01, 9.081e-01, 9.091e-01, 9.101e-01, 9.111e-01,\n",
              "       9.121e-01, 9.131e-01, 9.141e-01, 9.151e-01, 9.161e-01, 9.171e-01,\n",
              "       9.181e-01, 9.191e-01, 9.201e-01, 9.211e-01, 9.221e-01, 9.231e-01,\n",
              "       9.241e-01, 9.251e-01, 9.261e-01, 9.271e-01, 9.281e-01, 9.291e-01,\n",
              "       9.301e-01, 9.311e-01, 9.321e-01, 9.331e-01, 9.341e-01, 9.351e-01,\n",
              "       9.361e-01, 9.371e-01, 9.381e-01, 9.391e-01, 9.401e-01, 9.411e-01,\n",
              "       9.421e-01, 9.431e-01, 9.441e-01, 9.451e-01, 9.461e-01, 9.471e-01,\n",
              "       9.481e-01, 9.491e-01, 9.501e-01, 9.511e-01, 9.521e-01, 9.531e-01,\n",
              "       9.541e-01, 9.551e-01, 9.561e-01, 9.571e-01, 9.581e-01, 9.591e-01,\n",
              "       9.601e-01, 9.611e-01, 9.621e-01, 9.631e-01, 9.641e-01, 9.651e-01,\n",
              "       9.661e-01, 9.671e-01, 9.681e-01, 9.691e-01, 9.701e-01, 9.711e-01,\n",
              "       9.721e-01, 9.731e-01, 9.741e-01, 9.751e-01, 9.761e-01, 9.771e-01,\n",
              "       9.781e-01, 9.791e-01, 9.801e-01, 9.811e-01, 9.821e-01, 9.831e-01,\n",
              "       9.841e-01, 9.851e-01, 9.861e-01, 9.871e-01, 9.881e-01, 9.891e-01,\n",
              "       9.901e-01, 9.911e-01, 9.921e-01, 9.931e-01, 9.941e-01, 9.951e-01,\n",
              "       9.961e-01, 9.971e-01, 9.981e-01, 9.991e-01])"
            ]
          },
          "metadata": {
            "tags": []
          },
          "execution_count": 184
        }
      ]
    },
    {
      "cell_type": "markdown",
      "metadata": {
        "id": "GRE65jeb3Lm3"
      },
      "source": [
        "Ridge Regression Math"
      ]
    },
    {
      "cell_type": "code",
      "metadata": {
        "id": "pjEzTOJoufQN"
      },
      "source": [
        "# Redefining Y_math"
      ],
      "execution_count": null,
      "outputs": []
    },
    {
      "cell_type": "code",
      "metadata": {
        "id": "sbpNbTT12k1W"
      },
      "source": [
        "Y_math = dataset[\"math score\"]"
      ],
      "execution_count": null,
      "outputs": []
    },
    {
      "cell_type": "code",
      "metadata": {
        "id": "6zpIK8tBv4Ne"
      },
      "source": [
        "#Train test split "
      ],
      "execution_count": null,
      "outputs": []
    },
    {
      "cell_type": "code",
      "metadata": {
        "id": "2zP3Yqxu2pZp"
      },
      "source": [
        "X_train, X_test, Y_train, Y_test = train_test_split(X, Y_math, test_size= 0.33, random_state = 2)"
      ],
      "execution_count": null,
      "outputs": []
    },
    {
      "cell_type": "code",
      "metadata": {
        "id": "Uk7jjPVhv6pm"
      },
      "source": [
        "#Cross validation Ridge regression"
      ],
      "execution_count": null,
      "outputs": []
    },
    {
      "cell_type": "code",
      "metadata": {
        "id": "V1rXq_KN74R_",
        "colab": {
          "base_uri": "https://localhost:8080/"
        },
        "outputId": "e24e58a6-6176-43e8-eb0a-a74700f28e4d"
      },
      "source": [
        "clifmath = RidgeCV(alphas = list, normalize = False, store_cv_values= True).fit(X_train, Y_train)\n",
        "clifmath.alpha_"
      ],
      "execution_count": null,
      "outputs": [
        {
          "output_type": "execute_result",
          "data": {
            "text/plain": [
              "0.9991"
            ]
          },
          "metadata": {
            "tags": []
          },
          "execution_count": 190
        }
      ]
    },
    {
      "cell_type": "code",
      "metadata": {
        "id": "RxvPYeOZv-bg"
      },
      "source": [
        "#Using optimal alpha in Ridge"
      ],
      "execution_count": null,
      "outputs": []
    },
    {
      "cell_type": "code",
      "metadata": {
        "id": "IOdMf35C780J"
      },
      "source": [
        "fullclifmath = Ridge(alpha = clifmath.alpha_, normalize= False).fit(X_train, Y_train)"
      ],
      "execution_count": null,
      "outputs": []
    },
    {
      "cell_type": "code",
      "metadata": {
        "id": "tlsfAz7ewBgH"
      },
      "source": [
        "#displaying math coefficients ridge"
      ],
      "execution_count": null,
      "outputs": []
    },
    {
      "cell_type": "code",
      "metadata": {
        "colab": {
          "base_uri": "https://localhost:8080/"
        },
        "id": "qY_xdoxC7-Ik",
        "outputId": "03aeadef-d3a2-41b5-fc11-a430f403be52"
      },
      "source": [
        "fullclifmath.coef_"
      ],
      "execution_count": null,
      "outputs": [
        {
          "output_type": "execute_result",
          "data": {
            "text/plain": [
              "array([ 5.9030777 ,  2.6452348 ,  1.6911944 , 10.44593273,  6.47287188])"
            ]
          },
          "metadata": {
            "tags": []
          },
          "execution_count": 194
        }
      ]
    },
    {
      "cell_type": "code",
      "metadata": {
        "id": "H2LIGTLfwEq6"
      },
      "source": [
        "#displaying math intercept ridge"
      ],
      "execution_count": null,
      "outputs": []
    },
    {
      "cell_type": "code",
      "metadata": {
        "colab": {
          "base_uri": "https://localhost:8080/"
        },
        "id": "vzihfDju7_b_",
        "outputId": "52498025-5312-411e-a10a-343f81a31e68"
      },
      "source": [
        "fullclifmath.intercept_"
      ],
      "execution_count": null,
      "outputs": [
        {
          "output_type": "execute_result",
          "data": {
            "text/plain": [
              "17.88057058238278"
            ]
          },
          "metadata": {
            "tags": []
          },
          "execution_count": 196
        }
      ]
    },
    {
      "cell_type": "code",
      "metadata": {
        "id": "YDktnQHawHoC"
      },
      "source": [
        "#RMS of ridge math"
      ],
      "execution_count": null,
      "outputs": []
    },
    {
      "cell_type": "code",
      "metadata": {
        "id": "Q8d2JrFV8CO9"
      },
      "source": [
        "test_errorridgemath = rmse(Y_test, fullclifmath.predict(X_test))"
      ],
      "execution_count": null,
      "outputs": []
    },
    {
      "cell_type": "code",
      "metadata": {
        "id": "HsFgcHjHwKSJ"
      },
      "source": [
        "#print error ridge math"
      ],
      "execution_count": null,
      "outputs": []
    },
    {
      "cell_type": "code",
      "metadata": {
        "colab": {
          "base_uri": "https://localhost:8080/"
        },
        "id": "lfPJ2OjI8D56",
        "outputId": "27c952b3-40bd-432d-ec68-263ede1233e4"
      },
      "source": [
        "print(\"Test RMSE Ridge:\", test_errorridgemath)"
      ],
      "execution_count": null,
      "outputs": [
        {
          "output_type": "stream",
          "text": [
            "Test RMSE Ridge: 13.072340055562838\n"
          ],
          "name": "stdout"
        }
      ]
    },
    {
      "cell_type": "markdown",
      "metadata": {
        "id": "wIV6FNSL3jsP"
      },
      "source": [
        "Ridge Regression Reading"
      ]
    },
    {
      "cell_type": "code",
      "metadata": {
        "id": "gL9OKX9VwOT7"
      },
      "source": [
        "#redefintion reading score"
      ],
      "execution_count": null,
      "outputs": []
    },
    {
      "cell_type": "code",
      "metadata": {
        "id": "bpuqMe5h3iJn"
      },
      "source": [
        "Y_read = dataset[\"reading score\"]"
      ],
      "execution_count": null,
      "outputs": []
    },
    {
      "cell_type": "code",
      "metadata": {
        "id": "Td6mzsYywRnh"
      },
      "source": [
        "#Train test split"
      ],
      "execution_count": null,
      "outputs": []
    },
    {
      "cell_type": "code",
      "metadata": {
        "id": "Dbl5x9fG4P3W"
      },
      "source": [
        "X_train, X_test, Y_train, Y_test = train_test_split(X, Y_read, test_size= 0.33, random_state = 2)"
      ],
      "execution_count": null,
      "outputs": []
    },
    {
      "cell_type": "code",
      "metadata": {
        "id": "qM6Qg507wT4s"
      },
      "source": [
        "#Cross validation Ridge display optimal alpha"
      ],
      "execution_count": null,
      "outputs": []
    },
    {
      "cell_type": "code",
      "metadata": {
        "colab": {
          "base_uri": "https://localhost:8080/"
        },
        "id": "1u29rA6q4T6v",
        "outputId": "4d4e547a-ce0b-40b8-cfac-c242d33d211c"
      },
      "source": [
        "clifread = RidgeCV(alphas = list, normalize = False, store_cv_values= True).fit(X_train, Y_train)\n",
        "clifread.alpha_"
      ],
      "execution_count": null,
      "outputs": [
        {
          "output_type": "execute_result",
          "data": {
            "text/plain": [
              "0.9991"
            ]
          },
          "metadata": {
            "tags": []
          },
          "execution_count": 206
        }
      ]
    },
    {
      "cell_type": "code",
      "metadata": {
        "id": "lnkw_jm_waCo"
      },
      "source": [
        "# Ridge regression optimal alpha and fit"
      ],
      "execution_count": null,
      "outputs": []
    },
    {
      "cell_type": "code",
      "metadata": {
        "id": "HbSd-uff4YqH"
      },
      "source": [
        "fullclifread = Ridge(alpha = clifread.alpha_, normalize= False).fit(X_train, Y_train)"
      ],
      "execution_count": null,
      "outputs": []
    },
    {
      "cell_type": "code",
      "metadata": {
        "id": "mpVCWtDpwhWr"
      },
      "source": [
        "#display read ridge coefficients"
      ],
      "execution_count": null,
      "outputs": []
    },
    {
      "cell_type": "code",
      "metadata": {
        "colab": {
          "base_uri": "https://localhost:8080/"
        },
        "id": "jAY4mM8t4biv",
        "outputId": "1b99b2e0-06a9-4ec6-bb49-edc8c4962a0b"
      },
      "source": [
        "fullclifread.coef_"
      ],
      "execution_count": null,
      "outputs": [
        {
          "output_type": "execute_result",
          "data": {
            "text/plain": [
              "array([-6.03010688,  1.66866377,  1.87615229,  6.84939225,  8.29397977])"
            ]
          },
          "metadata": {
            "tags": []
          },
          "execution_count": 210
        }
      ]
    },
    {
      "cell_type": "code",
      "metadata": {
        "id": "QpMKKqigwkJF"
      },
      "source": [
        "#display read ridge intercept"
      ],
      "execution_count": null,
      "outputs": []
    },
    {
      "cell_type": "code",
      "metadata": {
        "colab": {
          "base_uri": "https://localhost:8080/"
        },
        "id": "RUigfRnS4eRW",
        "outputId": "6ad16ad2-438f-4df5-9560-c4eca00e2af5"
      },
      "source": [
        "fullclifread.intercept_"
      ],
      "execution_count": null,
      "outputs": [
        {
          "output_type": "execute_result",
          "data": {
            "text/plain": [
              "44.7544078357536"
            ]
          },
          "metadata": {
            "tags": []
          },
          "execution_count": 212
        }
      ]
    },
    {
      "cell_type": "code",
      "metadata": {
        "id": "snSDdnAnwoTZ"
      },
      "source": [
        "#rmse read ridge"
      ],
      "execution_count": null,
      "outputs": []
    },
    {
      "cell_type": "code",
      "metadata": {
        "id": "yvrec68_wzWK"
      },
      "source": [
        "test_errorridgeread = rmse(Y_test, fullclifread.predict(X_test))"
      ],
      "execution_count": null,
      "outputs": []
    },
    {
      "cell_type": "code",
      "metadata": {
        "id": "Zm87TM8lxDQ-"
      },
      "source": [
        "#print error ridge read"
      ],
      "execution_count": null,
      "outputs": []
    },
    {
      "cell_type": "code",
      "metadata": {
        "colab": {
          "base_uri": "https://localhost:8080/"
        },
        "id": "8nP2BOw84jFY",
        "outputId": "2e9e7d22-12c4-49f5-ba33-51886240ac5a"
      },
      "source": [
        "print(\"Test RMSE Ridge:\", test_errorridgeread)"
      ],
      "execution_count": null,
      "outputs": [
        {
          "output_type": "stream",
          "text": [
            "Test RMSE Ridge: 12.88787827308032\n"
          ],
          "name": "stdout"
        }
      ]
    },
    {
      "cell_type": "markdown",
      "metadata": {
        "id": "dv3JBJEm4_hA"
      },
      "source": [
        "Ridge Regression Writing"
      ]
    },
    {
      "cell_type": "code",
      "metadata": {
        "id": "FmMeHDErxF8h"
      },
      "source": [
        "#redifine writing "
      ],
      "execution_count": null,
      "outputs": []
    },
    {
      "cell_type": "code",
      "metadata": {
        "id": "yxpSDdOS5LdC"
      },
      "source": [
        "Y_write = dataset[\"writing score\"]"
      ],
      "execution_count": null,
      "outputs": []
    },
    {
      "cell_type": "code",
      "metadata": {
        "id": "l4X5TYXXxIAo"
      },
      "source": [
        "#train test split"
      ],
      "execution_count": null,
      "outputs": []
    },
    {
      "cell_type": "code",
      "metadata": {
        "id": "migWsQB_5Q-n"
      },
      "source": [
        "X_train, X_test, Y_train, Y_test = train_test_split(X, Y_write, test_size= 0.33, random_state = 2)"
      ],
      "execution_count": null,
      "outputs": []
    },
    {
      "cell_type": "code",
      "metadata": {
        "id": "BHshn9ltxJoc"
      },
      "source": [
        "#Cross validation RIDGE and optimal alph"
      ],
      "execution_count": null,
      "outputs": []
    },
    {
      "cell_type": "code",
      "metadata": {
        "colab": {
          "base_uri": "https://localhost:8080/"
        },
        "id": "XNJcbxAz5TAI",
        "outputId": "f4701d3c-fc1e-4c8d-f910-fd2846d6d901"
      },
      "source": [
        "clifwrite = RidgeCV(alphas = list, normalize = False, store_cv_values= True).fit(X_train, Y_train)\n",
        "clifwrite.alpha_"
      ],
      "execution_count": null,
      "outputs": [
        {
          "output_type": "execute_result",
          "data": {
            "text/plain": [
              "0.9991"
            ]
          },
          "metadata": {
            "tags": []
          },
          "execution_count": 222
        }
      ]
    },
    {
      "cell_type": "code",
      "metadata": {
        "id": "iizl9i5GxMOt"
      },
      "source": [
        "#RIDGE with optimal alpha"
      ],
      "execution_count": null,
      "outputs": []
    },
    {
      "cell_type": "code",
      "metadata": {
        "id": "5xIvViKJ5Xyi"
      },
      "source": [
        "fullclifwrite = Ridge(alpha = clifwrite.alpha_, normalize= False).fit(X_train, Y_train)"
      ],
      "execution_count": null,
      "outputs": []
    },
    {
      "cell_type": "code",
      "metadata": {
        "id": "vp_39aU6xPKp"
      },
      "source": [
        "#Ridge write coefficient"
      ],
      "execution_count": null,
      "outputs": []
    },
    {
      "cell_type": "code",
      "metadata": {
        "colab": {
          "base_uri": "https://localhost:8080/"
        },
        "id": "VIB82bb_5awL",
        "outputId": "9a8cf4d3-427d-40fa-cece-246c51fb4917"
      },
      "source": [
        "fullclifwrite.coef_"
      ],
      "execution_count": null,
      "outputs": [
        {
          "output_type": "execute_result",
          "data": {
            "text/plain": [
              "array([-8.15758774,  1.90542556,  2.45912697,  7.5103711 , 10.835996  ])"
            ]
          },
          "metadata": {
            "tags": []
          },
          "execution_count": 226
        }
      ]
    },
    {
      "cell_type": "code",
      "metadata": {
        "id": "Nsjog86JxRc3"
      },
      "source": [
        "#Ridge write intercept"
      ],
      "execution_count": null,
      "outputs": []
    },
    {
      "cell_type": "code",
      "metadata": {
        "colab": {
          "base_uri": "https://localhost:8080/"
        },
        "id": "7wAXPrPb5cfT",
        "outputId": "32f948f8-7c53-4bab-b00c-131f7a756d15"
      },
      "source": [
        "fullclifwrite.intercept_"
      ],
      "execution_count": null,
      "outputs": [
        {
          "output_type": "execute_result",
          "data": {
            "text/plain": [
              "39.46997670524928"
            ]
          },
          "metadata": {
            "tags": []
          },
          "execution_count": 228
        }
      ]
    },
    {
      "cell_type": "code",
      "metadata": {
        "id": "NF_3B32OxTkq"
      },
      "source": [
        "#Ridge write RMSE"
      ],
      "execution_count": null,
      "outputs": []
    },
    {
      "cell_type": "code",
      "metadata": {
        "id": "MB5IBYaK5ef1"
      },
      "source": [
        "test_errorridgewrite = rmse(Y_test, fullclifwrite.predict(X_test)) "
      ],
      "execution_count": null,
      "outputs": []
    },
    {
      "cell_type": "code",
      "metadata": {
        "id": "rFbwrEN2xW2G"
      },
      "source": [
        "#PRINT ERROR ridge write"
      ],
      "execution_count": null,
      "outputs": []
    },
    {
      "cell_type": "code",
      "metadata": {
        "colab": {
          "base_uri": "https://localhost:8080/"
        },
        "id": "e9EqgRuW5h1K",
        "outputId": "10dd81c5-dc6f-4aab-d762-38898e9001ba"
      },
      "source": [
        "print(\"Test RMSE Ridge:\", test_errorridgewrite)"
      ],
      "execution_count": null,
      "outputs": [
        {
          "output_type": "stream",
          "text": [
            "Test RMSE Ridge: 12.637762224086966\n"
          ],
          "name": "stdout"
        }
      ]
    },
    {
      "cell_type": "markdown",
      "metadata": {
        "id": "DtQaQJnB5lm3"
      },
      "source": [
        "Ridge Regresiion Total"
      ]
    },
    {
      "cell_type": "code",
      "metadata": {
        "id": "CxXRG75Rxaf2"
      },
      "source": [
        "#define Y_total"
      ],
      "execution_count": null,
      "outputs": []
    },
    {
      "cell_type": "code",
      "metadata": {
        "id": "yP9gonGP5pIB"
      },
      "source": [
        "Y_total = dataset[\"total score\"]"
      ],
      "execution_count": null,
      "outputs": []
    },
    {
      "cell_type": "code",
      "metadata": {
        "id": "7OHTWe1uxfGC"
      },
      "source": [
        "#Train test split"
      ],
      "execution_count": null,
      "outputs": []
    },
    {
      "cell_type": "code",
      "metadata": {
        "id": "qO5SokAj5sW8"
      },
      "source": [
        "X_train, X_test, Y_train, Y_test = train_test_split(X, Y_total, test_size= 0.33, random_state = 2)"
      ],
      "execution_count": null,
      "outputs": []
    },
    {
      "cell_type": "code",
      "metadata": {
        "id": "qziHTc7uxg0S"
      },
      "source": [
        "#CROSS VALIDATION RIDGE and alpha"
      ],
      "execution_count": null,
      "outputs": []
    },
    {
      "cell_type": "code",
      "metadata": {
        "colab": {
          "base_uri": "https://localhost:8080/"
        },
        "id": "D8Mo3-f-5ur-",
        "outputId": "f006d3d4-f5b6-4941-c913-7bcc3099fef9"
      },
      "source": [
        "cliftotal = RidgeCV(alphas = list, normalize = False, store_cv_values= True).fit(X_train, Y_train)\n",
        "cliftotal.alpha_"
      ],
      "execution_count": null,
      "outputs": [
        {
          "output_type": "execute_result",
          "data": {
            "text/plain": [
              "0.9991"
            ]
          },
          "metadata": {
            "tags": []
          },
          "execution_count": 238
        }
      ]
    },
    {
      "cell_type": "code",
      "metadata": {
        "id": "unRoEsBExj_X"
      },
      "source": [
        "#RIDGE REgression with optimal lambda"
      ],
      "execution_count": null,
      "outputs": []
    },
    {
      "cell_type": "code",
      "metadata": {
        "id": "b_xS3G305x0D"
      },
      "source": [
        "fullcliftotal = Ridge(alpha = cliftotal.alpha_, normalize= False).fit(X_train, Y_train)"
      ],
      "execution_count": null,
      "outputs": []
    },
    {
      "cell_type": "code",
      "metadata": {
        "id": "EXXo_qyyxp3y"
      },
      "source": [
        "#Total ridge regression coefficient"
      ],
      "execution_count": null,
      "outputs": []
    },
    {
      "cell_type": "code",
      "metadata": {
        "colab": {
          "base_uri": "https://localhost:8080/"
        },
        "id": "CdN_PIJy51uS",
        "outputId": "e690de47-7b21-4d2c-b3d1-23593cf71dcf"
      },
      "source": [
        "fullcliftotal.coef_"
      ],
      "execution_count": null,
      "outputs": [
        {
          "output_type": "execute_result",
          "data": {
            "text/plain": [
              "array([-8.28461692,  6.21932412,  6.02647366, 24.80569608, 25.60284765])"
            ]
          },
          "metadata": {
            "tags": []
          },
          "execution_count": 242
        }
      ]
    },
    {
      "cell_type": "code",
      "metadata": {
        "id": "S1G8UYV5xv6I"
      },
      "source": [
        "#TOtal ridge regression intercept"
      ],
      "execution_count": null,
      "outputs": []
    },
    {
      "cell_type": "code",
      "metadata": {
        "colab": {
          "base_uri": "https://localhost:8080/"
        },
        "id": "IH2Vsb7u53qC",
        "outputId": "3d6dcf76-e031-4a4e-f883-01e24b608435"
      },
      "source": [
        "fullcliftotal.intercept_"
      ],
      "execution_count": null,
      "outputs": [
        {
          "output_type": "execute_result",
          "data": {
            "text/plain": [
              "102.1049551233857"
            ]
          },
          "metadata": {
            "tags": []
          },
          "execution_count": 244
        }
      ]
    },
    {
      "cell_type": "code",
      "metadata": {
        "id": "7HSFVfxZx0R-"
      },
      "source": [
        "#RMSE ridge total"
      ],
      "execution_count": null,
      "outputs": []
    },
    {
      "cell_type": "code",
      "metadata": {
        "id": "mrcqidkf55ex"
      },
      "source": [
        "test_errorridgetotal = rmse(Y_test, fullcliftotal.predict(X_test))"
      ],
      "execution_count": null,
      "outputs": []
    },
    {
      "cell_type": "code",
      "metadata": {
        "id": "1rkRLU6nx3BW"
      },
      "source": [
        "#print ridge error total"
      ],
      "execution_count": null,
      "outputs": []
    },
    {
      "cell_type": "code",
      "metadata": {
        "colab": {
          "base_uri": "https://localhost:8080/"
        },
        "id": "_eGFktKg59m-",
        "outputId": "791ee9d7-a937-4a63-fe8a-9eaf630b98f6"
      },
      "source": [
        "print(\"Test RMSE Ridge:\", test_errorridgetotal)"
      ],
      "execution_count": null,
      "outputs": [
        {
          "output_type": "stream",
          "text": [
            "Test RMSE Ridge: 37.3823489987393\n"
          ],
          "name": "stdout"
        }
      ]
    },
    {
      "cell_type": "markdown",
      "metadata": {
        "id": "1lU0IPo23Hc1"
      },
      "source": [
        "Lasso Regression: Used to get rid of predictors that don't impact the response variables"
      ]
    },
    {
      "cell_type": "markdown",
      "metadata": {
        "id": "eWXJil1x6xfo"
      },
      "source": [
        "Lasso Regression Math Score"
      ]
    },
    {
      "cell_type": "code",
      "metadata": {
        "id": "3LbWe1LUx6_I"
      },
      "source": [
        "#TRAIN test plit"
      ],
      "execution_count": null,
      "outputs": []
    },
    {
      "cell_type": "code",
      "metadata": {
        "id": "QZ2GyeA461uo"
      },
      "source": [
        "X_train, X_test, Y_train, Y_test = train_test_split(X, Y_math, test_size= 0.33, random_state = 2) "
      ],
      "execution_count": null,
      "outputs": []
    },
    {
      "cell_type": "code",
      "metadata": {
        "id": "PwjYGg6ux9J2"
      },
      "source": [
        "#Lasso cross validation and find optimal alpha. Run lasso with optimal alpha"
      ],
      "execution_count": null,
      "outputs": []
    },
    {
      "cell_type": "code",
      "metadata": {
        "id": "fMbPL_pU-VaF"
      },
      "source": [
        "lasmath = LassoCV(alphas= list, normalize= False).fit(X_train, Y_train)\n",
        "lasmath.alpha_\n",
        "full_lasmath = Lasso(alpha = lasmath.alpha_ , normalize= False).fit(X_train, Y_train)"
      ],
      "execution_count": null,
      "outputs": []
    },
    {
      "cell_type": "code",
      "metadata": {
        "id": "27tBouiryFW6"
      },
      "source": [
        "#Lasso math coefficent"
      ],
      "execution_count": null,
      "outputs": []
    },
    {
      "cell_type": "code",
      "metadata": {
        "colab": {
          "base_uri": "https://localhost:8080/"
        },
        "id": "Q4Fdroj7-XW8",
        "outputId": "b9e8266d-91c8-4887-a1ee-8f6c803e3630"
      },
      "source": [
        "full_lasmath.coef_"
      ],
      "execution_count": null,
      "outputs": [
        {
          "output_type": "execute_result",
          "data": {
            "text/plain": [
              "array([ 5.93547374,  2.64615034,  1.69445615, 10.51400041,  6.51653276])"
            ]
          },
          "metadata": {
            "tags": []
          },
          "execution_count": 254
        }
      ]
    },
    {
      "cell_type": "code",
      "metadata": {
        "id": "Eh2-upQdyHWm"
      },
      "source": [
        "#Lasso Math intercept"
      ],
      "execution_count": null,
      "outputs": []
    },
    {
      "cell_type": "code",
      "metadata": {
        "id": "Rq16_3la-e8U",
        "colab": {
          "base_uri": "https://localhost:8080/"
        },
        "outputId": "8604676d-3ee6-4741-f348-181d1176177d"
      },
      "source": [
        "full_lasmath.intercept_"
      ],
      "execution_count": null,
      "outputs": [
        {
          "output_type": "execute_result",
          "data": {
            "text/plain": [
              "17.647334693298447"
            ]
          },
          "metadata": {
            "tags": []
          },
          "execution_count": 256
        }
      ]
    },
    {
      "cell_type": "code",
      "metadata": {
        "id": "cvvdC46nyJYP"
      },
      "source": [
        "#Lasso math rmse error "
      ],
      "execution_count": null,
      "outputs": []
    },
    {
      "cell_type": "code",
      "metadata": {
        "id": "qso2--TY-gc2"
      },
      "source": [
        "test_errorlassomath = rmse(Y_test, full_lasmath.predict(X_test))"
      ],
      "execution_count": null,
      "outputs": []
    },
    {
      "cell_type": "code",
      "metadata": {
        "id": "ptDM_KyByM_C"
      },
      "source": [
        "#Lasso math error print"
      ],
      "execution_count": null,
      "outputs": []
    },
    {
      "cell_type": "code",
      "metadata": {
        "colab": {
          "base_uri": "https://localhost:8080/"
        },
        "id": "SDkjnHln-h0v",
        "outputId": "78f35360-d925-4701-8dfa-92c4287f0abb"
      },
      "source": [
        "print(\"Test RMSE Lasso:\", test_errorlassomath)"
      ],
      "execution_count": null,
      "outputs": [
        {
          "output_type": "stream",
          "text": [
            "Test RMSE Lasso: 13.074523665318557\n"
          ],
          "name": "stdout"
        }
      ]
    },
    {
      "cell_type": "markdown",
      "metadata": {
        "id": "1iwMbL9i7QXy"
      },
      "source": [
        "Lasso Regression Reading Score"
      ]
    },
    {
      "cell_type": "code",
      "metadata": {
        "id": "pvSH9S_lyPmg"
      },
      "source": [
        "#train test split"
      ],
      "execution_count": null,
      "outputs": []
    },
    {
      "cell_type": "code",
      "metadata": {
        "id": "RIBOYTQv-kBs"
      },
      "source": [
        "X_train, X_test, Y_train, Y_test = train_test_split(X, Y_read, test_size= 0.33, random_state = 2)"
      ],
      "execution_count": null,
      "outputs": []
    },
    {
      "cell_type": "code",
      "metadata": {
        "id": "8HfmD1I8ySjv"
      },
      "source": [
        "#Lasso cross validation to find optimal alpha and run lasso with optimal alpha"
      ],
      "execution_count": null,
      "outputs": []
    },
    {
      "cell_type": "code",
      "metadata": {
        "id": "yDJETExB-liI"
      },
      "source": [
        "lasread = LassoCV(alphas= list, normalize= False).fit(X_train, Y_train)\n",
        "lasread.alpha_\n",
        "full_lasread = Lasso(alpha = lasread.alpha_ , normalize= False).fit(X_train, Y_train)\n"
      ],
      "execution_count": null,
      "outputs": []
    },
    {
      "cell_type": "code",
      "metadata": {
        "id": "WOIbKd4VyXtB"
      },
      "source": [
        "#lasso read coefficient"
      ],
      "execution_count": null,
      "outputs": []
    },
    {
      "cell_type": "code",
      "metadata": {
        "colab": {
          "base_uri": "https://localhost:8080/"
        },
        "id": "9XyRXKs2-n5R",
        "outputId": "8d54de7a-e67e-4ffc-8561-16a8af8694d2"
      },
      "source": [
        "full_lasread.coef_"
      ],
      "execution_count": null,
      "outputs": [
        {
          "output_type": "execute_result",
          "data": {
            "text/plain": [
              "array([-6.06767   ,  1.6696941 ,  1.87767047,  6.89770375,  8.34825472])"
            ]
          },
          "metadata": {
            "tags": []
          },
          "execution_count": 266
        }
      ]
    },
    {
      "cell_type": "code",
      "metadata": {
        "id": "VefqifVoyZqv"
      },
      "source": [
        "#lasso read intercept"
      ],
      "execution_count": null,
      "outputs": []
    },
    {
      "cell_type": "code",
      "metadata": {
        "colab": {
          "base_uri": "https://localhost:8080/"
        },
        "id": "FD3A4Qe07eZf",
        "outputId": "2e4e9910-8997-436a-bc40-e5a1029b276e"
      },
      "source": [
        "full_lasread.intercept_"
      ],
      "execution_count": null,
      "outputs": [
        {
          "output_type": "execute_result",
          "data": {
            "text/plain": [
              "44.64780750023381"
            ]
          },
          "metadata": {
            "tags": []
          },
          "execution_count": 268
        }
      ]
    },
    {
      "cell_type": "code",
      "metadata": {
        "id": "pjgjad3OycNm"
      },
      "source": [
        "#Lasso read RMSE"
      ],
      "execution_count": null,
      "outputs": []
    },
    {
      "cell_type": "code",
      "metadata": {
        "id": "P7Muqs6v7h9A"
      },
      "source": [
        "test_errorlassoread = rmse(Y_test, full_lasread.predict(X_test))"
      ],
      "execution_count": null,
      "outputs": []
    },
    {
      "cell_type": "code",
      "metadata": {
        "id": "JD3JsmeUyfnM"
      },
      "source": [
        "#lasso error read print"
      ],
      "execution_count": null,
      "outputs": []
    },
    {
      "cell_type": "code",
      "metadata": {
        "colab": {
          "base_uri": "https://localhost:8080/"
        },
        "id": "ceE7WHED7lBm",
        "outputId": "dce6b143-0f24-41ee-a67d-0c4e0ef4cfd9"
      },
      "source": [
        "print(\"Test RMSE Lasso:\", test_errorlassoread)"
      ],
      "execution_count": null,
      "outputs": [
        {
          "output_type": "stream",
          "text": [
            "Test RMSE Lasso: 12.887376769191185\n"
          ],
          "name": "stdout"
        }
      ]
    },
    {
      "cell_type": "markdown",
      "metadata": {
        "id": "uJiC_3aw7pIF"
      },
      "source": [
        "Lasso Regression writing score"
      ]
    },
    {
      "cell_type": "code",
      "metadata": {
        "id": "VQaYj4XEyiV1"
      },
      "source": [
        "#train test split"
      ],
      "execution_count": null,
      "outputs": []
    },
    {
      "cell_type": "code",
      "metadata": {
        "id": "unA3Alia7n4h"
      },
      "source": [
        "X_train, X_test, Y_train, Y_test = train_test_split(X, Y_write, test_size= 0.33, random_state = 2)"
      ],
      "execution_count": null,
      "outputs": []
    },
    {
      "cell_type": "code",
      "metadata": {
        "id": "eJQ74LZnyj2R"
      },
      "source": [
        "#Lasso cross validation to find optimal alpha and run lasso with optimal alpha"
      ],
      "execution_count": null,
      "outputs": []
    },
    {
      "cell_type": "code",
      "metadata": {
        "id": "1ee0_OrT7zGp"
      },
      "source": [
        "laswrite = LassoCV(alphas= list, normalize= False).fit(X_train, Y_train)\n",
        "laswrite.alpha_\n",
        "full_laswrite= Lasso(alpha = laswrite.alpha_ , normalize= False).fit(X_train, Y_train)\n"
      ],
      "execution_count": null,
      "outputs": []
    },
    {
      "cell_type": "code",
      "metadata": {
        "id": "T0_VpMXGyngt"
      },
      "source": [
        "#lasso write coefficient"
      ],
      "execution_count": null,
      "outputs": []
    },
    {
      "cell_type": "code",
      "metadata": {
        "colab": {
          "base_uri": "https://localhost:8080/"
        },
        "id": "miDMhxD075p_",
        "outputId": "a58df259-991d-44f5-fddd-9bc19d6e19f5"
      },
      "source": [
        "full_laswrite.coef_"
      ],
      "execution_count": null,
      "outputs": [
        {
          "output_type": "execute_result",
          "data": {
            "text/plain": [
              "array([-8.20803646,  1.90667874,  2.46103672,  7.56425648, 10.90670921])"
            ]
          },
          "metadata": {
            "tags": []
          },
          "execution_count": 278
        }
      ]
    },
    {
      "cell_type": "code",
      "metadata": {
        "id": "BjQX8Ko1yqtL"
      },
      "source": [
        "#lasso write intercept"
      ],
      "execution_count": null,
      "outputs": []
    },
    {
      "cell_type": "code",
      "metadata": {
        "colab": {
          "base_uri": "https://localhost:8080/"
        },
        "id": "nZ8CJmhg77lO",
        "outputId": "d424ef77-6b97-4fbc-e2a9-b511a2d25d57"
      },
      "source": [
        "full_laswrite.intercept_"
      ],
      "execution_count": null,
      "outputs": [
        {
          "output_type": "execute_result",
          "data": {
            "text/plain": [
              "39.34877266144643"
            ]
          },
          "metadata": {
            "tags": []
          },
          "execution_count": 280
        }
      ]
    },
    {
      "cell_type": "code",
      "metadata": {
        "id": "c0MtoGhJythV"
      },
      "source": [
        "#lasso write rmse"
      ],
      "execution_count": null,
      "outputs": []
    },
    {
      "cell_type": "code",
      "metadata": {
        "id": "7Y005BYu79lS"
      },
      "source": [
        "test_errorlassowrite = rmse(Y_test, full_laswrite.predict(X_test))"
      ],
      "execution_count": null,
      "outputs": []
    },
    {
      "cell_type": "code",
      "metadata": {
        "id": "Eq6D9E3Tyykc"
      },
      "source": [
        "#lasso write error"
      ],
      "execution_count": null,
      "outputs": []
    },
    {
      "cell_type": "code",
      "metadata": {
        "colab": {
          "base_uri": "https://localhost:8080/"
        },
        "id": "O-2q4s_18BVq",
        "outputId": "0143ba6f-7985-4ba5-d38f-eb8263e0656f"
      },
      "source": [
        "print(\"Test RMSE Lasso:\", test_errorlassowrite)"
      ],
      "execution_count": null,
      "outputs": [
        {
          "output_type": "stream",
          "text": [
            "Test RMSE Lasso: 12.63699088964377\n"
          ],
          "name": "stdout"
        }
      ]
    },
    {
      "cell_type": "markdown",
      "metadata": {
        "id": "mls0hbaW8LZW"
      },
      "source": [
        "Lasso Regression Total Score"
      ]
    },
    {
      "cell_type": "code",
      "metadata": {
        "id": "mM8osHPLy234"
      },
      "source": [
        "#train test split"
      ],
      "execution_count": null,
      "outputs": []
    },
    {
      "cell_type": "code",
      "metadata": {
        "id": "oGq-JeZZ8gzN"
      },
      "source": [
        "X_train, X_test, Y_train, Y_test = train_test_split(X, Y_total, test_size= 0.33, random_state = 2)"
      ],
      "execution_count": null,
      "outputs": []
    },
    {
      "cell_type": "code",
      "metadata": {
        "id": "CdwNPwJuy4vb"
      },
      "source": [
        "#lasso cross validation find optimal alpha and plug into lasso with optimal"
      ],
      "execution_count": null,
      "outputs": []
    },
    {
      "cell_type": "code",
      "metadata": {
        "id": "6Lm_r0qF8icL"
      },
      "source": [
        "lastotal = LassoCV(alphas= list, normalize= False).fit(X_train, Y_train)\n",
        "lastotal.alpha_\n",
        "full_lastotal= Lasso(alpha = lastotal.alpha_ , normalize= False).fit(X_train, Y_train)\n"
      ],
      "execution_count": null,
      "outputs": []
    },
    {
      "cell_type": "code",
      "metadata": {
        "id": "HQlCfJM6y9rU"
      },
      "source": [
        "#optimal lasso total coefficient"
      ],
      "execution_count": null,
      "outputs": []
    },
    {
      "cell_type": "code",
      "metadata": {
        "colab": {
          "base_uri": "https://localhost:8080/"
        },
        "id": "Cm5VH9v-8oDN",
        "outputId": "aec674cd-ce00-46f7-a7ee-6f53f8a8aaf5"
      },
      "source": [
        "full_lastotal.coef_"
      ],
      "execution_count": null,
      "outputs": [
        {
          "output_type": "execute_result",
          "data": {
            "text/plain": [
              "array([-8.34025521,  6.2226397 ,  6.03327052, 24.97686758, 25.7724004 ])"
            ]
          },
          "metadata": {
            "tags": []
          },
          "execution_count": 290
        }
      ]
    },
    {
      "cell_type": "code",
      "metadata": {
        "id": "H7kKMVM3zAt2"
      },
      "source": [
        "#lasso total intercept"
      ],
      "execution_count": null,
      "outputs": []
    },
    {
      "cell_type": "code",
      "metadata": {
        "colab": {
          "base_uri": "https://localhost:8080/"
        },
        "id": "-lq6fwbJ8q2s",
        "outputId": "51d1a5f4-8643-4313-a340-fc5cea86c485"
      },
      "source": [
        "full_lastotal.intercept_"
      ],
      "execution_count": null,
      "outputs": [
        {
          "output_type": "execute_result",
          "data": {
            "text/plain": [
              "101.64050975313677"
            ]
          },
          "metadata": {
            "tags": []
          },
          "execution_count": 292
        }
      ]
    },
    {
      "cell_type": "code",
      "metadata": {
        "id": "X_AZMlFwzDjO"
      },
      "source": [
        "#lasso error total"
      ],
      "execution_count": null,
      "outputs": []
    },
    {
      "cell_type": "code",
      "metadata": {
        "id": "8PIFEdHV8s74"
      },
      "source": [
        "test_errorlassototal = rmse(Y_test, full_lastotal.predict(X_test))"
      ],
      "execution_count": null,
      "outputs": []
    },
    {
      "cell_type": "code",
      "metadata": {
        "id": "A-FZJcH-zFfG"
      },
      "source": [
        "#lasso error total print"
      ],
      "execution_count": null,
      "outputs": []
    },
    {
      "cell_type": "code",
      "metadata": {
        "colab": {
          "base_uri": "https://localhost:8080/"
        },
        "id": "VyfwWtsA8xIQ",
        "outputId": "afbbdb22-edd2-41a6-fd4e-a3e262382d47"
      },
      "source": [
        "print(\"Test RMSE Lasso:\", test_errorlassototal)"
      ],
      "execution_count": null,
      "outputs": [
        {
          "output_type": "stream",
          "text": [
            "Test RMSE Lasso: 37.383579282526064\n"
          ],
          "name": "stdout"
        }
      ]
    },
    {
      "cell_type": "code",
      "metadata": {
        "id": "HVsdI7I6le5L"
      },
      "source": [
        "# Methods I want to try next : Random Forest, PCA"
      ],
      "execution_count": null,
      "outputs": []
    },
    {
      "cell_type": "code",
      "metadata": {
        "id": "hHqNkJOEJsyP"
      },
      "source": [
        "#Placeholder graph math score"
      ],
      "execution_count": null,
      "outputs": []
    },
    {
      "cell_type": "code",
      "metadata": {
        "id": "sCctG2RUmUfG",
        "colab": {
          "base_uri": "https://localhost:8080/",
          "height": 313
        },
        "outputId": "157ece3a-8d63-4890-a602-6fc0a3d8688d"
      },
      "source": [
        "plt.hist(dataset[\"math score\"])"
      ],
      "execution_count": null,
      "outputs": [
        {
          "output_type": "execute_result",
          "data": {
            "text/plain": [
              "(array([  2.,   2.,  10.,  26.,  95., 188., 268., 216., 135.,  58.]),\n",
              " array([  0.,  10.,  20.,  30.,  40.,  50.,  60.,  70.,  80.,  90., 100.]),\n",
              " <a list of 10 Patch objects>)"
            ]
          },
          "metadata": {
            "tags": []
          },
          "execution_count": 299
        },
        {
          "output_type": "display_data",
          "data": {
            "image/png": "[encoded data removed]",
            "text/plain": [
              "<Figure size 432x288 with 1 Axes>"
            ]
          },
          "metadata": {
            "tags": [],
            "needs_background": "light"
          }
        }
      ]
    },
    {
      "cell_type": "code",
      "metadata": {
        "id": "O0xIL9C4zJU5"
      },
      "source": [
        "#reading score distribution"
      ],
      "execution_count": null,
      "outputs": []
    },
    {
      "cell_type": "code",
      "metadata": {
        "colab": {
          "base_uri": "https://localhost:8080/",
          "height": 330
        },
        "id": "MmU_AqLDKFHE",
        "outputId": "ef80b461-cc21-40f3-d576-13a3d803cd4c"
      },
      "source": [
        "plt.hist(dataset[\"reading score\"])"
      ],
      "execution_count": null,
      "outputs": [
        {
          "output_type": "execute_result",
          "data": {
            "text/plain": [
              "(array([  4.,   7.,  22.,  64., 140., 182., 237., 168., 120.,  56.]),\n",
              " array([ 17. ,  25.3,  33.6,  41.9,  50.2,  58.5,  66.8,  75.1,  83.4,\n",
              "         91.7, 100. ]),\n",
              " <a list of 10 Patch objects>)"
            ]
          },
          "metadata": {
            "tags": []
          },
          "execution_count": 301
        },
        {
          "output_type": "display_data",
          "data": {
            "image/png": "[encoded data removed]",
            "text/plain": [
              "<Figure size 432x288 with 1 Axes>"
            ]
          },
          "metadata": {
            "tags": [],
            "needs_background": "light"
          }
        }
      ]
    },
    {
      "cell_type": "code",
      "metadata": {
        "id": "zganxA1hzOBl"
      },
      "source": [
        "#writing score distribution"
      ],
      "execution_count": null,
      "outputs": []
    },
    {
      "cell_type": "code",
      "metadata": {
        "id": "vT8yBVf_JVJz",
        "colab": {
          "base_uri": "https://localhost:8080/",
          "height": 313
        },
        "outputId": "73228853-364a-4549-8973-22ff1a90fcec"
      },
      "source": [
        "plt.hist(dataset[\"writing score\"])"
      ],
      "execution_count": null,
      "outputs": [
        {
          "output_type": "execute_result",
          "data": {
            "text/plain": [
              "(array([  2.,   6.,  14.,  55., 126., 161., 223., 225., 120.,  68.]),\n",
              " array([ 10.,  19.,  28.,  37.,  46.,  55.,  64.,  73.,  82.,  91., 100.]),\n",
              " <a list of 10 Patch objects>)"
            ]
          },
          "metadata": {
            "tags": []
          },
          "execution_count": 303
        },
        {
          "output_type": "display_data",
          "data": {
            "image/png": "[encoded data removed]",
            "text/plain": [
              "<Figure size 432x288 with 1 Axes>"
            ]
          },
          "metadata": {
            "tags": [],
            "needs_background": "light"
          }
        }
      ]
    },
    {
      "cell_type": "code",
      "metadata": {
        "id": "luoYiZTizRI0"
      },
      "source": [
        "#total score distribution"
      ],
      "execution_count": null,
      "outputs": []
    },
    {
      "cell_type": "code",
      "metadata": {
        "colab": {
          "base_uri": "https://localhost:8080/",
          "height": 330
        },
        "id": "4Ce3MQLbKMGl",
        "outputId": "c676e7a5-b599-4e75-bd25-f0b9f112226a"
      },
      "source": [
        "plt.hist(dataset[\"total score\"])"
      ],
      "execution_count": null,
      "outputs": [
        {
          "output_type": "execute_result",
          "data": {
            "text/plain": [
              "(array([  1.,   5.,  12.,  40., 124., 178., 262., 210., 122.,  46.]),\n",
              " array([ 27. ,  54.3,  81.6, 108.9, 136.2, 163.5, 190.8, 218.1, 245.4,\n",
              "        272.7, 300. ]),\n",
              " <a list of 10 Patch objects>)"
            ]
          },
          "metadata": {
            "tags": []
          },
          "execution_count": 305
        },
        {
          "output_type": "display_data",
          "data": {
            "image/png": "[encoded data removed]",
            "text/plain": [
              "<Figure size 432x288 with 1 Axes>"
            ]
          },
          "metadata": {
            "tags": [],
            "needs_background": "light"
          }
        }
      ]
    }
  ]
}